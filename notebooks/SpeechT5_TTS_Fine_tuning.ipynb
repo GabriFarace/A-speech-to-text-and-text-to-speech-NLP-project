{
  "nbformat": 4,
  "nbformat_minor": 0,
  "metadata": {
    "colab": {
      "provenance": []
    },
    "kernelspec": {
      "name": "python3",
      "display_name": "Python 3"
    },
    "language_info": {
      "name": "python"
    },
    "widgets": {
      "application/vnd.jupyter.widget-state+json": {
        "81fa22bbeaca4a24b76c628160fd9a8e": {
          "model_module": "@jupyter-widgets/controls",
          "model_name": "HBoxModel",
          "model_module_version": "1.5.0",
          "state": {
            "_dom_classes": [],
            "_model_module": "@jupyter-widgets/controls",
            "_model_module_version": "1.5.0",
            "_model_name": "HBoxModel",
            "_view_count": null,
            "_view_module": "@jupyter-widgets/controls",
            "_view_module_version": "1.5.0",
            "_view_name": "HBoxView",
            "box_style": "",
            "children": [
              "IPY_MODEL_9d69ce1ea1f045528519d1303ff8af77",
              "IPY_MODEL_c5d1b33e111e42ed877b47b91c9831cc",
              "IPY_MODEL_426640aec3574c95a652f945e16c45a4"
            ],
            "layout": "IPY_MODEL_a160ef70490b46dc8fb653a938bee09e"
          }
        },
        "9d69ce1ea1f045528519d1303ff8af77": {
          "model_module": "@jupyter-widgets/controls",
          "model_name": "HTMLModel",
          "model_module_version": "1.5.0",
          "state": {
            "_dom_classes": [],
            "_model_module": "@jupyter-widgets/controls",
            "_model_module_version": "1.5.0",
            "_model_name": "HTMLModel",
            "_view_count": null,
            "_view_module": "@jupyter-widgets/controls",
            "_view_module_version": "1.5.0",
            "_view_name": "HTMLView",
            "description": "",
            "description_tooltip": null,
            "layout": "IPY_MODEL_31f843802662472a94d3c682a2bd74a8",
            "placeholder": "​",
            "style": "IPY_MODEL_969b776096564cceb400b2c90a3adb55",
            "value": "Downloading (…)lve/main/config.json: 100%"
          }
        },
        "c5d1b33e111e42ed877b47b91c9831cc": {
          "model_module": "@jupyter-widgets/controls",
          "model_name": "FloatProgressModel",
          "model_module_version": "1.5.0",
          "state": {
            "_dom_classes": [],
            "_model_module": "@jupyter-widgets/controls",
            "_model_module_version": "1.5.0",
            "_model_name": "FloatProgressModel",
            "_view_count": null,
            "_view_module": "@jupyter-widgets/controls",
            "_view_module_version": "1.5.0",
            "_view_name": "ProgressView",
            "bar_style": "success",
            "description": "",
            "description_tooltip": null,
            "layout": "IPY_MODEL_5854ee4e1a224964b90364231547ecf8",
            "max": 2108,
            "min": 0,
            "orientation": "horizontal",
            "style": "IPY_MODEL_37e1802f96f1438e98130dd5878e1078",
            "value": 2108
          }
        },
        "426640aec3574c95a652f945e16c45a4": {
          "model_module": "@jupyter-widgets/controls",
          "model_name": "HTMLModel",
          "model_module_version": "1.5.0",
          "state": {
            "_dom_classes": [],
            "_model_module": "@jupyter-widgets/controls",
            "_model_module_version": "1.5.0",
            "_model_name": "HTMLModel",
            "_view_count": null,
            "_view_module": "@jupyter-widgets/controls",
            "_view_module_version": "1.5.0",
            "_view_name": "HTMLView",
            "description": "",
            "description_tooltip": null,
            "layout": "IPY_MODEL_8ebc38668f9c469bac7317b92c2407e6",
            "placeholder": "​",
            "style": "IPY_MODEL_e98503c6db424b96bb996e4fbb7b8a2a",
            "value": " 2.11k/2.11k [00:00&lt;00:00, 36.8kB/s]"
          }
        },
        "a160ef70490b46dc8fb653a938bee09e": {
          "model_module": "@jupyter-widgets/base",
          "model_name": "LayoutModel",
          "model_module_version": "1.2.0",
          "state": {
            "_model_module": "@jupyter-widgets/base",
            "_model_module_version": "1.2.0",
            "_model_name": "LayoutModel",
            "_view_count": null,
            "_view_module": "@jupyter-widgets/base",
            "_view_module_version": "1.2.0",
            "_view_name": "LayoutView",
            "align_content": null,
            "align_items": null,
            "align_self": null,
            "border": null,
            "bottom": null,
            "display": null,
            "flex": null,
            "flex_flow": null,
            "grid_area": null,
            "grid_auto_columns": null,
            "grid_auto_flow": null,
            "grid_auto_rows": null,
            "grid_column": null,
            "grid_gap": null,
            "grid_row": null,
            "grid_template_areas": null,
            "grid_template_columns": null,
            "grid_template_rows": null,
            "height": null,
            "justify_content": null,
            "justify_items": null,
            "left": null,
            "margin": null,
            "max_height": null,
            "max_width": null,
            "min_height": null,
            "min_width": null,
            "object_fit": null,
            "object_position": null,
            "order": null,
            "overflow": null,
            "overflow_x": null,
            "overflow_y": null,
            "padding": null,
            "right": null,
            "top": null,
            "visibility": null,
            "width": null
          }
        },
        "31f843802662472a94d3c682a2bd74a8": {
          "model_module": "@jupyter-widgets/base",
          "model_name": "LayoutModel",
          "model_module_version": "1.2.0",
          "state": {
            "_model_module": "@jupyter-widgets/base",
            "_model_module_version": "1.2.0",
            "_model_name": "LayoutModel",
            "_view_count": null,
            "_view_module": "@jupyter-widgets/base",
            "_view_module_version": "1.2.0",
            "_view_name": "LayoutView",
            "align_content": null,
            "align_items": null,
            "align_self": null,
            "border": null,
            "bottom": null,
            "display": null,
            "flex": null,
            "flex_flow": null,
            "grid_area": null,
            "grid_auto_columns": null,
            "grid_auto_flow": null,
            "grid_auto_rows": null,
            "grid_column": null,
            "grid_gap": null,
            "grid_row": null,
            "grid_template_areas": null,
            "grid_template_columns": null,
            "grid_template_rows": null,
            "height": null,
            "justify_content": null,
            "justify_items": null,
            "left": null,
            "margin": null,
            "max_height": null,
            "max_width": null,
            "min_height": null,
            "min_width": null,
            "object_fit": null,
            "object_position": null,
            "order": null,
            "overflow": null,
            "overflow_x": null,
            "overflow_y": null,
            "padding": null,
            "right": null,
            "top": null,
            "visibility": null,
            "width": null
          }
        },
        "969b776096564cceb400b2c90a3adb55": {
          "model_module": "@jupyter-widgets/controls",
          "model_name": "DescriptionStyleModel",
          "model_module_version": "1.5.0",
          "state": {
            "_model_module": "@jupyter-widgets/controls",
            "_model_module_version": "1.5.0",
            "_model_name": "DescriptionStyleModel",
            "_view_count": null,
            "_view_module": "@jupyter-widgets/base",
            "_view_module_version": "1.2.0",
            "_view_name": "StyleView",
            "description_width": ""
          }
        },
        "5854ee4e1a224964b90364231547ecf8": {
          "model_module": "@jupyter-widgets/base",
          "model_name": "LayoutModel",
          "model_module_version": "1.2.0",
          "state": {
            "_model_module": "@jupyter-widgets/base",
            "_model_module_version": "1.2.0",
            "_model_name": "LayoutModel",
            "_view_count": null,
            "_view_module": "@jupyter-widgets/base",
            "_view_module_version": "1.2.0",
            "_view_name": "LayoutView",
            "align_content": null,
            "align_items": null,
            "align_self": null,
            "border": null,
            "bottom": null,
            "display": null,
            "flex": null,
            "flex_flow": null,
            "grid_area": null,
            "grid_auto_columns": null,
            "grid_auto_flow": null,
            "grid_auto_rows": null,
            "grid_column": null,
            "grid_gap": null,
            "grid_row": null,
            "grid_template_areas": null,
            "grid_template_columns": null,
            "grid_template_rows": null,
            "height": null,
            "justify_content": null,
            "justify_items": null,
            "left": null,
            "margin": null,
            "max_height": null,
            "max_width": null,
            "min_height": null,
            "min_width": null,
            "object_fit": null,
            "object_position": null,
            "order": null,
            "overflow": null,
            "overflow_x": null,
            "overflow_y": null,
            "padding": null,
            "right": null,
            "top": null,
            "visibility": null,
            "width": null
          }
        },
        "37e1802f96f1438e98130dd5878e1078": {
          "model_module": "@jupyter-widgets/controls",
          "model_name": "ProgressStyleModel",
          "model_module_version": "1.5.0",
          "state": {
            "_model_module": "@jupyter-widgets/controls",
            "_model_module_version": "1.5.0",
            "_model_name": "ProgressStyleModel",
            "_view_count": null,
            "_view_module": "@jupyter-widgets/base",
            "_view_module_version": "1.2.0",
            "_view_name": "StyleView",
            "bar_color": null,
            "description_width": ""
          }
        },
        "8ebc38668f9c469bac7317b92c2407e6": {
          "model_module": "@jupyter-widgets/base",
          "model_name": "LayoutModel",
          "model_module_version": "1.2.0",
          "state": {
            "_model_module": "@jupyter-widgets/base",
            "_model_module_version": "1.2.0",
            "_model_name": "LayoutModel",
            "_view_count": null,
            "_view_module": "@jupyter-widgets/base",
            "_view_module_version": "1.2.0",
            "_view_name": "LayoutView",
            "align_content": null,
            "align_items": null,
            "align_self": null,
            "border": null,
            "bottom": null,
            "display": null,
            "flex": null,
            "flex_flow": null,
            "grid_area": null,
            "grid_auto_columns": null,
            "grid_auto_flow": null,
            "grid_auto_rows": null,
            "grid_column": null,
            "grid_gap": null,
            "grid_row": null,
            "grid_template_areas": null,
            "grid_template_columns": null,
            "grid_template_rows": null,
            "height": null,
            "justify_content": null,
            "justify_items": null,
            "left": null,
            "margin": null,
            "max_height": null,
            "max_width": null,
            "min_height": null,
            "min_width": null,
            "object_fit": null,
            "object_position": null,
            "order": null,
            "overflow": null,
            "overflow_x": null,
            "overflow_y": null,
            "padding": null,
            "right": null,
            "top": null,
            "visibility": null,
            "width": null
          }
        },
        "e98503c6db424b96bb996e4fbb7b8a2a": {
          "model_module": "@jupyter-widgets/controls",
          "model_name": "DescriptionStyleModel",
          "model_module_version": "1.5.0",
          "state": {
            "_model_module": "@jupyter-widgets/controls",
            "_model_module_version": "1.5.0",
            "_model_name": "DescriptionStyleModel",
            "_view_count": null,
            "_view_module": "@jupyter-widgets/base",
            "_view_module_version": "1.2.0",
            "_view_name": "StyleView",
            "description_width": ""
          }
        },
        "c03e907d330d4ef3a67dc5a9c74efb8a": {
          "model_module": "@jupyter-widgets/controls",
          "model_name": "HBoxModel",
          "model_module_version": "1.5.0",
          "state": {
            "_dom_classes": [],
            "_model_module": "@jupyter-widgets/controls",
            "_model_module_version": "1.5.0",
            "_model_name": "HBoxModel",
            "_view_count": null,
            "_view_module": "@jupyter-widgets/controls",
            "_view_module_version": "1.5.0",
            "_view_name": "HBoxView",
            "box_style": "",
            "children": [
              "IPY_MODEL_7a2afb9beeae4f0cb8df3c9cd2508245",
              "IPY_MODEL_9fab9106ee00497ba1ef4a67de4751cc",
              "IPY_MODEL_f72ced9bcad74bcaaa7af943b31e87f6"
            ],
            "layout": "IPY_MODEL_12dee1b077694478900d22bb6652d7b6"
          }
        },
        "7a2afb9beeae4f0cb8df3c9cd2508245": {
          "model_module": "@jupyter-widgets/controls",
          "model_name": "HTMLModel",
          "model_module_version": "1.5.0",
          "state": {
            "_dom_classes": [],
            "_model_module": "@jupyter-widgets/controls",
            "_model_module_version": "1.5.0",
            "_model_name": "HTMLModel",
            "_view_count": null,
            "_view_module": "@jupyter-widgets/controls",
            "_view_module_version": "1.5.0",
            "_view_name": "HTMLView",
            "description": "",
            "description_tooltip": null,
            "layout": "IPY_MODEL_54b66c1a49174d5382e0272483866176",
            "placeholder": "​",
            "style": "IPY_MODEL_00c77e7eee56468daef0889d3d622b8e",
            "value": "Downloading pytorch_model.bin: 100%"
          }
        },
        "9fab9106ee00497ba1ef4a67de4751cc": {
          "model_module": "@jupyter-widgets/controls",
          "model_name": "FloatProgressModel",
          "model_module_version": "1.5.0",
          "state": {
            "_dom_classes": [],
            "_model_module": "@jupyter-widgets/controls",
            "_model_module_version": "1.5.0",
            "_model_name": "FloatProgressModel",
            "_view_count": null,
            "_view_module": "@jupyter-widgets/controls",
            "_view_module_version": "1.5.0",
            "_view_name": "ProgressView",
            "bar_style": "success",
            "description": "",
            "description_tooltip": null,
            "layout": "IPY_MODEL_3fa69385ce1f40a58f6c4059474887b5",
            "max": 585485317,
            "min": 0,
            "orientation": "horizontal",
            "style": "IPY_MODEL_e016e5b2b5bf4b7e8e6c7461f6757828",
            "value": 585485317
          }
        },
        "f72ced9bcad74bcaaa7af943b31e87f6": {
          "model_module": "@jupyter-widgets/controls",
          "model_name": "HTMLModel",
          "model_module_version": "1.5.0",
          "state": {
            "_dom_classes": [],
            "_model_module": "@jupyter-widgets/controls",
            "_model_module_version": "1.5.0",
            "_model_name": "HTMLModel",
            "_view_count": null,
            "_view_module": "@jupyter-widgets/controls",
            "_view_module_version": "1.5.0",
            "_view_name": "HTMLView",
            "description": "",
            "description_tooltip": null,
            "layout": "IPY_MODEL_63603aadc07649ba91e1abd21a655c29",
            "placeholder": "​",
            "style": "IPY_MODEL_3fe0a7bc778641d9a3168e47b3a06092",
            "value": " 585M/585M [00:09&lt;00:00, 67.3MB/s]"
          }
        },
        "12dee1b077694478900d22bb6652d7b6": {
          "model_module": "@jupyter-widgets/base",
          "model_name": "LayoutModel",
          "model_module_version": "1.2.0",
          "state": {
            "_model_module": "@jupyter-widgets/base",
            "_model_module_version": "1.2.0",
            "_model_name": "LayoutModel",
            "_view_count": null,
            "_view_module": "@jupyter-widgets/base",
            "_view_module_version": "1.2.0",
            "_view_name": "LayoutView",
            "align_content": null,
            "align_items": null,
            "align_self": null,
            "border": null,
            "bottom": null,
            "display": null,
            "flex": null,
            "flex_flow": null,
            "grid_area": null,
            "grid_auto_columns": null,
            "grid_auto_flow": null,
            "grid_auto_rows": null,
            "grid_column": null,
            "grid_gap": null,
            "grid_row": null,
            "grid_template_areas": null,
            "grid_template_columns": null,
            "grid_template_rows": null,
            "height": null,
            "justify_content": null,
            "justify_items": null,
            "left": null,
            "margin": null,
            "max_height": null,
            "max_width": null,
            "min_height": null,
            "min_width": null,
            "object_fit": null,
            "object_position": null,
            "order": null,
            "overflow": null,
            "overflow_x": null,
            "overflow_y": null,
            "padding": null,
            "right": null,
            "top": null,
            "visibility": null,
            "width": null
          }
        },
        "54b66c1a49174d5382e0272483866176": {
          "model_module": "@jupyter-widgets/base",
          "model_name": "LayoutModel",
          "model_module_version": "1.2.0",
          "state": {
            "_model_module": "@jupyter-widgets/base",
            "_model_module_version": "1.2.0",
            "_model_name": "LayoutModel",
            "_view_count": null,
            "_view_module": "@jupyter-widgets/base",
            "_view_module_version": "1.2.0",
            "_view_name": "LayoutView",
            "align_content": null,
            "align_items": null,
            "align_self": null,
            "border": null,
            "bottom": null,
            "display": null,
            "flex": null,
            "flex_flow": null,
            "grid_area": null,
            "grid_auto_columns": null,
            "grid_auto_flow": null,
            "grid_auto_rows": null,
            "grid_column": null,
            "grid_gap": null,
            "grid_row": null,
            "grid_template_areas": null,
            "grid_template_columns": null,
            "grid_template_rows": null,
            "height": null,
            "justify_content": null,
            "justify_items": null,
            "left": null,
            "margin": null,
            "max_height": null,
            "max_width": null,
            "min_height": null,
            "min_width": null,
            "object_fit": null,
            "object_position": null,
            "order": null,
            "overflow": null,
            "overflow_x": null,
            "overflow_y": null,
            "padding": null,
            "right": null,
            "top": null,
            "visibility": null,
            "width": null
          }
        },
        "00c77e7eee56468daef0889d3d622b8e": {
          "model_module": "@jupyter-widgets/controls",
          "model_name": "DescriptionStyleModel",
          "model_module_version": "1.5.0",
          "state": {
            "_model_module": "@jupyter-widgets/controls",
            "_model_module_version": "1.5.0",
            "_model_name": "DescriptionStyleModel",
            "_view_count": null,
            "_view_module": "@jupyter-widgets/base",
            "_view_module_version": "1.2.0",
            "_view_name": "StyleView",
            "description_width": ""
          }
        },
        "3fa69385ce1f40a58f6c4059474887b5": {
          "model_module": "@jupyter-widgets/base",
          "model_name": "LayoutModel",
          "model_module_version": "1.2.0",
          "state": {
            "_model_module": "@jupyter-widgets/base",
            "_model_module_version": "1.2.0",
            "_model_name": "LayoutModel",
            "_view_count": null,
            "_view_module": "@jupyter-widgets/base",
            "_view_module_version": "1.2.0",
            "_view_name": "LayoutView",
            "align_content": null,
            "align_items": null,
            "align_self": null,
            "border": null,
            "bottom": null,
            "display": null,
            "flex": null,
            "flex_flow": null,
            "grid_area": null,
            "grid_auto_columns": null,
            "grid_auto_flow": null,
            "grid_auto_rows": null,
            "grid_column": null,
            "grid_gap": null,
            "grid_row": null,
            "grid_template_areas": null,
            "grid_template_columns": null,
            "grid_template_rows": null,
            "height": null,
            "justify_content": null,
            "justify_items": null,
            "left": null,
            "margin": null,
            "max_height": null,
            "max_width": null,
            "min_height": null,
            "min_width": null,
            "object_fit": null,
            "object_position": null,
            "order": null,
            "overflow": null,
            "overflow_x": null,
            "overflow_y": null,
            "padding": null,
            "right": null,
            "top": null,
            "visibility": null,
            "width": null
          }
        },
        "e016e5b2b5bf4b7e8e6c7461f6757828": {
          "model_module": "@jupyter-widgets/controls",
          "model_name": "ProgressStyleModel",
          "model_module_version": "1.5.0",
          "state": {
            "_model_module": "@jupyter-widgets/controls",
            "_model_module_version": "1.5.0",
            "_model_name": "ProgressStyleModel",
            "_view_count": null,
            "_view_module": "@jupyter-widgets/base",
            "_view_module_version": "1.2.0",
            "_view_name": "StyleView",
            "bar_color": null,
            "description_width": ""
          }
        },
        "63603aadc07649ba91e1abd21a655c29": {
          "model_module": "@jupyter-widgets/base",
          "model_name": "LayoutModel",
          "model_module_version": "1.2.0",
          "state": {
            "_model_module": "@jupyter-widgets/base",
            "_model_module_version": "1.2.0",
            "_model_name": "LayoutModel",
            "_view_count": null,
            "_view_module": "@jupyter-widgets/base",
            "_view_module_version": "1.2.0",
            "_view_name": "LayoutView",
            "align_content": null,
            "align_items": null,
            "align_self": null,
            "border": null,
            "bottom": null,
            "display": null,
            "flex": null,
            "flex_flow": null,
            "grid_area": null,
            "grid_auto_columns": null,
            "grid_auto_flow": null,
            "grid_auto_rows": null,
            "grid_column": null,
            "grid_gap": null,
            "grid_row": null,
            "grid_template_areas": null,
            "grid_template_columns": null,
            "grid_template_rows": null,
            "height": null,
            "justify_content": null,
            "justify_items": null,
            "left": null,
            "margin": null,
            "max_height": null,
            "max_width": null,
            "min_height": null,
            "min_width": null,
            "object_fit": null,
            "object_position": null,
            "order": null,
            "overflow": null,
            "overflow_x": null,
            "overflow_y": null,
            "padding": null,
            "right": null,
            "top": null,
            "visibility": null,
            "width": null
          }
        },
        "3fe0a7bc778641d9a3168e47b3a06092": {
          "model_module": "@jupyter-widgets/controls",
          "model_name": "DescriptionStyleModel",
          "model_module_version": "1.5.0",
          "state": {
            "_model_module": "@jupyter-widgets/controls",
            "_model_module_version": "1.5.0",
            "_model_name": "DescriptionStyleModel",
            "_view_count": null,
            "_view_module": "@jupyter-widgets/base",
            "_view_module_version": "1.2.0",
            "_view_name": "StyleView",
            "description_width": ""
          }
        },
        "1e0b907641bc483f8296e57c2704e6ff": {
          "model_module": "@jupyter-widgets/controls",
          "model_name": "HBoxModel",
          "model_module_version": "1.5.0",
          "state": {
            "_dom_classes": [],
            "_model_module": "@jupyter-widgets/controls",
            "_model_module_version": "1.5.0",
            "_model_name": "HBoxModel",
            "_view_count": null,
            "_view_module": "@jupyter-widgets/controls",
            "_view_module_version": "1.5.0",
            "_view_name": "HBoxView",
            "box_style": "",
            "children": [
              "IPY_MODEL_78bcc7c8746f45e4b32859b4e3266638",
              "IPY_MODEL_c39d05dae7014c9c978d30f61205f0ff",
              "IPY_MODEL_5b10533df3994f38bd79ade3d1bac713"
            ],
            "layout": "IPY_MODEL_38a2875b8a2f4249b836d1757a0b54dc"
          }
        },
        "78bcc7c8746f45e4b32859b4e3266638": {
          "model_module": "@jupyter-widgets/controls",
          "model_name": "HTMLModel",
          "model_module_version": "1.5.0",
          "state": {
            "_dom_classes": [],
            "_model_module": "@jupyter-widgets/controls",
            "_model_module_version": "1.5.0",
            "_model_name": "HTMLModel",
            "_view_count": null,
            "_view_module": "@jupyter-widgets/controls",
            "_view_module_version": "1.5.0",
            "_view_name": "HTMLView",
            "description": "",
            "description_tooltip": null,
            "layout": "IPY_MODEL_536133edae2e43c3997761207f9f0f35",
            "placeholder": "​",
            "style": "IPY_MODEL_abe6c42e944e416d82ad5f9c622c3c14",
            "value": "Map:  97%"
          }
        },
        "c39d05dae7014c9c978d30f61205f0ff": {
          "model_module": "@jupyter-widgets/controls",
          "model_name": "FloatProgressModel",
          "model_module_version": "1.5.0",
          "state": {
            "_dom_classes": [],
            "_model_module": "@jupyter-widgets/controls",
            "_model_module_version": "1.5.0",
            "_model_name": "FloatProgressModel",
            "_view_count": null,
            "_view_module": "@jupyter-widgets/controls",
            "_view_module_version": "1.5.0",
            "_view_name": "ProgressView",
            "bar_style": "",
            "description": "",
            "description_tooltip": null,
            "layout": "IPY_MODEL_332eb002515b474dae7159b21af2edef",
            "max": 20968,
            "min": 0,
            "orientation": "horizontal",
            "style": "IPY_MODEL_8ad6434a37ef4be6b4c64cc1445f81bc",
            "value": 20968
          }
        },
        "5b10533df3994f38bd79ade3d1bac713": {
          "model_module": "@jupyter-widgets/controls",
          "model_name": "HTMLModel",
          "model_module_version": "1.5.0",
          "state": {
            "_dom_classes": [],
            "_model_module": "@jupyter-widgets/controls",
            "_model_module_version": "1.5.0",
            "_model_name": "HTMLModel",
            "_view_count": null,
            "_view_module": "@jupyter-widgets/controls",
            "_view_module_version": "1.5.0",
            "_view_name": "HTMLView",
            "description": "",
            "description_tooltip": null,
            "layout": "IPY_MODEL_5b86158d70ca4569801817cdac356746",
            "placeholder": "​",
            "style": "IPY_MODEL_a4c42599c4cf479596fff8646b2a0a1c",
            "value": " 20292/20968 [00:02&lt;00:00, 9928.02 examples/s]"
          }
        },
        "38a2875b8a2f4249b836d1757a0b54dc": {
          "model_module": "@jupyter-widgets/base",
          "model_name": "LayoutModel",
          "model_module_version": "1.2.0",
          "state": {
            "_model_module": "@jupyter-widgets/base",
            "_model_module_version": "1.2.0",
            "_model_name": "LayoutModel",
            "_view_count": null,
            "_view_module": "@jupyter-widgets/base",
            "_view_module_version": "1.2.0",
            "_view_name": "LayoutView",
            "align_content": null,
            "align_items": null,
            "align_self": null,
            "border": null,
            "bottom": null,
            "display": null,
            "flex": null,
            "flex_flow": null,
            "grid_area": null,
            "grid_auto_columns": null,
            "grid_auto_flow": null,
            "grid_auto_rows": null,
            "grid_column": null,
            "grid_gap": null,
            "grid_row": null,
            "grid_template_areas": null,
            "grid_template_columns": null,
            "grid_template_rows": null,
            "height": null,
            "justify_content": null,
            "justify_items": null,
            "left": null,
            "margin": null,
            "max_height": null,
            "max_width": null,
            "min_height": null,
            "min_width": null,
            "object_fit": null,
            "object_position": null,
            "order": null,
            "overflow": null,
            "overflow_x": null,
            "overflow_y": null,
            "padding": null,
            "right": null,
            "top": null,
            "visibility": "hidden",
            "width": null
          }
        },
        "536133edae2e43c3997761207f9f0f35": {
          "model_module": "@jupyter-widgets/base",
          "model_name": "LayoutModel",
          "model_module_version": "1.2.0",
          "state": {
            "_model_module": "@jupyter-widgets/base",
            "_model_module_version": "1.2.0",
            "_model_name": "LayoutModel",
            "_view_count": null,
            "_view_module": "@jupyter-widgets/base",
            "_view_module_version": "1.2.0",
            "_view_name": "LayoutView",
            "align_content": null,
            "align_items": null,
            "align_self": null,
            "border": null,
            "bottom": null,
            "display": null,
            "flex": null,
            "flex_flow": null,
            "grid_area": null,
            "grid_auto_columns": null,
            "grid_auto_flow": null,
            "grid_auto_rows": null,
            "grid_column": null,
            "grid_gap": null,
            "grid_row": null,
            "grid_template_areas": null,
            "grid_template_columns": null,
            "grid_template_rows": null,
            "height": null,
            "justify_content": null,
            "justify_items": null,
            "left": null,
            "margin": null,
            "max_height": null,
            "max_width": null,
            "min_height": null,
            "min_width": null,
            "object_fit": null,
            "object_position": null,
            "order": null,
            "overflow": null,
            "overflow_x": null,
            "overflow_y": null,
            "padding": null,
            "right": null,
            "top": null,
            "visibility": null,
            "width": null
          }
        },
        "abe6c42e944e416d82ad5f9c622c3c14": {
          "model_module": "@jupyter-widgets/controls",
          "model_name": "DescriptionStyleModel",
          "model_module_version": "1.5.0",
          "state": {
            "_model_module": "@jupyter-widgets/controls",
            "_model_module_version": "1.5.0",
            "_model_name": "DescriptionStyleModel",
            "_view_count": null,
            "_view_module": "@jupyter-widgets/base",
            "_view_module_version": "1.2.0",
            "_view_name": "StyleView",
            "description_width": ""
          }
        },
        "332eb002515b474dae7159b21af2edef": {
          "model_module": "@jupyter-widgets/base",
          "model_name": "LayoutModel",
          "model_module_version": "1.2.0",
          "state": {
            "_model_module": "@jupyter-widgets/base",
            "_model_module_version": "1.2.0",
            "_model_name": "LayoutModel",
            "_view_count": null,
            "_view_module": "@jupyter-widgets/base",
            "_view_module_version": "1.2.0",
            "_view_name": "LayoutView",
            "align_content": null,
            "align_items": null,
            "align_self": null,
            "border": null,
            "bottom": null,
            "display": null,
            "flex": null,
            "flex_flow": null,
            "grid_area": null,
            "grid_auto_columns": null,
            "grid_auto_flow": null,
            "grid_auto_rows": null,
            "grid_column": null,
            "grid_gap": null,
            "grid_row": null,
            "grid_template_areas": null,
            "grid_template_columns": null,
            "grid_template_rows": null,
            "height": null,
            "justify_content": null,
            "justify_items": null,
            "left": null,
            "margin": null,
            "max_height": null,
            "max_width": null,
            "min_height": null,
            "min_width": null,
            "object_fit": null,
            "object_position": null,
            "order": null,
            "overflow": null,
            "overflow_x": null,
            "overflow_y": null,
            "padding": null,
            "right": null,
            "top": null,
            "visibility": null,
            "width": null
          }
        },
        "8ad6434a37ef4be6b4c64cc1445f81bc": {
          "model_module": "@jupyter-widgets/controls",
          "model_name": "ProgressStyleModel",
          "model_module_version": "1.5.0",
          "state": {
            "_model_module": "@jupyter-widgets/controls",
            "_model_module_version": "1.5.0",
            "_model_name": "ProgressStyleModel",
            "_view_count": null,
            "_view_module": "@jupyter-widgets/base",
            "_view_module_version": "1.2.0",
            "_view_name": "StyleView",
            "bar_color": null,
            "description_width": ""
          }
        },
        "5b86158d70ca4569801817cdac356746": {
          "model_module": "@jupyter-widgets/base",
          "model_name": "LayoutModel",
          "model_module_version": "1.2.0",
          "state": {
            "_model_module": "@jupyter-widgets/base",
            "_model_module_version": "1.2.0",
            "_model_name": "LayoutModel",
            "_view_count": null,
            "_view_module": "@jupyter-widgets/base",
            "_view_module_version": "1.2.0",
            "_view_name": "LayoutView",
            "align_content": null,
            "align_items": null,
            "align_self": null,
            "border": null,
            "bottom": null,
            "display": null,
            "flex": null,
            "flex_flow": null,
            "grid_area": null,
            "grid_auto_columns": null,
            "grid_auto_flow": null,
            "grid_auto_rows": null,
            "grid_column": null,
            "grid_gap": null,
            "grid_row": null,
            "grid_template_areas": null,
            "grid_template_columns": null,
            "grid_template_rows": null,
            "height": null,
            "justify_content": null,
            "justify_items": null,
            "left": null,
            "margin": null,
            "max_height": null,
            "max_width": null,
            "min_height": null,
            "min_width": null,
            "object_fit": null,
            "object_position": null,
            "order": null,
            "overflow": null,
            "overflow_x": null,
            "overflow_y": null,
            "padding": null,
            "right": null,
            "top": null,
            "visibility": null,
            "width": null
          }
        },
        "a4c42599c4cf479596fff8646b2a0a1c": {
          "model_module": "@jupyter-widgets/controls",
          "model_name": "DescriptionStyleModel",
          "model_module_version": "1.5.0",
          "state": {
            "_model_module": "@jupyter-widgets/controls",
            "_model_module_version": "1.5.0",
            "_model_name": "DescriptionStyleModel",
            "_view_count": null,
            "_view_module": "@jupyter-widgets/base",
            "_view_module_version": "1.2.0",
            "_view_name": "StyleView",
            "description_width": ""
          }
        },
        "32b779110047427582b2127ff22e7ea4": {
          "model_module": "@jupyter-widgets/controls",
          "model_name": "HBoxModel",
          "model_module_version": "1.5.0",
          "state": {
            "_dom_classes": [],
            "_model_module": "@jupyter-widgets/controls",
            "_model_module_version": "1.5.0",
            "_model_name": "HBoxModel",
            "_view_count": null,
            "_view_module": "@jupyter-widgets/controls",
            "_view_module_version": "1.5.0",
            "_view_name": "HBoxView",
            "box_style": "",
            "children": [
              "IPY_MODEL_94130ef736814b44a4327ae699fc1809",
              "IPY_MODEL_019e0429350a48fc88fc309430a6f371",
              "IPY_MODEL_c31de0591eb34bca875b16cd05ae4f5c"
            ],
            "layout": "IPY_MODEL_1cb5371a28114b3aa230b3c6ac1db6cf"
          }
        },
        "94130ef736814b44a4327ae699fc1809": {
          "model_module": "@jupyter-widgets/controls",
          "model_name": "HTMLModel",
          "model_module_version": "1.5.0",
          "state": {
            "_dom_classes": [],
            "_model_module": "@jupyter-widgets/controls",
            "_model_module_version": "1.5.0",
            "_model_name": "HTMLModel",
            "_view_count": null,
            "_view_module": "@jupyter-widgets/controls",
            "_view_module_version": "1.5.0",
            "_view_name": "HTMLView",
            "description": "",
            "description_tooltip": null,
            "layout": "IPY_MODEL_7e3d0a1662054a58941ff34d5aab5865",
            "placeholder": "​",
            "style": "IPY_MODEL_2c539c1916b0495fab03dc2912cd056b",
            "value": "preprocessor_config.json: 100%"
          }
        },
        "019e0429350a48fc88fc309430a6f371": {
          "model_module": "@jupyter-widgets/controls",
          "model_name": "FloatProgressModel",
          "model_module_version": "1.5.0",
          "state": {
            "_dom_classes": [],
            "_model_module": "@jupyter-widgets/controls",
            "_model_module_version": "1.5.0",
            "_model_name": "FloatProgressModel",
            "_view_count": null,
            "_view_module": "@jupyter-widgets/controls",
            "_view_module_version": "1.5.0",
            "_view_name": "ProgressView",
            "bar_style": "success",
            "description": "",
            "description_tooltip": null,
            "layout": "IPY_MODEL_6930fd72e03a494291c570b574e46e50",
            "max": 433,
            "min": 0,
            "orientation": "horizontal",
            "style": "IPY_MODEL_2a1305db673e47078c08f34a3b2139a3",
            "value": 433
          }
        },
        "c31de0591eb34bca875b16cd05ae4f5c": {
          "model_module": "@jupyter-widgets/controls",
          "model_name": "HTMLModel",
          "model_module_version": "1.5.0",
          "state": {
            "_dom_classes": [],
            "_model_module": "@jupyter-widgets/controls",
            "_model_module_version": "1.5.0",
            "_model_name": "HTMLModel",
            "_view_count": null,
            "_view_module": "@jupyter-widgets/controls",
            "_view_module_version": "1.5.0",
            "_view_name": "HTMLView",
            "description": "",
            "description_tooltip": null,
            "layout": "IPY_MODEL_a29bc5b7b0cb466a82579f69e9fee0c0",
            "placeholder": "​",
            "style": "IPY_MODEL_efd8a0b0cd2346b983de1c567edf6480",
            "value": " 433/433 [00:00&lt;00:00, 7.65kB/s]"
          }
        },
        "1cb5371a28114b3aa230b3c6ac1db6cf": {
          "model_module": "@jupyter-widgets/base",
          "model_name": "LayoutModel",
          "model_module_version": "1.2.0",
          "state": {
            "_model_module": "@jupyter-widgets/base",
            "_model_module_version": "1.2.0",
            "_model_name": "LayoutModel",
            "_view_count": null,
            "_view_module": "@jupyter-widgets/base",
            "_view_module_version": "1.2.0",
            "_view_name": "LayoutView",
            "align_content": null,
            "align_items": null,
            "align_self": null,
            "border": null,
            "bottom": null,
            "display": null,
            "flex": null,
            "flex_flow": null,
            "grid_area": null,
            "grid_auto_columns": null,
            "grid_auto_flow": null,
            "grid_auto_rows": null,
            "grid_column": null,
            "grid_gap": null,
            "grid_row": null,
            "grid_template_areas": null,
            "grid_template_columns": null,
            "grid_template_rows": null,
            "height": null,
            "justify_content": null,
            "justify_items": null,
            "left": null,
            "margin": null,
            "max_height": null,
            "max_width": null,
            "min_height": null,
            "min_width": null,
            "object_fit": null,
            "object_position": null,
            "order": null,
            "overflow": null,
            "overflow_x": null,
            "overflow_y": null,
            "padding": null,
            "right": null,
            "top": null,
            "visibility": null,
            "width": null
          }
        },
        "7e3d0a1662054a58941ff34d5aab5865": {
          "model_module": "@jupyter-widgets/base",
          "model_name": "LayoutModel",
          "model_module_version": "1.2.0",
          "state": {
            "_model_module": "@jupyter-widgets/base",
            "_model_module_version": "1.2.0",
            "_model_name": "LayoutModel",
            "_view_count": null,
            "_view_module": "@jupyter-widgets/base",
            "_view_module_version": "1.2.0",
            "_view_name": "LayoutView",
            "align_content": null,
            "align_items": null,
            "align_self": null,
            "border": null,
            "bottom": null,
            "display": null,
            "flex": null,
            "flex_flow": null,
            "grid_area": null,
            "grid_auto_columns": null,
            "grid_auto_flow": null,
            "grid_auto_rows": null,
            "grid_column": null,
            "grid_gap": null,
            "grid_row": null,
            "grid_template_areas": null,
            "grid_template_columns": null,
            "grid_template_rows": null,
            "height": null,
            "justify_content": null,
            "justify_items": null,
            "left": null,
            "margin": null,
            "max_height": null,
            "max_width": null,
            "min_height": null,
            "min_width": null,
            "object_fit": null,
            "object_position": null,
            "order": null,
            "overflow": null,
            "overflow_x": null,
            "overflow_y": null,
            "padding": null,
            "right": null,
            "top": null,
            "visibility": null,
            "width": null
          }
        },
        "2c539c1916b0495fab03dc2912cd056b": {
          "model_module": "@jupyter-widgets/controls",
          "model_name": "DescriptionStyleModel",
          "model_module_version": "1.5.0",
          "state": {
            "_model_module": "@jupyter-widgets/controls",
            "_model_module_version": "1.5.0",
            "_model_name": "DescriptionStyleModel",
            "_view_count": null,
            "_view_module": "@jupyter-widgets/base",
            "_view_module_version": "1.2.0",
            "_view_name": "StyleView",
            "description_width": ""
          }
        },
        "6930fd72e03a494291c570b574e46e50": {
          "model_module": "@jupyter-widgets/base",
          "model_name": "LayoutModel",
          "model_module_version": "1.2.0",
          "state": {
            "_model_module": "@jupyter-widgets/base",
            "_model_module_version": "1.2.0",
            "_model_name": "LayoutModel",
            "_view_count": null,
            "_view_module": "@jupyter-widgets/base",
            "_view_module_version": "1.2.0",
            "_view_name": "LayoutView",
            "align_content": null,
            "align_items": null,
            "align_self": null,
            "border": null,
            "bottom": null,
            "display": null,
            "flex": null,
            "flex_flow": null,
            "grid_area": null,
            "grid_auto_columns": null,
            "grid_auto_flow": null,
            "grid_auto_rows": null,
            "grid_column": null,
            "grid_gap": null,
            "grid_row": null,
            "grid_template_areas": null,
            "grid_template_columns": null,
            "grid_template_rows": null,
            "height": null,
            "justify_content": null,
            "justify_items": null,
            "left": null,
            "margin": null,
            "max_height": null,
            "max_width": null,
            "min_height": null,
            "min_width": null,
            "object_fit": null,
            "object_position": null,
            "order": null,
            "overflow": null,
            "overflow_x": null,
            "overflow_y": null,
            "padding": null,
            "right": null,
            "top": null,
            "visibility": null,
            "width": null
          }
        },
        "2a1305db673e47078c08f34a3b2139a3": {
          "model_module": "@jupyter-widgets/controls",
          "model_name": "ProgressStyleModel",
          "model_module_version": "1.5.0",
          "state": {
            "_model_module": "@jupyter-widgets/controls",
            "_model_module_version": "1.5.0",
            "_model_name": "ProgressStyleModel",
            "_view_count": null,
            "_view_module": "@jupyter-widgets/base",
            "_view_module_version": "1.2.0",
            "_view_name": "StyleView",
            "bar_color": null,
            "description_width": ""
          }
        },
        "a29bc5b7b0cb466a82579f69e9fee0c0": {
          "model_module": "@jupyter-widgets/base",
          "model_name": "LayoutModel",
          "model_module_version": "1.2.0",
          "state": {
            "_model_module": "@jupyter-widgets/base",
            "_model_module_version": "1.2.0",
            "_model_name": "LayoutModel",
            "_view_count": null,
            "_view_module": "@jupyter-widgets/base",
            "_view_module_version": "1.2.0",
            "_view_name": "LayoutView",
            "align_content": null,
            "align_items": null,
            "align_self": null,
            "border": null,
            "bottom": null,
            "display": null,
            "flex": null,
            "flex_flow": null,
            "grid_area": null,
            "grid_auto_columns": null,
            "grid_auto_flow": null,
            "grid_auto_rows": null,
            "grid_column": null,
            "grid_gap": null,
            "grid_row": null,
            "grid_template_areas": null,
            "grid_template_columns": null,
            "grid_template_rows": null,
            "height": null,
            "justify_content": null,
            "justify_items": null,
            "left": null,
            "margin": null,
            "max_height": null,
            "max_width": null,
            "min_height": null,
            "min_width": null,
            "object_fit": null,
            "object_position": null,
            "order": null,
            "overflow": null,
            "overflow_x": null,
            "overflow_y": null,
            "padding": null,
            "right": null,
            "top": null,
            "visibility": null,
            "width": null
          }
        },
        "efd8a0b0cd2346b983de1c567edf6480": {
          "model_module": "@jupyter-widgets/controls",
          "model_name": "DescriptionStyleModel",
          "model_module_version": "1.5.0",
          "state": {
            "_model_module": "@jupyter-widgets/controls",
            "_model_module_version": "1.5.0",
            "_model_name": "DescriptionStyleModel",
            "_view_count": null,
            "_view_module": "@jupyter-widgets/base",
            "_view_module_version": "1.2.0",
            "_view_name": "StyleView",
            "description_width": ""
          }
        },
        "1feb0f21f603467d90e1ef2392aacdbe": {
          "model_module": "@jupyter-widgets/controls",
          "model_name": "HBoxModel",
          "model_module_version": "1.5.0",
          "state": {
            "_dom_classes": [],
            "_model_module": "@jupyter-widgets/controls",
            "_model_module_version": "1.5.0",
            "_model_name": "HBoxModel",
            "_view_count": null,
            "_view_module": "@jupyter-widgets/controls",
            "_view_module_version": "1.5.0",
            "_view_name": "HBoxView",
            "box_style": "",
            "children": [
              "IPY_MODEL_cac5e6c89ada43a3b8e9f7ad9fe1e0e5",
              "IPY_MODEL_0c7d3de35ef042b683a474d23766eac8",
              "IPY_MODEL_ff6206a180834f64991a16e169976ed5"
            ],
            "layout": "IPY_MODEL_59cedd10d2314d2baa7fe304c2077d98"
          }
        },
        "cac5e6c89ada43a3b8e9f7ad9fe1e0e5": {
          "model_module": "@jupyter-widgets/controls",
          "model_name": "HTMLModel",
          "model_module_version": "1.5.0",
          "state": {
            "_dom_classes": [],
            "_model_module": "@jupyter-widgets/controls",
            "_model_module_version": "1.5.0",
            "_model_name": "HTMLModel",
            "_view_count": null,
            "_view_module": "@jupyter-widgets/controls",
            "_view_module_version": "1.5.0",
            "_view_name": "HTMLView",
            "description": "",
            "description_tooltip": null,
            "layout": "IPY_MODEL_689a5c261ed74e6889317d224f2e0080",
            "placeholder": "​",
            "style": "IPY_MODEL_27fd4141f7b04823b8e8b72dc07af869",
            "value": "tokenizer_config.json: 100%"
          }
        },
        "0c7d3de35ef042b683a474d23766eac8": {
          "model_module": "@jupyter-widgets/controls",
          "model_name": "FloatProgressModel",
          "model_module_version": "1.5.0",
          "state": {
            "_dom_classes": [],
            "_model_module": "@jupyter-widgets/controls",
            "_model_module_version": "1.5.0",
            "_model_name": "FloatProgressModel",
            "_view_count": null,
            "_view_module": "@jupyter-widgets/controls",
            "_view_module_version": "1.5.0",
            "_view_name": "ProgressView",
            "bar_style": "success",
            "description": "",
            "description_tooltip": null,
            "layout": "IPY_MODEL_9c2c47096ff74bd988ac0df04a527b5e",
            "max": 232,
            "min": 0,
            "orientation": "horizontal",
            "style": "IPY_MODEL_281ce8d81a3c4593a9e8bdc47bdf5ff5",
            "value": 232
          }
        },
        "ff6206a180834f64991a16e169976ed5": {
          "model_module": "@jupyter-widgets/controls",
          "model_name": "HTMLModel",
          "model_module_version": "1.5.0",
          "state": {
            "_dom_classes": [],
            "_model_module": "@jupyter-widgets/controls",
            "_model_module_version": "1.5.0",
            "_model_name": "HTMLModel",
            "_view_count": null,
            "_view_module": "@jupyter-widgets/controls",
            "_view_module_version": "1.5.0",
            "_view_name": "HTMLView",
            "description": "",
            "description_tooltip": null,
            "layout": "IPY_MODEL_da59281c7d954fdd9dd1060c3d0fb4e0",
            "placeholder": "​",
            "style": "IPY_MODEL_caa9100b73be4095aae0041ab3a16e2d",
            "value": " 232/232 [00:00&lt;00:00, 4.69kB/s]"
          }
        },
        "59cedd10d2314d2baa7fe304c2077d98": {
          "model_module": "@jupyter-widgets/base",
          "model_name": "LayoutModel",
          "model_module_version": "1.2.0",
          "state": {
            "_model_module": "@jupyter-widgets/base",
            "_model_module_version": "1.2.0",
            "_model_name": "LayoutModel",
            "_view_count": null,
            "_view_module": "@jupyter-widgets/base",
            "_view_module_version": "1.2.0",
            "_view_name": "LayoutView",
            "align_content": null,
            "align_items": null,
            "align_self": null,
            "border": null,
            "bottom": null,
            "display": null,
            "flex": null,
            "flex_flow": null,
            "grid_area": null,
            "grid_auto_columns": null,
            "grid_auto_flow": null,
            "grid_auto_rows": null,
            "grid_column": null,
            "grid_gap": null,
            "grid_row": null,
            "grid_template_areas": null,
            "grid_template_columns": null,
            "grid_template_rows": null,
            "height": null,
            "justify_content": null,
            "justify_items": null,
            "left": null,
            "margin": null,
            "max_height": null,
            "max_width": null,
            "min_height": null,
            "min_width": null,
            "object_fit": null,
            "object_position": null,
            "order": null,
            "overflow": null,
            "overflow_x": null,
            "overflow_y": null,
            "padding": null,
            "right": null,
            "top": null,
            "visibility": null,
            "width": null
          }
        },
        "689a5c261ed74e6889317d224f2e0080": {
          "model_module": "@jupyter-widgets/base",
          "model_name": "LayoutModel",
          "model_module_version": "1.2.0",
          "state": {
            "_model_module": "@jupyter-widgets/base",
            "_model_module_version": "1.2.0",
            "_model_name": "LayoutModel",
            "_view_count": null,
            "_view_module": "@jupyter-widgets/base",
            "_view_module_version": "1.2.0",
            "_view_name": "LayoutView",
            "align_content": null,
            "align_items": null,
            "align_self": null,
            "border": null,
            "bottom": null,
            "display": null,
            "flex": null,
            "flex_flow": null,
            "grid_area": null,
            "grid_auto_columns": null,
            "grid_auto_flow": null,
            "grid_auto_rows": null,
            "grid_column": null,
            "grid_gap": null,
            "grid_row": null,
            "grid_template_areas": null,
            "grid_template_columns": null,
            "grid_template_rows": null,
            "height": null,
            "justify_content": null,
            "justify_items": null,
            "left": null,
            "margin": null,
            "max_height": null,
            "max_width": null,
            "min_height": null,
            "min_width": null,
            "object_fit": null,
            "object_position": null,
            "order": null,
            "overflow": null,
            "overflow_x": null,
            "overflow_y": null,
            "padding": null,
            "right": null,
            "top": null,
            "visibility": null,
            "width": null
          }
        },
        "27fd4141f7b04823b8e8b72dc07af869": {
          "model_module": "@jupyter-widgets/controls",
          "model_name": "DescriptionStyleModel",
          "model_module_version": "1.5.0",
          "state": {
            "_model_module": "@jupyter-widgets/controls",
            "_model_module_version": "1.5.0",
            "_model_name": "DescriptionStyleModel",
            "_view_count": null,
            "_view_module": "@jupyter-widgets/base",
            "_view_module_version": "1.2.0",
            "_view_name": "StyleView",
            "description_width": ""
          }
        },
        "9c2c47096ff74bd988ac0df04a527b5e": {
          "model_module": "@jupyter-widgets/base",
          "model_name": "LayoutModel",
          "model_module_version": "1.2.0",
          "state": {
            "_model_module": "@jupyter-widgets/base",
            "_model_module_version": "1.2.0",
            "_model_name": "LayoutModel",
            "_view_count": null,
            "_view_module": "@jupyter-widgets/base",
            "_view_module_version": "1.2.0",
            "_view_name": "LayoutView",
            "align_content": null,
            "align_items": null,
            "align_self": null,
            "border": null,
            "bottom": null,
            "display": null,
            "flex": null,
            "flex_flow": null,
            "grid_area": null,
            "grid_auto_columns": null,
            "grid_auto_flow": null,
            "grid_auto_rows": null,
            "grid_column": null,
            "grid_gap": null,
            "grid_row": null,
            "grid_template_areas": null,
            "grid_template_columns": null,
            "grid_template_rows": null,
            "height": null,
            "justify_content": null,
            "justify_items": null,
            "left": null,
            "margin": null,
            "max_height": null,
            "max_width": null,
            "min_height": null,
            "min_width": null,
            "object_fit": null,
            "object_position": null,
            "order": null,
            "overflow": null,
            "overflow_x": null,
            "overflow_y": null,
            "padding": null,
            "right": null,
            "top": null,
            "visibility": null,
            "width": null
          }
        },
        "281ce8d81a3c4593a9e8bdc47bdf5ff5": {
          "model_module": "@jupyter-widgets/controls",
          "model_name": "ProgressStyleModel",
          "model_module_version": "1.5.0",
          "state": {
            "_model_module": "@jupyter-widgets/controls",
            "_model_module_version": "1.5.0",
            "_model_name": "ProgressStyleModel",
            "_view_count": null,
            "_view_module": "@jupyter-widgets/base",
            "_view_module_version": "1.2.0",
            "_view_name": "StyleView",
            "bar_color": null,
            "description_width": ""
          }
        },
        "da59281c7d954fdd9dd1060c3d0fb4e0": {
          "model_module": "@jupyter-widgets/base",
          "model_name": "LayoutModel",
          "model_module_version": "1.2.0",
          "state": {
            "_model_module": "@jupyter-widgets/base",
            "_model_module_version": "1.2.0",
            "_model_name": "LayoutModel",
            "_view_count": null,
            "_view_module": "@jupyter-widgets/base",
            "_view_module_version": "1.2.0",
            "_view_name": "LayoutView",
            "align_content": null,
            "align_items": null,
            "align_self": null,
            "border": null,
            "bottom": null,
            "display": null,
            "flex": null,
            "flex_flow": null,
            "grid_area": null,
            "grid_auto_columns": null,
            "grid_auto_flow": null,
            "grid_auto_rows": null,
            "grid_column": null,
            "grid_gap": null,
            "grid_row": null,
            "grid_template_areas": null,
            "grid_template_columns": null,
            "grid_template_rows": null,
            "height": null,
            "justify_content": null,
            "justify_items": null,
            "left": null,
            "margin": null,
            "max_height": null,
            "max_width": null,
            "min_height": null,
            "min_width": null,
            "object_fit": null,
            "object_position": null,
            "order": null,
            "overflow": null,
            "overflow_x": null,
            "overflow_y": null,
            "padding": null,
            "right": null,
            "top": null,
            "visibility": null,
            "width": null
          }
        },
        "caa9100b73be4095aae0041ab3a16e2d": {
          "model_module": "@jupyter-widgets/controls",
          "model_name": "DescriptionStyleModel",
          "model_module_version": "1.5.0",
          "state": {
            "_model_module": "@jupyter-widgets/controls",
            "_model_module_version": "1.5.0",
            "_model_name": "DescriptionStyleModel",
            "_view_count": null,
            "_view_module": "@jupyter-widgets/base",
            "_view_module_version": "1.2.0",
            "_view_name": "StyleView",
            "description_width": ""
          }
        },
        "fde6b522cbf04bf9b04a6f8f8e2c98d8": {
          "model_module": "@jupyter-widgets/controls",
          "model_name": "HBoxModel",
          "model_module_version": "1.5.0",
          "state": {
            "_dom_classes": [],
            "_model_module": "@jupyter-widgets/controls",
            "_model_module_version": "1.5.0",
            "_model_name": "HBoxModel",
            "_view_count": null,
            "_view_module": "@jupyter-widgets/controls",
            "_view_module_version": "1.5.0",
            "_view_name": "HBoxView",
            "box_style": "",
            "children": [
              "IPY_MODEL_3795d4a5c1a94c2e96893461b2bf55f7",
              "IPY_MODEL_5680a305d9e5460584e4a2b05481c7b2",
              "IPY_MODEL_87c4c37c42e24a3d8b60ae38e6de2a08"
            ],
            "layout": "IPY_MODEL_cda371baafad469184cb9e79a6b550db"
          }
        },
        "3795d4a5c1a94c2e96893461b2bf55f7": {
          "model_module": "@jupyter-widgets/controls",
          "model_name": "HTMLModel",
          "model_module_version": "1.5.0",
          "state": {
            "_dom_classes": [],
            "_model_module": "@jupyter-widgets/controls",
            "_model_module_version": "1.5.0",
            "_model_name": "HTMLModel",
            "_view_count": null,
            "_view_module": "@jupyter-widgets/controls",
            "_view_module_version": "1.5.0",
            "_view_name": "HTMLView",
            "description": "",
            "description_tooltip": null,
            "layout": "IPY_MODEL_0e34e8db5fbb43939a38c51fc8f26ab4",
            "placeholder": "​",
            "style": "IPY_MODEL_8d6ff413f02a4419aa08daa5281e3eb9",
            "value": "spm_char.model: 100%"
          }
        },
        "5680a305d9e5460584e4a2b05481c7b2": {
          "model_module": "@jupyter-widgets/controls",
          "model_name": "FloatProgressModel",
          "model_module_version": "1.5.0",
          "state": {
            "_dom_classes": [],
            "_model_module": "@jupyter-widgets/controls",
            "_model_module_version": "1.5.0",
            "_model_name": "FloatProgressModel",
            "_view_count": null,
            "_view_module": "@jupyter-widgets/controls",
            "_view_module_version": "1.5.0",
            "_view_name": "ProgressView",
            "bar_style": "success",
            "description": "",
            "description_tooltip": null,
            "layout": "IPY_MODEL_b9d7aca38a3d472bae13b207cf689186",
            "max": 238473,
            "min": 0,
            "orientation": "horizontal",
            "style": "IPY_MODEL_f045da1df2974eb78692ec04d8ca2571",
            "value": 238473
          }
        },
        "87c4c37c42e24a3d8b60ae38e6de2a08": {
          "model_module": "@jupyter-widgets/controls",
          "model_name": "HTMLModel",
          "model_module_version": "1.5.0",
          "state": {
            "_dom_classes": [],
            "_model_module": "@jupyter-widgets/controls",
            "_model_module_version": "1.5.0",
            "_model_name": "HTMLModel",
            "_view_count": null,
            "_view_module": "@jupyter-widgets/controls",
            "_view_module_version": "1.5.0",
            "_view_name": "HTMLView",
            "description": "",
            "description_tooltip": null,
            "layout": "IPY_MODEL_65237908210449918d70e8302e5cb81b",
            "placeholder": "​",
            "style": "IPY_MODEL_3820177e60044af18dcdb39b12bc08e4",
            "value": " 238k/238k [00:00&lt;00:00, 2.76MB/s]"
          }
        },
        "cda371baafad469184cb9e79a6b550db": {
          "model_module": "@jupyter-widgets/base",
          "model_name": "LayoutModel",
          "model_module_version": "1.2.0",
          "state": {
            "_model_module": "@jupyter-widgets/base",
            "_model_module_version": "1.2.0",
            "_model_name": "LayoutModel",
            "_view_count": null,
            "_view_module": "@jupyter-widgets/base",
            "_view_module_version": "1.2.0",
            "_view_name": "LayoutView",
            "align_content": null,
            "align_items": null,
            "align_self": null,
            "border": null,
            "bottom": null,
            "display": null,
            "flex": null,
            "flex_flow": null,
            "grid_area": null,
            "grid_auto_columns": null,
            "grid_auto_flow": null,
            "grid_auto_rows": null,
            "grid_column": null,
            "grid_gap": null,
            "grid_row": null,
            "grid_template_areas": null,
            "grid_template_columns": null,
            "grid_template_rows": null,
            "height": null,
            "justify_content": null,
            "justify_items": null,
            "left": null,
            "margin": null,
            "max_height": null,
            "max_width": null,
            "min_height": null,
            "min_width": null,
            "object_fit": null,
            "object_position": null,
            "order": null,
            "overflow": null,
            "overflow_x": null,
            "overflow_y": null,
            "padding": null,
            "right": null,
            "top": null,
            "visibility": null,
            "width": null
          }
        },
        "0e34e8db5fbb43939a38c51fc8f26ab4": {
          "model_module": "@jupyter-widgets/base",
          "model_name": "LayoutModel",
          "model_module_version": "1.2.0",
          "state": {
            "_model_module": "@jupyter-widgets/base",
            "_model_module_version": "1.2.0",
            "_model_name": "LayoutModel",
            "_view_count": null,
            "_view_module": "@jupyter-widgets/base",
            "_view_module_version": "1.2.0",
            "_view_name": "LayoutView",
            "align_content": null,
            "align_items": null,
            "align_self": null,
            "border": null,
            "bottom": null,
            "display": null,
            "flex": null,
            "flex_flow": null,
            "grid_area": null,
            "grid_auto_columns": null,
            "grid_auto_flow": null,
            "grid_auto_rows": null,
            "grid_column": null,
            "grid_gap": null,
            "grid_row": null,
            "grid_template_areas": null,
            "grid_template_columns": null,
            "grid_template_rows": null,
            "height": null,
            "justify_content": null,
            "justify_items": null,
            "left": null,
            "margin": null,
            "max_height": null,
            "max_width": null,
            "min_height": null,
            "min_width": null,
            "object_fit": null,
            "object_position": null,
            "order": null,
            "overflow": null,
            "overflow_x": null,
            "overflow_y": null,
            "padding": null,
            "right": null,
            "top": null,
            "visibility": null,
            "width": null
          }
        },
        "8d6ff413f02a4419aa08daa5281e3eb9": {
          "model_module": "@jupyter-widgets/controls",
          "model_name": "DescriptionStyleModel",
          "model_module_version": "1.5.0",
          "state": {
            "_model_module": "@jupyter-widgets/controls",
            "_model_module_version": "1.5.0",
            "_model_name": "DescriptionStyleModel",
            "_view_count": null,
            "_view_module": "@jupyter-widgets/base",
            "_view_module_version": "1.2.0",
            "_view_name": "StyleView",
            "description_width": ""
          }
        },
        "b9d7aca38a3d472bae13b207cf689186": {
          "model_module": "@jupyter-widgets/base",
          "model_name": "LayoutModel",
          "model_module_version": "1.2.0",
          "state": {
            "_model_module": "@jupyter-widgets/base",
            "_model_module_version": "1.2.0",
            "_model_name": "LayoutModel",
            "_view_count": null,
            "_view_module": "@jupyter-widgets/base",
            "_view_module_version": "1.2.0",
            "_view_name": "LayoutView",
            "align_content": null,
            "align_items": null,
            "align_self": null,
            "border": null,
            "bottom": null,
            "display": null,
            "flex": null,
            "flex_flow": null,
            "grid_area": null,
            "grid_auto_columns": null,
            "grid_auto_flow": null,
            "grid_auto_rows": null,
            "grid_column": null,
            "grid_gap": null,
            "grid_row": null,
            "grid_template_areas": null,
            "grid_template_columns": null,
            "grid_template_rows": null,
            "height": null,
            "justify_content": null,
            "justify_items": null,
            "left": null,
            "margin": null,
            "max_height": null,
            "max_width": null,
            "min_height": null,
            "min_width": null,
            "object_fit": null,
            "object_position": null,
            "order": null,
            "overflow": null,
            "overflow_x": null,
            "overflow_y": null,
            "padding": null,
            "right": null,
            "top": null,
            "visibility": null,
            "width": null
          }
        },
        "f045da1df2974eb78692ec04d8ca2571": {
          "model_module": "@jupyter-widgets/controls",
          "model_name": "ProgressStyleModel",
          "model_module_version": "1.5.0",
          "state": {
            "_model_module": "@jupyter-widgets/controls",
            "_model_module_version": "1.5.0",
            "_model_name": "ProgressStyleModel",
            "_view_count": null,
            "_view_module": "@jupyter-widgets/base",
            "_view_module_version": "1.2.0",
            "_view_name": "StyleView",
            "bar_color": null,
            "description_width": ""
          }
        },
        "65237908210449918d70e8302e5cb81b": {
          "model_module": "@jupyter-widgets/base",
          "model_name": "LayoutModel",
          "model_module_version": "1.2.0",
          "state": {
            "_model_module": "@jupyter-widgets/base",
            "_model_module_version": "1.2.0",
            "_model_name": "LayoutModel",
            "_view_count": null,
            "_view_module": "@jupyter-widgets/base",
            "_view_module_version": "1.2.0",
            "_view_name": "LayoutView",
            "align_content": null,
            "align_items": null,
            "align_self": null,
            "border": null,
            "bottom": null,
            "display": null,
            "flex": null,
            "flex_flow": null,
            "grid_area": null,
            "grid_auto_columns": null,
            "grid_auto_flow": null,
            "grid_auto_rows": null,
            "grid_column": null,
            "grid_gap": null,
            "grid_row": null,
            "grid_template_areas": null,
            "grid_template_columns": null,
            "grid_template_rows": null,
            "height": null,
            "justify_content": null,
            "justify_items": null,
            "left": null,
            "margin": null,
            "max_height": null,
            "max_width": null,
            "min_height": null,
            "min_width": null,
            "object_fit": null,
            "object_position": null,
            "order": null,
            "overflow": null,
            "overflow_x": null,
            "overflow_y": null,
            "padding": null,
            "right": null,
            "top": null,
            "visibility": null,
            "width": null
          }
        },
        "3820177e60044af18dcdb39b12bc08e4": {
          "model_module": "@jupyter-widgets/controls",
          "model_name": "DescriptionStyleModel",
          "model_module_version": "1.5.0",
          "state": {
            "_model_module": "@jupyter-widgets/controls",
            "_model_module_version": "1.5.0",
            "_model_name": "DescriptionStyleModel",
            "_view_count": null,
            "_view_module": "@jupyter-widgets/base",
            "_view_module_version": "1.2.0",
            "_view_name": "StyleView",
            "description_width": ""
          }
        },
        "5ac2e9c0958a46d185d4d9143ee7730c": {
          "model_module": "@jupyter-widgets/controls",
          "model_name": "HBoxModel",
          "model_module_version": "1.5.0",
          "state": {
            "_dom_classes": [],
            "_model_module": "@jupyter-widgets/controls",
            "_model_module_version": "1.5.0",
            "_model_name": "HBoxModel",
            "_view_count": null,
            "_view_module": "@jupyter-widgets/controls",
            "_view_module_version": "1.5.0",
            "_view_name": "HBoxView",
            "box_style": "",
            "children": [
              "IPY_MODEL_a7b5920133c64e86a8574b8d38414df0",
              "IPY_MODEL_0b1ef4ae11c84919a1375c77cb4467ba",
              "IPY_MODEL_3d5f6d25289041ca8804e68421bdc0af"
            ],
            "layout": "IPY_MODEL_ddc9022300c843ad9dd89c42c6bd0686"
          }
        },
        "a7b5920133c64e86a8574b8d38414df0": {
          "model_module": "@jupyter-widgets/controls",
          "model_name": "HTMLModel",
          "model_module_version": "1.5.0",
          "state": {
            "_dom_classes": [],
            "_model_module": "@jupyter-widgets/controls",
            "_model_module_version": "1.5.0",
            "_model_name": "HTMLModel",
            "_view_count": null,
            "_view_module": "@jupyter-widgets/controls",
            "_view_module_version": "1.5.0",
            "_view_name": "HTMLView",
            "description": "",
            "description_tooltip": null,
            "layout": "IPY_MODEL_2edb268ec47b4062a9690ed8e6c946a4",
            "placeholder": "​",
            "style": "IPY_MODEL_bcb3f1552c104ee9bd41c06f7aa68643",
            "value": "added_tokens.json: 100%"
          }
        },
        "0b1ef4ae11c84919a1375c77cb4467ba": {
          "model_module": "@jupyter-widgets/controls",
          "model_name": "FloatProgressModel",
          "model_module_version": "1.5.0",
          "state": {
            "_dom_classes": [],
            "_model_module": "@jupyter-widgets/controls",
            "_model_module_version": "1.5.0",
            "_model_name": "FloatProgressModel",
            "_view_count": null,
            "_view_module": "@jupyter-widgets/controls",
            "_view_module_version": "1.5.0",
            "_view_name": "ProgressView",
            "bar_style": "success",
            "description": "",
            "description_tooltip": null,
            "layout": "IPY_MODEL_0dbb5d71ea34404695330634b6b900db",
            "max": 40,
            "min": 0,
            "orientation": "horizontal",
            "style": "IPY_MODEL_3d37327baf1c48c6a303891d00824ef1",
            "value": 40
          }
        },
        "3d5f6d25289041ca8804e68421bdc0af": {
          "model_module": "@jupyter-widgets/controls",
          "model_name": "HTMLModel",
          "model_module_version": "1.5.0",
          "state": {
            "_dom_classes": [],
            "_model_module": "@jupyter-widgets/controls",
            "_model_module_version": "1.5.0",
            "_model_name": "HTMLModel",
            "_view_count": null,
            "_view_module": "@jupyter-widgets/controls",
            "_view_module_version": "1.5.0",
            "_view_name": "HTMLView",
            "description": "",
            "description_tooltip": null,
            "layout": "IPY_MODEL_bc1127d983b04effb172c62f795b9b93",
            "placeholder": "​",
            "style": "IPY_MODEL_37380b4590a8476fbb11f0c1d556c8c6",
            "value": " 40.0/40.0 [00:00&lt;00:00, 629B/s]"
          }
        },
        "ddc9022300c843ad9dd89c42c6bd0686": {
          "model_module": "@jupyter-widgets/base",
          "model_name": "LayoutModel",
          "model_module_version": "1.2.0",
          "state": {
            "_model_module": "@jupyter-widgets/base",
            "_model_module_version": "1.2.0",
            "_model_name": "LayoutModel",
            "_view_count": null,
            "_view_module": "@jupyter-widgets/base",
            "_view_module_version": "1.2.0",
            "_view_name": "LayoutView",
            "align_content": null,
            "align_items": null,
            "align_self": null,
            "border": null,
            "bottom": null,
            "display": null,
            "flex": null,
            "flex_flow": null,
            "grid_area": null,
            "grid_auto_columns": null,
            "grid_auto_flow": null,
            "grid_auto_rows": null,
            "grid_column": null,
            "grid_gap": null,
            "grid_row": null,
            "grid_template_areas": null,
            "grid_template_columns": null,
            "grid_template_rows": null,
            "height": null,
            "justify_content": null,
            "justify_items": null,
            "left": null,
            "margin": null,
            "max_height": null,
            "max_width": null,
            "min_height": null,
            "min_width": null,
            "object_fit": null,
            "object_position": null,
            "order": null,
            "overflow": null,
            "overflow_x": null,
            "overflow_y": null,
            "padding": null,
            "right": null,
            "top": null,
            "visibility": null,
            "width": null
          }
        },
        "2edb268ec47b4062a9690ed8e6c946a4": {
          "model_module": "@jupyter-widgets/base",
          "model_name": "LayoutModel",
          "model_module_version": "1.2.0",
          "state": {
            "_model_module": "@jupyter-widgets/base",
            "_model_module_version": "1.2.0",
            "_model_name": "LayoutModel",
            "_view_count": null,
            "_view_module": "@jupyter-widgets/base",
            "_view_module_version": "1.2.0",
            "_view_name": "LayoutView",
            "align_content": null,
            "align_items": null,
            "align_self": null,
            "border": null,
            "bottom": null,
            "display": null,
            "flex": null,
            "flex_flow": null,
            "grid_area": null,
            "grid_auto_columns": null,
            "grid_auto_flow": null,
            "grid_auto_rows": null,
            "grid_column": null,
            "grid_gap": null,
            "grid_row": null,
            "grid_template_areas": null,
            "grid_template_columns": null,
            "grid_template_rows": null,
            "height": null,
            "justify_content": null,
            "justify_items": null,
            "left": null,
            "margin": null,
            "max_height": null,
            "max_width": null,
            "min_height": null,
            "min_width": null,
            "object_fit": null,
            "object_position": null,
            "order": null,
            "overflow": null,
            "overflow_x": null,
            "overflow_y": null,
            "padding": null,
            "right": null,
            "top": null,
            "visibility": null,
            "width": null
          }
        },
        "bcb3f1552c104ee9bd41c06f7aa68643": {
          "model_module": "@jupyter-widgets/controls",
          "model_name": "DescriptionStyleModel",
          "model_module_version": "1.5.0",
          "state": {
            "_model_module": "@jupyter-widgets/controls",
            "_model_module_version": "1.5.0",
            "_model_name": "DescriptionStyleModel",
            "_view_count": null,
            "_view_module": "@jupyter-widgets/base",
            "_view_module_version": "1.2.0",
            "_view_name": "StyleView",
            "description_width": ""
          }
        },
        "0dbb5d71ea34404695330634b6b900db": {
          "model_module": "@jupyter-widgets/base",
          "model_name": "LayoutModel",
          "model_module_version": "1.2.0",
          "state": {
            "_model_module": "@jupyter-widgets/base",
            "_model_module_version": "1.2.0",
            "_model_name": "LayoutModel",
            "_view_count": null,
            "_view_module": "@jupyter-widgets/base",
            "_view_module_version": "1.2.0",
            "_view_name": "LayoutView",
            "align_content": null,
            "align_items": null,
            "align_self": null,
            "border": null,
            "bottom": null,
            "display": null,
            "flex": null,
            "flex_flow": null,
            "grid_area": null,
            "grid_auto_columns": null,
            "grid_auto_flow": null,
            "grid_auto_rows": null,
            "grid_column": null,
            "grid_gap": null,
            "grid_row": null,
            "grid_template_areas": null,
            "grid_template_columns": null,
            "grid_template_rows": null,
            "height": null,
            "justify_content": null,
            "justify_items": null,
            "left": null,
            "margin": null,
            "max_height": null,
            "max_width": null,
            "min_height": null,
            "min_width": null,
            "object_fit": null,
            "object_position": null,
            "order": null,
            "overflow": null,
            "overflow_x": null,
            "overflow_y": null,
            "padding": null,
            "right": null,
            "top": null,
            "visibility": null,
            "width": null
          }
        },
        "3d37327baf1c48c6a303891d00824ef1": {
          "model_module": "@jupyter-widgets/controls",
          "model_name": "ProgressStyleModel",
          "model_module_version": "1.5.0",
          "state": {
            "_model_module": "@jupyter-widgets/controls",
            "_model_module_version": "1.5.0",
            "_model_name": "ProgressStyleModel",
            "_view_count": null,
            "_view_module": "@jupyter-widgets/base",
            "_view_module_version": "1.2.0",
            "_view_name": "StyleView",
            "bar_color": null,
            "description_width": ""
          }
        },
        "bc1127d983b04effb172c62f795b9b93": {
          "model_module": "@jupyter-widgets/base",
          "model_name": "LayoutModel",
          "model_module_version": "1.2.0",
          "state": {
            "_model_module": "@jupyter-widgets/base",
            "_model_module_version": "1.2.0",
            "_model_name": "LayoutModel",
            "_view_count": null,
            "_view_module": "@jupyter-widgets/base",
            "_view_module_version": "1.2.0",
            "_view_name": "LayoutView",
            "align_content": null,
            "align_items": null,
            "align_self": null,
            "border": null,
            "bottom": null,
            "display": null,
            "flex": null,
            "flex_flow": null,
            "grid_area": null,
            "grid_auto_columns": null,
            "grid_auto_flow": null,
            "grid_auto_rows": null,
            "grid_column": null,
            "grid_gap": null,
            "grid_row": null,
            "grid_template_areas": null,
            "grid_template_columns": null,
            "grid_template_rows": null,
            "height": null,
            "justify_content": null,
            "justify_items": null,
            "left": null,
            "margin": null,
            "max_height": null,
            "max_width": null,
            "min_height": null,
            "min_width": null,
            "object_fit": null,
            "object_position": null,
            "order": null,
            "overflow": null,
            "overflow_x": null,
            "overflow_y": null,
            "padding": null,
            "right": null,
            "top": null,
            "visibility": null,
            "width": null
          }
        },
        "37380b4590a8476fbb11f0c1d556c8c6": {
          "model_module": "@jupyter-widgets/controls",
          "model_name": "DescriptionStyleModel",
          "model_module_version": "1.5.0",
          "state": {
            "_model_module": "@jupyter-widgets/controls",
            "_model_module_version": "1.5.0",
            "_model_name": "DescriptionStyleModel",
            "_view_count": null,
            "_view_module": "@jupyter-widgets/base",
            "_view_module_version": "1.2.0",
            "_view_name": "StyleView",
            "description_width": ""
          }
        },
        "e3584779b26a4e47a8229c8ea22b65df": {
          "model_module": "@jupyter-widgets/controls",
          "model_name": "HBoxModel",
          "model_module_version": "1.5.0",
          "state": {
            "_dom_classes": [],
            "_model_module": "@jupyter-widgets/controls",
            "_model_module_version": "1.5.0",
            "_model_name": "HBoxModel",
            "_view_count": null,
            "_view_module": "@jupyter-widgets/controls",
            "_view_module_version": "1.5.0",
            "_view_name": "HBoxView",
            "box_style": "",
            "children": [
              "IPY_MODEL_594791aa230d4dbdb0765949060adf7b",
              "IPY_MODEL_207b53d4842b4a81978e19f4e7c007aa",
              "IPY_MODEL_435b57dde6b34f00809aeac18ea05259"
            ],
            "layout": "IPY_MODEL_5e08607b68f34600950a54733fe3897b"
          }
        },
        "594791aa230d4dbdb0765949060adf7b": {
          "model_module": "@jupyter-widgets/controls",
          "model_name": "HTMLModel",
          "model_module_version": "1.5.0",
          "state": {
            "_dom_classes": [],
            "_model_module": "@jupyter-widgets/controls",
            "_model_module_version": "1.5.0",
            "_model_name": "HTMLModel",
            "_view_count": null,
            "_view_module": "@jupyter-widgets/controls",
            "_view_module_version": "1.5.0",
            "_view_name": "HTMLView",
            "description": "",
            "description_tooltip": null,
            "layout": "IPY_MODEL_b73ff23029ff4875a6eb9d028af975c6",
            "placeholder": "​",
            "style": "IPY_MODEL_a57ddba95d71407981a1d26976376aad",
            "value": "special_tokens_map.json: 100%"
          }
        },
        "207b53d4842b4a81978e19f4e7c007aa": {
          "model_module": "@jupyter-widgets/controls",
          "model_name": "FloatProgressModel",
          "model_module_version": "1.5.0",
          "state": {
            "_dom_classes": [],
            "_model_module": "@jupyter-widgets/controls",
            "_model_module_version": "1.5.0",
            "_model_name": "FloatProgressModel",
            "_view_count": null,
            "_view_module": "@jupyter-widgets/controls",
            "_view_module_version": "1.5.0",
            "_view_name": "ProgressView",
            "bar_style": "success",
            "description": "",
            "description_tooltip": null,
            "layout": "IPY_MODEL_cbc4ef5687314bb8ac57a4d578a3515d",
            "max": 234,
            "min": 0,
            "orientation": "horizontal",
            "style": "IPY_MODEL_2f202a0b6c8941c2831227e5fdf29ab7",
            "value": 234
          }
        },
        "435b57dde6b34f00809aeac18ea05259": {
          "model_module": "@jupyter-widgets/controls",
          "model_name": "HTMLModel",
          "model_module_version": "1.5.0",
          "state": {
            "_dom_classes": [],
            "_model_module": "@jupyter-widgets/controls",
            "_model_module_version": "1.5.0",
            "_model_name": "HTMLModel",
            "_view_count": null,
            "_view_module": "@jupyter-widgets/controls",
            "_view_module_version": "1.5.0",
            "_view_name": "HTMLView",
            "description": "",
            "description_tooltip": null,
            "layout": "IPY_MODEL_7ef6759d6aa34c8d8431a4e4cb709936",
            "placeholder": "​",
            "style": "IPY_MODEL_811f26b163e149b0867163e0d274ff36",
            "value": " 234/234 [00:00&lt;00:00, 7.84kB/s]"
          }
        },
        "5e08607b68f34600950a54733fe3897b": {
          "model_module": "@jupyter-widgets/base",
          "model_name": "LayoutModel",
          "model_module_version": "1.2.0",
          "state": {
            "_model_module": "@jupyter-widgets/base",
            "_model_module_version": "1.2.0",
            "_model_name": "LayoutModel",
            "_view_count": null,
            "_view_module": "@jupyter-widgets/base",
            "_view_module_version": "1.2.0",
            "_view_name": "LayoutView",
            "align_content": null,
            "align_items": null,
            "align_self": null,
            "border": null,
            "bottom": null,
            "display": null,
            "flex": null,
            "flex_flow": null,
            "grid_area": null,
            "grid_auto_columns": null,
            "grid_auto_flow": null,
            "grid_auto_rows": null,
            "grid_column": null,
            "grid_gap": null,
            "grid_row": null,
            "grid_template_areas": null,
            "grid_template_columns": null,
            "grid_template_rows": null,
            "height": null,
            "justify_content": null,
            "justify_items": null,
            "left": null,
            "margin": null,
            "max_height": null,
            "max_width": null,
            "min_height": null,
            "min_width": null,
            "object_fit": null,
            "object_position": null,
            "order": null,
            "overflow": null,
            "overflow_x": null,
            "overflow_y": null,
            "padding": null,
            "right": null,
            "top": null,
            "visibility": null,
            "width": null
          }
        },
        "b73ff23029ff4875a6eb9d028af975c6": {
          "model_module": "@jupyter-widgets/base",
          "model_name": "LayoutModel",
          "model_module_version": "1.2.0",
          "state": {
            "_model_module": "@jupyter-widgets/base",
            "_model_module_version": "1.2.0",
            "_model_name": "LayoutModel",
            "_view_count": null,
            "_view_module": "@jupyter-widgets/base",
            "_view_module_version": "1.2.0",
            "_view_name": "LayoutView",
            "align_content": null,
            "align_items": null,
            "align_self": null,
            "border": null,
            "bottom": null,
            "display": null,
            "flex": null,
            "flex_flow": null,
            "grid_area": null,
            "grid_auto_columns": null,
            "grid_auto_flow": null,
            "grid_auto_rows": null,
            "grid_column": null,
            "grid_gap": null,
            "grid_row": null,
            "grid_template_areas": null,
            "grid_template_columns": null,
            "grid_template_rows": null,
            "height": null,
            "justify_content": null,
            "justify_items": null,
            "left": null,
            "margin": null,
            "max_height": null,
            "max_width": null,
            "min_height": null,
            "min_width": null,
            "object_fit": null,
            "object_position": null,
            "order": null,
            "overflow": null,
            "overflow_x": null,
            "overflow_y": null,
            "padding": null,
            "right": null,
            "top": null,
            "visibility": null,
            "width": null
          }
        },
        "a57ddba95d71407981a1d26976376aad": {
          "model_module": "@jupyter-widgets/controls",
          "model_name": "DescriptionStyleModel",
          "model_module_version": "1.5.0",
          "state": {
            "_model_module": "@jupyter-widgets/controls",
            "_model_module_version": "1.5.0",
            "_model_name": "DescriptionStyleModel",
            "_view_count": null,
            "_view_module": "@jupyter-widgets/base",
            "_view_module_version": "1.2.0",
            "_view_name": "StyleView",
            "description_width": ""
          }
        },
        "cbc4ef5687314bb8ac57a4d578a3515d": {
          "model_module": "@jupyter-widgets/base",
          "model_name": "LayoutModel",
          "model_module_version": "1.2.0",
          "state": {
            "_model_module": "@jupyter-widgets/base",
            "_model_module_version": "1.2.0",
            "_model_name": "LayoutModel",
            "_view_count": null,
            "_view_module": "@jupyter-widgets/base",
            "_view_module_version": "1.2.0",
            "_view_name": "LayoutView",
            "align_content": null,
            "align_items": null,
            "align_self": null,
            "border": null,
            "bottom": null,
            "display": null,
            "flex": null,
            "flex_flow": null,
            "grid_area": null,
            "grid_auto_columns": null,
            "grid_auto_flow": null,
            "grid_auto_rows": null,
            "grid_column": null,
            "grid_gap": null,
            "grid_row": null,
            "grid_template_areas": null,
            "grid_template_columns": null,
            "grid_template_rows": null,
            "height": null,
            "justify_content": null,
            "justify_items": null,
            "left": null,
            "margin": null,
            "max_height": null,
            "max_width": null,
            "min_height": null,
            "min_width": null,
            "object_fit": null,
            "object_position": null,
            "order": null,
            "overflow": null,
            "overflow_x": null,
            "overflow_y": null,
            "padding": null,
            "right": null,
            "top": null,
            "visibility": null,
            "width": null
          }
        },
        "2f202a0b6c8941c2831227e5fdf29ab7": {
          "model_module": "@jupyter-widgets/controls",
          "model_name": "ProgressStyleModel",
          "model_module_version": "1.5.0",
          "state": {
            "_model_module": "@jupyter-widgets/controls",
            "_model_module_version": "1.5.0",
            "_model_name": "ProgressStyleModel",
            "_view_count": null,
            "_view_module": "@jupyter-widgets/base",
            "_view_module_version": "1.2.0",
            "_view_name": "StyleView",
            "bar_color": null,
            "description_width": ""
          }
        },
        "7ef6759d6aa34c8d8431a4e4cb709936": {
          "model_module": "@jupyter-widgets/base",
          "model_name": "LayoutModel",
          "model_module_version": "1.2.0",
          "state": {
            "_model_module": "@jupyter-widgets/base",
            "_model_module_version": "1.2.0",
            "_model_name": "LayoutModel",
            "_view_count": null,
            "_view_module": "@jupyter-widgets/base",
            "_view_module_version": "1.2.0",
            "_view_name": "LayoutView",
            "align_content": null,
            "align_items": null,
            "align_self": null,
            "border": null,
            "bottom": null,
            "display": null,
            "flex": null,
            "flex_flow": null,
            "grid_area": null,
            "grid_auto_columns": null,
            "grid_auto_flow": null,
            "grid_auto_rows": null,
            "grid_column": null,
            "grid_gap": null,
            "grid_row": null,
            "grid_template_areas": null,
            "grid_template_columns": null,
            "grid_template_rows": null,
            "height": null,
            "justify_content": null,
            "justify_items": null,
            "left": null,
            "margin": null,
            "max_height": null,
            "max_width": null,
            "min_height": null,
            "min_width": null,
            "object_fit": null,
            "object_position": null,
            "order": null,
            "overflow": null,
            "overflow_x": null,
            "overflow_y": null,
            "padding": null,
            "right": null,
            "top": null,
            "visibility": null,
            "width": null
          }
        },
        "811f26b163e149b0867163e0d274ff36": {
          "model_module": "@jupyter-widgets/controls",
          "model_name": "DescriptionStyleModel",
          "model_module_version": "1.5.0",
          "state": {
            "_model_module": "@jupyter-widgets/controls",
            "_model_module_version": "1.5.0",
            "_model_name": "DescriptionStyleModel",
            "_view_count": null,
            "_view_module": "@jupyter-widgets/base",
            "_view_module_version": "1.2.0",
            "_view_name": "StyleView",
            "description_width": ""
          }
        },
        "1d425ead25aa401f928ac4e323f7a3e1": {
          "model_module": "@jupyter-widgets/controls",
          "model_name": "HBoxModel",
          "model_module_version": "1.5.0",
          "state": {
            "_dom_classes": [],
            "_model_module": "@jupyter-widgets/controls",
            "_model_module_version": "1.5.0",
            "_model_name": "HBoxModel",
            "_view_count": null,
            "_view_module": "@jupyter-widgets/controls",
            "_view_module_version": "1.5.0",
            "_view_name": "HBoxView",
            "box_style": "",
            "children": [
              "IPY_MODEL_a078151a0dee48109b950c9b89c2cc84",
              "IPY_MODEL_11a6c93948754da9aa7e4c78d67e028a",
              "IPY_MODEL_c38c1e3482384e84b677c5649579ac15"
            ],
            "layout": "IPY_MODEL_e38e0c56a74b41e18fa90a975150779b"
          }
        },
        "a078151a0dee48109b950c9b89c2cc84": {
          "model_module": "@jupyter-widgets/controls",
          "model_name": "HTMLModel",
          "model_module_version": "1.5.0",
          "state": {
            "_dom_classes": [],
            "_model_module": "@jupyter-widgets/controls",
            "_model_module_version": "1.5.0",
            "_model_name": "HTMLModel",
            "_view_count": null,
            "_view_module": "@jupyter-widgets/controls",
            "_view_module_version": "1.5.0",
            "_view_name": "HTMLView",
            "description": "",
            "description_tooltip": null,
            "layout": "IPY_MODEL_491c184ccc5d422286839afcdfa6b52d",
            "placeholder": "​",
            "style": "IPY_MODEL_72e41dc38ecc413bacacaac8bef12fc7",
            "value": "config.json: 100%"
          }
        },
        "11a6c93948754da9aa7e4c78d67e028a": {
          "model_module": "@jupyter-widgets/controls",
          "model_name": "FloatProgressModel",
          "model_module_version": "1.5.0",
          "state": {
            "_dom_classes": [],
            "_model_module": "@jupyter-widgets/controls",
            "_model_module_version": "1.5.0",
            "_model_name": "FloatProgressModel",
            "_view_count": null,
            "_view_module": "@jupyter-widgets/controls",
            "_view_module_version": "1.5.0",
            "_view_name": "ProgressView",
            "bar_style": "success",
            "description": "",
            "description_tooltip": null,
            "layout": "IPY_MODEL_efd104e6ad9640f9b936ed488896a9c9",
            "max": 2062,
            "min": 0,
            "orientation": "horizontal",
            "style": "IPY_MODEL_9074e08ad13b48d0a4c3c051d36094f0",
            "value": 2062
          }
        },
        "c38c1e3482384e84b677c5649579ac15": {
          "model_module": "@jupyter-widgets/controls",
          "model_name": "HTMLModel",
          "model_module_version": "1.5.0",
          "state": {
            "_dom_classes": [],
            "_model_module": "@jupyter-widgets/controls",
            "_model_module_version": "1.5.0",
            "_model_name": "HTMLModel",
            "_view_count": null,
            "_view_module": "@jupyter-widgets/controls",
            "_view_module_version": "1.5.0",
            "_view_name": "HTMLView",
            "description": "",
            "description_tooltip": null,
            "layout": "IPY_MODEL_9cd481b63d194448ba18afb63a1a5b2a",
            "placeholder": "​",
            "style": "IPY_MODEL_88109f28f3904e56a212fa1603ce71c0",
            "value": " 2.06k/2.06k [00:00&lt;00:00, 29.1kB/s]"
          }
        },
        "e38e0c56a74b41e18fa90a975150779b": {
          "model_module": "@jupyter-widgets/base",
          "model_name": "LayoutModel",
          "model_module_version": "1.2.0",
          "state": {
            "_model_module": "@jupyter-widgets/base",
            "_model_module_version": "1.2.0",
            "_model_name": "LayoutModel",
            "_view_count": null,
            "_view_module": "@jupyter-widgets/base",
            "_view_module_version": "1.2.0",
            "_view_name": "LayoutView",
            "align_content": null,
            "align_items": null,
            "align_self": null,
            "border": null,
            "bottom": null,
            "display": null,
            "flex": null,
            "flex_flow": null,
            "grid_area": null,
            "grid_auto_columns": null,
            "grid_auto_flow": null,
            "grid_auto_rows": null,
            "grid_column": null,
            "grid_gap": null,
            "grid_row": null,
            "grid_template_areas": null,
            "grid_template_columns": null,
            "grid_template_rows": null,
            "height": null,
            "justify_content": null,
            "justify_items": null,
            "left": null,
            "margin": null,
            "max_height": null,
            "max_width": null,
            "min_height": null,
            "min_width": null,
            "object_fit": null,
            "object_position": null,
            "order": null,
            "overflow": null,
            "overflow_x": null,
            "overflow_y": null,
            "padding": null,
            "right": null,
            "top": null,
            "visibility": null,
            "width": null
          }
        },
        "491c184ccc5d422286839afcdfa6b52d": {
          "model_module": "@jupyter-widgets/base",
          "model_name": "LayoutModel",
          "model_module_version": "1.2.0",
          "state": {
            "_model_module": "@jupyter-widgets/base",
            "_model_module_version": "1.2.0",
            "_model_name": "LayoutModel",
            "_view_count": null,
            "_view_module": "@jupyter-widgets/base",
            "_view_module_version": "1.2.0",
            "_view_name": "LayoutView",
            "align_content": null,
            "align_items": null,
            "align_self": null,
            "border": null,
            "bottom": null,
            "display": null,
            "flex": null,
            "flex_flow": null,
            "grid_area": null,
            "grid_auto_columns": null,
            "grid_auto_flow": null,
            "grid_auto_rows": null,
            "grid_column": null,
            "grid_gap": null,
            "grid_row": null,
            "grid_template_areas": null,
            "grid_template_columns": null,
            "grid_template_rows": null,
            "height": null,
            "justify_content": null,
            "justify_items": null,
            "left": null,
            "margin": null,
            "max_height": null,
            "max_width": null,
            "min_height": null,
            "min_width": null,
            "object_fit": null,
            "object_position": null,
            "order": null,
            "overflow": null,
            "overflow_x": null,
            "overflow_y": null,
            "padding": null,
            "right": null,
            "top": null,
            "visibility": null,
            "width": null
          }
        },
        "72e41dc38ecc413bacacaac8bef12fc7": {
          "model_module": "@jupyter-widgets/controls",
          "model_name": "DescriptionStyleModel",
          "model_module_version": "1.5.0",
          "state": {
            "_model_module": "@jupyter-widgets/controls",
            "_model_module_version": "1.5.0",
            "_model_name": "DescriptionStyleModel",
            "_view_count": null,
            "_view_module": "@jupyter-widgets/base",
            "_view_module_version": "1.2.0",
            "_view_name": "StyleView",
            "description_width": ""
          }
        },
        "efd104e6ad9640f9b936ed488896a9c9": {
          "model_module": "@jupyter-widgets/base",
          "model_name": "LayoutModel",
          "model_module_version": "1.2.0",
          "state": {
            "_model_module": "@jupyter-widgets/base",
            "_model_module_version": "1.2.0",
            "_model_name": "LayoutModel",
            "_view_count": null,
            "_view_module": "@jupyter-widgets/base",
            "_view_module_version": "1.2.0",
            "_view_name": "LayoutView",
            "align_content": null,
            "align_items": null,
            "align_self": null,
            "border": null,
            "bottom": null,
            "display": null,
            "flex": null,
            "flex_flow": null,
            "grid_area": null,
            "grid_auto_columns": null,
            "grid_auto_flow": null,
            "grid_auto_rows": null,
            "grid_column": null,
            "grid_gap": null,
            "grid_row": null,
            "grid_template_areas": null,
            "grid_template_columns": null,
            "grid_template_rows": null,
            "height": null,
            "justify_content": null,
            "justify_items": null,
            "left": null,
            "margin": null,
            "max_height": null,
            "max_width": null,
            "min_height": null,
            "min_width": null,
            "object_fit": null,
            "object_position": null,
            "order": null,
            "overflow": null,
            "overflow_x": null,
            "overflow_y": null,
            "padding": null,
            "right": null,
            "top": null,
            "visibility": null,
            "width": null
          }
        },
        "9074e08ad13b48d0a4c3c051d36094f0": {
          "model_module": "@jupyter-widgets/controls",
          "model_name": "ProgressStyleModel",
          "model_module_version": "1.5.0",
          "state": {
            "_model_module": "@jupyter-widgets/controls",
            "_model_module_version": "1.5.0",
            "_model_name": "ProgressStyleModel",
            "_view_count": null,
            "_view_module": "@jupyter-widgets/base",
            "_view_module_version": "1.2.0",
            "_view_name": "StyleView",
            "bar_color": null,
            "description_width": ""
          }
        },
        "9cd481b63d194448ba18afb63a1a5b2a": {
          "model_module": "@jupyter-widgets/base",
          "model_name": "LayoutModel",
          "model_module_version": "1.2.0",
          "state": {
            "_model_module": "@jupyter-widgets/base",
            "_model_module_version": "1.2.0",
            "_model_name": "LayoutModel",
            "_view_count": null,
            "_view_module": "@jupyter-widgets/base",
            "_view_module_version": "1.2.0",
            "_view_name": "LayoutView",
            "align_content": null,
            "align_items": null,
            "align_self": null,
            "border": null,
            "bottom": null,
            "display": null,
            "flex": null,
            "flex_flow": null,
            "grid_area": null,
            "grid_auto_columns": null,
            "grid_auto_flow": null,
            "grid_auto_rows": null,
            "grid_column": null,
            "grid_gap": null,
            "grid_row": null,
            "grid_template_areas": null,
            "grid_template_columns": null,
            "grid_template_rows": null,
            "height": null,
            "justify_content": null,
            "justify_items": null,
            "left": null,
            "margin": null,
            "max_height": null,
            "max_width": null,
            "min_height": null,
            "min_width": null,
            "object_fit": null,
            "object_position": null,
            "order": null,
            "overflow": null,
            "overflow_x": null,
            "overflow_y": null,
            "padding": null,
            "right": null,
            "top": null,
            "visibility": null,
            "width": null
          }
        },
        "88109f28f3904e56a212fa1603ce71c0": {
          "model_module": "@jupyter-widgets/controls",
          "model_name": "DescriptionStyleModel",
          "model_module_version": "1.5.0",
          "state": {
            "_model_module": "@jupyter-widgets/controls",
            "_model_module_version": "1.5.0",
            "_model_name": "DescriptionStyleModel",
            "_view_count": null,
            "_view_module": "@jupyter-widgets/base",
            "_view_module_version": "1.2.0",
            "_view_name": "StyleView",
            "description_width": ""
          }
        },
        "661fc4c996ff4321aead068d4675866f": {
          "model_module": "@jupyter-widgets/controls",
          "model_name": "HBoxModel",
          "model_module_version": "1.5.0",
          "state": {
            "_dom_classes": [],
            "_model_module": "@jupyter-widgets/controls",
            "_model_module_version": "1.5.0",
            "_model_name": "HBoxModel",
            "_view_count": null,
            "_view_module": "@jupyter-widgets/controls",
            "_view_module_version": "1.5.0",
            "_view_name": "HBoxView",
            "box_style": "",
            "children": [
              "IPY_MODEL_2bf3994151ea4fcb8b2cd938936b96c3",
              "IPY_MODEL_f71b5e080bff4890ab039786276e8698",
              "IPY_MODEL_d9a89dbe9fb746d980f38b5ade70b0ac"
            ],
            "layout": "IPY_MODEL_551dfc031b484ad392403184254a3d76"
          }
        },
        "2bf3994151ea4fcb8b2cd938936b96c3": {
          "model_module": "@jupyter-widgets/controls",
          "model_name": "HTMLModel",
          "model_module_version": "1.5.0",
          "state": {
            "_dom_classes": [],
            "_model_module": "@jupyter-widgets/controls",
            "_model_module_version": "1.5.0",
            "_model_name": "HTMLModel",
            "_view_count": null,
            "_view_module": "@jupyter-widgets/controls",
            "_view_module_version": "1.5.0",
            "_view_name": "HTMLView",
            "description": "",
            "description_tooltip": null,
            "layout": "IPY_MODEL_c9fa45272e9c449f91a27e20030cc383",
            "placeholder": "​",
            "style": "IPY_MODEL_1a617db16b07418ebf3eda6a8e93f31f",
            "value": "pytorch_model.bin: 100%"
          }
        },
        "f71b5e080bff4890ab039786276e8698": {
          "model_module": "@jupyter-widgets/controls",
          "model_name": "FloatProgressModel",
          "model_module_version": "1.5.0",
          "state": {
            "_dom_classes": [],
            "_model_module": "@jupyter-widgets/controls",
            "_model_module_version": "1.5.0",
            "_model_name": "FloatProgressModel",
            "_view_count": null,
            "_view_module": "@jupyter-widgets/controls",
            "_view_module_version": "1.5.0",
            "_view_name": "ProgressView",
            "bar_style": "success",
            "description": "",
            "description_tooltip": null,
            "layout": "IPY_MODEL_91351c00d5744619a3609f8b605f7416",
            "max": 585476837,
            "min": 0,
            "orientation": "horizontal",
            "style": "IPY_MODEL_7d621ebebcfe49de8b6c2b48c0a2d5de",
            "value": 585476837
          }
        },
        "d9a89dbe9fb746d980f38b5ade70b0ac": {
          "model_module": "@jupyter-widgets/controls",
          "model_name": "HTMLModel",
          "model_module_version": "1.5.0",
          "state": {
            "_dom_classes": [],
            "_model_module": "@jupyter-widgets/controls",
            "_model_module_version": "1.5.0",
            "_model_name": "HTMLModel",
            "_view_count": null,
            "_view_module": "@jupyter-widgets/controls",
            "_view_module_version": "1.5.0",
            "_view_name": "HTMLView",
            "description": "",
            "description_tooltip": null,
            "layout": "IPY_MODEL_596d4bec382443fcb172666dd754bc0b",
            "placeholder": "​",
            "style": "IPY_MODEL_bd3c9e38eaf84fe6a05d4061a03b017b",
            "value": " 585M/585M [00:05&lt;00:00, 102MB/s]"
          }
        },
        "551dfc031b484ad392403184254a3d76": {
          "model_module": "@jupyter-widgets/base",
          "model_name": "LayoutModel",
          "model_module_version": "1.2.0",
          "state": {
            "_model_module": "@jupyter-widgets/base",
            "_model_module_version": "1.2.0",
            "_model_name": "LayoutModel",
            "_view_count": null,
            "_view_module": "@jupyter-widgets/base",
            "_view_module_version": "1.2.0",
            "_view_name": "LayoutView",
            "align_content": null,
            "align_items": null,
            "align_self": null,
            "border": null,
            "bottom": null,
            "display": null,
            "flex": null,
            "flex_flow": null,
            "grid_area": null,
            "grid_auto_columns": null,
            "grid_auto_flow": null,
            "grid_auto_rows": null,
            "grid_column": null,
            "grid_gap": null,
            "grid_row": null,
            "grid_template_areas": null,
            "grid_template_columns": null,
            "grid_template_rows": null,
            "height": null,
            "justify_content": null,
            "justify_items": null,
            "left": null,
            "margin": null,
            "max_height": null,
            "max_width": null,
            "min_height": null,
            "min_width": null,
            "object_fit": null,
            "object_position": null,
            "order": null,
            "overflow": null,
            "overflow_x": null,
            "overflow_y": null,
            "padding": null,
            "right": null,
            "top": null,
            "visibility": null,
            "width": null
          }
        },
        "c9fa45272e9c449f91a27e20030cc383": {
          "model_module": "@jupyter-widgets/base",
          "model_name": "LayoutModel",
          "model_module_version": "1.2.0",
          "state": {
            "_model_module": "@jupyter-widgets/base",
            "_model_module_version": "1.2.0",
            "_model_name": "LayoutModel",
            "_view_count": null,
            "_view_module": "@jupyter-widgets/base",
            "_view_module_version": "1.2.0",
            "_view_name": "LayoutView",
            "align_content": null,
            "align_items": null,
            "align_self": null,
            "border": null,
            "bottom": null,
            "display": null,
            "flex": null,
            "flex_flow": null,
            "grid_area": null,
            "grid_auto_columns": null,
            "grid_auto_flow": null,
            "grid_auto_rows": null,
            "grid_column": null,
            "grid_gap": null,
            "grid_row": null,
            "grid_template_areas": null,
            "grid_template_columns": null,
            "grid_template_rows": null,
            "height": null,
            "justify_content": null,
            "justify_items": null,
            "left": null,
            "margin": null,
            "max_height": null,
            "max_width": null,
            "min_height": null,
            "min_width": null,
            "object_fit": null,
            "object_position": null,
            "order": null,
            "overflow": null,
            "overflow_x": null,
            "overflow_y": null,
            "padding": null,
            "right": null,
            "top": null,
            "visibility": null,
            "width": null
          }
        },
        "1a617db16b07418ebf3eda6a8e93f31f": {
          "model_module": "@jupyter-widgets/controls",
          "model_name": "DescriptionStyleModel",
          "model_module_version": "1.5.0",
          "state": {
            "_model_module": "@jupyter-widgets/controls",
            "_model_module_version": "1.5.0",
            "_model_name": "DescriptionStyleModel",
            "_view_count": null,
            "_view_module": "@jupyter-widgets/base",
            "_view_module_version": "1.2.0",
            "_view_name": "StyleView",
            "description_width": ""
          }
        },
        "91351c00d5744619a3609f8b605f7416": {
          "model_module": "@jupyter-widgets/base",
          "model_name": "LayoutModel",
          "model_module_version": "1.2.0",
          "state": {
            "_model_module": "@jupyter-widgets/base",
            "_model_module_version": "1.2.0",
            "_model_name": "LayoutModel",
            "_view_count": null,
            "_view_module": "@jupyter-widgets/base",
            "_view_module_version": "1.2.0",
            "_view_name": "LayoutView",
            "align_content": null,
            "align_items": null,
            "align_self": null,
            "border": null,
            "bottom": null,
            "display": null,
            "flex": null,
            "flex_flow": null,
            "grid_area": null,
            "grid_auto_columns": null,
            "grid_auto_flow": null,
            "grid_auto_rows": null,
            "grid_column": null,
            "grid_gap": null,
            "grid_row": null,
            "grid_template_areas": null,
            "grid_template_columns": null,
            "grid_template_rows": null,
            "height": null,
            "justify_content": null,
            "justify_items": null,
            "left": null,
            "margin": null,
            "max_height": null,
            "max_width": null,
            "min_height": null,
            "min_width": null,
            "object_fit": null,
            "object_position": null,
            "order": null,
            "overflow": null,
            "overflow_x": null,
            "overflow_y": null,
            "padding": null,
            "right": null,
            "top": null,
            "visibility": null,
            "width": null
          }
        },
        "7d621ebebcfe49de8b6c2b48c0a2d5de": {
          "model_module": "@jupyter-widgets/controls",
          "model_name": "ProgressStyleModel",
          "model_module_version": "1.5.0",
          "state": {
            "_model_module": "@jupyter-widgets/controls",
            "_model_module_version": "1.5.0",
            "_model_name": "ProgressStyleModel",
            "_view_count": null,
            "_view_module": "@jupyter-widgets/base",
            "_view_module_version": "1.2.0",
            "_view_name": "StyleView",
            "bar_color": null,
            "description_width": ""
          }
        },
        "596d4bec382443fcb172666dd754bc0b": {
          "model_module": "@jupyter-widgets/base",
          "model_name": "LayoutModel",
          "model_module_version": "1.2.0",
          "state": {
            "_model_module": "@jupyter-widgets/base",
            "_model_module_version": "1.2.0",
            "_model_name": "LayoutModel",
            "_view_count": null,
            "_view_module": "@jupyter-widgets/base",
            "_view_module_version": "1.2.0",
            "_view_name": "LayoutView",
            "align_content": null,
            "align_items": null,
            "align_self": null,
            "border": null,
            "bottom": null,
            "display": null,
            "flex": null,
            "flex_flow": null,
            "grid_area": null,
            "grid_auto_columns": null,
            "grid_auto_flow": null,
            "grid_auto_rows": null,
            "grid_column": null,
            "grid_gap": null,
            "grid_row": null,
            "grid_template_areas": null,
            "grid_template_columns": null,
            "grid_template_rows": null,
            "height": null,
            "justify_content": null,
            "justify_items": null,
            "left": null,
            "margin": null,
            "max_height": null,
            "max_width": null,
            "min_height": null,
            "min_width": null,
            "object_fit": null,
            "object_position": null,
            "order": null,
            "overflow": null,
            "overflow_x": null,
            "overflow_y": null,
            "padding": null,
            "right": null,
            "top": null,
            "visibility": null,
            "width": null
          }
        },
        "bd3c9e38eaf84fe6a05d4061a03b017b": {
          "model_module": "@jupyter-widgets/controls",
          "model_name": "DescriptionStyleModel",
          "model_module_version": "1.5.0",
          "state": {
            "_model_module": "@jupyter-widgets/controls",
            "_model_module_version": "1.5.0",
            "_model_name": "DescriptionStyleModel",
            "_view_count": null,
            "_view_module": "@jupyter-widgets/base",
            "_view_module_version": "1.2.0",
            "_view_name": "StyleView",
            "description_width": ""
          }
        },
        "35f30dabaa0149658d345c41ce145812": {
          "model_module": "@jupyter-widgets/controls",
          "model_name": "HBoxModel",
          "model_module_version": "1.5.0",
          "state": {
            "_dom_classes": [],
            "_model_module": "@jupyter-widgets/controls",
            "_model_module_version": "1.5.0",
            "_model_name": "HBoxModel",
            "_view_count": null,
            "_view_module": "@jupyter-widgets/controls",
            "_view_module_version": "1.5.0",
            "_view_name": "HBoxView",
            "box_style": "",
            "children": [
              "IPY_MODEL_4f69b8d991574e07951fe2e242bf849c",
              "IPY_MODEL_3d69e4fb13294ca7b17c128c4d29edfb",
              "IPY_MODEL_3000541e9c174e2585972323149a553b"
            ],
            "layout": "IPY_MODEL_bf07ebbdfd16485db9db484e61628458"
          }
        },
        "4f69b8d991574e07951fe2e242bf849c": {
          "model_module": "@jupyter-widgets/controls",
          "model_name": "HTMLModel",
          "model_module_version": "1.5.0",
          "state": {
            "_dom_classes": [],
            "_model_module": "@jupyter-widgets/controls",
            "_model_module_version": "1.5.0",
            "_model_name": "HTMLModel",
            "_view_count": null,
            "_view_module": "@jupyter-widgets/controls",
            "_view_module_version": "1.5.0",
            "_view_name": "HTMLView",
            "description": "",
            "description_tooltip": null,
            "layout": "IPY_MODEL_5bca9c4c30cb410caeda0582080321f7",
            "placeholder": "​",
            "style": "IPY_MODEL_217168d7f2414dd986c11d1e544b60f4",
            "value": "Downloading data: 100%"
          }
        },
        "3d69e4fb13294ca7b17c128c4d29edfb": {
          "model_module": "@jupyter-widgets/controls",
          "model_name": "FloatProgressModel",
          "model_module_version": "1.5.0",
          "state": {
            "_dom_classes": [],
            "_model_module": "@jupyter-widgets/controls",
            "_model_module_version": "1.5.0",
            "_model_name": "FloatProgressModel",
            "_view_count": null,
            "_view_module": "@jupyter-widgets/controls",
            "_view_module_version": "1.5.0",
            "_view_name": "ProgressView",
            "bar_style": "success",
            "description": "",
            "description_tooltip": null,
            "layout": "IPY_MODEL_198dfb92186e4382a082b77fb29629ab",
            "max": 382885481,
            "min": 0,
            "orientation": "horizontal",
            "style": "IPY_MODEL_62a04645df9e49f8a4f6dbfee816fa3c",
            "value": 382885481
          }
        },
        "3000541e9c174e2585972323149a553b": {
          "model_module": "@jupyter-widgets/controls",
          "model_name": "HTMLModel",
          "model_module_version": "1.5.0",
          "state": {
            "_dom_classes": [],
            "_model_module": "@jupyter-widgets/controls",
            "_model_module_version": "1.5.0",
            "_model_name": "HTMLModel",
            "_view_count": null,
            "_view_module": "@jupyter-widgets/controls",
            "_view_module_version": "1.5.0",
            "_view_name": "HTMLView",
            "description": "",
            "description_tooltip": null,
            "layout": "IPY_MODEL_dfc3887724dd4803b91fbb75f2595c6e",
            "placeholder": "​",
            "style": "IPY_MODEL_8d7853f28a3a4848abba8e8f3f6f21d6",
            "value": " 383M/383M [00:11&lt;00:00, 52.0MB/s]"
          }
        },
        "bf07ebbdfd16485db9db484e61628458": {
          "model_module": "@jupyter-widgets/base",
          "model_name": "LayoutModel",
          "model_module_version": "1.2.0",
          "state": {
            "_model_module": "@jupyter-widgets/base",
            "_model_module_version": "1.2.0",
            "_model_name": "LayoutModel",
            "_view_count": null,
            "_view_module": "@jupyter-widgets/base",
            "_view_module_version": "1.2.0",
            "_view_name": "LayoutView",
            "align_content": null,
            "align_items": null,
            "align_self": null,
            "border": null,
            "bottom": null,
            "display": null,
            "flex": null,
            "flex_flow": null,
            "grid_area": null,
            "grid_auto_columns": null,
            "grid_auto_flow": null,
            "grid_auto_rows": null,
            "grid_column": null,
            "grid_gap": null,
            "grid_row": null,
            "grid_template_areas": null,
            "grid_template_columns": null,
            "grid_template_rows": null,
            "height": null,
            "justify_content": null,
            "justify_items": null,
            "left": null,
            "margin": null,
            "max_height": null,
            "max_width": null,
            "min_height": null,
            "min_width": null,
            "object_fit": null,
            "object_position": null,
            "order": null,
            "overflow": null,
            "overflow_x": null,
            "overflow_y": null,
            "padding": null,
            "right": null,
            "top": null,
            "visibility": null,
            "width": null
          }
        },
        "5bca9c4c30cb410caeda0582080321f7": {
          "model_module": "@jupyter-widgets/base",
          "model_name": "LayoutModel",
          "model_module_version": "1.2.0",
          "state": {
            "_model_module": "@jupyter-widgets/base",
            "_model_module_version": "1.2.0",
            "_model_name": "LayoutModel",
            "_view_count": null,
            "_view_module": "@jupyter-widgets/base",
            "_view_module_version": "1.2.0",
            "_view_name": "LayoutView",
            "align_content": null,
            "align_items": null,
            "align_self": null,
            "border": null,
            "bottom": null,
            "display": null,
            "flex": null,
            "flex_flow": null,
            "grid_area": null,
            "grid_auto_columns": null,
            "grid_auto_flow": null,
            "grid_auto_rows": null,
            "grid_column": null,
            "grid_gap": null,
            "grid_row": null,
            "grid_template_areas": null,
            "grid_template_columns": null,
            "grid_template_rows": null,
            "height": null,
            "justify_content": null,
            "justify_items": null,
            "left": null,
            "margin": null,
            "max_height": null,
            "max_width": null,
            "min_height": null,
            "min_width": null,
            "object_fit": null,
            "object_position": null,
            "order": null,
            "overflow": null,
            "overflow_x": null,
            "overflow_y": null,
            "padding": null,
            "right": null,
            "top": null,
            "visibility": null,
            "width": null
          }
        },
        "217168d7f2414dd986c11d1e544b60f4": {
          "model_module": "@jupyter-widgets/controls",
          "model_name": "DescriptionStyleModel",
          "model_module_version": "1.5.0",
          "state": {
            "_model_module": "@jupyter-widgets/controls",
            "_model_module_version": "1.5.0",
            "_model_name": "DescriptionStyleModel",
            "_view_count": null,
            "_view_module": "@jupyter-widgets/base",
            "_view_module_version": "1.2.0",
            "_view_name": "StyleView",
            "description_width": ""
          }
        },
        "198dfb92186e4382a082b77fb29629ab": {
          "model_module": "@jupyter-widgets/base",
          "model_name": "LayoutModel",
          "model_module_version": "1.2.0",
          "state": {
            "_model_module": "@jupyter-widgets/base",
            "_model_module_version": "1.2.0",
            "_model_name": "LayoutModel",
            "_view_count": null,
            "_view_module": "@jupyter-widgets/base",
            "_view_module_version": "1.2.0",
            "_view_name": "LayoutView",
            "align_content": null,
            "align_items": null,
            "align_self": null,
            "border": null,
            "bottom": null,
            "display": null,
            "flex": null,
            "flex_flow": null,
            "grid_area": null,
            "grid_auto_columns": null,
            "grid_auto_flow": null,
            "grid_auto_rows": null,
            "grid_column": null,
            "grid_gap": null,
            "grid_row": null,
            "grid_template_areas": null,
            "grid_template_columns": null,
            "grid_template_rows": null,
            "height": null,
            "justify_content": null,
            "justify_items": null,
            "left": null,
            "margin": null,
            "max_height": null,
            "max_width": null,
            "min_height": null,
            "min_width": null,
            "object_fit": null,
            "object_position": null,
            "order": null,
            "overflow": null,
            "overflow_x": null,
            "overflow_y": null,
            "padding": null,
            "right": null,
            "top": null,
            "visibility": null,
            "width": null
          }
        },
        "62a04645df9e49f8a4f6dbfee816fa3c": {
          "model_module": "@jupyter-widgets/controls",
          "model_name": "ProgressStyleModel",
          "model_module_version": "1.5.0",
          "state": {
            "_model_module": "@jupyter-widgets/controls",
            "_model_module_version": "1.5.0",
            "_model_name": "ProgressStyleModel",
            "_view_count": null,
            "_view_module": "@jupyter-widgets/base",
            "_view_module_version": "1.2.0",
            "_view_name": "StyleView",
            "bar_color": null,
            "description_width": ""
          }
        },
        "dfc3887724dd4803b91fbb75f2595c6e": {
          "model_module": "@jupyter-widgets/base",
          "model_name": "LayoutModel",
          "model_module_version": "1.2.0",
          "state": {
            "_model_module": "@jupyter-widgets/base",
            "_model_module_version": "1.2.0",
            "_model_name": "LayoutModel",
            "_view_count": null,
            "_view_module": "@jupyter-widgets/base",
            "_view_module_version": "1.2.0",
            "_view_name": "LayoutView",
            "align_content": null,
            "align_items": null,
            "align_self": null,
            "border": null,
            "bottom": null,
            "display": null,
            "flex": null,
            "flex_flow": null,
            "grid_area": null,
            "grid_auto_columns": null,
            "grid_auto_flow": null,
            "grid_auto_rows": null,
            "grid_column": null,
            "grid_gap": null,
            "grid_row": null,
            "grid_template_areas": null,
            "grid_template_columns": null,
            "grid_template_rows": null,
            "height": null,
            "justify_content": null,
            "justify_items": null,
            "left": null,
            "margin": null,
            "max_height": null,
            "max_width": null,
            "min_height": null,
            "min_width": null,
            "object_fit": null,
            "object_position": null,
            "order": null,
            "overflow": null,
            "overflow_x": null,
            "overflow_y": null,
            "padding": null,
            "right": null,
            "top": null,
            "visibility": null,
            "width": null
          }
        },
        "8d7853f28a3a4848abba8e8f3f6f21d6": {
          "model_module": "@jupyter-widgets/controls",
          "model_name": "DescriptionStyleModel",
          "model_module_version": "1.5.0",
          "state": {
            "_model_module": "@jupyter-widgets/controls",
            "_model_module_version": "1.5.0",
            "_model_name": "DescriptionStyleModel",
            "_view_count": null,
            "_view_module": "@jupyter-widgets/base",
            "_view_module_version": "1.2.0",
            "_view_name": "StyleView",
            "description_width": ""
          }
        },
        "ce149ef856d546a6a7e1623267863ee6": {
          "model_module": "@jupyter-widgets/controls",
          "model_name": "HBoxModel",
          "model_module_version": "1.5.0",
          "state": {
            "_dom_classes": [],
            "_model_module": "@jupyter-widgets/controls",
            "_model_module_version": "1.5.0",
            "_model_name": "HBoxModel",
            "_view_count": null,
            "_view_module": "@jupyter-widgets/controls",
            "_view_module_version": "1.5.0",
            "_view_name": "HBoxView",
            "box_style": "",
            "children": [
              "IPY_MODEL_51e83303fa184e798486098341acfd78",
              "IPY_MODEL_1a4a5eea360b406fbd5777d2b92708de",
              "IPY_MODEL_c412e36b937b401ea6aac3d6efcec179"
            ],
            "layout": "IPY_MODEL_a5440014e2484d24b394bb51b6784285"
          }
        },
        "51e83303fa184e798486098341acfd78": {
          "model_module": "@jupyter-widgets/controls",
          "model_name": "HTMLModel",
          "model_module_version": "1.5.0",
          "state": {
            "_dom_classes": [],
            "_model_module": "@jupyter-widgets/controls",
            "_model_module_version": "1.5.0",
            "_model_name": "HTMLModel",
            "_view_count": null,
            "_view_module": "@jupyter-widgets/controls",
            "_view_module_version": "1.5.0",
            "_view_name": "HTMLView",
            "description": "",
            "description_tooltip": null,
            "layout": "IPY_MODEL_12d4d20e2071430fba75d4ff2b526613",
            "placeholder": "​",
            "style": "IPY_MODEL_d05822ecfd1344a69117c63474850de8",
            "value": "Downloading data: 100%"
          }
        },
        "1a4a5eea360b406fbd5777d2b92708de": {
          "model_module": "@jupyter-widgets/controls",
          "model_name": "FloatProgressModel",
          "model_module_version": "1.5.0",
          "state": {
            "_dom_classes": [],
            "_model_module": "@jupyter-widgets/controls",
            "_model_module_version": "1.5.0",
            "_model_name": "FloatProgressModel",
            "_view_count": null,
            "_view_module": "@jupyter-widgets/controls",
            "_view_module_version": "1.5.0",
            "_view_name": "ProgressView",
            "bar_style": "success",
            "description": "",
            "description_tooltip": null,
            "layout": "IPY_MODEL_888a639d64194332891b35d057eae099",
            "max": 386784369,
            "min": 0,
            "orientation": "horizontal",
            "style": "IPY_MODEL_bc670a7a8bd041eda20a06ceb9eb98fa",
            "value": 386784369
          }
        },
        "c412e36b937b401ea6aac3d6efcec179": {
          "model_module": "@jupyter-widgets/controls",
          "model_name": "HTMLModel",
          "model_module_version": "1.5.0",
          "state": {
            "_dom_classes": [],
            "_model_module": "@jupyter-widgets/controls",
            "_model_module_version": "1.5.0",
            "_model_name": "HTMLModel",
            "_view_count": null,
            "_view_module": "@jupyter-widgets/controls",
            "_view_module_version": "1.5.0",
            "_view_name": "HTMLView",
            "description": "",
            "description_tooltip": null,
            "layout": "IPY_MODEL_b573f6e0251e415db5054167794dd5c8",
            "placeholder": "​",
            "style": "IPY_MODEL_abfc7a557902443aaa9527805849ac63",
            "value": " 387M/387M [00:02&lt;00:00, 211MB/s]"
          }
        },
        "a5440014e2484d24b394bb51b6784285": {
          "model_module": "@jupyter-widgets/base",
          "model_name": "LayoutModel",
          "model_module_version": "1.2.0",
          "state": {
            "_model_module": "@jupyter-widgets/base",
            "_model_module_version": "1.2.0",
            "_model_name": "LayoutModel",
            "_view_count": null,
            "_view_module": "@jupyter-widgets/base",
            "_view_module_version": "1.2.0",
            "_view_name": "LayoutView",
            "align_content": null,
            "align_items": null,
            "align_self": null,
            "border": null,
            "bottom": null,
            "display": null,
            "flex": null,
            "flex_flow": null,
            "grid_area": null,
            "grid_auto_columns": null,
            "grid_auto_flow": null,
            "grid_auto_rows": null,
            "grid_column": null,
            "grid_gap": null,
            "grid_row": null,
            "grid_template_areas": null,
            "grid_template_columns": null,
            "grid_template_rows": null,
            "height": null,
            "justify_content": null,
            "justify_items": null,
            "left": null,
            "margin": null,
            "max_height": null,
            "max_width": null,
            "min_height": null,
            "min_width": null,
            "object_fit": null,
            "object_position": null,
            "order": null,
            "overflow": null,
            "overflow_x": null,
            "overflow_y": null,
            "padding": null,
            "right": null,
            "top": null,
            "visibility": null,
            "width": null
          }
        },
        "12d4d20e2071430fba75d4ff2b526613": {
          "model_module": "@jupyter-widgets/base",
          "model_name": "LayoutModel",
          "model_module_version": "1.2.0",
          "state": {
            "_model_module": "@jupyter-widgets/base",
            "_model_module_version": "1.2.0",
            "_model_name": "LayoutModel",
            "_view_count": null,
            "_view_module": "@jupyter-widgets/base",
            "_view_module_version": "1.2.0",
            "_view_name": "LayoutView",
            "align_content": null,
            "align_items": null,
            "align_self": null,
            "border": null,
            "bottom": null,
            "display": null,
            "flex": null,
            "flex_flow": null,
            "grid_area": null,
            "grid_auto_columns": null,
            "grid_auto_flow": null,
            "grid_auto_rows": null,
            "grid_column": null,
            "grid_gap": null,
            "grid_row": null,
            "grid_template_areas": null,
            "grid_template_columns": null,
            "grid_template_rows": null,
            "height": null,
            "justify_content": null,
            "justify_items": null,
            "left": null,
            "margin": null,
            "max_height": null,
            "max_width": null,
            "min_height": null,
            "min_width": null,
            "object_fit": null,
            "object_position": null,
            "order": null,
            "overflow": null,
            "overflow_x": null,
            "overflow_y": null,
            "padding": null,
            "right": null,
            "top": null,
            "visibility": null,
            "width": null
          }
        },
        "d05822ecfd1344a69117c63474850de8": {
          "model_module": "@jupyter-widgets/controls",
          "model_name": "DescriptionStyleModel",
          "model_module_version": "1.5.0",
          "state": {
            "_model_module": "@jupyter-widgets/controls",
            "_model_module_version": "1.5.0",
            "_model_name": "DescriptionStyleModel",
            "_view_count": null,
            "_view_module": "@jupyter-widgets/base",
            "_view_module_version": "1.2.0",
            "_view_name": "StyleView",
            "description_width": ""
          }
        },
        "888a639d64194332891b35d057eae099": {
          "model_module": "@jupyter-widgets/base",
          "model_name": "LayoutModel",
          "model_module_version": "1.2.0",
          "state": {
            "_model_module": "@jupyter-widgets/base",
            "_model_module_version": "1.2.0",
            "_model_name": "LayoutModel",
            "_view_count": null,
            "_view_module": "@jupyter-widgets/base",
            "_view_module_version": "1.2.0",
            "_view_name": "LayoutView",
            "align_content": null,
            "align_items": null,
            "align_self": null,
            "border": null,
            "bottom": null,
            "display": null,
            "flex": null,
            "flex_flow": null,
            "grid_area": null,
            "grid_auto_columns": null,
            "grid_auto_flow": null,
            "grid_auto_rows": null,
            "grid_column": null,
            "grid_gap": null,
            "grid_row": null,
            "grid_template_areas": null,
            "grid_template_columns": null,
            "grid_template_rows": null,
            "height": null,
            "justify_content": null,
            "justify_items": null,
            "left": null,
            "margin": null,
            "max_height": null,
            "max_width": null,
            "min_height": null,
            "min_width": null,
            "object_fit": null,
            "object_position": null,
            "order": null,
            "overflow": null,
            "overflow_x": null,
            "overflow_y": null,
            "padding": null,
            "right": null,
            "top": null,
            "visibility": null,
            "width": null
          }
        },
        "bc670a7a8bd041eda20a06ceb9eb98fa": {
          "model_module": "@jupyter-widgets/controls",
          "model_name": "ProgressStyleModel",
          "model_module_version": "1.5.0",
          "state": {
            "_model_module": "@jupyter-widgets/controls",
            "_model_module_version": "1.5.0",
            "_model_name": "ProgressStyleModel",
            "_view_count": null,
            "_view_module": "@jupyter-widgets/base",
            "_view_module_version": "1.2.0",
            "_view_name": "StyleView",
            "bar_color": null,
            "description_width": ""
          }
        },
        "b573f6e0251e415db5054167794dd5c8": {
          "model_module": "@jupyter-widgets/base",
          "model_name": "LayoutModel",
          "model_module_version": "1.2.0",
          "state": {
            "_model_module": "@jupyter-widgets/base",
            "_model_module_version": "1.2.0",
            "_model_name": "LayoutModel",
            "_view_count": null,
            "_view_module": "@jupyter-widgets/base",
            "_view_module_version": "1.2.0",
            "_view_name": "LayoutView",
            "align_content": null,
            "align_items": null,
            "align_self": null,
            "border": null,
            "bottom": null,
            "display": null,
            "flex": null,
            "flex_flow": null,
            "grid_area": null,
            "grid_auto_columns": null,
            "grid_auto_flow": null,
            "grid_auto_rows": null,
            "grid_column": null,
            "grid_gap": null,
            "grid_row": null,
            "grid_template_areas": null,
            "grid_template_columns": null,
            "grid_template_rows": null,
            "height": null,
            "justify_content": null,
            "justify_items": null,
            "left": null,
            "margin": null,
            "max_height": null,
            "max_width": null,
            "min_height": null,
            "min_width": null,
            "object_fit": null,
            "object_position": null,
            "order": null,
            "overflow": null,
            "overflow_x": null,
            "overflow_y": null,
            "padding": null,
            "right": null,
            "top": null,
            "visibility": null,
            "width": null
          }
        },
        "abfc7a557902443aaa9527805849ac63": {
          "model_module": "@jupyter-widgets/controls",
          "model_name": "DescriptionStyleModel",
          "model_module_version": "1.5.0",
          "state": {
            "_model_module": "@jupyter-widgets/controls",
            "_model_module_version": "1.5.0",
            "_model_name": "DescriptionStyleModel",
            "_view_count": null,
            "_view_module": "@jupyter-widgets/base",
            "_view_module_version": "1.2.0",
            "_view_name": "StyleView",
            "description_width": ""
          }
        },
        "7d9996593c9f42edba8b63e228759895": {
          "model_module": "@jupyter-widgets/controls",
          "model_name": "HBoxModel",
          "model_module_version": "1.5.0",
          "state": {
            "_dom_classes": [],
            "_model_module": "@jupyter-widgets/controls",
            "_model_module_version": "1.5.0",
            "_model_name": "HBoxModel",
            "_view_count": null,
            "_view_module": "@jupyter-widgets/controls",
            "_view_module_version": "1.5.0",
            "_view_name": "HBoxView",
            "box_style": "",
            "children": [
              "IPY_MODEL_0ced8035bb65467f8bd0b062f12df74f",
              "IPY_MODEL_f54d1c56abe14e3f8605f0a48df8d463",
              "IPY_MODEL_fb5a8d18beed42f5822074e248419181"
            ],
            "layout": "IPY_MODEL_d7daf92e0ee645239ac7a01bf5b2a57d"
          }
        },
        "0ced8035bb65467f8bd0b062f12df74f": {
          "model_module": "@jupyter-widgets/controls",
          "model_name": "HTMLModel",
          "model_module_version": "1.5.0",
          "state": {
            "_dom_classes": [],
            "_model_module": "@jupyter-widgets/controls",
            "_model_module_version": "1.5.0",
            "_model_name": "HTMLModel",
            "_view_count": null,
            "_view_module": "@jupyter-widgets/controls",
            "_view_module_version": "1.5.0",
            "_view_name": "HTMLView",
            "description": "",
            "description_tooltip": null,
            "layout": "IPY_MODEL_ccc34e015ced4285aa53be5881744b16",
            "placeholder": "​",
            "style": "IPY_MODEL_d168274b22c449a8adb08fd049a850c4",
            "value": "Downloading data: 100%"
          }
        },
        "f54d1c56abe14e3f8605f0a48df8d463": {
          "model_module": "@jupyter-widgets/controls",
          "model_name": "FloatProgressModel",
          "model_module_version": "1.5.0",
          "state": {
            "_dom_classes": [],
            "_model_module": "@jupyter-widgets/controls",
            "_model_module_version": "1.5.0",
            "_model_name": "FloatProgressModel",
            "_view_count": null,
            "_view_module": "@jupyter-widgets/controls",
            "_view_module_version": "1.5.0",
            "_view_name": "ProgressView",
            "bar_style": "success",
            "description": "",
            "description_tooltip": null,
            "layout": "IPY_MODEL_3a2e00cb9d6145e0a139bc0b78ab62a4",
            "max": 110346534,
            "min": 0,
            "orientation": "horizontal",
            "style": "IPY_MODEL_f02996374c4e4f529da56ec63e0c6215",
            "value": 110346534
          }
        },
        "fb5a8d18beed42f5822074e248419181": {
          "model_module": "@jupyter-widgets/controls",
          "model_name": "HTMLModel",
          "model_module_version": "1.5.0",
          "state": {
            "_dom_classes": [],
            "_model_module": "@jupyter-widgets/controls",
            "_model_module_version": "1.5.0",
            "_model_name": "HTMLModel",
            "_view_count": null,
            "_view_module": "@jupyter-widgets/controls",
            "_view_module_version": "1.5.0",
            "_view_name": "HTMLView",
            "description": "",
            "description_tooltip": null,
            "layout": "IPY_MODEL_06cfbe899e4c443fbb57bbef6cf53146",
            "placeholder": "​",
            "style": "IPY_MODEL_90f2cafc1d414c469a62a4dfdae96555",
            "value": " 110M/110M [00:02&lt;00:00, 59.2MB/s]"
          }
        },
        "d7daf92e0ee645239ac7a01bf5b2a57d": {
          "model_module": "@jupyter-widgets/base",
          "model_name": "LayoutModel",
          "model_module_version": "1.2.0",
          "state": {
            "_model_module": "@jupyter-widgets/base",
            "_model_module_version": "1.2.0",
            "_model_name": "LayoutModel",
            "_view_count": null,
            "_view_module": "@jupyter-widgets/base",
            "_view_module_version": "1.2.0",
            "_view_name": "LayoutView",
            "align_content": null,
            "align_items": null,
            "align_self": null,
            "border": null,
            "bottom": null,
            "display": null,
            "flex": null,
            "flex_flow": null,
            "grid_area": null,
            "grid_auto_columns": null,
            "grid_auto_flow": null,
            "grid_auto_rows": null,
            "grid_column": null,
            "grid_gap": null,
            "grid_row": null,
            "grid_template_areas": null,
            "grid_template_columns": null,
            "grid_template_rows": null,
            "height": null,
            "justify_content": null,
            "justify_items": null,
            "left": null,
            "margin": null,
            "max_height": null,
            "max_width": null,
            "min_height": null,
            "min_width": null,
            "object_fit": null,
            "object_position": null,
            "order": null,
            "overflow": null,
            "overflow_x": null,
            "overflow_y": null,
            "padding": null,
            "right": null,
            "top": null,
            "visibility": null,
            "width": null
          }
        },
        "ccc34e015ced4285aa53be5881744b16": {
          "model_module": "@jupyter-widgets/base",
          "model_name": "LayoutModel",
          "model_module_version": "1.2.0",
          "state": {
            "_model_module": "@jupyter-widgets/base",
            "_model_module_version": "1.2.0",
            "_model_name": "LayoutModel",
            "_view_count": null,
            "_view_module": "@jupyter-widgets/base",
            "_view_module_version": "1.2.0",
            "_view_name": "LayoutView",
            "align_content": null,
            "align_items": null,
            "align_self": null,
            "border": null,
            "bottom": null,
            "display": null,
            "flex": null,
            "flex_flow": null,
            "grid_area": null,
            "grid_auto_columns": null,
            "grid_auto_flow": null,
            "grid_auto_rows": null,
            "grid_column": null,
            "grid_gap": null,
            "grid_row": null,
            "grid_template_areas": null,
            "grid_template_columns": null,
            "grid_template_rows": null,
            "height": null,
            "justify_content": null,
            "justify_items": null,
            "left": null,
            "margin": null,
            "max_height": null,
            "max_width": null,
            "min_height": null,
            "min_width": null,
            "object_fit": null,
            "object_position": null,
            "order": null,
            "overflow": null,
            "overflow_x": null,
            "overflow_y": null,
            "padding": null,
            "right": null,
            "top": null,
            "visibility": null,
            "width": null
          }
        },
        "d168274b22c449a8adb08fd049a850c4": {
          "model_module": "@jupyter-widgets/controls",
          "model_name": "DescriptionStyleModel",
          "model_module_version": "1.5.0",
          "state": {
            "_model_module": "@jupyter-widgets/controls",
            "_model_module_version": "1.5.0",
            "_model_name": "DescriptionStyleModel",
            "_view_count": null,
            "_view_module": "@jupyter-widgets/base",
            "_view_module_version": "1.2.0",
            "_view_name": "StyleView",
            "description_width": ""
          }
        },
        "3a2e00cb9d6145e0a139bc0b78ab62a4": {
          "model_module": "@jupyter-widgets/base",
          "model_name": "LayoutModel",
          "model_module_version": "1.2.0",
          "state": {
            "_model_module": "@jupyter-widgets/base",
            "_model_module_version": "1.2.0",
            "_model_name": "LayoutModel",
            "_view_count": null,
            "_view_module": "@jupyter-widgets/base",
            "_view_module_version": "1.2.0",
            "_view_name": "LayoutView",
            "align_content": null,
            "align_items": null,
            "align_self": null,
            "border": null,
            "bottom": null,
            "display": null,
            "flex": null,
            "flex_flow": null,
            "grid_area": null,
            "grid_auto_columns": null,
            "grid_auto_flow": null,
            "grid_auto_rows": null,
            "grid_column": null,
            "grid_gap": null,
            "grid_row": null,
            "grid_template_areas": null,
            "grid_template_columns": null,
            "grid_template_rows": null,
            "height": null,
            "justify_content": null,
            "justify_items": null,
            "left": null,
            "margin": null,
            "max_height": null,
            "max_width": null,
            "min_height": null,
            "min_width": null,
            "object_fit": null,
            "object_position": null,
            "order": null,
            "overflow": null,
            "overflow_x": null,
            "overflow_y": null,
            "padding": null,
            "right": null,
            "top": null,
            "visibility": null,
            "width": null
          }
        },
        "f02996374c4e4f529da56ec63e0c6215": {
          "model_module": "@jupyter-widgets/controls",
          "model_name": "ProgressStyleModel",
          "model_module_version": "1.5.0",
          "state": {
            "_model_module": "@jupyter-widgets/controls",
            "_model_module_version": "1.5.0",
            "_model_name": "ProgressStyleModel",
            "_view_count": null,
            "_view_module": "@jupyter-widgets/base",
            "_view_module_version": "1.2.0",
            "_view_name": "StyleView",
            "bar_color": null,
            "description_width": ""
          }
        },
        "06cfbe899e4c443fbb57bbef6cf53146": {
          "model_module": "@jupyter-widgets/base",
          "model_name": "LayoutModel",
          "model_module_version": "1.2.0",
          "state": {
            "_model_module": "@jupyter-widgets/base",
            "_model_module_version": "1.2.0",
            "_model_name": "LayoutModel",
            "_view_count": null,
            "_view_module": "@jupyter-widgets/base",
            "_view_module_version": "1.2.0",
            "_view_name": "LayoutView",
            "align_content": null,
            "align_items": null,
            "align_self": null,
            "border": null,
            "bottom": null,
            "display": null,
            "flex": null,
            "flex_flow": null,
            "grid_area": null,
            "grid_auto_columns": null,
            "grid_auto_flow": null,
            "grid_auto_rows": null,
            "grid_column": null,
            "grid_gap": null,
            "grid_row": null,
            "grid_template_areas": null,
            "grid_template_columns": null,
            "grid_template_rows": null,
            "height": null,
            "justify_content": null,
            "justify_items": null,
            "left": null,
            "margin": null,
            "max_height": null,
            "max_width": null,
            "min_height": null,
            "min_width": null,
            "object_fit": null,
            "object_position": null,
            "order": null,
            "overflow": null,
            "overflow_x": null,
            "overflow_y": null,
            "padding": null,
            "right": null,
            "top": null,
            "visibility": null,
            "width": null
          }
        },
        "90f2cafc1d414c469a62a4dfdae96555": {
          "model_module": "@jupyter-widgets/controls",
          "model_name": "DescriptionStyleModel",
          "model_module_version": "1.5.0",
          "state": {
            "_model_module": "@jupyter-widgets/controls",
            "_model_module_version": "1.5.0",
            "_model_name": "DescriptionStyleModel",
            "_view_count": null,
            "_view_module": "@jupyter-widgets/base",
            "_view_module_version": "1.2.0",
            "_view_name": "StyleView",
            "description_width": ""
          }
        },
        "9be6fcb0dd1845388fa16450775ee3ea": {
          "model_module": "@jupyter-widgets/controls",
          "model_name": "HBoxModel",
          "model_module_version": "1.5.0",
          "state": {
            "_dom_classes": [],
            "_model_module": "@jupyter-widgets/controls",
            "_model_module_version": "1.5.0",
            "_model_name": "HBoxModel",
            "_view_count": null,
            "_view_module": "@jupyter-widgets/controls",
            "_view_module_version": "1.5.0",
            "_view_name": "HBoxView",
            "box_style": "",
            "children": [
              "IPY_MODEL_0546269ff622432da1a098e62b0b0798",
              "IPY_MODEL_579ffc3e46dd4ca39674fe5481e57a8b",
              "IPY_MODEL_c58c53f4bb6c4bac8c73c9eaec6c7d43"
            ],
            "layout": "IPY_MODEL_69db79b7405a4ab097286d08b44c71d7"
          }
        },
        "0546269ff622432da1a098e62b0b0798": {
          "model_module": "@jupyter-widgets/controls",
          "model_name": "HTMLModel",
          "model_module_version": "1.5.0",
          "state": {
            "_dom_classes": [],
            "_model_module": "@jupyter-widgets/controls",
            "_model_module_version": "1.5.0",
            "_model_name": "HTMLModel",
            "_view_count": null,
            "_view_module": "@jupyter-widgets/controls",
            "_view_module_version": "1.5.0",
            "_view_name": "HTMLView",
            "description": "",
            "description_tooltip": null,
            "layout": "IPY_MODEL_145173e5d4cc4b1ea5f12eff20638741",
            "placeholder": "​",
            "style": "IPY_MODEL_e10e8d71ce9644e39c2d4d91954cc79c",
            "value": "Downloading data: 100%"
          }
        },
        "579ffc3e46dd4ca39674fe5481e57a8b": {
          "model_module": "@jupyter-widgets/controls",
          "model_name": "FloatProgressModel",
          "model_module_version": "1.5.0",
          "state": {
            "_dom_classes": [],
            "_model_module": "@jupyter-widgets/controls",
            "_model_module_version": "1.5.0",
            "_model_name": "FloatProgressModel",
            "_view_count": null,
            "_view_module": "@jupyter-widgets/controls",
            "_view_module_version": "1.5.0",
            "_view_name": "ProgressView",
            "bar_style": "success",
            "description": "",
            "description_tooltip": null,
            "layout": "IPY_MODEL_76d40fa0ad6a40e99f609922057dac7d",
            "max": 407246973,
            "min": 0,
            "orientation": "horizontal",
            "style": "IPY_MODEL_634f6efaa8b54cff891cfc185cc1e390",
            "value": 407246973
          }
        },
        "c58c53f4bb6c4bac8c73c9eaec6c7d43": {
          "model_module": "@jupyter-widgets/controls",
          "model_name": "HTMLModel",
          "model_module_version": "1.5.0",
          "state": {
            "_dom_classes": [],
            "_model_module": "@jupyter-widgets/controls",
            "_model_module_version": "1.5.0",
            "_model_name": "HTMLModel",
            "_view_count": null,
            "_view_module": "@jupyter-widgets/controls",
            "_view_module_version": "1.5.0",
            "_view_name": "HTMLView",
            "description": "",
            "description_tooltip": null,
            "layout": "IPY_MODEL_5b8126cca3d247448bb699904d152992",
            "placeholder": "​",
            "style": "IPY_MODEL_786214876a8e4b659df457778b39ce4e",
            "value": " 407M/407M [00:08&lt;00:00, 57.8MB/s]"
          }
        },
        "69db79b7405a4ab097286d08b44c71d7": {
          "model_module": "@jupyter-widgets/base",
          "model_name": "LayoutModel",
          "model_module_version": "1.2.0",
          "state": {
            "_model_module": "@jupyter-widgets/base",
            "_model_module_version": "1.2.0",
            "_model_name": "LayoutModel",
            "_view_count": null,
            "_view_module": "@jupyter-widgets/base",
            "_view_module_version": "1.2.0",
            "_view_name": "LayoutView",
            "align_content": null,
            "align_items": null,
            "align_self": null,
            "border": null,
            "bottom": null,
            "display": null,
            "flex": null,
            "flex_flow": null,
            "grid_area": null,
            "grid_auto_columns": null,
            "grid_auto_flow": null,
            "grid_auto_rows": null,
            "grid_column": null,
            "grid_gap": null,
            "grid_row": null,
            "grid_template_areas": null,
            "grid_template_columns": null,
            "grid_template_rows": null,
            "height": null,
            "justify_content": null,
            "justify_items": null,
            "left": null,
            "margin": null,
            "max_height": null,
            "max_width": null,
            "min_height": null,
            "min_width": null,
            "object_fit": null,
            "object_position": null,
            "order": null,
            "overflow": null,
            "overflow_x": null,
            "overflow_y": null,
            "padding": null,
            "right": null,
            "top": null,
            "visibility": null,
            "width": null
          }
        },
        "145173e5d4cc4b1ea5f12eff20638741": {
          "model_module": "@jupyter-widgets/base",
          "model_name": "LayoutModel",
          "model_module_version": "1.2.0",
          "state": {
            "_model_module": "@jupyter-widgets/base",
            "_model_module_version": "1.2.0",
            "_model_name": "LayoutModel",
            "_view_count": null,
            "_view_module": "@jupyter-widgets/base",
            "_view_module_version": "1.2.0",
            "_view_name": "LayoutView",
            "align_content": null,
            "align_items": null,
            "align_self": null,
            "border": null,
            "bottom": null,
            "display": null,
            "flex": null,
            "flex_flow": null,
            "grid_area": null,
            "grid_auto_columns": null,
            "grid_auto_flow": null,
            "grid_auto_rows": null,
            "grid_column": null,
            "grid_gap": null,
            "grid_row": null,
            "grid_template_areas": null,
            "grid_template_columns": null,
            "grid_template_rows": null,
            "height": null,
            "justify_content": null,
            "justify_items": null,
            "left": null,
            "margin": null,
            "max_height": null,
            "max_width": null,
            "min_height": null,
            "min_width": null,
            "object_fit": null,
            "object_position": null,
            "order": null,
            "overflow": null,
            "overflow_x": null,
            "overflow_y": null,
            "padding": null,
            "right": null,
            "top": null,
            "visibility": null,
            "width": null
          }
        },
        "e10e8d71ce9644e39c2d4d91954cc79c": {
          "model_module": "@jupyter-widgets/controls",
          "model_name": "DescriptionStyleModel",
          "model_module_version": "1.5.0",
          "state": {
            "_model_module": "@jupyter-widgets/controls",
            "_model_module_version": "1.5.0",
            "_model_name": "DescriptionStyleModel",
            "_view_count": null,
            "_view_module": "@jupyter-widgets/base",
            "_view_module_version": "1.2.0",
            "_view_name": "StyleView",
            "description_width": ""
          }
        },
        "76d40fa0ad6a40e99f609922057dac7d": {
          "model_module": "@jupyter-widgets/base",
          "model_name": "LayoutModel",
          "model_module_version": "1.2.0",
          "state": {
            "_model_module": "@jupyter-widgets/base",
            "_model_module_version": "1.2.0",
            "_model_name": "LayoutModel",
            "_view_count": null,
            "_view_module": "@jupyter-widgets/base",
            "_view_module_version": "1.2.0",
            "_view_name": "LayoutView",
            "align_content": null,
            "align_items": null,
            "align_self": null,
            "border": null,
            "bottom": null,
            "display": null,
            "flex": null,
            "flex_flow": null,
            "grid_area": null,
            "grid_auto_columns": null,
            "grid_auto_flow": null,
            "grid_auto_rows": null,
            "grid_column": null,
            "grid_gap": null,
            "grid_row": null,
            "grid_template_areas": null,
            "grid_template_columns": null,
            "grid_template_rows": null,
            "height": null,
            "justify_content": null,
            "justify_items": null,
            "left": null,
            "margin": null,
            "max_height": null,
            "max_width": null,
            "min_height": null,
            "min_width": null,
            "object_fit": null,
            "object_position": null,
            "order": null,
            "overflow": null,
            "overflow_x": null,
            "overflow_y": null,
            "padding": null,
            "right": null,
            "top": null,
            "visibility": null,
            "width": null
          }
        },
        "634f6efaa8b54cff891cfc185cc1e390": {
          "model_module": "@jupyter-widgets/controls",
          "model_name": "ProgressStyleModel",
          "model_module_version": "1.5.0",
          "state": {
            "_model_module": "@jupyter-widgets/controls",
            "_model_module_version": "1.5.0",
            "_model_name": "ProgressStyleModel",
            "_view_count": null,
            "_view_module": "@jupyter-widgets/base",
            "_view_module_version": "1.2.0",
            "_view_name": "StyleView",
            "bar_color": null,
            "description_width": ""
          }
        },
        "5b8126cca3d247448bb699904d152992": {
          "model_module": "@jupyter-widgets/base",
          "model_name": "LayoutModel",
          "model_module_version": "1.2.0",
          "state": {
            "_model_module": "@jupyter-widgets/base",
            "_model_module_version": "1.2.0",
            "_model_name": "LayoutModel",
            "_view_count": null,
            "_view_module": "@jupyter-widgets/base",
            "_view_module_version": "1.2.0",
            "_view_name": "LayoutView",
            "align_content": null,
            "align_items": null,
            "align_self": null,
            "border": null,
            "bottom": null,
            "display": null,
            "flex": null,
            "flex_flow": null,
            "grid_area": null,
            "grid_auto_columns": null,
            "grid_auto_flow": null,
            "grid_auto_rows": null,
            "grid_column": null,
            "grid_gap": null,
            "grid_row": null,
            "grid_template_areas": null,
            "grid_template_columns": null,
            "grid_template_rows": null,
            "height": null,
            "justify_content": null,
            "justify_items": null,
            "left": null,
            "margin": null,
            "max_height": null,
            "max_width": null,
            "min_height": null,
            "min_width": null,
            "object_fit": null,
            "object_position": null,
            "order": null,
            "overflow": null,
            "overflow_x": null,
            "overflow_y": null,
            "padding": null,
            "right": null,
            "top": null,
            "visibility": null,
            "width": null
          }
        },
        "786214876a8e4b659df457778b39ce4e": {
          "model_module": "@jupyter-widgets/controls",
          "model_name": "DescriptionStyleModel",
          "model_module_version": "1.5.0",
          "state": {
            "_model_module": "@jupyter-widgets/controls",
            "_model_module_version": "1.5.0",
            "_model_name": "DescriptionStyleModel",
            "_view_count": null,
            "_view_module": "@jupyter-widgets/base",
            "_view_module_version": "1.2.0",
            "_view_name": "StyleView",
            "description_width": ""
          }
        },
        "b1e1e6da696c46a88f64d59054963e08": {
          "model_module": "@jupyter-widgets/controls",
          "model_name": "HBoxModel",
          "model_module_version": "1.5.0",
          "state": {
            "_dom_classes": [],
            "_model_module": "@jupyter-widgets/controls",
            "_model_module_version": "1.5.0",
            "_model_name": "HBoxModel",
            "_view_count": null,
            "_view_module": "@jupyter-widgets/controls",
            "_view_module_version": "1.5.0",
            "_view_name": "HBoxView",
            "box_style": "",
            "children": [
              "IPY_MODEL_ebc86c9212274454b1d5f4227294eb48",
              "IPY_MODEL_dc488bfb16504f4b8547b94c0d420767",
              "IPY_MODEL_c7a38fc276ec462085878da276633968"
            ],
            "layout": "IPY_MODEL_9d1ca8a8c15348e1bac68f5f02ba1a52"
          }
        },
        "ebc86c9212274454b1d5f4227294eb48": {
          "model_module": "@jupyter-widgets/controls",
          "model_name": "HTMLModel",
          "model_module_version": "1.5.0",
          "state": {
            "_dom_classes": [],
            "_model_module": "@jupyter-widgets/controls",
            "_model_module_version": "1.5.0",
            "_model_name": "HTMLModel",
            "_view_count": null,
            "_view_module": "@jupyter-widgets/controls",
            "_view_module_version": "1.5.0",
            "_view_name": "HTMLView",
            "description": "",
            "description_tooltip": null,
            "layout": "IPY_MODEL_1237da0fc9ed4b93b8ba18331c07a1f2",
            "placeholder": "​",
            "style": "IPY_MODEL_5d8e33c998c84b9b90dd50ada0a0ed3b",
            "value": "Generating train split: 100%"
          }
        },
        "dc488bfb16504f4b8547b94c0d420767": {
          "model_module": "@jupyter-widgets/controls",
          "model_name": "FloatProgressModel",
          "model_module_version": "1.5.0",
          "state": {
            "_dom_classes": [],
            "_model_module": "@jupyter-widgets/controls",
            "_model_module_version": "1.5.0",
            "_model_name": "FloatProgressModel",
            "_view_count": null,
            "_view_module": "@jupyter-widgets/controls",
            "_view_module_version": "1.5.0",
            "_view_name": "ProgressView",
            "bar_style": "success",
            "description": "",
            "description_tooltip": null,
            "layout": "IPY_MODEL_b7b1fa45fd374d0596549898a248c674",
            "max": 11344,
            "min": 0,
            "orientation": "horizontal",
            "style": "IPY_MODEL_a9d003572b8d42d19efe20de4ba37bdc",
            "value": 11344
          }
        },
        "c7a38fc276ec462085878da276633968": {
          "model_module": "@jupyter-widgets/controls",
          "model_name": "HTMLModel",
          "model_module_version": "1.5.0",
          "state": {
            "_dom_classes": [],
            "_model_module": "@jupyter-widgets/controls",
            "_model_module_version": "1.5.0",
            "_model_name": "HTMLModel",
            "_view_count": null,
            "_view_module": "@jupyter-widgets/controls",
            "_view_module_version": "1.5.0",
            "_view_name": "HTMLView",
            "description": "",
            "description_tooltip": null,
            "layout": "IPY_MODEL_f3d3d60edbab4acf9b59bf03e00fd25d",
            "placeholder": "​",
            "style": "IPY_MODEL_fe126adcbf0a422c80d241408f409e01",
            "value": " 11344/11344 [00:05&lt;00:00, 3426.97 examples/s]"
          }
        },
        "9d1ca8a8c15348e1bac68f5f02ba1a52": {
          "model_module": "@jupyter-widgets/base",
          "model_name": "LayoutModel",
          "model_module_version": "1.2.0",
          "state": {
            "_model_module": "@jupyter-widgets/base",
            "_model_module_version": "1.2.0",
            "_model_name": "LayoutModel",
            "_view_count": null,
            "_view_module": "@jupyter-widgets/base",
            "_view_module_version": "1.2.0",
            "_view_name": "LayoutView",
            "align_content": null,
            "align_items": null,
            "align_self": null,
            "border": null,
            "bottom": null,
            "display": null,
            "flex": null,
            "flex_flow": null,
            "grid_area": null,
            "grid_auto_columns": null,
            "grid_auto_flow": null,
            "grid_auto_rows": null,
            "grid_column": null,
            "grid_gap": null,
            "grid_row": null,
            "grid_template_areas": null,
            "grid_template_columns": null,
            "grid_template_rows": null,
            "height": null,
            "justify_content": null,
            "justify_items": null,
            "left": null,
            "margin": null,
            "max_height": null,
            "max_width": null,
            "min_height": null,
            "min_width": null,
            "object_fit": null,
            "object_position": null,
            "order": null,
            "overflow": null,
            "overflow_x": null,
            "overflow_y": null,
            "padding": null,
            "right": null,
            "top": null,
            "visibility": null,
            "width": null
          }
        },
        "1237da0fc9ed4b93b8ba18331c07a1f2": {
          "model_module": "@jupyter-widgets/base",
          "model_name": "LayoutModel",
          "model_module_version": "1.2.0",
          "state": {
            "_model_module": "@jupyter-widgets/base",
            "_model_module_version": "1.2.0",
            "_model_name": "LayoutModel",
            "_view_count": null,
            "_view_module": "@jupyter-widgets/base",
            "_view_module_version": "1.2.0",
            "_view_name": "LayoutView",
            "align_content": null,
            "align_items": null,
            "align_self": null,
            "border": null,
            "bottom": null,
            "display": null,
            "flex": null,
            "flex_flow": null,
            "grid_area": null,
            "grid_auto_columns": null,
            "grid_auto_flow": null,
            "grid_auto_rows": null,
            "grid_column": null,
            "grid_gap": null,
            "grid_row": null,
            "grid_template_areas": null,
            "grid_template_columns": null,
            "grid_template_rows": null,
            "height": null,
            "justify_content": null,
            "justify_items": null,
            "left": null,
            "margin": null,
            "max_height": null,
            "max_width": null,
            "min_height": null,
            "min_width": null,
            "object_fit": null,
            "object_position": null,
            "order": null,
            "overflow": null,
            "overflow_x": null,
            "overflow_y": null,
            "padding": null,
            "right": null,
            "top": null,
            "visibility": null,
            "width": null
          }
        },
        "5d8e33c998c84b9b90dd50ada0a0ed3b": {
          "model_module": "@jupyter-widgets/controls",
          "model_name": "DescriptionStyleModel",
          "model_module_version": "1.5.0",
          "state": {
            "_model_module": "@jupyter-widgets/controls",
            "_model_module_version": "1.5.0",
            "_model_name": "DescriptionStyleModel",
            "_view_count": null,
            "_view_module": "@jupyter-widgets/base",
            "_view_module_version": "1.2.0",
            "_view_name": "StyleView",
            "description_width": ""
          }
        },
        "b7b1fa45fd374d0596549898a248c674": {
          "model_module": "@jupyter-widgets/base",
          "model_name": "LayoutModel",
          "model_module_version": "1.2.0",
          "state": {
            "_model_module": "@jupyter-widgets/base",
            "_model_module_version": "1.2.0",
            "_model_name": "LayoutModel",
            "_view_count": null,
            "_view_module": "@jupyter-widgets/base",
            "_view_module_version": "1.2.0",
            "_view_name": "LayoutView",
            "align_content": null,
            "align_items": null,
            "align_self": null,
            "border": null,
            "bottom": null,
            "display": null,
            "flex": null,
            "flex_flow": null,
            "grid_area": null,
            "grid_auto_columns": null,
            "grid_auto_flow": null,
            "grid_auto_rows": null,
            "grid_column": null,
            "grid_gap": null,
            "grid_row": null,
            "grid_template_areas": null,
            "grid_template_columns": null,
            "grid_template_rows": null,
            "height": null,
            "justify_content": null,
            "justify_items": null,
            "left": null,
            "margin": null,
            "max_height": null,
            "max_width": null,
            "min_height": null,
            "min_width": null,
            "object_fit": null,
            "object_position": null,
            "order": null,
            "overflow": null,
            "overflow_x": null,
            "overflow_y": null,
            "padding": null,
            "right": null,
            "top": null,
            "visibility": null,
            "width": null
          }
        },
        "a9d003572b8d42d19efe20de4ba37bdc": {
          "model_module": "@jupyter-widgets/controls",
          "model_name": "ProgressStyleModel",
          "model_module_version": "1.5.0",
          "state": {
            "_model_module": "@jupyter-widgets/controls",
            "_model_module_version": "1.5.0",
            "_model_name": "ProgressStyleModel",
            "_view_count": null,
            "_view_module": "@jupyter-widgets/base",
            "_view_module_version": "1.2.0",
            "_view_name": "StyleView",
            "bar_color": null,
            "description_width": ""
          }
        },
        "f3d3d60edbab4acf9b59bf03e00fd25d": {
          "model_module": "@jupyter-widgets/base",
          "model_name": "LayoutModel",
          "model_module_version": "1.2.0",
          "state": {
            "_model_module": "@jupyter-widgets/base",
            "_model_module_version": "1.2.0",
            "_model_name": "LayoutModel",
            "_view_count": null,
            "_view_module": "@jupyter-widgets/base",
            "_view_module_version": "1.2.0",
            "_view_name": "LayoutView",
            "align_content": null,
            "align_items": null,
            "align_self": null,
            "border": null,
            "bottom": null,
            "display": null,
            "flex": null,
            "flex_flow": null,
            "grid_area": null,
            "grid_auto_columns": null,
            "grid_auto_flow": null,
            "grid_auto_rows": null,
            "grid_column": null,
            "grid_gap": null,
            "grid_row": null,
            "grid_template_areas": null,
            "grid_template_columns": null,
            "grid_template_rows": null,
            "height": null,
            "justify_content": null,
            "justify_items": null,
            "left": null,
            "margin": null,
            "max_height": null,
            "max_width": null,
            "min_height": null,
            "min_width": null,
            "object_fit": null,
            "object_position": null,
            "order": null,
            "overflow": null,
            "overflow_x": null,
            "overflow_y": null,
            "padding": null,
            "right": null,
            "top": null,
            "visibility": null,
            "width": null
          }
        },
        "fe126adcbf0a422c80d241408f409e01": {
          "model_module": "@jupyter-widgets/controls",
          "model_name": "DescriptionStyleModel",
          "model_module_version": "1.5.0",
          "state": {
            "_model_module": "@jupyter-widgets/controls",
            "_model_module_version": "1.5.0",
            "_model_name": "DescriptionStyleModel",
            "_view_count": null,
            "_view_module": "@jupyter-widgets/base",
            "_view_module_version": "1.2.0",
            "_view_name": "StyleView",
            "description_width": ""
          }
        },
        "c1d29d29edb042d5ac91d1f5337f3e8c": {
          "model_module": "@jupyter-widgets/controls",
          "model_name": "HBoxModel",
          "model_module_version": "1.5.0",
          "state": {
            "_dom_classes": [],
            "_model_module": "@jupyter-widgets/controls",
            "_model_module_version": "1.5.0",
            "_model_name": "HBoxModel",
            "_view_count": null,
            "_view_module": "@jupyter-widgets/controls",
            "_view_module_version": "1.5.0",
            "_view_name": "HBoxView",
            "box_style": "",
            "children": [
              "IPY_MODEL_d23ad828d2124c2f91cb1493108e636a",
              "IPY_MODEL_53636979142449819d00737a6e2e5ee3",
              "IPY_MODEL_e2542af061384b90b4e872a442fe621c"
            ],
            "layout": "IPY_MODEL_178167a71ad64f6db1cdedaf5c837767"
          }
        },
        "d23ad828d2124c2f91cb1493108e636a": {
          "model_module": "@jupyter-widgets/controls",
          "model_name": "HTMLModel",
          "model_module_version": "1.5.0",
          "state": {
            "_dom_classes": [],
            "_model_module": "@jupyter-widgets/controls",
            "_model_module_version": "1.5.0",
            "_model_name": "HTMLModel",
            "_view_count": null,
            "_view_module": "@jupyter-widgets/controls",
            "_view_module_version": "1.5.0",
            "_view_name": "HTMLView",
            "description": "",
            "description_tooltip": null,
            "layout": "IPY_MODEL_5204927cfef242e08d9aa6c40a226409",
            "placeholder": "​",
            "style": "IPY_MODEL_da379fafdc214218ba949ff41a434dbe",
            "value": "Generating validation split: 100%"
          }
        },
        "53636979142449819d00737a6e2e5ee3": {
          "model_module": "@jupyter-widgets/controls",
          "model_name": "FloatProgressModel",
          "model_module_version": "1.5.0",
          "state": {
            "_dom_classes": [],
            "_model_module": "@jupyter-widgets/controls",
            "_model_module_version": "1.5.0",
            "_model_name": "FloatProgressModel",
            "_view_count": null,
            "_view_module": "@jupyter-widgets/controls",
            "_view_module_version": "1.5.0",
            "_view_name": "ProgressView",
            "bar_style": "success",
            "description": "",
            "description_tooltip": null,
            "layout": "IPY_MODEL_aa239c27857d45feb981de986be5eec6",
            "max": 1690,
            "min": 0,
            "orientation": "horizontal",
            "style": "IPY_MODEL_1485b875ad91467f95f6e1f2b3314cfe",
            "value": 1690
          }
        },
        "e2542af061384b90b4e872a442fe621c": {
          "model_module": "@jupyter-widgets/controls",
          "model_name": "HTMLModel",
          "model_module_version": "1.5.0",
          "state": {
            "_dom_classes": [],
            "_model_module": "@jupyter-widgets/controls",
            "_model_module_version": "1.5.0",
            "_model_name": "HTMLModel",
            "_view_count": null,
            "_view_module": "@jupyter-widgets/controls",
            "_view_module_version": "1.5.0",
            "_view_name": "HTMLView",
            "description": "",
            "description_tooltip": null,
            "layout": "IPY_MODEL_319e7512c01a48bf9e5beda069975204",
            "placeholder": "​",
            "style": "IPY_MODEL_88cf69e7e3464aeba64360ede5fdf643",
            "value": " 1690/1690 [00:00&lt;00:00, 2887.28 examples/s]"
          }
        },
        "178167a71ad64f6db1cdedaf5c837767": {
          "model_module": "@jupyter-widgets/base",
          "model_name": "LayoutModel",
          "model_module_version": "1.2.0",
          "state": {
            "_model_module": "@jupyter-widgets/base",
            "_model_module_version": "1.2.0",
            "_model_name": "LayoutModel",
            "_view_count": null,
            "_view_module": "@jupyter-widgets/base",
            "_view_module_version": "1.2.0",
            "_view_name": "LayoutView",
            "align_content": null,
            "align_items": null,
            "align_self": null,
            "border": null,
            "bottom": null,
            "display": null,
            "flex": null,
            "flex_flow": null,
            "grid_area": null,
            "grid_auto_columns": null,
            "grid_auto_flow": null,
            "grid_auto_rows": null,
            "grid_column": null,
            "grid_gap": null,
            "grid_row": null,
            "grid_template_areas": null,
            "grid_template_columns": null,
            "grid_template_rows": null,
            "height": null,
            "justify_content": null,
            "justify_items": null,
            "left": null,
            "margin": null,
            "max_height": null,
            "max_width": null,
            "min_height": null,
            "min_width": null,
            "object_fit": null,
            "object_position": null,
            "order": null,
            "overflow": null,
            "overflow_x": null,
            "overflow_y": null,
            "padding": null,
            "right": null,
            "top": null,
            "visibility": null,
            "width": null
          }
        },
        "5204927cfef242e08d9aa6c40a226409": {
          "model_module": "@jupyter-widgets/base",
          "model_name": "LayoutModel",
          "model_module_version": "1.2.0",
          "state": {
            "_model_module": "@jupyter-widgets/base",
            "_model_module_version": "1.2.0",
            "_model_name": "LayoutModel",
            "_view_count": null,
            "_view_module": "@jupyter-widgets/base",
            "_view_module_version": "1.2.0",
            "_view_name": "LayoutView",
            "align_content": null,
            "align_items": null,
            "align_self": null,
            "border": null,
            "bottom": null,
            "display": null,
            "flex": null,
            "flex_flow": null,
            "grid_area": null,
            "grid_auto_columns": null,
            "grid_auto_flow": null,
            "grid_auto_rows": null,
            "grid_column": null,
            "grid_gap": null,
            "grid_row": null,
            "grid_template_areas": null,
            "grid_template_columns": null,
            "grid_template_rows": null,
            "height": null,
            "justify_content": null,
            "justify_items": null,
            "left": null,
            "margin": null,
            "max_height": null,
            "max_width": null,
            "min_height": null,
            "min_width": null,
            "object_fit": null,
            "object_position": null,
            "order": null,
            "overflow": null,
            "overflow_x": null,
            "overflow_y": null,
            "padding": null,
            "right": null,
            "top": null,
            "visibility": null,
            "width": null
          }
        },
        "da379fafdc214218ba949ff41a434dbe": {
          "model_module": "@jupyter-widgets/controls",
          "model_name": "DescriptionStyleModel",
          "model_module_version": "1.5.0",
          "state": {
            "_model_module": "@jupyter-widgets/controls",
            "_model_module_version": "1.5.0",
            "_model_name": "DescriptionStyleModel",
            "_view_count": null,
            "_view_module": "@jupyter-widgets/base",
            "_view_module_version": "1.2.0",
            "_view_name": "StyleView",
            "description_width": ""
          }
        },
        "aa239c27857d45feb981de986be5eec6": {
          "model_module": "@jupyter-widgets/base",
          "model_name": "LayoutModel",
          "model_module_version": "1.2.0",
          "state": {
            "_model_module": "@jupyter-widgets/base",
            "_model_module_version": "1.2.0",
            "_model_name": "LayoutModel",
            "_view_count": null,
            "_view_module": "@jupyter-widgets/base",
            "_view_module_version": "1.2.0",
            "_view_name": "LayoutView",
            "align_content": null,
            "align_items": null,
            "align_self": null,
            "border": null,
            "bottom": null,
            "display": null,
            "flex": null,
            "flex_flow": null,
            "grid_area": null,
            "grid_auto_columns": null,
            "grid_auto_flow": null,
            "grid_auto_rows": null,
            "grid_column": null,
            "grid_gap": null,
            "grid_row": null,
            "grid_template_areas": null,
            "grid_template_columns": null,
            "grid_template_rows": null,
            "height": null,
            "justify_content": null,
            "justify_items": null,
            "left": null,
            "margin": null,
            "max_height": null,
            "max_width": null,
            "min_height": null,
            "min_width": null,
            "object_fit": null,
            "object_position": null,
            "order": null,
            "overflow": null,
            "overflow_x": null,
            "overflow_y": null,
            "padding": null,
            "right": null,
            "top": null,
            "visibility": null,
            "width": null
          }
        },
        "1485b875ad91467f95f6e1f2b3314cfe": {
          "model_module": "@jupyter-widgets/controls",
          "model_name": "ProgressStyleModel",
          "model_module_version": "1.5.0",
          "state": {
            "_model_module": "@jupyter-widgets/controls",
            "_model_module_version": "1.5.0",
            "_model_name": "ProgressStyleModel",
            "_view_count": null,
            "_view_module": "@jupyter-widgets/base",
            "_view_module_version": "1.2.0",
            "_view_name": "StyleView",
            "bar_color": null,
            "description_width": ""
          }
        },
        "319e7512c01a48bf9e5beda069975204": {
          "model_module": "@jupyter-widgets/base",
          "model_name": "LayoutModel",
          "model_module_version": "1.2.0",
          "state": {
            "_model_module": "@jupyter-widgets/base",
            "_model_module_version": "1.2.0",
            "_model_name": "LayoutModel",
            "_view_count": null,
            "_view_module": "@jupyter-widgets/base",
            "_view_module_version": "1.2.0",
            "_view_name": "LayoutView",
            "align_content": null,
            "align_items": null,
            "align_self": null,
            "border": null,
            "bottom": null,
            "display": null,
            "flex": null,
            "flex_flow": null,
            "grid_area": null,
            "grid_auto_columns": null,
            "grid_auto_flow": null,
            "grid_auto_rows": null,
            "grid_column": null,
            "grid_gap": null,
            "grid_row": null,
            "grid_template_areas": null,
            "grid_template_columns": null,
            "grid_template_rows": null,
            "height": null,
            "justify_content": null,
            "justify_items": null,
            "left": null,
            "margin": null,
            "max_height": null,
            "max_width": null,
            "min_height": null,
            "min_width": null,
            "object_fit": null,
            "object_position": null,
            "order": null,
            "overflow": null,
            "overflow_x": null,
            "overflow_y": null,
            "padding": null,
            "right": null,
            "top": null,
            "visibility": null,
            "width": null
          }
        },
        "88cf69e7e3464aeba64360ede5fdf643": {
          "model_module": "@jupyter-widgets/controls",
          "model_name": "DescriptionStyleModel",
          "model_module_version": "1.5.0",
          "state": {
            "_model_module": "@jupyter-widgets/controls",
            "_model_module_version": "1.5.0",
            "_model_name": "DescriptionStyleModel",
            "_view_count": null,
            "_view_module": "@jupyter-widgets/base",
            "_view_module_version": "1.2.0",
            "_view_name": "StyleView",
            "description_width": ""
          }
        },
        "82cab85ab8b54243a7e30a7f9fe9f818": {
          "model_module": "@jupyter-widgets/controls",
          "model_name": "HBoxModel",
          "model_module_version": "1.5.0",
          "state": {
            "_dom_classes": [],
            "_model_module": "@jupyter-widgets/controls",
            "_model_module_version": "1.5.0",
            "_model_name": "HBoxModel",
            "_view_count": null,
            "_view_module": "@jupyter-widgets/controls",
            "_view_module_version": "1.5.0",
            "_view_name": "HBoxView",
            "box_style": "",
            "children": [
              "IPY_MODEL_7d889556722846d2a374d041c7981a86",
              "IPY_MODEL_96b66d91a7b94c989991940f3ddb23ad",
              "IPY_MODEL_1d04a4a149db416f93e1a4732ee9909e"
            ],
            "layout": "IPY_MODEL_b950297f98c24f468efc7cf6c3cc4c3e"
          }
        },
        "7d889556722846d2a374d041c7981a86": {
          "model_module": "@jupyter-widgets/controls",
          "model_name": "HTMLModel",
          "model_module_version": "1.5.0",
          "state": {
            "_dom_classes": [],
            "_model_module": "@jupyter-widgets/controls",
            "_model_module_version": "1.5.0",
            "_model_name": "HTMLModel",
            "_view_count": null,
            "_view_module": "@jupyter-widgets/controls",
            "_view_module_version": "1.5.0",
            "_view_name": "HTMLView",
            "description": "",
            "description_tooltip": null,
            "layout": "IPY_MODEL_e1a45d3aedab40dcb475be93347ec4d2",
            "placeholder": "​",
            "style": "IPY_MODEL_fef4568bece24990953361778637835f",
            "value": "Generating test split: 100%"
          }
        },
        "96b66d91a7b94c989991940f3ddb23ad": {
          "model_module": "@jupyter-widgets/controls",
          "model_name": "FloatProgressModel",
          "model_module_version": "1.5.0",
          "state": {
            "_dom_classes": [],
            "_model_module": "@jupyter-widgets/controls",
            "_model_module_version": "1.5.0",
            "_model_name": "FloatProgressModel",
            "_view_count": null,
            "_view_module": "@jupyter-widgets/controls",
            "_view_module_version": "1.5.0",
            "_view_name": "ProgressView",
            "bar_style": "success",
            "description": "",
            "description_tooltip": null,
            "layout": "IPY_MODEL_d67ba5be75a14b969317f1f46aca960b",
            "max": 6121,
            "min": 0,
            "orientation": "horizontal",
            "style": "IPY_MODEL_bf74c4fe30c24ff2bde0f1ccb992adc0",
            "value": 6121
          }
        },
        "1d04a4a149db416f93e1a4732ee9909e": {
          "model_module": "@jupyter-widgets/controls",
          "model_name": "HTMLModel",
          "model_module_version": "1.5.0",
          "state": {
            "_dom_classes": [],
            "_model_module": "@jupyter-widgets/controls",
            "_model_module_version": "1.5.0",
            "_model_name": "HTMLModel",
            "_view_count": null,
            "_view_module": "@jupyter-widgets/controls",
            "_view_module_version": "1.5.0",
            "_view_name": "HTMLView",
            "description": "",
            "description_tooltip": null,
            "layout": "IPY_MODEL_3376bc44a18b44898f3e79656a02c9a9",
            "placeholder": "​",
            "style": "IPY_MODEL_127c8eef8cf747f7afcab16a0975c332",
            "value": " 6121/6121 [00:01&lt;00:00, 3914.78 examples/s]"
          }
        },
        "b950297f98c24f468efc7cf6c3cc4c3e": {
          "model_module": "@jupyter-widgets/base",
          "model_name": "LayoutModel",
          "model_module_version": "1.2.0",
          "state": {
            "_model_module": "@jupyter-widgets/base",
            "_model_module_version": "1.2.0",
            "_model_name": "LayoutModel",
            "_view_count": null,
            "_view_module": "@jupyter-widgets/base",
            "_view_module_version": "1.2.0",
            "_view_name": "LayoutView",
            "align_content": null,
            "align_items": null,
            "align_self": null,
            "border": null,
            "bottom": null,
            "display": null,
            "flex": null,
            "flex_flow": null,
            "grid_area": null,
            "grid_auto_columns": null,
            "grid_auto_flow": null,
            "grid_auto_rows": null,
            "grid_column": null,
            "grid_gap": null,
            "grid_row": null,
            "grid_template_areas": null,
            "grid_template_columns": null,
            "grid_template_rows": null,
            "height": null,
            "justify_content": null,
            "justify_items": null,
            "left": null,
            "margin": null,
            "max_height": null,
            "max_width": null,
            "min_height": null,
            "min_width": null,
            "object_fit": null,
            "object_position": null,
            "order": null,
            "overflow": null,
            "overflow_x": null,
            "overflow_y": null,
            "padding": null,
            "right": null,
            "top": null,
            "visibility": null,
            "width": null
          }
        },
        "e1a45d3aedab40dcb475be93347ec4d2": {
          "model_module": "@jupyter-widgets/base",
          "model_name": "LayoutModel",
          "model_module_version": "1.2.0",
          "state": {
            "_model_module": "@jupyter-widgets/base",
            "_model_module_version": "1.2.0",
            "_model_name": "LayoutModel",
            "_view_count": null,
            "_view_module": "@jupyter-widgets/base",
            "_view_module_version": "1.2.0",
            "_view_name": "LayoutView",
            "align_content": null,
            "align_items": null,
            "align_self": null,
            "border": null,
            "bottom": null,
            "display": null,
            "flex": null,
            "flex_flow": null,
            "grid_area": null,
            "grid_auto_columns": null,
            "grid_auto_flow": null,
            "grid_auto_rows": null,
            "grid_column": null,
            "grid_gap": null,
            "grid_row": null,
            "grid_template_areas": null,
            "grid_template_columns": null,
            "grid_template_rows": null,
            "height": null,
            "justify_content": null,
            "justify_items": null,
            "left": null,
            "margin": null,
            "max_height": null,
            "max_width": null,
            "min_height": null,
            "min_width": null,
            "object_fit": null,
            "object_position": null,
            "order": null,
            "overflow": null,
            "overflow_x": null,
            "overflow_y": null,
            "padding": null,
            "right": null,
            "top": null,
            "visibility": null,
            "width": null
          }
        },
        "fef4568bece24990953361778637835f": {
          "model_module": "@jupyter-widgets/controls",
          "model_name": "DescriptionStyleModel",
          "model_module_version": "1.5.0",
          "state": {
            "_model_module": "@jupyter-widgets/controls",
            "_model_module_version": "1.5.0",
            "_model_name": "DescriptionStyleModel",
            "_view_count": null,
            "_view_module": "@jupyter-widgets/base",
            "_view_module_version": "1.2.0",
            "_view_name": "StyleView",
            "description_width": ""
          }
        },
        "d67ba5be75a14b969317f1f46aca960b": {
          "model_module": "@jupyter-widgets/base",
          "model_name": "LayoutModel",
          "model_module_version": "1.2.0",
          "state": {
            "_model_module": "@jupyter-widgets/base",
            "_model_module_version": "1.2.0",
            "_model_name": "LayoutModel",
            "_view_count": null,
            "_view_module": "@jupyter-widgets/base",
            "_view_module_version": "1.2.0",
            "_view_name": "LayoutView",
            "align_content": null,
            "align_items": null,
            "align_self": null,
            "border": null,
            "bottom": null,
            "display": null,
            "flex": null,
            "flex_flow": null,
            "grid_area": null,
            "grid_auto_columns": null,
            "grid_auto_flow": null,
            "grid_auto_rows": null,
            "grid_column": null,
            "grid_gap": null,
            "grid_row": null,
            "grid_template_areas": null,
            "grid_template_columns": null,
            "grid_template_rows": null,
            "height": null,
            "justify_content": null,
            "justify_items": null,
            "left": null,
            "margin": null,
            "max_height": null,
            "max_width": null,
            "min_height": null,
            "min_width": null,
            "object_fit": null,
            "object_position": null,
            "order": null,
            "overflow": null,
            "overflow_x": null,
            "overflow_y": null,
            "padding": null,
            "right": null,
            "top": null,
            "visibility": null,
            "width": null
          }
        },
        "bf74c4fe30c24ff2bde0f1ccb992adc0": {
          "model_module": "@jupyter-widgets/controls",
          "model_name": "ProgressStyleModel",
          "model_module_version": "1.5.0",
          "state": {
            "_model_module": "@jupyter-widgets/controls",
            "_model_module_version": "1.5.0",
            "_model_name": "ProgressStyleModel",
            "_view_count": null,
            "_view_module": "@jupyter-widgets/base",
            "_view_module_version": "1.2.0",
            "_view_name": "StyleView",
            "bar_color": null,
            "description_width": ""
          }
        },
        "3376bc44a18b44898f3e79656a02c9a9": {
          "model_module": "@jupyter-widgets/base",
          "model_name": "LayoutModel",
          "model_module_version": "1.2.0",
          "state": {
            "_model_module": "@jupyter-widgets/base",
            "_model_module_version": "1.2.0",
            "_model_name": "LayoutModel",
            "_view_count": null,
            "_view_module": "@jupyter-widgets/base",
            "_view_module_version": "1.2.0",
            "_view_name": "LayoutView",
            "align_content": null,
            "align_items": null,
            "align_self": null,
            "border": null,
            "bottom": null,
            "display": null,
            "flex": null,
            "flex_flow": null,
            "grid_area": null,
            "grid_auto_columns": null,
            "grid_auto_flow": null,
            "grid_auto_rows": null,
            "grid_column": null,
            "grid_gap": null,
            "grid_row": null,
            "grid_template_areas": null,
            "grid_template_columns": null,
            "grid_template_rows": null,
            "height": null,
            "justify_content": null,
            "justify_items": null,
            "left": null,
            "margin": null,
            "max_height": null,
            "max_width": null,
            "min_height": null,
            "min_width": null,
            "object_fit": null,
            "object_position": null,
            "order": null,
            "overflow": null,
            "overflow_x": null,
            "overflow_y": null,
            "padding": null,
            "right": null,
            "top": null,
            "visibility": null,
            "width": null
          }
        },
        "127c8eef8cf747f7afcab16a0975c332": {
          "model_module": "@jupyter-widgets/controls",
          "model_name": "DescriptionStyleModel",
          "model_module_version": "1.5.0",
          "state": {
            "_model_module": "@jupyter-widgets/controls",
            "_model_module_version": "1.5.0",
            "_model_name": "DescriptionStyleModel",
            "_view_count": null,
            "_view_module": "@jupyter-widgets/base",
            "_view_module_version": "1.2.0",
            "_view_name": "StyleView",
            "description_width": ""
          }
        },
        "756d841bd1f4409bad046084c9f77991": {
          "model_module": "@jupyter-widgets/controls",
          "model_name": "HBoxModel",
          "model_module_version": "1.5.0",
          "state": {
            "_dom_classes": [],
            "_model_module": "@jupyter-widgets/controls",
            "_model_module_version": "1.5.0",
            "_model_name": "HBoxModel",
            "_view_count": null,
            "_view_module": "@jupyter-widgets/controls",
            "_view_module_version": "1.5.0",
            "_view_name": "HBoxView",
            "box_style": "",
            "children": [
              "IPY_MODEL_9008b6a5eedb490a817b6a3dc95fe4c4",
              "IPY_MODEL_452cdf9c0b9d4ca29f95b1b8b9145437",
              "IPY_MODEL_18ec049e05b4420a9ae94c4319d8dc44"
            ],
            "layout": "IPY_MODEL_04400892554b408c908a4df2e6ed15a5"
          }
        },
        "9008b6a5eedb490a817b6a3dc95fe4c4": {
          "model_module": "@jupyter-widgets/controls",
          "model_name": "HTMLModel",
          "model_module_version": "1.5.0",
          "state": {
            "_dom_classes": [],
            "_model_module": "@jupyter-widgets/controls",
            "_model_module_version": "1.5.0",
            "_model_name": "HTMLModel",
            "_view_count": null,
            "_view_module": "@jupyter-widgets/controls",
            "_view_module_version": "1.5.0",
            "_view_name": "HTMLView",
            "description": "",
            "description_tooltip": null,
            "layout": "IPY_MODEL_cc753ffbb2c44681bf54c11d7795ed1e",
            "placeholder": "​",
            "style": "IPY_MODEL_3be9fb151a8e4ebd92ab3192bdfec81f",
            "value": "Map: 100%"
          }
        },
        "452cdf9c0b9d4ca29f95b1b8b9145437": {
          "model_module": "@jupyter-widgets/controls",
          "model_name": "FloatProgressModel",
          "model_module_version": "1.5.0",
          "state": {
            "_dom_classes": [],
            "_model_module": "@jupyter-widgets/controls",
            "_model_module_version": "1.5.0",
            "_model_name": "FloatProgressModel",
            "_view_count": null,
            "_view_module": "@jupyter-widgets/controls",
            "_view_module_version": "1.5.0",
            "_view_name": "ProgressView",
            "bar_style": "success",
            "description": "",
            "description_tooltip": null,
            "layout": "IPY_MODEL_ea5f6fc2204547d686e3ffcf8942a59f",
            "max": 11344,
            "min": 0,
            "orientation": "horizontal",
            "style": "IPY_MODEL_42dfd758fa9549b7b00856bc9a8eb54d",
            "value": 11344
          }
        },
        "18ec049e05b4420a9ae94c4319d8dc44": {
          "model_module": "@jupyter-widgets/controls",
          "model_name": "HTMLModel",
          "model_module_version": "1.5.0",
          "state": {
            "_dom_classes": [],
            "_model_module": "@jupyter-widgets/controls",
            "_model_module_version": "1.5.0",
            "_model_name": "HTMLModel",
            "_view_count": null,
            "_view_module": "@jupyter-widgets/controls",
            "_view_module_version": "1.5.0",
            "_view_name": "HTMLView",
            "description": "",
            "description_tooltip": null,
            "layout": "IPY_MODEL_a355959422c34ff886667d0cdac20750",
            "placeholder": "​",
            "style": "IPY_MODEL_47f84fd3bdcf49c8b1d47192d89b028f",
            "value": " 11344/11344 [00:00&lt;00:00, 118059.70 examples/s]"
          }
        },
        "04400892554b408c908a4df2e6ed15a5": {
          "model_module": "@jupyter-widgets/base",
          "model_name": "LayoutModel",
          "model_module_version": "1.2.0",
          "state": {
            "_model_module": "@jupyter-widgets/base",
            "_model_module_version": "1.2.0",
            "_model_name": "LayoutModel",
            "_view_count": null,
            "_view_module": "@jupyter-widgets/base",
            "_view_module_version": "1.2.0",
            "_view_name": "LayoutView",
            "align_content": null,
            "align_items": null,
            "align_self": null,
            "border": null,
            "bottom": null,
            "display": null,
            "flex": null,
            "flex_flow": null,
            "grid_area": null,
            "grid_auto_columns": null,
            "grid_auto_flow": null,
            "grid_auto_rows": null,
            "grid_column": null,
            "grid_gap": null,
            "grid_row": null,
            "grid_template_areas": null,
            "grid_template_columns": null,
            "grid_template_rows": null,
            "height": null,
            "justify_content": null,
            "justify_items": null,
            "left": null,
            "margin": null,
            "max_height": null,
            "max_width": null,
            "min_height": null,
            "min_width": null,
            "object_fit": null,
            "object_position": null,
            "order": null,
            "overflow": null,
            "overflow_x": null,
            "overflow_y": null,
            "padding": null,
            "right": null,
            "top": null,
            "visibility": null,
            "width": null
          }
        },
        "cc753ffbb2c44681bf54c11d7795ed1e": {
          "model_module": "@jupyter-widgets/base",
          "model_name": "LayoutModel",
          "model_module_version": "1.2.0",
          "state": {
            "_model_module": "@jupyter-widgets/base",
            "_model_module_version": "1.2.0",
            "_model_name": "LayoutModel",
            "_view_count": null,
            "_view_module": "@jupyter-widgets/base",
            "_view_module_version": "1.2.0",
            "_view_name": "LayoutView",
            "align_content": null,
            "align_items": null,
            "align_self": null,
            "border": null,
            "bottom": null,
            "display": null,
            "flex": null,
            "flex_flow": null,
            "grid_area": null,
            "grid_auto_columns": null,
            "grid_auto_flow": null,
            "grid_auto_rows": null,
            "grid_column": null,
            "grid_gap": null,
            "grid_row": null,
            "grid_template_areas": null,
            "grid_template_columns": null,
            "grid_template_rows": null,
            "height": null,
            "justify_content": null,
            "justify_items": null,
            "left": null,
            "margin": null,
            "max_height": null,
            "max_width": null,
            "min_height": null,
            "min_width": null,
            "object_fit": null,
            "object_position": null,
            "order": null,
            "overflow": null,
            "overflow_x": null,
            "overflow_y": null,
            "padding": null,
            "right": null,
            "top": null,
            "visibility": null,
            "width": null
          }
        },
        "3be9fb151a8e4ebd92ab3192bdfec81f": {
          "model_module": "@jupyter-widgets/controls",
          "model_name": "DescriptionStyleModel",
          "model_module_version": "1.5.0",
          "state": {
            "_model_module": "@jupyter-widgets/controls",
            "_model_module_version": "1.5.0",
            "_model_name": "DescriptionStyleModel",
            "_view_count": null,
            "_view_module": "@jupyter-widgets/base",
            "_view_module_version": "1.2.0",
            "_view_name": "StyleView",
            "description_width": ""
          }
        },
        "ea5f6fc2204547d686e3ffcf8942a59f": {
          "model_module": "@jupyter-widgets/base",
          "model_name": "LayoutModel",
          "model_module_version": "1.2.0",
          "state": {
            "_model_module": "@jupyter-widgets/base",
            "_model_module_version": "1.2.0",
            "_model_name": "LayoutModel",
            "_view_count": null,
            "_view_module": "@jupyter-widgets/base",
            "_view_module_version": "1.2.0",
            "_view_name": "LayoutView",
            "align_content": null,
            "align_items": null,
            "align_self": null,
            "border": null,
            "bottom": null,
            "display": null,
            "flex": null,
            "flex_flow": null,
            "grid_area": null,
            "grid_auto_columns": null,
            "grid_auto_flow": null,
            "grid_auto_rows": null,
            "grid_column": null,
            "grid_gap": null,
            "grid_row": null,
            "grid_template_areas": null,
            "grid_template_columns": null,
            "grid_template_rows": null,
            "height": null,
            "justify_content": null,
            "justify_items": null,
            "left": null,
            "margin": null,
            "max_height": null,
            "max_width": null,
            "min_height": null,
            "min_width": null,
            "object_fit": null,
            "object_position": null,
            "order": null,
            "overflow": null,
            "overflow_x": null,
            "overflow_y": null,
            "padding": null,
            "right": null,
            "top": null,
            "visibility": null,
            "width": null
          }
        },
        "42dfd758fa9549b7b00856bc9a8eb54d": {
          "model_module": "@jupyter-widgets/controls",
          "model_name": "ProgressStyleModel",
          "model_module_version": "1.5.0",
          "state": {
            "_model_module": "@jupyter-widgets/controls",
            "_model_module_version": "1.5.0",
            "_model_name": "ProgressStyleModel",
            "_view_count": null,
            "_view_module": "@jupyter-widgets/base",
            "_view_module_version": "1.2.0",
            "_view_name": "StyleView",
            "bar_color": null,
            "description_width": ""
          }
        },
        "a355959422c34ff886667d0cdac20750": {
          "model_module": "@jupyter-widgets/base",
          "model_name": "LayoutModel",
          "model_module_version": "1.2.0",
          "state": {
            "_model_module": "@jupyter-widgets/base",
            "_model_module_version": "1.2.0",
            "_model_name": "LayoutModel",
            "_view_count": null,
            "_view_module": "@jupyter-widgets/base",
            "_view_module_version": "1.2.0",
            "_view_name": "LayoutView",
            "align_content": null,
            "align_items": null,
            "align_self": null,
            "border": null,
            "bottom": null,
            "display": null,
            "flex": null,
            "flex_flow": null,
            "grid_area": null,
            "grid_auto_columns": null,
            "grid_auto_flow": null,
            "grid_auto_rows": null,
            "grid_column": null,
            "grid_gap": null,
            "grid_row": null,
            "grid_template_areas": null,
            "grid_template_columns": null,
            "grid_template_rows": null,
            "height": null,
            "justify_content": null,
            "justify_items": null,
            "left": null,
            "margin": null,
            "max_height": null,
            "max_width": null,
            "min_height": null,
            "min_width": null,
            "object_fit": null,
            "object_position": null,
            "order": null,
            "overflow": null,
            "overflow_x": null,
            "overflow_y": null,
            "padding": null,
            "right": null,
            "top": null,
            "visibility": null,
            "width": null
          }
        },
        "47f84fd3bdcf49c8b1d47192d89b028f": {
          "model_module": "@jupyter-widgets/controls",
          "model_name": "DescriptionStyleModel",
          "model_module_version": "1.5.0",
          "state": {
            "_model_module": "@jupyter-widgets/controls",
            "_model_module_version": "1.5.0",
            "_model_name": "DescriptionStyleModel",
            "_view_count": null,
            "_view_module": "@jupyter-widgets/base",
            "_view_module_version": "1.2.0",
            "_view_name": "StyleView",
            "description_width": ""
          }
        },
        "75d5fb728f5b473db6441786bba32cb9": {
          "model_module": "@jupyter-widgets/controls",
          "model_name": "HBoxModel",
          "model_module_version": "1.5.0",
          "state": {
            "_dom_classes": [],
            "_model_module": "@jupyter-widgets/controls",
            "_model_module_version": "1.5.0",
            "_model_name": "HBoxModel",
            "_view_count": null,
            "_view_module": "@jupyter-widgets/controls",
            "_view_module_version": "1.5.0",
            "_view_name": "HBoxView",
            "box_style": "",
            "children": [
              "IPY_MODEL_713fe4f033dc4f659c53e0c405aee347",
              "IPY_MODEL_8da1f9617e594c13a53ea39fad2d9396",
              "IPY_MODEL_785f1174fd724e8695d6113665be3231"
            ],
            "layout": "IPY_MODEL_d4a93896aa6241c4b33ca1e27e69134a"
          }
        },
        "713fe4f033dc4f659c53e0c405aee347": {
          "model_module": "@jupyter-widgets/controls",
          "model_name": "HTMLModel",
          "model_module_version": "1.5.0",
          "state": {
            "_dom_classes": [],
            "_model_module": "@jupyter-widgets/controls",
            "_model_module_version": "1.5.0",
            "_model_name": "HTMLModel",
            "_view_count": null,
            "_view_module": "@jupyter-widgets/controls",
            "_view_module_version": "1.5.0",
            "_view_name": "HTMLView",
            "description": "",
            "description_tooltip": null,
            "layout": "IPY_MODEL_505cedd28cd64f4192f19593646724c2",
            "placeholder": "​",
            "style": "IPY_MODEL_8927d6c0d13b4b8aab484412e1a8129f",
            "value": "Filter: 100%"
          }
        },
        "8da1f9617e594c13a53ea39fad2d9396": {
          "model_module": "@jupyter-widgets/controls",
          "model_name": "FloatProgressModel",
          "model_module_version": "1.5.0",
          "state": {
            "_dom_classes": [],
            "_model_module": "@jupyter-widgets/controls",
            "_model_module_version": "1.5.0",
            "_model_name": "FloatProgressModel",
            "_view_count": null,
            "_view_module": "@jupyter-widgets/controls",
            "_view_module_version": "1.5.0",
            "_view_name": "ProgressView",
            "bar_style": "success",
            "description": "",
            "description_tooltip": null,
            "layout": "IPY_MODEL_1eebc0684a3c48f48c2599464872179e",
            "max": 11344,
            "min": 0,
            "orientation": "horizontal",
            "style": "IPY_MODEL_2e72b74eefc14109b362a2a0de841902",
            "value": 11344
          }
        },
        "785f1174fd724e8695d6113665be3231": {
          "model_module": "@jupyter-widgets/controls",
          "model_name": "HTMLModel",
          "model_module_version": "1.5.0",
          "state": {
            "_dom_classes": [],
            "_model_module": "@jupyter-widgets/controls",
            "_model_module_version": "1.5.0",
            "_model_name": "HTMLModel",
            "_view_count": null,
            "_view_module": "@jupyter-widgets/controls",
            "_view_module_version": "1.5.0",
            "_view_name": "HTMLView",
            "description": "",
            "description_tooltip": null,
            "layout": "IPY_MODEL_bb40708445c14f8da9db48c5aca1dc86",
            "placeholder": "​",
            "style": "IPY_MODEL_17c0de3234cf484a8f2ec97db92f7457",
            "value": " 11344/11344 [00:00&lt;00:00, 107202.66 examples/s]"
          }
        },
        "d4a93896aa6241c4b33ca1e27e69134a": {
          "model_module": "@jupyter-widgets/base",
          "model_name": "LayoutModel",
          "model_module_version": "1.2.0",
          "state": {
            "_model_module": "@jupyter-widgets/base",
            "_model_module_version": "1.2.0",
            "_model_name": "LayoutModel",
            "_view_count": null,
            "_view_module": "@jupyter-widgets/base",
            "_view_module_version": "1.2.0",
            "_view_name": "LayoutView",
            "align_content": null,
            "align_items": null,
            "align_self": null,
            "border": null,
            "bottom": null,
            "display": null,
            "flex": null,
            "flex_flow": null,
            "grid_area": null,
            "grid_auto_columns": null,
            "grid_auto_flow": null,
            "grid_auto_rows": null,
            "grid_column": null,
            "grid_gap": null,
            "grid_row": null,
            "grid_template_areas": null,
            "grid_template_columns": null,
            "grid_template_rows": null,
            "height": null,
            "justify_content": null,
            "justify_items": null,
            "left": null,
            "margin": null,
            "max_height": null,
            "max_width": null,
            "min_height": null,
            "min_width": null,
            "object_fit": null,
            "object_position": null,
            "order": null,
            "overflow": null,
            "overflow_x": null,
            "overflow_y": null,
            "padding": null,
            "right": null,
            "top": null,
            "visibility": null,
            "width": null
          }
        },
        "505cedd28cd64f4192f19593646724c2": {
          "model_module": "@jupyter-widgets/base",
          "model_name": "LayoutModel",
          "model_module_version": "1.2.0",
          "state": {
            "_model_module": "@jupyter-widgets/base",
            "_model_module_version": "1.2.0",
            "_model_name": "LayoutModel",
            "_view_count": null,
            "_view_module": "@jupyter-widgets/base",
            "_view_module_version": "1.2.0",
            "_view_name": "LayoutView",
            "align_content": null,
            "align_items": null,
            "align_self": null,
            "border": null,
            "bottom": null,
            "display": null,
            "flex": null,
            "flex_flow": null,
            "grid_area": null,
            "grid_auto_columns": null,
            "grid_auto_flow": null,
            "grid_auto_rows": null,
            "grid_column": null,
            "grid_gap": null,
            "grid_row": null,
            "grid_template_areas": null,
            "grid_template_columns": null,
            "grid_template_rows": null,
            "height": null,
            "justify_content": null,
            "justify_items": null,
            "left": null,
            "margin": null,
            "max_height": null,
            "max_width": null,
            "min_height": null,
            "min_width": null,
            "object_fit": null,
            "object_position": null,
            "order": null,
            "overflow": null,
            "overflow_x": null,
            "overflow_y": null,
            "padding": null,
            "right": null,
            "top": null,
            "visibility": null,
            "width": null
          }
        },
        "8927d6c0d13b4b8aab484412e1a8129f": {
          "model_module": "@jupyter-widgets/controls",
          "model_name": "DescriptionStyleModel",
          "model_module_version": "1.5.0",
          "state": {
            "_model_module": "@jupyter-widgets/controls",
            "_model_module_version": "1.5.0",
            "_model_name": "DescriptionStyleModel",
            "_view_count": null,
            "_view_module": "@jupyter-widgets/base",
            "_view_module_version": "1.2.0",
            "_view_name": "StyleView",
            "description_width": ""
          }
        },
        "1eebc0684a3c48f48c2599464872179e": {
          "model_module": "@jupyter-widgets/base",
          "model_name": "LayoutModel",
          "model_module_version": "1.2.0",
          "state": {
            "_model_module": "@jupyter-widgets/base",
            "_model_module_version": "1.2.0",
            "_model_name": "LayoutModel",
            "_view_count": null,
            "_view_module": "@jupyter-widgets/base",
            "_view_module_version": "1.2.0",
            "_view_name": "LayoutView",
            "align_content": null,
            "align_items": null,
            "align_self": null,
            "border": null,
            "bottom": null,
            "display": null,
            "flex": null,
            "flex_flow": null,
            "grid_area": null,
            "grid_auto_columns": null,
            "grid_auto_flow": null,
            "grid_auto_rows": null,
            "grid_column": null,
            "grid_gap": null,
            "grid_row": null,
            "grid_template_areas": null,
            "grid_template_columns": null,
            "grid_template_rows": null,
            "height": null,
            "justify_content": null,
            "justify_items": null,
            "left": null,
            "margin": null,
            "max_height": null,
            "max_width": null,
            "min_height": null,
            "min_width": null,
            "object_fit": null,
            "object_position": null,
            "order": null,
            "overflow": null,
            "overflow_x": null,
            "overflow_y": null,
            "padding": null,
            "right": null,
            "top": null,
            "visibility": null,
            "width": null
          }
        },
        "2e72b74eefc14109b362a2a0de841902": {
          "model_module": "@jupyter-widgets/controls",
          "model_name": "ProgressStyleModel",
          "model_module_version": "1.5.0",
          "state": {
            "_model_module": "@jupyter-widgets/controls",
            "_model_module_version": "1.5.0",
            "_model_name": "ProgressStyleModel",
            "_view_count": null,
            "_view_module": "@jupyter-widgets/base",
            "_view_module_version": "1.2.0",
            "_view_name": "StyleView",
            "bar_color": null,
            "description_width": ""
          }
        },
        "bb40708445c14f8da9db48c5aca1dc86": {
          "model_module": "@jupyter-widgets/base",
          "model_name": "LayoutModel",
          "model_module_version": "1.2.0",
          "state": {
            "_model_module": "@jupyter-widgets/base",
            "_model_module_version": "1.2.0",
            "_model_name": "LayoutModel",
            "_view_count": null,
            "_view_module": "@jupyter-widgets/base",
            "_view_module_version": "1.2.0",
            "_view_name": "LayoutView",
            "align_content": null,
            "align_items": null,
            "align_self": null,
            "border": null,
            "bottom": null,
            "display": null,
            "flex": null,
            "flex_flow": null,
            "grid_area": null,
            "grid_auto_columns": null,
            "grid_auto_flow": null,
            "grid_auto_rows": null,
            "grid_column": null,
            "grid_gap": null,
            "grid_row": null,
            "grid_template_areas": null,
            "grid_template_columns": null,
            "grid_template_rows": null,
            "height": null,
            "justify_content": null,
            "justify_items": null,
            "left": null,
            "margin": null,
            "max_height": null,
            "max_width": null,
            "min_height": null,
            "min_width": null,
            "object_fit": null,
            "object_position": null,
            "order": null,
            "overflow": null,
            "overflow_x": null,
            "overflow_y": null,
            "padding": null,
            "right": null,
            "top": null,
            "visibility": null,
            "width": null
          }
        },
        "17c0de3234cf484a8f2ec97db92f7457": {
          "model_module": "@jupyter-widgets/controls",
          "model_name": "DescriptionStyleModel",
          "model_module_version": "1.5.0",
          "state": {
            "_model_module": "@jupyter-widgets/controls",
            "_model_module_version": "1.5.0",
            "_model_name": "DescriptionStyleModel",
            "_view_count": null,
            "_view_module": "@jupyter-widgets/base",
            "_view_module_version": "1.2.0",
            "_view_name": "StyleView",
            "description_width": ""
          }
        },
        "a371f1d53bd340fb9005ac6778ba7221": {
          "model_module": "@jupyter-widgets/controls",
          "model_name": "HBoxModel",
          "model_module_version": "1.5.0",
          "state": {
            "_dom_classes": [],
            "_model_module": "@jupyter-widgets/controls",
            "_model_module_version": "1.5.0",
            "_model_name": "HBoxModel",
            "_view_count": null,
            "_view_module": "@jupyter-widgets/controls",
            "_view_module_version": "1.5.0",
            "_view_name": "HBoxView",
            "box_style": "",
            "children": [
              "IPY_MODEL_8a8ea4848a88410790df93f751340184",
              "IPY_MODEL_6f344dc97f854d19b1f62f0f500700e2",
              "IPY_MODEL_7d3ca9ef550c4516b079e59859a9e0fa"
            ],
            "layout": "IPY_MODEL_aa68dff61460472bb7d0c906e28ffe81"
          }
        },
        "8a8ea4848a88410790df93f751340184": {
          "model_module": "@jupyter-widgets/controls",
          "model_name": "HTMLModel",
          "model_module_version": "1.5.0",
          "state": {
            "_dom_classes": [],
            "_model_module": "@jupyter-widgets/controls",
            "_model_module_version": "1.5.0",
            "_model_name": "HTMLModel",
            "_view_count": null,
            "_view_module": "@jupyter-widgets/controls",
            "_view_module_version": "1.5.0",
            "_view_name": "HTMLView",
            "description": "",
            "description_tooltip": null,
            "layout": "IPY_MODEL_8434cb54e61546c6abd26e37c89e7c15",
            "placeholder": "​",
            "style": "IPY_MODEL_a93d643bb2cd4e3ca6cd3bf8f2a7a0f9",
            "value": "hyperparams.yaml: 100%"
          }
        },
        "6f344dc97f854d19b1f62f0f500700e2": {
          "model_module": "@jupyter-widgets/controls",
          "model_name": "FloatProgressModel",
          "model_module_version": "1.5.0",
          "state": {
            "_dom_classes": [],
            "_model_module": "@jupyter-widgets/controls",
            "_model_module_version": "1.5.0",
            "_model_name": "FloatProgressModel",
            "_view_count": null,
            "_view_module": "@jupyter-widgets/controls",
            "_view_module_version": "1.5.0",
            "_view_name": "ProgressView",
            "bar_style": "success",
            "description": "",
            "description_tooltip": null,
            "layout": "IPY_MODEL_b84eb9a61fb04b9eb9a6030538e70d59",
            "max": 2041,
            "min": 0,
            "orientation": "horizontal",
            "style": "IPY_MODEL_fbea5f919e5b42f9b383bc28de843b3d",
            "value": 2041
          }
        },
        "7d3ca9ef550c4516b079e59859a9e0fa": {
          "model_module": "@jupyter-widgets/controls",
          "model_name": "HTMLModel",
          "model_module_version": "1.5.0",
          "state": {
            "_dom_classes": [],
            "_model_module": "@jupyter-widgets/controls",
            "_model_module_version": "1.5.0",
            "_model_name": "HTMLModel",
            "_view_count": null,
            "_view_module": "@jupyter-widgets/controls",
            "_view_module_version": "1.5.0",
            "_view_name": "HTMLView",
            "description": "",
            "description_tooltip": null,
            "layout": "IPY_MODEL_0d88ef3502bc4762a88c7ae16315e8b9",
            "placeholder": "​",
            "style": "IPY_MODEL_4056160f52574bb0969f2c4b0e2688c1",
            "value": " 2.04k/2.04k [00:00&lt;00:00, 43.7kB/s]"
          }
        },
        "aa68dff61460472bb7d0c906e28ffe81": {
          "model_module": "@jupyter-widgets/base",
          "model_name": "LayoutModel",
          "model_module_version": "1.2.0",
          "state": {
            "_model_module": "@jupyter-widgets/base",
            "_model_module_version": "1.2.0",
            "_model_name": "LayoutModel",
            "_view_count": null,
            "_view_module": "@jupyter-widgets/base",
            "_view_module_version": "1.2.0",
            "_view_name": "LayoutView",
            "align_content": null,
            "align_items": null,
            "align_self": null,
            "border": null,
            "bottom": null,
            "display": null,
            "flex": null,
            "flex_flow": null,
            "grid_area": null,
            "grid_auto_columns": null,
            "grid_auto_flow": null,
            "grid_auto_rows": null,
            "grid_column": null,
            "grid_gap": null,
            "grid_row": null,
            "grid_template_areas": null,
            "grid_template_columns": null,
            "grid_template_rows": null,
            "height": null,
            "justify_content": null,
            "justify_items": null,
            "left": null,
            "margin": null,
            "max_height": null,
            "max_width": null,
            "min_height": null,
            "min_width": null,
            "object_fit": null,
            "object_position": null,
            "order": null,
            "overflow": null,
            "overflow_x": null,
            "overflow_y": null,
            "padding": null,
            "right": null,
            "top": null,
            "visibility": null,
            "width": null
          }
        },
        "8434cb54e61546c6abd26e37c89e7c15": {
          "model_module": "@jupyter-widgets/base",
          "model_name": "LayoutModel",
          "model_module_version": "1.2.0",
          "state": {
            "_model_module": "@jupyter-widgets/base",
            "_model_module_version": "1.2.0",
            "_model_name": "LayoutModel",
            "_view_count": null,
            "_view_module": "@jupyter-widgets/base",
            "_view_module_version": "1.2.0",
            "_view_name": "LayoutView",
            "align_content": null,
            "align_items": null,
            "align_self": null,
            "border": null,
            "bottom": null,
            "display": null,
            "flex": null,
            "flex_flow": null,
            "grid_area": null,
            "grid_auto_columns": null,
            "grid_auto_flow": null,
            "grid_auto_rows": null,
            "grid_column": null,
            "grid_gap": null,
            "grid_row": null,
            "grid_template_areas": null,
            "grid_template_columns": null,
            "grid_template_rows": null,
            "height": null,
            "justify_content": null,
            "justify_items": null,
            "left": null,
            "margin": null,
            "max_height": null,
            "max_width": null,
            "min_height": null,
            "min_width": null,
            "object_fit": null,
            "object_position": null,
            "order": null,
            "overflow": null,
            "overflow_x": null,
            "overflow_y": null,
            "padding": null,
            "right": null,
            "top": null,
            "visibility": null,
            "width": null
          }
        },
        "a93d643bb2cd4e3ca6cd3bf8f2a7a0f9": {
          "model_module": "@jupyter-widgets/controls",
          "model_name": "DescriptionStyleModel",
          "model_module_version": "1.5.0",
          "state": {
            "_model_module": "@jupyter-widgets/controls",
            "_model_module_version": "1.5.0",
            "_model_name": "DescriptionStyleModel",
            "_view_count": null,
            "_view_module": "@jupyter-widgets/base",
            "_view_module_version": "1.2.0",
            "_view_name": "StyleView",
            "description_width": ""
          }
        },
        "b84eb9a61fb04b9eb9a6030538e70d59": {
          "model_module": "@jupyter-widgets/base",
          "model_name": "LayoutModel",
          "model_module_version": "1.2.0",
          "state": {
            "_model_module": "@jupyter-widgets/base",
            "_model_module_version": "1.2.0",
            "_model_name": "LayoutModel",
            "_view_count": null,
            "_view_module": "@jupyter-widgets/base",
            "_view_module_version": "1.2.0",
            "_view_name": "LayoutView",
            "align_content": null,
            "align_items": null,
            "align_self": null,
            "border": null,
            "bottom": null,
            "display": null,
            "flex": null,
            "flex_flow": null,
            "grid_area": null,
            "grid_auto_columns": null,
            "grid_auto_flow": null,
            "grid_auto_rows": null,
            "grid_column": null,
            "grid_gap": null,
            "grid_row": null,
            "grid_template_areas": null,
            "grid_template_columns": null,
            "grid_template_rows": null,
            "height": null,
            "justify_content": null,
            "justify_items": null,
            "left": null,
            "margin": null,
            "max_height": null,
            "max_width": null,
            "min_height": null,
            "min_width": null,
            "object_fit": null,
            "object_position": null,
            "order": null,
            "overflow": null,
            "overflow_x": null,
            "overflow_y": null,
            "padding": null,
            "right": null,
            "top": null,
            "visibility": null,
            "width": null
          }
        },
        "fbea5f919e5b42f9b383bc28de843b3d": {
          "model_module": "@jupyter-widgets/controls",
          "model_name": "ProgressStyleModel",
          "model_module_version": "1.5.0",
          "state": {
            "_model_module": "@jupyter-widgets/controls",
            "_model_module_version": "1.5.0",
            "_model_name": "ProgressStyleModel",
            "_view_count": null,
            "_view_module": "@jupyter-widgets/base",
            "_view_module_version": "1.2.0",
            "_view_name": "StyleView",
            "bar_color": null,
            "description_width": ""
          }
        },
        "0d88ef3502bc4762a88c7ae16315e8b9": {
          "model_module": "@jupyter-widgets/base",
          "model_name": "LayoutModel",
          "model_module_version": "1.2.0",
          "state": {
            "_model_module": "@jupyter-widgets/base",
            "_model_module_version": "1.2.0",
            "_model_name": "LayoutModel",
            "_view_count": null,
            "_view_module": "@jupyter-widgets/base",
            "_view_module_version": "1.2.0",
            "_view_name": "LayoutView",
            "align_content": null,
            "align_items": null,
            "align_self": null,
            "border": null,
            "bottom": null,
            "display": null,
            "flex": null,
            "flex_flow": null,
            "grid_area": null,
            "grid_auto_columns": null,
            "grid_auto_flow": null,
            "grid_auto_rows": null,
            "grid_column": null,
            "grid_gap": null,
            "grid_row": null,
            "grid_template_areas": null,
            "grid_template_columns": null,
            "grid_template_rows": null,
            "height": null,
            "justify_content": null,
            "justify_items": null,
            "left": null,
            "margin": null,
            "max_height": null,
            "max_width": null,
            "min_height": null,
            "min_width": null,
            "object_fit": null,
            "object_position": null,
            "order": null,
            "overflow": null,
            "overflow_x": null,
            "overflow_y": null,
            "padding": null,
            "right": null,
            "top": null,
            "visibility": null,
            "width": null
          }
        },
        "4056160f52574bb0969f2c4b0e2688c1": {
          "model_module": "@jupyter-widgets/controls",
          "model_name": "DescriptionStyleModel",
          "model_module_version": "1.5.0",
          "state": {
            "_model_module": "@jupyter-widgets/controls",
            "_model_module_version": "1.5.0",
            "_model_name": "DescriptionStyleModel",
            "_view_count": null,
            "_view_module": "@jupyter-widgets/base",
            "_view_module_version": "1.2.0",
            "_view_name": "StyleView",
            "description_width": ""
          }
        },
        "3e7d71940bed4e5088c2e5fbbd2c7c6f": {
          "model_module": "@jupyter-widgets/controls",
          "model_name": "HBoxModel",
          "model_module_version": "1.5.0",
          "state": {
            "_dom_classes": [],
            "_model_module": "@jupyter-widgets/controls",
            "_model_module_version": "1.5.0",
            "_model_name": "HBoxModel",
            "_view_count": null,
            "_view_module": "@jupyter-widgets/controls",
            "_view_module_version": "1.5.0",
            "_view_name": "HBoxView",
            "box_style": "",
            "children": [
              "IPY_MODEL_78669aeeecc44a80b60dcae9cbf8b008",
              "IPY_MODEL_02e0eadb1c31432aa9d8ff659d0a63b1",
              "IPY_MODEL_577e6ca418444b6896dfa1b6f01aaf06"
            ],
            "layout": "IPY_MODEL_f8ec31c836a34f048241331b20a40fc8"
          }
        },
        "78669aeeecc44a80b60dcae9cbf8b008": {
          "model_module": "@jupyter-widgets/controls",
          "model_name": "HTMLModel",
          "model_module_version": "1.5.0",
          "state": {
            "_dom_classes": [],
            "_model_module": "@jupyter-widgets/controls",
            "_model_module_version": "1.5.0",
            "_model_name": "HTMLModel",
            "_view_count": null,
            "_view_module": "@jupyter-widgets/controls",
            "_view_module_version": "1.5.0",
            "_view_name": "HTMLView",
            "description": "",
            "description_tooltip": null,
            "layout": "IPY_MODEL_7be7d2e642b84b2ea767eeed5ce8789c",
            "placeholder": "​",
            "style": "IPY_MODEL_9d74fdf3d6d5426eac6f62be24e93a8e",
            "value": "embedding_model.ckpt: 100%"
          }
        },
        "02e0eadb1c31432aa9d8ff659d0a63b1": {
          "model_module": "@jupyter-widgets/controls",
          "model_name": "FloatProgressModel",
          "model_module_version": "1.5.0",
          "state": {
            "_dom_classes": [],
            "_model_module": "@jupyter-widgets/controls",
            "_model_module_version": "1.5.0",
            "_model_name": "FloatProgressModel",
            "_view_count": null,
            "_view_module": "@jupyter-widgets/controls",
            "_view_module_version": "1.5.0",
            "_view_name": "ProgressView",
            "bar_style": "success",
            "description": "",
            "description_tooltip": null,
            "layout": "IPY_MODEL_f5ebc928dccf42438622835a7f7dcb98",
            "max": 16887676,
            "min": 0,
            "orientation": "horizontal",
            "style": "IPY_MODEL_f98c793bb6224be394a25bd7cf7243ee",
            "value": 16887676
          }
        },
        "577e6ca418444b6896dfa1b6f01aaf06": {
          "model_module": "@jupyter-widgets/controls",
          "model_name": "HTMLModel",
          "model_module_version": "1.5.0",
          "state": {
            "_dom_classes": [],
            "_model_module": "@jupyter-widgets/controls",
            "_model_module_version": "1.5.0",
            "_model_name": "HTMLModel",
            "_view_count": null,
            "_view_module": "@jupyter-widgets/controls",
            "_view_module_version": "1.5.0",
            "_view_name": "HTMLView",
            "description": "",
            "description_tooltip": null,
            "layout": "IPY_MODEL_91422984f2754b40830a9512d73fb171",
            "placeholder": "​",
            "style": "IPY_MODEL_702e820ff1dc490fbdd6d4568dd95273",
            "value": " 16.9M/16.9M [00:00&lt;00:00, 17.7MB/s]"
          }
        },
        "f8ec31c836a34f048241331b20a40fc8": {
          "model_module": "@jupyter-widgets/base",
          "model_name": "LayoutModel",
          "model_module_version": "1.2.0",
          "state": {
            "_model_module": "@jupyter-widgets/base",
            "_model_module_version": "1.2.0",
            "_model_name": "LayoutModel",
            "_view_count": null,
            "_view_module": "@jupyter-widgets/base",
            "_view_module_version": "1.2.0",
            "_view_name": "LayoutView",
            "align_content": null,
            "align_items": null,
            "align_self": null,
            "border": null,
            "bottom": null,
            "display": null,
            "flex": null,
            "flex_flow": null,
            "grid_area": null,
            "grid_auto_columns": null,
            "grid_auto_flow": null,
            "grid_auto_rows": null,
            "grid_column": null,
            "grid_gap": null,
            "grid_row": null,
            "grid_template_areas": null,
            "grid_template_columns": null,
            "grid_template_rows": null,
            "height": null,
            "justify_content": null,
            "justify_items": null,
            "left": null,
            "margin": null,
            "max_height": null,
            "max_width": null,
            "min_height": null,
            "min_width": null,
            "object_fit": null,
            "object_position": null,
            "order": null,
            "overflow": null,
            "overflow_x": null,
            "overflow_y": null,
            "padding": null,
            "right": null,
            "top": null,
            "visibility": null,
            "width": null
          }
        },
        "7be7d2e642b84b2ea767eeed5ce8789c": {
          "model_module": "@jupyter-widgets/base",
          "model_name": "LayoutModel",
          "model_module_version": "1.2.0",
          "state": {
            "_model_module": "@jupyter-widgets/base",
            "_model_module_version": "1.2.0",
            "_model_name": "LayoutModel",
            "_view_count": null,
            "_view_module": "@jupyter-widgets/base",
            "_view_module_version": "1.2.0",
            "_view_name": "LayoutView",
            "align_content": null,
            "align_items": null,
            "align_self": null,
            "border": null,
            "bottom": null,
            "display": null,
            "flex": null,
            "flex_flow": null,
            "grid_area": null,
            "grid_auto_columns": null,
            "grid_auto_flow": null,
            "grid_auto_rows": null,
            "grid_column": null,
            "grid_gap": null,
            "grid_row": null,
            "grid_template_areas": null,
            "grid_template_columns": null,
            "grid_template_rows": null,
            "height": null,
            "justify_content": null,
            "justify_items": null,
            "left": null,
            "margin": null,
            "max_height": null,
            "max_width": null,
            "min_height": null,
            "min_width": null,
            "object_fit": null,
            "object_position": null,
            "order": null,
            "overflow": null,
            "overflow_x": null,
            "overflow_y": null,
            "padding": null,
            "right": null,
            "top": null,
            "visibility": null,
            "width": null
          }
        },
        "9d74fdf3d6d5426eac6f62be24e93a8e": {
          "model_module": "@jupyter-widgets/controls",
          "model_name": "DescriptionStyleModel",
          "model_module_version": "1.5.0",
          "state": {
            "_model_module": "@jupyter-widgets/controls",
            "_model_module_version": "1.5.0",
            "_model_name": "DescriptionStyleModel",
            "_view_count": null,
            "_view_module": "@jupyter-widgets/base",
            "_view_module_version": "1.2.0",
            "_view_name": "StyleView",
            "description_width": ""
          }
        },
        "f5ebc928dccf42438622835a7f7dcb98": {
          "model_module": "@jupyter-widgets/base",
          "model_name": "LayoutModel",
          "model_module_version": "1.2.0",
          "state": {
            "_model_module": "@jupyter-widgets/base",
            "_model_module_version": "1.2.0",
            "_model_name": "LayoutModel",
            "_view_count": null,
            "_view_module": "@jupyter-widgets/base",
            "_view_module_version": "1.2.0",
            "_view_name": "LayoutView",
            "align_content": null,
            "align_items": null,
            "align_self": null,
            "border": null,
            "bottom": null,
            "display": null,
            "flex": null,
            "flex_flow": null,
            "grid_area": null,
            "grid_auto_columns": null,
            "grid_auto_flow": null,
            "grid_auto_rows": null,
            "grid_column": null,
            "grid_gap": null,
            "grid_row": null,
            "grid_template_areas": null,
            "grid_template_columns": null,
            "grid_template_rows": null,
            "height": null,
            "justify_content": null,
            "justify_items": null,
            "left": null,
            "margin": null,
            "max_height": null,
            "max_width": null,
            "min_height": null,
            "min_width": null,
            "object_fit": null,
            "object_position": null,
            "order": null,
            "overflow": null,
            "overflow_x": null,
            "overflow_y": null,
            "padding": null,
            "right": null,
            "top": null,
            "visibility": null,
            "width": null
          }
        },
        "f98c793bb6224be394a25bd7cf7243ee": {
          "model_module": "@jupyter-widgets/controls",
          "model_name": "ProgressStyleModel",
          "model_module_version": "1.5.0",
          "state": {
            "_model_module": "@jupyter-widgets/controls",
            "_model_module_version": "1.5.0",
            "_model_name": "ProgressStyleModel",
            "_view_count": null,
            "_view_module": "@jupyter-widgets/base",
            "_view_module_version": "1.2.0",
            "_view_name": "StyleView",
            "bar_color": null,
            "description_width": ""
          }
        },
        "91422984f2754b40830a9512d73fb171": {
          "model_module": "@jupyter-widgets/base",
          "model_name": "LayoutModel",
          "model_module_version": "1.2.0",
          "state": {
            "_model_module": "@jupyter-widgets/base",
            "_model_module_version": "1.2.0",
            "_model_name": "LayoutModel",
            "_view_count": null,
            "_view_module": "@jupyter-widgets/base",
            "_view_module_version": "1.2.0",
            "_view_name": "LayoutView",
            "align_content": null,
            "align_items": null,
            "align_self": null,
            "border": null,
            "bottom": null,
            "display": null,
            "flex": null,
            "flex_flow": null,
            "grid_area": null,
            "grid_auto_columns": null,
            "grid_auto_flow": null,
            "grid_auto_rows": null,
            "grid_column": null,
            "grid_gap": null,
            "grid_row": null,
            "grid_template_areas": null,
            "grid_template_columns": null,
            "grid_template_rows": null,
            "height": null,
            "justify_content": null,
            "justify_items": null,
            "left": null,
            "margin": null,
            "max_height": null,
            "max_width": null,
            "min_height": null,
            "min_width": null,
            "object_fit": null,
            "object_position": null,
            "order": null,
            "overflow": null,
            "overflow_x": null,
            "overflow_y": null,
            "padding": null,
            "right": null,
            "top": null,
            "visibility": null,
            "width": null
          }
        },
        "702e820ff1dc490fbdd6d4568dd95273": {
          "model_module": "@jupyter-widgets/controls",
          "model_name": "DescriptionStyleModel",
          "model_module_version": "1.5.0",
          "state": {
            "_model_module": "@jupyter-widgets/controls",
            "_model_module_version": "1.5.0",
            "_model_name": "DescriptionStyleModel",
            "_view_count": null,
            "_view_module": "@jupyter-widgets/base",
            "_view_module_version": "1.2.0",
            "_view_name": "StyleView",
            "description_width": ""
          }
        },
        "b1ec159f53244fbda13b2c2703fc6684": {
          "model_module": "@jupyter-widgets/controls",
          "model_name": "HBoxModel",
          "model_module_version": "1.5.0",
          "state": {
            "_dom_classes": [],
            "_model_module": "@jupyter-widgets/controls",
            "_model_module_version": "1.5.0",
            "_model_name": "HBoxModel",
            "_view_count": null,
            "_view_module": "@jupyter-widgets/controls",
            "_view_module_version": "1.5.0",
            "_view_name": "HBoxView",
            "box_style": "",
            "children": [
              "IPY_MODEL_77a5a6d59e2d48b6a9ad6f0fcf1524d9",
              "IPY_MODEL_15681951686349c090f31fd8018f5135",
              "IPY_MODEL_f9227c094ff14cef816b350379a240ef"
            ],
            "layout": "IPY_MODEL_841c42c80c914ecca52dc27991f922bb"
          }
        },
        "77a5a6d59e2d48b6a9ad6f0fcf1524d9": {
          "model_module": "@jupyter-widgets/controls",
          "model_name": "HTMLModel",
          "model_module_version": "1.5.0",
          "state": {
            "_dom_classes": [],
            "_model_module": "@jupyter-widgets/controls",
            "_model_module_version": "1.5.0",
            "_model_name": "HTMLModel",
            "_view_count": null,
            "_view_module": "@jupyter-widgets/controls",
            "_view_module_version": "1.5.0",
            "_view_name": "HTMLView",
            "description": "",
            "description_tooltip": null,
            "layout": "IPY_MODEL_78d0f5e563fb4f1fb44a10c9a0cd15ef",
            "placeholder": "​",
            "style": "IPY_MODEL_4875d7df078249ed9f1d09518f948741",
            "value": "mean_var_norm_emb.ckpt: 100%"
          }
        },
        "15681951686349c090f31fd8018f5135": {
          "model_module": "@jupyter-widgets/controls",
          "model_name": "FloatProgressModel",
          "model_module_version": "1.5.0",
          "state": {
            "_dom_classes": [],
            "_model_module": "@jupyter-widgets/controls",
            "_model_module_version": "1.5.0",
            "_model_name": "FloatProgressModel",
            "_view_count": null,
            "_view_module": "@jupyter-widgets/controls",
            "_view_module_version": "1.5.0",
            "_view_name": "ProgressView",
            "bar_style": "success",
            "description": "",
            "description_tooltip": null,
            "layout": "IPY_MODEL_05842962c1e244929c2ac79ff0655d1b",
            "max": 3201,
            "min": 0,
            "orientation": "horizontal",
            "style": "IPY_MODEL_02bf3f3b03b94bd7962ba1383ad35bfe",
            "value": 3201
          }
        },
        "f9227c094ff14cef816b350379a240ef": {
          "model_module": "@jupyter-widgets/controls",
          "model_name": "HTMLModel",
          "model_module_version": "1.5.0",
          "state": {
            "_dom_classes": [],
            "_model_module": "@jupyter-widgets/controls",
            "_model_module_version": "1.5.0",
            "_model_name": "HTMLModel",
            "_view_count": null,
            "_view_module": "@jupyter-widgets/controls",
            "_view_module_version": "1.5.0",
            "_view_name": "HTMLView",
            "description": "",
            "description_tooltip": null,
            "layout": "IPY_MODEL_1afbf8cd39274c3a88a12784e807e3e3",
            "placeholder": "​",
            "style": "IPY_MODEL_8e83172457e54699b3d54013e755568e",
            "value": " 3.20k/3.20k [00:00&lt;00:00, 163kB/s]"
          }
        },
        "841c42c80c914ecca52dc27991f922bb": {
          "model_module": "@jupyter-widgets/base",
          "model_name": "LayoutModel",
          "model_module_version": "1.2.0",
          "state": {
            "_model_module": "@jupyter-widgets/base",
            "_model_module_version": "1.2.0",
            "_model_name": "LayoutModel",
            "_view_count": null,
            "_view_module": "@jupyter-widgets/base",
            "_view_module_version": "1.2.0",
            "_view_name": "LayoutView",
            "align_content": null,
            "align_items": null,
            "align_self": null,
            "border": null,
            "bottom": null,
            "display": null,
            "flex": null,
            "flex_flow": null,
            "grid_area": null,
            "grid_auto_columns": null,
            "grid_auto_flow": null,
            "grid_auto_rows": null,
            "grid_column": null,
            "grid_gap": null,
            "grid_row": null,
            "grid_template_areas": null,
            "grid_template_columns": null,
            "grid_template_rows": null,
            "height": null,
            "justify_content": null,
            "justify_items": null,
            "left": null,
            "margin": null,
            "max_height": null,
            "max_width": null,
            "min_height": null,
            "min_width": null,
            "object_fit": null,
            "object_position": null,
            "order": null,
            "overflow": null,
            "overflow_x": null,
            "overflow_y": null,
            "padding": null,
            "right": null,
            "top": null,
            "visibility": null,
            "width": null
          }
        },
        "78d0f5e563fb4f1fb44a10c9a0cd15ef": {
          "model_module": "@jupyter-widgets/base",
          "model_name": "LayoutModel",
          "model_module_version": "1.2.0",
          "state": {
            "_model_module": "@jupyter-widgets/base",
            "_model_module_version": "1.2.0",
            "_model_name": "LayoutModel",
            "_view_count": null,
            "_view_module": "@jupyter-widgets/base",
            "_view_module_version": "1.2.0",
            "_view_name": "LayoutView",
            "align_content": null,
            "align_items": null,
            "align_self": null,
            "border": null,
            "bottom": null,
            "display": null,
            "flex": null,
            "flex_flow": null,
            "grid_area": null,
            "grid_auto_columns": null,
            "grid_auto_flow": null,
            "grid_auto_rows": null,
            "grid_column": null,
            "grid_gap": null,
            "grid_row": null,
            "grid_template_areas": null,
            "grid_template_columns": null,
            "grid_template_rows": null,
            "height": null,
            "justify_content": null,
            "justify_items": null,
            "left": null,
            "margin": null,
            "max_height": null,
            "max_width": null,
            "min_height": null,
            "min_width": null,
            "object_fit": null,
            "object_position": null,
            "order": null,
            "overflow": null,
            "overflow_x": null,
            "overflow_y": null,
            "padding": null,
            "right": null,
            "top": null,
            "visibility": null,
            "width": null
          }
        },
        "4875d7df078249ed9f1d09518f948741": {
          "model_module": "@jupyter-widgets/controls",
          "model_name": "DescriptionStyleModel",
          "model_module_version": "1.5.0",
          "state": {
            "_model_module": "@jupyter-widgets/controls",
            "_model_module_version": "1.5.0",
            "_model_name": "DescriptionStyleModel",
            "_view_count": null,
            "_view_module": "@jupyter-widgets/base",
            "_view_module_version": "1.2.0",
            "_view_name": "StyleView",
            "description_width": ""
          }
        },
        "05842962c1e244929c2ac79ff0655d1b": {
          "model_module": "@jupyter-widgets/base",
          "model_name": "LayoutModel",
          "model_module_version": "1.2.0",
          "state": {
            "_model_module": "@jupyter-widgets/base",
            "_model_module_version": "1.2.0",
            "_model_name": "LayoutModel",
            "_view_count": null,
            "_view_module": "@jupyter-widgets/base",
            "_view_module_version": "1.2.0",
            "_view_name": "LayoutView",
            "align_content": null,
            "align_items": null,
            "align_self": null,
            "border": null,
            "bottom": null,
            "display": null,
            "flex": null,
            "flex_flow": null,
            "grid_area": null,
            "grid_auto_columns": null,
            "grid_auto_flow": null,
            "grid_auto_rows": null,
            "grid_column": null,
            "grid_gap": null,
            "grid_row": null,
            "grid_template_areas": null,
            "grid_template_columns": null,
            "grid_template_rows": null,
            "height": null,
            "justify_content": null,
            "justify_items": null,
            "left": null,
            "margin": null,
            "max_height": null,
            "max_width": null,
            "min_height": null,
            "min_width": null,
            "object_fit": null,
            "object_position": null,
            "order": null,
            "overflow": null,
            "overflow_x": null,
            "overflow_y": null,
            "padding": null,
            "right": null,
            "top": null,
            "visibility": null,
            "width": null
          }
        },
        "02bf3f3b03b94bd7962ba1383ad35bfe": {
          "model_module": "@jupyter-widgets/controls",
          "model_name": "ProgressStyleModel",
          "model_module_version": "1.5.0",
          "state": {
            "_model_module": "@jupyter-widgets/controls",
            "_model_module_version": "1.5.0",
            "_model_name": "ProgressStyleModel",
            "_view_count": null,
            "_view_module": "@jupyter-widgets/base",
            "_view_module_version": "1.2.0",
            "_view_name": "StyleView",
            "bar_color": null,
            "description_width": ""
          }
        },
        "1afbf8cd39274c3a88a12784e807e3e3": {
          "model_module": "@jupyter-widgets/base",
          "model_name": "LayoutModel",
          "model_module_version": "1.2.0",
          "state": {
            "_model_module": "@jupyter-widgets/base",
            "_model_module_version": "1.2.0",
            "_model_name": "LayoutModel",
            "_view_count": null,
            "_view_module": "@jupyter-widgets/base",
            "_view_module_version": "1.2.0",
            "_view_name": "LayoutView",
            "align_content": null,
            "align_items": null,
            "align_self": null,
            "border": null,
            "bottom": null,
            "display": null,
            "flex": null,
            "flex_flow": null,
            "grid_area": null,
            "grid_auto_columns": null,
            "grid_auto_flow": null,
            "grid_auto_rows": null,
            "grid_column": null,
            "grid_gap": null,
            "grid_row": null,
            "grid_template_areas": null,
            "grid_template_columns": null,
            "grid_template_rows": null,
            "height": null,
            "justify_content": null,
            "justify_items": null,
            "left": null,
            "margin": null,
            "max_height": null,
            "max_width": null,
            "min_height": null,
            "min_width": null,
            "object_fit": null,
            "object_position": null,
            "order": null,
            "overflow": null,
            "overflow_x": null,
            "overflow_y": null,
            "padding": null,
            "right": null,
            "top": null,
            "visibility": null,
            "width": null
          }
        },
        "8e83172457e54699b3d54013e755568e": {
          "model_module": "@jupyter-widgets/controls",
          "model_name": "DescriptionStyleModel",
          "model_module_version": "1.5.0",
          "state": {
            "_model_module": "@jupyter-widgets/controls",
            "_model_module_version": "1.5.0",
            "_model_name": "DescriptionStyleModel",
            "_view_count": null,
            "_view_module": "@jupyter-widgets/base",
            "_view_module_version": "1.2.0",
            "_view_name": "StyleView",
            "description_width": ""
          }
        },
        "e138a7afc9c5446889d2d0812fb9df7d": {
          "model_module": "@jupyter-widgets/controls",
          "model_name": "HBoxModel",
          "model_module_version": "1.5.0",
          "state": {
            "_dom_classes": [],
            "_model_module": "@jupyter-widgets/controls",
            "_model_module_version": "1.5.0",
            "_model_name": "HBoxModel",
            "_view_count": null,
            "_view_module": "@jupyter-widgets/controls",
            "_view_module_version": "1.5.0",
            "_view_name": "HBoxView",
            "box_style": "",
            "children": [
              "IPY_MODEL_51bc2e76b9c840029010bd7426262098",
              "IPY_MODEL_9c0eaeb1e0aa490db05650859cb19121",
              "IPY_MODEL_8ff8bc799fea4aa896185fb60ba471e5"
            ],
            "layout": "IPY_MODEL_e51ec5cfb6474434a19a1d19b6347de7"
          }
        },
        "51bc2e76b9c840029010bd7426262098": {
          "model_module": "@jupyter-widgets/controls",
          "model_name": "HTMLModel",
          "model_module_version": "1.5.0",
          "state": {
            "_dom_classes": [],
            "_model_module": "@jupyter-widgets/controls",
            "_model_module_version": "1.5.0",
            "_model_name": "HTMLModel",
            "_view_count": null,
            "_view_module": "@jupyter-widgets/controls",
            "_view_module_version": "1.5.0",
            "_view_name": "HTMLView",
            "description": "",
            "description_tooltip": null,
            "layout": "IPY_MODEL_f39f60fba858495e878f7db9406abcf6",
            "placeholder": "​",
            "style": "IPY_MODEL_bcbaa0c843154a34b1aa23dbb1d81e61",
            "value": "classifier.ckpt: 100%"
          }
        },
        "9c0eaeb1e0aa490db05650859cb19121": {
          "model_module": "@jupyter-widgets/controls",
          "model_name": "FloatProgressModel",
          "model_module_version": "1.5.0",
          "state": {
            "_dom_classes": [],
            "_model_module": "@jupyter-widgets/controls",
            "_model_module_version": "1.5.0",
            "_model_name": "FloatProgressModel",
            "_view_count": null,
            "_view_module": "@jupyter-widgets/controls",
            "_view_module_version": "1.5.0",
            "_view_name": "ProgressView",
            "bar_style": "success",
            "description": "",
            "description_tooltip": null,
            "layout": "IPY_MODEL_452dfc6c65084d45945935199f58b3fc",
            "max": 15856877,
            "min": 0,
            "orientation": "horizontal",
            "style": "IPY_MODEL_aadc751af99d43ee8fb37293ba182102",
            "value": 15856877
          }
        },
        "8ff8bc799fea4aa896185fb60ba471e5": {
          "model_module": "@jupyter-widgets/controls",
          "model_name": "HTMLModel",
          "model_module_version": "1.5.0",
          "state": {
            "_dom_classes": [],
            "_model_module": "@jupyter-widgets/controls",
            "_model_module_version": "1.5.0",
            "_model_name": "HTMLModel",
            "_view_count": null,
            "_view_module": "@jupyter-widgets/controls",
            "_view_module_version": "1.5.0",
            "_view_name": "HTMLView",
            "description": "",
            "description_tooltip": null,
            "layout": "IPY_MODEL_59638821d38340fa91242083bade49a4",
            "placeholder": "​",
            "style": "IPY_MODEL_b2a9ff160c924ea69430fb4932c2355c",
            "value": " 15.9M/15.9M [00:00&lt;00:00, 72.6MB/s]"
          }
        },
        "e51ec5cfb6474434a19a1d19b6347de7": {
          "model_module": "@jupyter-widgets/base",
          "model_name": "LayoutModel",
          "model_module_version": "1.2.0",
          "state": {
            "_model_module": "@jupyter-widgets/base",
            "_model_module_version": "1.2.0",
            "_model_name": "LayoutModel",
            "_view_count": null,
            "_view_module": "@jupyter-widgets/base",
            "_view_module_version": "1.2.0",
            "_view_name": "LayoutView",
            "align_content": null,
            "align_items": null,
            "align_self": null,
            "border": null,
            "bottom": null,
            "display": null,
            "flex": null,
            "flex_flow": null,
            "grid_area": null,
            "grid_auto_columns": null,
            "grid_auto_flow": null,
            "grid_auto_rows": null,
            "grid_column": null,
            "grid_gap": null,
            "grid_row": null,
            "grid_template_areas": null,
            "grid_template_columns": null,
            "grid_template_rows": null,
            "height": null,
            "justify_content": null,
            "justify_items": null,
            "left": null,
            "margin": null,
            "max_height": null,
            "max_width": null,
            "min_height": null,
            "min_width": null,
            "object_fit": null,
            "object_position": null,
            "order": null,
            "overflow": null,
            "overflow_x": null,
            "overflow_y": null,
            "padding": null,
            "right": null,
            "top": null,
            "visibility": null,
            "width": null
          }
        },
        "f39f60fba858495e878f7db9406abcf6": {
          "model_module": "@jupyter-widgets/base",
          "model_name": "LayoutModel",
          "model_module_version": "1.2.0",
          "state": {
            "_model_module": "@jupyter-widgets/base",
            "_model_module_version": "1.2.0",
            "_model_name": "LayoutModel",
            "_view_count": null,
            "_view_module": "@jupyter-widgets/base",
            "_view_module_version": "1.2.0",
            "_view_name": "LayoutView",
            "align_content": null,
            "align_items": null,
            "align_self": null,
            "border": null,
            "bottom": null,
            "display": null,
            "flex": null,
            "flex_flow": null,
            "grid_area": null,
            "grid_auto_columns": null,
            "grid_auto_flow": null,
            "grid_auto_rows": null,
            "grid_column": null,
            "grid_gap": null,
            "grid_row": null,
            "grid_template_areas": null,
            "grid_template_columns": null,
            "grid_template_rows": null,
            "height": null,
            "justify_content": null,
            "justify_items": null,
            "left": null,
            "margin": null,
            "max_height": null,
            "max_width": null,
            "min_height": null,
            "min_width": null,
            "object_fit": null,
            "object_position": null,
            "order": null,
            "overflow": null,
            "overflow_x": null,
            "overflow_y": null,
            "padding": null,
            "right": null,
            "top": null,
            "visibility": null,
            "width": null
          }
        },
        "bcbaa0c843154a34b1aa23dbb1d81e61": {
          "model_module": "@jupyter-widgets/controls",
          "model_name": "DescriptionStyleModel",
          "model_module_version": "1.5.0",
          "state": {
            "_model_module": "@jupyter-widgets/controls",
            "_model_module_version": "1.5.0",
            "_model_name": "DescriptionStyleModel",
            "_view_count": null,
            "_view_module": "@jupyter-widgets/base",
            "_view_module_version": "1.2.0",
            "_view_name": "StyleView",
            "description_width": ""
          }
        },
        "452dfc6c65084d45945935199f58b3fc": {
          "model_module": "@jupyter-widgets/base",
          "model_name": "LayoutModel",
          "model_module_version": "1.2.0",
          "state": {
            "_model_module": "@jupyter-widgets/base",
            "_model_module_version": "1.2.0",
            "_model_name": "LayoutModel",
            "_view_count": null,
            "_view_module": "@jupyter-widgets/base",
            "_view_module_version": "1.2.0",
            "_view_name": "LayoutView",
            "align_content": null,
            "align_items": null,
            "align_self": null,
            "border": null,
            "bottom": null,
            "display": null,
            "flex": null,
            "flex_flow": null,
            "grid_area": null,
            "grid_auto_columns": null,
            "grid_auto_flow": null,
            "grid_auto_rows": null,
            "grid_column": null,
            "grid_gap": null,
            "grid_row": null,
            "grid_template_areas": null,
            "grid_template_columns": null,
            "grid_template_rows": null,
            "height": null,
            "justify_content": null,
            "justify_items": null,
            "left": null,
            "margin": null,
            "max_height": null,
            "max_width": null,
            "min_height": null,
            "min_width": null,
            "object_fit": null,
            "object_position": null,
            "order": null,
            "overflow": null,
            "overflow_x": null,
            "overflow_y": null,
            "padding": null,
            "right": null,
            "top": null,
            "visibility": null,
            "width": null
          }
        },
        "aadc751af99d43ee8fb37293ba182102": {
          "model_module": "@jupyter-widgets/controls",
          "model_name": "ProgressStyleModel",
          "model_module_version": "1.5.0",
          "state": {
            "_model_module": "@jupyter-widgets/controls",
            "_model_module_version": "1.5.0",
            "_model_name": "ProgressStyleModel",
            "_view_count": null,
            "_view_module": "@jupyter-widgets/base",
            "_view_module_version": "1.2.0",
            "_view_name": "StyleView",
            "bar_color": null,
            "description_width": ""
          }
        },
        "59638821d38340fa91242083bade49a4": {
          "model_module": "@jupyter-widgets/base",
          "model_name": "LayoutModel",
          "model_module_version": "1.2.0",
          "state": {
            "_model_module": "@jupyter-widgets/base",
            "_model_module_version": "1.2.0",
            "_model_name": "LayoutModel",
            "_view_count": null,
            "_view_module": "@jupyter-widgets/base",
            "_view_module_version": "1.2.0",
            "_view_name": "LayoutView",
            "align_content": null,
            "align_items": null,
            "align_self": null,
            "border": null,
            "bottom": null,
            "display": null,
            "flex": null,
            "flex_flow": null,
            "grid_area": null,
            "grid_auto_columns": null,
            "grid_auto_flow": null,
            "grid_auto_rows": null,
            "grid_column": null,
            "grid_gap": null,
            "grid_row": null,
            "grid_template_areas": null,
            "grid_template_columns": null,
            "grid_template_rows": null,
            "height": null,
            "justify_content": null,
            "justify_items": null,
            "left": null,
            "margin": null,
            "max_height": null,
            "max_width": null,
            "min_height": null,
            "min_width": null,
            "object_fit": null,
            "object_position": null,
            "order": null,
            "overflow": null,
            "overflow_x": null,
            "overflow_y": null,
            "padding": null,
            "right": null,
            "top": null,
            "visibility": null,
            "width": null
          }
        },
        "b2a9ff160c924ea69430fb4932c2355c": {
          "model_module": "@jupyter-widgets/controls",
          "model_name": "DescriptionStyleModel",
          "model_module_version": "1.5.0",
          "state": {
            "_model_module": "@jupyter-widgets/controls",
            "_model_module_version": "1.5.0",
            "_model_name": "DescriptionStyleModel",
            "_view_count": null,
            "_view_module": "@jupyter-widgets/base",
            "_view_module_version": "1.2.0",
            "_view_name": "StyleView",
            "description_width": ""
          }
        },
        "a3de7f0b3ee14a77938563db81023ea3": {
          "model_module": "@jupyter-widgets/controls",
          "model_name": "HBoxModel",
          "model_module_version": "1.5.0",
          "state": {
            "_dom_classes": [],
            "_model_module": "@jupyter-widgets/controls",
            "_model_module_version": "1.5.0",
            "_model_name": "HBoxModel",
            "_view_count": null,
            "_view_module": "@jupyter-widgets/controls",
            "_view_module_version": "1.5.0",
            "_view_name": "HBoxView",
            "box_style": "",
            "children": [
              "IPY_MODEL_24931902e7dc48fd992f20e46036e901",
              "IPY_MODEL_ce2bf274e3b84fee99f577a7e4fc4e61",
              "IPY_MODEL_e9e483dc849d448d81d42c3f10199531"
            ],
            "layout": "IPY_MODEL_1a5ea843caaf473a8b3a2a81d292f6c8"
          }
        },
        "24931902e7dc48fd992f20e46036e901": {
          "model_module": "@jupyter-widgets/controls",
          "model_name": "HTMLModel",
          "model_module_version": "1.5.0",
          "state": {
            "_dom_classes": [],
            "_model_module": "@jupyter-widgets/controls",
            "_model_module_version": "1.5.0",
            "_model_name": "HTMLModel",
            "_view_count": null,
            "_view_module": "@jupyter-widgets/controls",
            "_view_module_version": "1.5.0",
            "_view_name": "HTMLView",
            "description": "",
            "description_tooltip": null,
            "layout": "IPY_MODEL_64f0136625584859b07266de4153f507",
            "placeholder": "​",
            "style": "IPY_MODEL_f869938e1222472080e8a35d08b7f2ee",
            "value": "label_encoder.txt: 100%"
          }
        },
        "ce2bf274e3b84fee99f577a7e4fc4e61": {
          "model_module": "@jupyter-widgets/controls",
          "model_name": "FloatProgressModel",
          "model_module_version": "1.5.0",
          "state": {
            "_dom_classes": [],
            "_model_module": "@jupyter-widgets/controls",
            "_model_module_version": "1.5.0",
            "_model_name": "FloatProgressModel",
            "_view_count": null,
            "_view_module": "@jupyter-widgets/controls",
            "_view_module_version": "1.5.0",
            "_view_name": "ProgressView",
            "bar_style": "success",
            "description": "",
            "description_tooltip": null,
            "layout": "IPY_MODEL_bc4601cfa6c2487eb4b16c88dbfb5bd4",
            "max": 128619,
            "min": 0,
            "orientation": "horizontal",
            "style": "IPY_MODEL_1d8ff4d68b0f4dcb82bfdd4ba293f819",
            "value": 128619
          }
        },
        "e9e483dc849d448d81d42c3f10199531": {
          "model_module": "@jupyter-widgets/controls",
          "model_name": "HTMLModel",
          "model_module_version": "1.5.0",
          "state": {
            "_dom_classes": [],
            "_model_module": "@jupyter-widgets/controls",
            "_model_module_version": "1.5.0",
            "_model_name": "HTMLModel",
            "_view_count": null,
            "_view_module": "@jupyter-widgets/controls",
            "_view_module_version": "1.5.0",
            "_view_name": "HTMLView",
            "description": "",
            "description_tooltip": null,
            "layout": "IPY_MODEL_6ba854af010c4469811c52e4be9f10ec",
            "placeholder": "​",
            "style": "IPY_MODEL_362fa84b51ff438f835b54a257c57b43",
            "value": " 129k/129k [00:00&lt;00:00, 4.01MB/s]"
          }
        },
        "1a5ea843caaf473a8b3a2a81d292f6c8": {
          "model_module": "@jupyter-widgets/base",
          "model_name": "LayoutModel",
          "model_module_version": "1.2.0",
          "state": {
            "_model_module": "@jupyter-widgets/base",
            "_model_module_version": "1.2.0",
            "_model_name": "LayoutModel",
            "_view_count": null,
            "_view_module": "@jupyter-widgets/base",
            "_view_module_version": "1.2.0",
            "_view_name": "LayoutView",
            "align_content": null,
            "align_items": null,
            "align_self": null,
            "border": null,
            "bottom": null,
            "display": null,
            "flex": null,
            "flex_flow": null,
            "grid_area": null,
            "grid_auto_columns": null,
            "grid_auto_flow": null,
            "grid_auto_rows": null,
            "grid_column": null,
            "grid_gap": null,
            "grid_row": null,
            "grid_template_areas": null,
            "grid_template_columns": null,
            "grid_template_rows": null,
            "height": null,
            "justify_content": null,
            "justify_items": null,
            "left": null,
            "margin": null,
            "max_height": null,
            "max_width": null,
            "min_height": null,
            "min_width": null,
            "object_fit": null,
            "object_position": null,
            "order": null,
            "overflow": null,
            "overflow_x": null,
            "overflow_y": null,
            "padding": null,
            "right": null,
            "top": null,
            "visibility": null,
            "width": null
          }
        },
        "64f0136625584859b07266de4153f507": {
          "model_module": "@jupyter-widgets/base",
          "model_name": "LayoutModel",
          "model_module_version": "1.2.0",
          "state": {
            "_model_module": "@jupyter-widgets/base",
            "_model_module_version": "1.2.0",
            "_model_name": "LayoutModel",
            "_view_count": null,
            "_view_module": "@jupyter-widgets/base",
            "_view_module_version": "1.2.0",
            "_view_name": "LayoutView",
            "align_content": null,
            "align_items": null,
            "align_self": null,
            "border": null,
            "bottom": null,
            "display": null,
            "flex": null,
            "flex_flow": null,
            "grid_area": null,
            "grid_auto_columns": null,
            "grid_auto_flow": null,
            "grid_auto_rows": null,
            "grid_column": null,
            "grid_gap": null,
            "grid_row": null,
            "grid_template_areas": null,
            "grid_template_columns": null,
            "grid_template_rows": null,
            "height": null,
            "justify_content": null,
            "justify_items": null,
            "left": null,
            "margin": null,
            "max_height": null,
            "max_width": null,
            "min_height": null,
            "min_width": null,
            "object_fit": null,
            "object_position": null,
            "order": null,
            "overflow": null,
            "overflow_x": null,
            "overflow_y": null,
            "padding": null,
            "right": null,
            "top": null,
            "visibility": null,
            "width": null
          }
        },
        "f869938e1222472080e8a35d08b7f2ee": {
          "model_module": "@jupyter-widgets/controls",
          "model_name": "DescriptionStyleModel",
          "model_module_version": "1.5.0",
          "state": {
            "_model_module": "@jupyter-widgets/controls",
            "_model_module_version": "1.5.0",
            "_model_name": "DescriptionStyleModel",
            "_view_count": null,
            "_view_module": "@jupyter-widgets/base",
            "_view_module_version": "1.2.0",
            "_view_name": "StyleView",
            "description_width": ""
          }
        },
        "bc4601cfa6c2487eb4b16c88dbfb5bd4": {
          "model_module": "@jupyter-widgets/base",
          "model_name": "LayoutModel",
          "model_module_version": "1.2.0",
          "state": {
            "_model_module": "@jupyter-widgets/base",
            "_model_module_version": "1.2.0",
            "_model_name": "LayoutModel",
            "_view_count": null,
            "_view_module": "@jupyter-widgets/base",
            "_view_module_version": "1.2.0",
            "_view_name": "LayoutView",
            "align_content": null,
            "align_items": null,
            "align_self": null,
            "border": null,
            "bottom": null,
            "display": null,
            "flex": null,
            "flex_flow": null,
            "grid_area": null,
            "grid_auto_columns": null,
            "grid_auto_flow": null,
            "grid_auto_rows": null,
            "grid_column": null,
            "grid_gap": null,
            "grid_row": null,
            "grid_template_areas": null,
            "grid_template_columns": null,
            "grid_template_rows": null,
            "height": null,
            "justify_content": null,
            "justify_items": null,
            "left": null,
            "margin": null,
            "max_height": null,
            "max_width": null,
            "min_height": null,
            "min_width": null,
            "object_fit": null,
            "object_position": null,
            "order": null,
            "overflow": null,
            "overflow_x": null,
            "overflow_y": null,
            "padding": null,
            "right": null,
            "top": null,
            "visibility": null,
            "width": null
          }
        },
        "1d8ff4d68b0f4dcb82bfdd4ba293f819": {
          "model_module": "@jupyter-widgets/controls",
          "model_name": "ProgressStyleModel",
          "model_module_version": "1.5.0",
          "state": {
            "_model_module": "@jupyter-widgets/controls",
            "_model_module_version": "1.5.0",
            "_model_name": "ProgressStyleModel",
            "_view_count": null,
            "_view_module": "@jupyter-widgets/base",
            "_view_module_version": "1.2.0",
            "_view_name": "StyleView",
            "bar_color": null,
            "description_width": ""
          }
        },
        "6ba854af010c4469811c52e4be9f10ec": {
          "model_module": "@jupyter-widgets/base",
          "model_name": "LayoutModel",
          "model_module_version": "1.2.0",
          "state": {
            "_model_module": "@jupyter-widgets/base",
            "_model_module_version": "1.2.0",
            "_model_name": "LayoutModel",
            "_view_count": null,
            "_view_module": "@jupyter-widgets/base",
            "_view_module_version": "1.2.0",
            "_view_name": "LayoutView",
            "align_content": null,
            "align_items": null,
            "align_self": null,
            "border": null,
            "bottom": null,
            "display": null,
            "flex": null,
            "flex_flow": null,
            "grid_area": null,
            "grid_auto_columns": null,
            "grid_auto_flow": null,
            "grid_auto_rows": null,
            "grid_column": null,
            "grid_gap": null,
            "grid_row": null,
            "grid_template_areas": null,
            "grid_template_columns": null,
            "grid_template_rows": null,
            "height": null,
            "justify_content": null,
            "justify_items": null,
            "left": null,
            "margin": null,
            "max_height": null,
            "max_width": null,
            "min_height": null,
            "min_width": null,
            "object_fit": null,
            "object_position": null,
            "order": null,
            "overflow": null,
            "overflow_x": null,
            "overflow_y": null,
            "padding": null,
            "right": null,
            "top": null,
            "visibility": null,
            "width": null
          }
        },
        "362fa84b51ff438f835b54a257c57b43": {
          "model_module": "@jupyter-widgets/controls",
          "model_name": "DescriptionStyleModel",
          "model_module_version": "1.5.0",
          "state": {
            "_model_module": "@jupyter-widgets/controls",
            "_model_module_version": "1.5.0",
            "_model_name": "DescriptionStyleModel",
            "_view_count": null,
            "_view_module": "@jupyter-widgets/base",
            "_view_module_version": "1.2.0",
            "_view_name": "StyleView",
            "description_width": ""
          }
        },
        "2b69d4b7edc44aec99f614521d87fedb": {
          "model_module": "@jupyter-widgets/controls",
          "model_name": "HBoxModel",
          "model_module_version": "1.5.0",
          "state": {
            "_dom_classes": [],
            "_model_module": "@jupyter-widgets/controls",
            "_model_module_version": "1.5.0",
            "_model_name": "HBoxModel",
            "_view_count": null,
            "_view_module": "@jupyter-widgets/controls",
            "_view_module_version": "1.5.0",
            "_view_name": "HBoxView",
            "box_style": "",
            "children": [
              "IPY_MODEL_7e0d6d5b42914080866efa712aec5ca9",
              "IPY_MODEL_503f831c9c0c4abf8c525cbd906116c4",
              "IPY_MODEL_051ee9ab3c1b4531b57863ae9392ba9a"
            ],
            "layout": "IPY_MODEL_cb8130dd3c9c43798742bc12cd5c077d"
          }
        },
        "7e0d6d5b42914080866efa712aec5ca9": {
          "model_module": "@jupyter-widgets/controls",
          "model_name": "HTMLModel",
          "model_module_version": "1.5.0",
          "state": {
            "_dom_classes": [],
            "_model_module": "@jupyter-widgets/controls",
            "_model_module_version": "1.5.0",
            "_model_name": "HTMLModel",
            "_view_count": null,
            "_view_module": "@jupyter-widgets/controls",
            "_view_module_version": "1.5.0",
            "_view_name": "HTMLView",
            "description": "",
            "description_tooltip": null,
            "layout": "IPY_MODEL_7913d08c5d204eaa949b9b2fb2e534f5",
            "placeholder": "​",
            "style": "IPY_MODEL_887452d9c99b4a499233af5f97741c49",
            "value": "config.json: 100%"
          }
        },
        "503f831c9c0c4abf8c525cbd906116c4": {
          "model_module": "@jupyter-widgets/controls",
          "model_name": "FloatProgressModel",
          "model_module_version": "1.5.0",
          "state": {
            "_dom_classes": [],
            "_model_module": "@jupyter-widgets/controls",
            "_model_module_version": "1.5.0",
            "_model_name": "FloatProgressModel",
            "_view_count": null,
            "_view_module": "@jupyter-widgets/controls",
            "_view_module_version": "1.5.0",
            "_view_name": "ProgressView",
            "bar_style": "success",
            "description": "",
            "description_tooltip": null,
            "layout": "IPY_MODEL_363860d85a9246f3b67227eb3e254f96",
            "max": 636,
            "min": 0,
            "orientation": "horizontal",
            "style": "IPY_MODEL_0d179c93924f46a09ff85b5e45c22bf8",
            "value": 636
          }
        },
        "051ee9ab3c1b4531b57863ae9392ba9a": {
          "model_module": "@jupyter-widgets/controls",
          "model_name": "HTMLModel",
          "model_module_version": "1.5.0",
          "state": {
            "_dom_classes": [],
            "_model_module": "@jupyter-widgets/controls",
            "_model_module_version": "1.5.0",
            "_model_name": "HTMLModel",
            "_view_count": null,
            "_view_module": "@jupyter-widgets/controls",
            "_view_module_version": "1.5.0",
            "_view_name": "HTMLView",
            "description": "",
            "description_tooltip": null,
            "layout": "IPY_MODEL_b9e3c1ce2838486c86eef41ed2526678",
            "placeholder": "​",
            "style": "IPY_MODEL_2b80f99ba60244eca8fc0f8da56167aa",
            "value": " 636/636 [00:00&lt;00:00, 27.0kB/s]"
          }
        },
        "cb8130dd3c9c43798742bc12cd5c077d": {
          "model_module": "@jupyter-widgets/base",
          "model_name": "LayoutModel",
          "model_module_version": "1.2.0",
          "state": {
            "_model_module": "@jupyter-widgets/base",
            "_model_module_version": "1.2.0",
            "_model_name": "LayoutModel",
            "_view_count": null,
            "_view_module": "@jupyter-widgets/base",
            "_view_module_version": "1.2.0",
            "_view_name": "LayoutView",
            "align_content": null,
            "align_items": null,
            "align_self": null,
            "border": null,
            "bottom": null,
            "display": null,
            "flex": null,
            "flex_flow": null,
            "grid_area": null,
            "grid_auto_columns": null,
            "grid_auto_flow": null,
            "grid_auto_rows": null,
            "grid_column": null,
            "grid_gap": null,
            "grid_row": null,
            "grid_template_areas": null,
            "grid_template_columns": null,
            "grid_template_rows": null,
            "height": null,
            "justify_content": null,
            "justify_items": null,
            "left": null,
            "margin": null,
            "max_height": null,
            "max_width": null,
            "min_height": null,
            "min_width": null,
            "object_fit": null,
            "object_position": null,
            "order": null,
            "overflow": null,
            "overflow_x": null,
            "overflow_y": null,
            "padding": null,
            "right": null,
            "top": null,
            "visibility": null,
            "width": null
          }
        },
        "7913d08c5d204eaa949b9b2fb2e534f5": {
          "model_module": "@jupyter-widgets/base",
          "model_name": "LayoutModel",
          "model_module_version": "1.2.0",
          "state": {
            "_model_module": "@jupyter-widgets/base",
            "_model_module_version": "1.2.0",
            "_model_name": "LayoutModel",
            "_view_count": null,
            "_view_module": "@jupyter-widgets/base",
            "_view_module_version": "1.2.0",
            "_view_name": "LayoutView",
            "align_content": null,
            "align_items": null,
            "align_self": null,
            "border": null,
            "bottom": null,
            "display": null,
            "flex": null,
            "flex_flow": null,
            "grid_area": null,
            "grid_auto_columns": null,
            "grid_auto_flow": null,
            "grid_auto_rows": null,
            "grid_column": null,
            "grid_gap": null,
            "grid_row": null,
            "grid_template_areas": null,
            "grid_template_columns": null,
            "grid_template_rows": null,
            "height": null,
            "justify_content": null,
            "justify_items": null,
            "left": null,
            "margin": null,
            "max_height": null,
            "max_width": null,
            "min_height": null,
            "min_width": null,
            "object_fit": null,
            "object_position": null,
            "order": null,
            "overflow": null,
            "overflow_x": null,
            "overflow_y": null,
            "padding": null,
            "right": null,
            "top": null,
            "visibility": null,
            "width": null
          }
        },
        "887452d9c99b4a499233af5f97741c49": {
          "model_module": "@jupyter-widgets/controls",
          "model_name": "DescriptionStyleModel",
          "model_module_version": "1.5.0",
          "state": {
            "_model_module": "@jupyter-widgets/controls",
            "_model_module_version": "1.5.0",
            "_model_name": "DescriptionStyleModel",
            "_view_count": null,
            "_view_module": "@jupyter-widgets/base",
            "_view_module_version": "1.2.0",
            "_view_name": "StyleView",
            "description_width": ""
          }
        },
        "363860d85a9246f3b67227eb3e254f96": {
          "model_module": "@jupyter-widgets/base",
          "model_name": "LayoutModel",
          "model_module_version": "1.2.0",
          "state": {
            "_model_module": "@jupyter-widgets/base",
            "_model_module_version": "1.2.0",
            "_model_name": "LayoutModel",
            "_view_count": null,
            "_view_module": "@jupyter-widgets/base",
            "_view_module_version": "1.2.0",
            "_view_name": "LayoutView",
            "align_content": null,
            "align_items": null,
            "align_self": null,
            "border": null,
            "bottom": null,
            "display": null,
            "flex": null,
            "flex_flow": null,
            "grid_area": null,
            "grid_auto_columns": null,
            "grid_auto_flow": null,
            "grid_auto_rows": null,
            "grid_column": null,
            "grid_gap": null,
            "grid_row": null,
            "grid_template_areas": null,
            "grid_template_columns": null,
            "grid_template_rows": null,
            "height": null,
            "justify_content": null,
            "justify_items": null,
            "left": null,
            "margin": null,
            "max_height": null,
            "max_width": null,
            "min_height": null,
            "min_width": null,
            "object_fit": null,
            "object_position": null,
            "order": null,
            "overflow": null,
            "overflow_x": null,
            "overflow_y": null,
            "padding": null,
            "right": null,
            "top": null,
            "visibility": null,
            "width": null
          }
        },
        "0d179c93924f46a09ff85b5e45c22bf8": {
          "model_module": "@jupyter-widgets/controls",
          "model_name": "ProgressStyleModel",
          "model_module_version": "1.5.0",
          "state": {
            "_model_module": "@jupyter-widgets/controls",
            "_model_module_version": "1.5.0",
            "_model_name": "ProgressStyleModel",
            "_view_count": null,
            "_view_module": "@jupyter-widgets/base",
            "_view_module_version": "1.2.0",
            "_view_name": "StyleView",
            "bar_color": null,
            "description_width": ""
          }
        },
        "b9e3c1ce2838486c86eef41ed2526678": {
          "model_module": "@jupyter-widgets/base",
          "model_name": "LayoutModel",
          "model_module_version": "1.2.0",
          "state": {
            "_model_module": "@jupyter-widgets/base",
            "_model_module_version": "1.2.0",
            "_model_name": "LayoutModel",
            "_view_count": null,
            "_view_module": "@jupyter-widgets/base",
            "_view_module_version": "1.2.0",
            "_view_name": "LayoutView",
            "align_content": null,
            "align_items": null,
            "align_self": null,
            "border": null,
            "bottom": null,
            "display": null,
            "flex": null,
            "flex_flow": null,
            "grid_area": null,
            "grid_auto_columns": null,
            "grid_auto_flow": null,
            "grid_auto_rows": null,
            "grid_column": null,
            "grid_gap": null,
            "grid_row": null,
            "grid_template_areas": null,
            "grid_template_columns": null,
            "grid_template_rows": null,
            "height": null,
            "justify_content": null,
            "justify_items": null,
            "left": null,
            "margin": null,
            "max_height": null,
            "max_width": null,
            "min_height": null,
            "min_width": null,
            "object_fit": null,
            "object_position": null,
            "order": null,
            "overflow": null,
            "overflow_x": null,
            "overflow_y": null,
            "padding": null,
            "right": null,
            "top": null,
            "visibility": null,
            "width": null
          }
        },
        "2b80f99ba60244eca8fc0f8da56167aa": {
          "model_module": "@jupyter-widgets/controls",
          "model_name": "DescriptionStyleModel",
          "model_module_version": "1.5.0",
          "state": {
            "_model_module": "@jupyter-widgets/controls",
            "_model_module_version": "1.5.0",
            "_model_name": "DescriptionStyleModel",
            "_view_count": null,
            "_view_module": "@jupyter-widgets/base",
            "_view_module_version": "1.2.0",
            "_view_name": "StyleView",
            "description_width": ""
          }
        },
        "d1585de4aee14a01a82f8aba11a94899": {
          "model_module": "@jupyter-widgets/controls",
          "model_name": "HBoxModel",
          "model_module_version": "1.5.0",
          "state": {
            "_dom_classes": [],
            "_model_module": "@jupyter-widgets/controls",
            "_model_module_version": "1.5.0",
            "_model_name": "HBoxModel",
            "_view_count": null,
            "_view_module": "@jupyter-widgets/controls",
            "_view_module_version": "1.5.0",
            "_view_name": "HBoxView",
            "box_style": "",
            "children": [
              "IPY_MODEL_7714d59c5c1a4b8181ef5eeb5a0f8587",
              "IPY_MODEL_659c71c4b37046d09b37dced246c0a31",
              "IPY_MODEL_eebd3404c0c547a39e98daeda98b1cbd"
            ],
            "layout": "IPY_MODEL_f3b4aa65efc44e008a1e9eb745c52b4b"
          }
        },
        "7714d59c5c1a4b8181ef5eeb5a0f8587": {
          "model_module": "@jupyter-widgets/controls",
          "model_name": "HTMLModel",
          "model_module_version": "1.5.0",
          "state": {
            "_dom_classes": [],
            "_model_module": "@jupyter-widgets/controls",
            "_model_module_version": "1.5.0",
            "_model_name": "HTMLModel",
            "_view_count": null,
            "_view_module": "@jupyter-widgets/controls",
            "_view_module_version": "1.5.0",
            "_view_name": "HTMLView",
            "description": "",
            "description_tooltip": null,
            "layout": "IPY_MODEL_970b70495209481ba5619e8d23574446",
            "placeholder": "​",
            "style": "IPY_MODEL_090f79d44592409dbcd4af33a69b04b8",
            "value": "pytorch_model.bin: 100%"
          }
        },
        "659c71c4b37046d09b37dced246c0a31": {
          "model_module": "@jupyter-widgets/controls",
          "model_name": "FloatProgressModel",
          "model_module_version": "1.5.0",
          "state": {
            "_dom_classes": [],
            "_model_module": "@jupyter-widgets/controls",
            "_model_module_version": "1.5.0",
            "_model_name": "FloatProgressModel",
            "_view_count": null,
            "_view_module": "@jupyter-widgets/controls",
            "_view_module_version": "1.5.0",
            "_view_name": "ProgressView",
            "bar_style": "success",
            "description": "",
            "description_tooltip": null,
            "layout": "IPY_MODEL_d964239e587a4114a87cb21bcf53c73f",
            "max": 50672453,
            "min": 0,
            "orientation": "horizontal",
            "style": "IPY_MODEL_847282a14b704131a9b24aeaebf170f9",
            "value": 50672453
          }
        },
        "eebd3404c0c547a39e98daeda98b1cbd": {
          "model_module": "@jupyter-widgets/controls",
          "model_name": "HTMLModel",
          "model_module_version": "1.5.0",
          "state": {
            "_dom_classes": [],
            "_model_module": "@jupyter-widgets/controls",
            "_model_module_version": "1.5.0",
            "_model_name": "HTMLModel",
            "_view_count": null,
            "_view_module": "@jupyter-widgets/controls",
            "_view_module_version": "1.5.0",
            "_view_name": "HTMLView",
            "description": "",
            "description_tooltip": null,
            "layout": "IPY_MODEL_0aa0455cbf644c46841a7b73e24f8526",
            "placeholder": "​",
            "style": "IPY_MODEL_1e9fa2b50416484fab80efed3f1d0e7c",
            "value": " 50.7M/50.7M [00:00&lt;00:00, 212MB/s]"
          }
        },
        "f3b4aa65efc44e008a1e9eb745c52b4b": {
          "model_module": "@jupyter-widgets/base",
          "model_name": "LayoutModel",
          "model_module_version": "1.2.0",
          "state": {
            "_model_module": "@jupyter-widgets/base",
            "_model_module_version": "1.2.0",
            "_model_name": "LayoutModel",
            "_view_count": null,
            "_view_module": "@jupyter-widgets/base",
            "_view_module_version": "1.2.0",
            "_view_name": "LayoutView",
            "align_content": null,
            "align_items": null,
            "align_self": null,
            "border": null,
            "bottom": null,
            "display": null,
            "flex": null,
            "flex_flow": null,
            "grid_area": null,
            "grid_auto_columns": null,
            "grid_auto_flow": null,
            "grid_auto_rows": null,
            "grid_column": null,
            "grid_gap": null,
            "grid_row": null,
            "grid_template_areas": null,
            "grid_template_columns": null,
            "grid_template_rows": null,
            "height": null,
            "justify_content": null,
            "justify_items": null,
            "left": null,
            "margin": null,
            "max_height": null,
            "max_width": null,
            "min_height": null,
            "min_width": null,
            "object_fit": null,
            "object_position": null,
            "order": null,
            "overflow": null,
            "overflow_x": null,
            "overflow_y": null,
            "padding": null,
            "right": null,
            "top": null,
            "visibility": null,
            "width": null
          }
        },
        "970b70495209481ba5619e8d23574446": {
          "model_module": "@jupyter-widgets/base",
          "model_name": "LayoutModel",
          "model_module_version": "1.2.0",
          "state": {
            "_model_module": "@jupyter-widgets/base",
            "_model_module_version": "1.2.0",
            "_model_name": "LayoutModel",
            "_view_count": null,
            "_view_module": "@jupyter-widgets/base",
            "_view_module_version": "1.2.0",
            "_view_name": "LayoutView",
            "align_content": null,
            "align_items": null,
            "align_self": null,
            "border": null,
            "bottom": null,
            "display": null,
            "flex": null,
            "flex_flow": null,
            "grid_area": null,
            "grid_auto_columns": null,
            "grid_auto_flow": null,
            "grid_auto_rows": null,
            "grid_column": null,
            "grid_gap": null,
            "grid_row": null,
            "grid_template_areas": null,
            "grid_template_columns": null,
            "grid_template_rows": null,
            "height": null,
            "justify_content": null,
            "justify_items": null,
            "left": null,
            "margin": null,
            "max_height": null,
            "max_width": null,
            "min_height": null,
            "min_width": null,
            "object_fit": null,
            "object_position": null,
            "order": null,
            "overflow": null,
            "overflow_x": null,
            "overflow_y": null,
            "padding": null,
            "right": null,
            "top": null,
            "visibility": null,
            "width": null
          }
        },
        "090f79d44592409dbcd4af33a69b04b8": {
          "model_module": "@jupyter-widgets/controls",
          "model_name": "DescriptionStyleModel",
          "model_module_version": "1.5.0",
          "state": {
            "_model_module": "@jupyter-widgets/controls",
            "_model_module_version": "1.5.0",
            "_model_name": "DescriptionStyleModel",
            "_view_count": null,
            "_view_module": "@jupyter-widgets/base",
            "_view_module_version": "1.2.0",
            "_view_name": "StyleView",
            "description_width": ""
          }
        },
        "d964239e587a4114a87cb21bcf53c73f": {
          "model_module": "@jupyter-widgets/base",
          "model_name": "LayoutModel",
          "model_module_version": "1.2.0",
          "state": {
            "_model_module": "@jupyter-widgets/base",
            "_model_module_version": "1.2.0",
            "_model_name": "LayoutModel",
            "_view_count": null,
            "_view_module": "@jupyter-widgets/base",
            "_view_module_version": "1.2.0",
            "_view_name": "LayoutView",
            "align_content": null,
            "align_items": null,
            "align_self": null,
            "border": null,
            "bottom": null,
            "display": null,
            "flex": null,
            "flex_flow": null,
            "grid_area": null,
            "grid_auto_columns": null,
            "grid_auto_flow": null,
            "grid_auto_rows": null,
            "grid_column": null,
            "grid_gap": null,
            "grid_row": null,
            "grid_template_areas": null,
            "grid_template_columns": null,
            "grid_template_rows": null,
            "height": null,
            "justify_content": null,
            "justify_items": null,
            "left": null,
            "margin": null,
            "max_height": null,
            "max_width": null,
            "min_height": null,
            "min_width": null,
            "object_fit": null,
            "object_position": null,
            "order": null,
            "overflow": null,
            "overflow_x": null,
            "overflow_y": null,
            "padding": null,
            "right": null,
            "top": null,
            "visibility": null,
            "width": null
          }
        },
        "847282a14b704131a9b24aeaebf170f9": {
          "model_module": "@jupyter-widgets/controls",
          "model_name": "ProgressStyleModel",
          "model_module_version": "1.5.0",
          "state": {
            "_model_module": "@jupyter-widgets/controls",
            "_model_module_version": "1.5.0",
            "_model_name": "ProgressStyleModel",
            "_view_count": null,
            "_view_module": "@jupyter-widgets/base",
            "_view_module_version": "1.2.0",
            "_view_name": "StyleView",
            "bar_color": null,
            "description_width": ""
          }
        },
        "0aa0455cbf644c46841a7b73e24f8526": {
          "model_module": "@jupyter-widgets/base",
          "model_name": "LayoutModel",
          "model_module_version": "1.2.0",
          "state": {
            "_model_module": "@jupyter-widgets/base",
            "_model_module_version": "1.2.0",
            "_model_name": "LayoutModel",
            "_view_count": null,
            "_view_module": "@jupyter-widgets/base",
            "_view_module_version": "1.2.0",
            "_view_name": "LayoutView",
            "align_content": null,
            "align_items": null,
            "align_self": null,
            "border": null,
            "bottom": null,
            "display": null,
            "flex": null,
            "flex_flow": null,
            "grid_area": null,
            "grid_auto_columns": null,
            "grid_auto_flow": null,
            "grid_auto_rows": null,
            "grid_column": null,
            "grid_gap": null,
            "grid_row": null,
            "grid_template_areas": null,
            "grid_template_columns": null,
            "grid_template_rows": null,
            "height": null,
            "justify_content": null,
            "justify_items": null,
            "left": null,
            "margin": null,
            "max_height": null,
            "max_width": null,
            "min_height": null,
            "min_width": null,
            "object_fit": null,
            "object_position": null,
            "order": null,
            "overflow": null,
            "overflow_x": null,
            "overflow_y": null,
            "padding": null,
            "right": null,
            "top": null,
            "visibility": null,
            "width": null
          }
        },
        "1e9fa2b50416484fab80efed3f1d0e7c": {
          "model_module": "@jupyter-widgets/controls",
          "model_name": "DescriptionStyleModel",
          "model_module_version": "1.5.0",
          "state": {
            "_model_module": "@jupyter-widgets/controls",
            "_model_module_version": "1.5.0",
            "_model_name": "DescriptionStyleModel",
            "_view_count": null,
            "_view_module": "@jupyter-widgets/base",
            "_view_module_version": "1.2.0",
            "_view_name": "StyleView",
            "description_width": ""
          }
        },
        "668a617c2868461088d2547b25e532c8": {
          "model_module": "@jupyter-widgets/controls",
          "model_name": "HBoxModel",
          "model_module_version": "1.5.0",
          "state": {
            "_dom_classes": [],
            "_model_module": "@jupyter-widgets/controls",
            "_model_module_version": "1.5.0",
            "_model_name": "HBoxModel",
            "_view_count": null,
            "_view_module": "@jupyter-widgets/controls",
            "_view_module_version": "1.5.0",
            "_view_name": "HBoxView",
            "box_style": "",
            "children": [
              "IPY_MODEL_185e5f3486e7482da23b2a7ad9ec5d27",
              "IPY_MODEL_ba936df571a24d8393b63e13a7437602",
              "IPY_MODEL_3f34527b726f44349e250e0995aa2f37"
            ],
            "layout": "IPY_MODEL_d32f6f0af5334f4fa930a9013cf12841"
          }
        },
        "185e5f3486e7482da23b2a7ad9ec5d27": {
          "model_module": "@jupyter-widgets/controls",
          "model_name": "HTMLModel",
          "model_module_version": "1.5.0",
          "state": {
            "_dom_classes": [],
            "_model_module": "@jupyter-widgets/controls",
            "_model_module_version": "1.5.0",
            "_model_name": "HTMLModel",
            "_view_count": null,
            "_view_module": "@jupyter-widgets/controls",
            "_view_module_version": "1.5.0",
            "_view_name": "HTMLView",
            "description": "",
            "description_tooltip": null,
            "layout": "IPY_MODEL_529850b4698e43eb90b6bff48f6b8476",
            "placeholder": "​",
            "style": "IPY_MODEL_e13bee2b744f43ac876b4791ff113a6f",
            "value": "Map: 100%"
          }
        },
        "ba936df571a24d8393b63e13a7437602": {
          "model_module": "@jupyter-widgets/controls",
          "model_name": "FloatProgressModel",
          "model_module_version": "1.5.0",
          "state": {
            "_dom_classes": [],
            "_model_module": "@jupyter-widgets/controls",
            "_model_module_version": "1.5.0",
            "_model_name": "FloatProgressModel",
            "_view_count": null,
            "_view_module": "@jupyter-widgets/controls",
            "_view_module_version": "1.5.0",
            "_view_name": "ProgressView",
            "bar_style": "success",
            "description": "",
            "description_tooltip": null,
            "layout": "IPY_MODEL_23574cdd79d04200a54151b824f79083",
            "max": 11344,
            "min": 0,
            "orientation": "horizontal",
            "style": "IPY_MODEL_46b4d7c9f6da4dac9506278f719a469c",
            "value": 11344
          }
        },
        "3f34527b726f44349e250e0995aa2f37": {
          "model_module": "@jupyter-widgets/controls",
          "model_name": "HTMLModel",
          "model_module_version": "1.5.0",
          "state": {
            "_dom_classes": [],
            "_model_module": "@jupyter-widgets/controls",
            "_model_module_version": "1.5.0",
            "_model_name": "HTMLModel",
            "_view_count": null,
            "_view_module": "@jupyter-widgets/controls",
            "_view_module_version": "1.5.0",
            "_view_name": "HTMLView",
            "description": "",
            "description_tooltip": null,
            "layout": "IPY_MODEL_2dab4d26ff84418fa75e9a52bee0ceb6",
            "placeholder": "​",
            "style": "IPY_MODEL_1c1b4d93864543529a1f559973e8165d",
            "value": " 11344/11344 [02:44&lt;00:00, 77.79 examples/s]"
          }
        },
        "d32f6f0af5334f4fa930a9013cf12841": {
          "model_module": "@jupyter-widgets/base",
          "model_name": "LayoutModel",
          "model_module_version": "1.2.0",
          "state": {
            "_model_module": "@jupyter-widgets/base",
            "_model_module_version": "1.2.0",
            "_model_name": "LayoutModel",
            "_view_count": null,
            "_view_module": "@jupyter-widgets/base",
            "_view_module_version": "1.2.0",
            "_view_name": "LayoutView",
            "align_content": null,
            "align_items": null,
            "align_self": null,
            "border": null,
            "bottom": null,
            "display": null,
            "flex": null,
            "flex_flow": null,
            "grid_area": null,
            "grid_auto_columns": null,
            "grid_auto_flow": null,
            "grid_auto_rows": null,
            "grid_column": null,
            "grid_gap": null,
            "grid_row": null,
            "grid_template_areas": null,
            "grid_template_columns": null,
            "grid_template_rows": null,
            "height": null,
            "justify_content": null,
            "justify_items": null,
            "left": null,
            "margin": null,
            "max_height": null,
            "max_width": null,
            "min_height": null,
            "min_width": null,
            "object_fit": null,
            "object_position": null,
            "order": null,
            "overflow": null,
            "overflow_x": null,
            "overflow_y": null,
            "padding": null,
            "right": null,
            "top": null,
            "visibility": null,
            "width": null
          }
        },
        "529850b4698e43eb90b6bff48f6b8476": {
          "model_module": "@jupyter-widgets/base",
          "model_name": "LayoutModel",
          "model_module_version": "1.2.0",
          "state": {
            "_model_module": "@jupyter-widgets/base",
            "_model_module_version": "1.2.0",
            "_model_name": "LayoutModel",
            "_view_count": null,
            "_view_module": "@jupyter-widgets/base",
            "_view_module_version": "1.2.0",
            "_view_name": "LayoutView",
            "align_content": null,
            "align_items": null,
            "align_self": null,
            "border": null,
            "bottom": null,
            "display": null,
            "flex": null,
            "flex_flow": null,
            "grid_area": null,
            "grid_auto_columns": null,
            "grid_auto_flow": null,
            "grid_auto_rows": null,
            "grid_column": null,
            "grid_gap": null,
            "grid_row": null,
            "grid_template_areas": null,
            "grid_template_columns": null,
            "grid_template_rows": null,
            "height": null,
            "justify_content": null,
            "justify_items": null,
            "left": null,
            "margin": null,
            "max_height": null,
            "max_width": null,
            "min_height": null,
            "min_width": null,
            "object_fit": null,
            "object_position": null,
            "order": null,
            "overflow": null,
            "overflow_x": null,
            "overflow_y": null,
            "padding": null,
            "right": null,
            "top": null,
            "visibility": null,
            "width": null
          }
        },
        "e13bee2b744f43ac876b4791ff113a6f": {
          "model_module": "@jupyter-widgets/controls",
          "model_name": "DescriptionStyleModel",
          "model_module_version": "1.5.0",
          "state": {
            "_model_module": "@jupyter-widgets/controls",
            "_model_module_version": "1.5.0",
            "_model_name": "DescriptionStyleModel",
            "_view_count": null,
            "_view_module": "@jupyter-widgets/base",
            "_view_module_version": "1.2.0",
            "_view_name": "StyleView",
            "description_width": ""
          }
        },
        "23574cdd79d04200a54151b824f79083": {
          "model_module": "@jupyter-widgets/base",
          "model_name": "LayoutModel",
          "model_module_version": "1.2.0",
          "state": {
            "_model_module": "@jupyter-widgets/base",
            "_model_module_version": "1.2.0",
            "_model_name": "LayoutModel",
            "_view_count": null,
            "_view_module": "@jupyter-widgets/base",
            "_view_module_version": "1.2.0",
            "_view_name": "LayoutView",
            "align_content": null,
            "align_items": null,
            "align_self": null,
            "border": null,
            "bottom": null,
            "display": null,
            "flex": null,
            "flex_flow": null,
            "grid_area": null,
            "grid_auto_columns": null,
            "grid_auto_flow": null,
            "grid_auto_rows": null,
            "grid_column": null,
            "grid_gap": null,
            "grid_row": null,
            "grid_template_areas": null,
            "grid_template_columns": null,
            "grid_template_rows": null,
            "height": null,
            "justify_content": null,
            "justify_items": null,
            "left": null,
            "margin": null,
            "max_height": null,
            "max_width": null,
            "min_height": null,
            "min_width": null,
            "object_fit": null,
            "object_position": null,
            "order": null,
            "overflow": null,
            "overflow_x": null,
            "overflow_y": null,
            "padding": null,
            "right": null,
            "top": null,
            "visibility": null,
            "width": null
          }
        },
        "46b4d7c9f6da4dac9506278f719a469c": {
          "model_module": "@jupyter-widgets/controls",
          "model_name": "ProgressStyleModel",
          "model_module_version": "1.5.0",
          "state": {
            "_model_module": "@jupyter-widgets/controls",
            "_model_module_version": "1.5.0",
            "_model_name": "ProgressStyleModel",
            "_view_count": null,
            "_view_module": "@jupyter-widgets/base",
            "_view_module_version": "1.2.0",
            "_view_name": "StyleView",
            "bar_color": null,
            "description_width": ""
          }
        },
        "2dab4d26ff84418fa75e9a52bee0ceb6": {
          "model_module": "@jupyter-widgets/base",
          "model_name": "LayoutModel",
          "model_module_version": "1.2.0",
          "state": {
            "_model_module": "@jupyter-widgets/base",
            "_model_module_version": "1.2.0",
            "_model_name": "LayoutModel",
            "_view_count": null,
            "_view_module": "@jupyter-widgets/base",
            "_view_module_version": "1.2.0",
            "_view_name": "LayoutView",
            "align_content": null,
            "align_items": null,
            "align_self": null,
            "border": null,
            "bottom": null,
            "display": null,
            "flex": null,
            "flex_flow": null,
            "grid_area": null,
            "grid_auto_columns": null,
            "grid_auto_flow": null,
            "grid_auto_rows": null,
            "grid_column": null,
            "grid_gap": null,
            "grid_row": null,
            "grid_template_areas": null,
            "grid_template_columns": null,
            "grid_template_rows": null,
            "height": null,
            "justify_content": null,
            "justify_items": null,
            "left": null,
            "margin": null,
            "max_height": null,
            "max_width": null,
            "min_height": null,
            "min_width": null,
            "object_fit": null,
            "object_position": null,
            "order": null,
            "overflow": null,
            "overflow_x": null,
            "overflow_y": null,
            "padding": null,
            "right": null,
            "top": null,
            "visibility": null,
            "width": null
          }
        },
        "1c1b4d93864543529a1f559973e8165d": {
          "model_module": "@jupyter-widgets/controls",
          "model_name": "DescriptionStyleModel",
          "model_module_version": "1.5.0",
          "state": {
            "_model_module": "@jupyter-widgets/controls",
            "_model_module_version": "1.5.0",
            "_model_name": "DescriptionStyleModel",
            "_view_count": null,
            "_view_module": "@jupyter-widgets/base",
            "_view_module_version": "1.2.0",
            "_view_name": "StyleView",
            "description_width": ""
          }
        },
        "112cbb0a45994841ae36aa6d2a314d18": {
          "model_module": "@jupyter-widgets/controls",
          "model_name": "HBoxModel",
          "model_module_version": "1.5.0",
          "state": {
            "_dom_classes": [],
            "_model_module": "@jupyter-widgets/controls",
            "_model_module_version": "1.5.0",
            "_model_name": "HBoxModel",
            "_view_count": null,
            "_view_module": "@jupyter-widgets/controls",
            "_view_module_version": "1.5.0",
            "_view_name": "HBoxView",
            "box_style": "",
            "children": [
              "IPY_MODEL_421cf61baf794508b29e0d52b1ad5bc7",
              "IPY_MODEL_896b92ee2d6a454fb3a60ef410689b8f",
              "IPY_MODEL_5cee30e737fb47c68cd5d419e2d9cb99"
            ],
            "layout": "IPY_MODEL_5f1b071d65a04c529ebb71850ac0c59c"
          }
        },
        "421cf61baf794508b29e0d52b1ad5bc7": {
          "model_module": "@jupyter-widgets/controls",
          "model_name": "HTMLModel",
          "model_module_version": "1.5.0",
          "state": {
            "_dom_classes": [],
            "_model_module": "@jupyter-widgets/controls",
            "_model_module_version": "1.5.0",
            "_model_name": "HTMLModel",
            "_view_count": null,
            "_view_module": "@jupyter-widgets/controls",
            "_view_module_version": "1.5.0",
            "_view_name": "HTMLView",
            "description": "",
            "description_tooltip": null,
            "layout": "IPY_MODEL_aa91f28d437d42eda48c6cc3270b7808",
            "placeholder": "​",
            "style": "IPY_MODEL_80c4e72a1bc741a9a9218592cc217637",
            "value": "Filter: 100%"
          }
        },
        "896b92ee2d6a454fb3a60ef410689b8f": {
          "model_module": "@jupyter-widgets/controls",
          "model_name": "FloatProgressModel",
          "model_module_version": "1.5.0",
          "state": {
            "_dom_classes": [],
            "_model_module": "@jupyter-widgets/controls",
            "_model_module_version": "1.5.0",
            "_model_name": "FloatProgressModel",
            "_view_count": null,
            "_view_module": "@jupyter-widgets/controls",
            "_view_module_version": "1.5.0",
            "_view_name": "ProgressView",
            "bar_style": "success",
            "description": "",
            "description_tooltip": null,
            "layout": "IPY_MODEL_f27735003a15414fa22d777aeeb51eae",
            "max": 11344,
            "min": 0,
            "orientation": "horizontal",
            "style": "IPY_MODEL_adeb6c88711542a3b4c26c00beef2952",
            "value": 11344
          }
        },
        "5cee30e737fb47c68cd5d419e2d9cb99": {
          "model_module": "@jupyter-widgets/controls",
          "model_name": "HTMLModel",
          "model_module_version": "1.5.0",
          "state": {
            "_dom_classes": [],
            "_model_module": "@jupyter-widgets/controls",
            "_model_module_version": "1.5.0",
            "_model_name": "HTMLModel",
            "_view_count": null,
            "_view_module": "@jupyter-widgets/controls",
            "_view_module_version": "1.5.0",
            "_view_name": "HTMLView",
            "description": "",
            "description_tooltip": null,
            "layout": "IPY_MODEL_710f11461495409db24cb56cb180a964",
            "placeholder": "​",
            "style": "IPY_MODEL_983c4889a5bd460bb7409b5747e47397",
            "value": " 11344/11344 [00:00&lt;00:00, 49281.43 examples/s]"
          }
        },
        "5f1b071d65a04c529ebb71850ac0c59c": {
          "model_module": "@jupyter-widgets/base",
          "model_name": "LayoutModel",
          "model_module_version": "1.2.0",
          "state": {
            "_model_module": "@jupyter-widgets/base",
            "_model_module_version": "1.2.0",
            "_model_name": "LayoutModel",
            "_view_count": null,
            "_view_module": "@jupyter-widgets/base",
            "_view_module_version": "1.2.0",
            "_view_name": "LayoutView",
            "align_content": null,
            "align_items": null,
            "align_self": null,
            "border": null,
            "bottom": null,
            "display": null,
            "flex": null,
            "flex_flow": null,
            "grid_area": null,
            "grid_auto_columns": null,
            "grid_auto_flow": null,
            "grid_auto_rows": null,
            "grid_column": null,
            "grid_gap": null,
            "grid_row": null,
            "grid_template_areas": null,
            "grid_template_columns": null,
            "grid_template_rows": null,
            "height": null,
            "justify_content": null,
            "justify_items": null,
            "left": null,
            "margin": null,
            "max_height": null,
            "max_width": null,
            "min_height": null,
            "min_width": null,
            "object_fit": null,
            "object_position": null,
            "order": null,
            "overflow": null,
            "overflow_x": null,
            "overflow_y": null,
            "padding": null,
            "right": null,
            "top": null,
            "visibility": null,
            "width": null
          }
        },
        "aa91f28d437d42eda48c6cc3270b7808": {
          "model_module": "@jupyter-widgets/base",
          "model_name": "LayoutModel",
          "model_module_version": "1.2.0",
          "state": {
            "_model_module": "@jupyter-widgets/base",
            "_model_module_version": "1.2.0",
            "_model_name": "LayoutModel",
            "_view_count": null,
            "_view_module": "@jupyter-widgets/base",
            "_view_module_version": "1.2.0",
            "_view_name": "LayoutView",
            "align_content": null,
            "align_items": null,
            "align_self": null,
            "border": null,
            "bottom": null,
            "display": null,
            "flex": null,
            "flex_flow": null,
            "grid_area": null,
            "grid_auto_columns": null,
            "grid_auto_flow": null,
            "grid_auto_rows": null,
            "grid_column": null,
            "grid_gap": null,
            "grid_row": null,
            "grid_template_areas": null,
            "grid_template_columns": null,
            "grid_template_rows": null,
            "height": null,
            "justify_content": null,
            "justify_items": null,
            "left": null,
            "margin": null,
            "max_height": null,
            "max_width": null,
            "min_height": null,
            "min_width": null,
            "object_fit": null,
            "object_position": null,
            "order": null,
            "overflow": null,
            "overflow_x": null,
            "overflow_y": null,
            "padding": null,
            "right": null,
            "top": null,
            "visibility": null,
            "width": null
          }
        },
        "80c4e72a1bc741a9a9218592cc217637": {
          "model_module": "@jupyter-widgets/controls",
          "model_name": "DescriptionStyleModel",
          "model_module_version": "1.5.0",
          "state": {
            "_model_module": "@jupyter-widgets/controls",
            "_model_module_version": "1.5.0",
            "_model_name": "DescriptionStyleModel",
            "_view_count": null,
            "_view_module": "@jupyter-widgets/base",
            "_view_module_version": "1.2.0",
            "_view_name": "StyleView",
            "description_width": ""
          }
        },
        "f27735003a15414fa22d777aeeb51eae": {
          "model_module": "@jupyter-widgets/base",
          "model_name": "LayoutModel",
          "model_module_version": "1.2.0",
          "state": {
            "_model_module": "@jupyter-widgets/base",
            "_model_module_version": "1.2.0",
            "_model_name": "LayoutModel",
            "_view_count": null,
            "_view_module": "@jupyter-widgets/base",
            "_view_module_version": "1.2.0",
            "_view_name": "LayoutView",
            "align_content": null,
            "align_items": null,
            "align_self": null,
            "border": null,
            "bottom": null,
            "display": null,
            "flex": null,
            "flex_flow": null,
            "grid_area": null,
            "grid_auto_columns": null,
            "grid_auto_flow": null,
            "grid_auto_rows": null,
            "grid_column": null,
            "grid_gap": null,
            "grid_row": null,
            "grid_template_areas": null,
            "grid_template_columns": null,
            "grid_template_rows": null,
            "height": null,
            "justify_content": null,
            "justify_items": null,
            "left": null,
            "margin": null,
            "max_height": null,
            "max_width": null,
            "min_height": null,
            "min_width": null,
            "object_fit": null,
            "object_position": null,
            "order": null,
            "overflow": null,
            "overflow_x": null,
            "overflow_y": null,
            "padding": null,
            "right": null,
            "top": null,
            "visibility": null,
            "width": null
          }
        },
        "adeb6c88711542a3b4c26c00beef2952": {
          "model_module": "@jupyter-widgets/controls",
          "model_name": "ProgressStyleModel",
          "model_module_version": "1.5.0",
          "state": {
            "_model_module": "@jupyter-widgets/controls",
            "_model_module_version": "1.5.0",
            "_model_name": "ProgressStyleModel",
            "_view_count": null,
            "_view_module": "@jupyter-widgets/base",
            "_view_module_version": "1.2.0",
            "_view_name": "StyleView",
            "bar_color": null,
            "description_width": ""
          }
        },
        "710f11461495409db24cb56cb180a964": {
          "model_module": "@jupyter-widgets/base",
          "model_name": "LayoutModel",
          "model_module_version": "1.2.0",
          "state": {
            "_model_module": "@jupyter-widgets/base",
            "_model_module_version": "1.2.0",
            "_model_name": "LayoutModel",
            "_view_count": null,
            "_view_module": "@jupyter-widgets/base",
            "_view_module_version": "1.2.0",
            "_view_name": "LayoutView",
            "align_content": null,
            "align_items": null,
            "align_self": null,
            "border": null,
            "bottom": null,
            "display": null,
            "flex": null,
            "flex_flow": null,
            "grid_area": null,
            "grid_auto_columns": null,
            "grid_auto_flow": null,
            "grid_auto_rows": null,
            "grid_column": null,
            "grid_gap": null,
            "grid_row": null,
            "grid_template_areas": null,
            "grid_template_columns": null,
            "grid_template_rows": null,
            "height": null,
            "justify_content": null,
            "justify_items": null,
            "left": null,
            "margin": null,
            "max_height": null,
            "max_width": null,
            "min_height": null,
            "min_width": null,
            "object_fit": null,
            "object_position": null,
            "order": null,
            "overflow": null,
            "overflow_x": null,
            "overflow_y": null,
            "padding": null,
            "right": null,
            "top": null,
            "visibility": null,
            "width": null
          }
        },
        "983c4889a5bd460bb7409b5747e47397": {
          "model_module": "@jupyter-widgets/controls",
          "model_name": "DescriptionStyleModel",
          "model_module_version": "1.5.0",
          "state": {
            "_model_module": "@jupyter-widgets/controls",
            "_model_module_version": "1.5.0",
            "_model_name": "DescriptionStyleModel",
            "_view_count": null,
            "_view_module": "@jupyter-widgets/base",
            "_view_module_version": "1.2.0",
            "_view_name": "StyleView",
            "description_width": ""
          }
        },
        "774b0f08074441cba5b88cc11d941e31": {
          "model_module": "@jupyter-widgets/controls",
          "model_name": "VBoxModel",
          "model_module_version": "1.5.0",
          "state": {
            "_dom_classes": [],
            "_model_module": "@jupyter-widgets/controls",
            "_model_module_version": "1.5.0",
            "_model_name": "VBoxModel",
            "_view_count": null,
            "_view_module": "@jupyter-widgets/controls",
            "_view_module_version": "1.5.0",
            "_view_name": "VBoxView",
            "box_style": "",
            "children": [
              "IPY_MODEL_c30af8204fc24d1f81d6addab5e9c2e4",
              "IPY_MODEL_b62b5ad9a22f4adc9f8cf2a64c5a60bc",
              "IPY_MODEL_d8984151957942eaa2c44fcdb4475029",
              "IPY_MODEL_781aaa369cee402eb5835ce105a80098"
            ],
            "layout": "IPY_MODEL_b0d59eab849e41af9e14ddf62990f59f"
          }
        },
        "3abb8444955e41468cdc16c99417a57b": {
          "model_module": "@jupyter-widgets/controls",
          "model_name": "HTMLModel",
          "model_module_version": "1.5.0",
          "state": {
            "_dom_classes": [],
            "_model_module": "@jupyter-widgets/controls",
            "_model_module_version": "1.5.0",
            "_model_name": "HTMLModel",
            "_view_count": null,
            "_view_module": "@jupyter-widgets/controls",
            "_view_module_version": "1.5.0",
            "_view_name": "HTMLView",
            "description": "",
            "description_tooltip": null,
            "layout": "IPY_MODEL_34395590978647658c55e7066a30625a",
            "placeholder": "​",
            "style": "IPY_MODEL_a5dc72d8a6204b6e86cc51d518014058",
            "value": "<center> <img\nsrc=https://huggingface.co/front/assets/huggingface_logo-noborder.svg\nalt='Hugging Face'> <br> Copy a token from <a\nhref=\"https://huggingface.co/settings/tokens\" target=\"_blank\">your Hugging Face\ntokens page</a> and paste it below. <br> Immediately click login after copying\nyour token or it might be stored in plain text in this notebook file. </center>"
          }
        },
        "0e8cb35c14a542acafdfbb605a461b15": {
          "model_module": "@jupyter-widgets/controls",
          "model_name": "PasswordModel",
          "model_module_version": "1.5.0",
          "state": {
            "_dom_classes": [],
            "_model_module": "@jupyter-widgets/controls",
            "_model_module_version": "1.5.0",
            "_model_name": "PasswordModel",
            "_view_count": null,
            "_view_module": "@jupyter-widgets/controls",
            "_view_module_version": "1.5.0",
            "_view_name": "PasswordView",
            "continuous_update": true,
            "description": "Token:",
            "description_tooltip": null,
            "disabled": false,
            "layout": "IPY_MODEL_9bddf2f3381e4ac3a649aa86fbd55610",
            "placeholder": "​",
            "style": "IPY_MODEL_7a18dded571246278d3e1e6094951cf3",
            "value": ""
          }
        },
        "d0e24c4e77314edc8811e6830f6df2c2": {
          "model_module": "@jupyter-widgets/controls",
          "model_name": "CheckboxModel",
          "model_module_version": "1.5.0",
          "state": {
            "_dom_classes": [],
            "_model_module": "@jupyter-widgets/controls",
            "_model_module_version": "1.5.0",
            "_model_name": "CheckboxModel",
            "_view_count": null,
            "_view_module": "@jupyter-widgets/controls",
            "_view_module_version": "1.5.0",
            "_view_name": "CheckboxView",
            "description": "Add token as git credential?",
            "description_tooltip": null,
            "disabled": false,
            "indent": true,
            "layout": "IPY_MODEL_9a906de03aca4d77ba307bdcdd18ce07",
            "style": "IPY_MODEL_932ee753775244d5abdb8e6a52e9a026",
            "value": true
          }
        },
        "a9a896f9831044409e3ed03c9d78a4c2": {
          "model_module": "@jupyter-widgets/controls",
          "model_name": "ButtonModel",
          "model_module_version": "1.5.0",
          "state": {
            "_dom_classes": [],
            "_model_module": "@jupyter-widgets/controls",
            "_model_module_version": "1.5.0",
            "_model_name": "ButtonModel",
            "_view_count": null,
            "_view_module": "@jupyter-widgets/controls",
            "_view_module_version": "1.5.0",
            "_view_name": "ButtonView",
            "button_style": "",
            "description": "Login",
            "disabled": false,
            "icon": "",
            "layout": "IPY_MODEL_8c6e4164499443bba442255a57776e7f",
            "style": "IPY_MODEL_97224ca45eab4f289dd8b3d45e221b23",
            "tooltip": ""
          }
        },
        "8f2dc9758b8c4169a4a6ab8889777d7a": {
          "model_module": "@jupyter-widgets/controls",
          "model_name": "HTMLModel",
          "model_module_version": "1.5.0",
          "state": {
            "_dom_classes": [],
            "_model_module": "@jupyter-widgets/controls",
            "_model_module_version": "1.5.0",
            "_model_name": "HTMLModel",
            "_view_count": null,
            "_view_module": "@jupyter-widgets/controls",
            "_view_module_version": "1.5.0",
            "_view_name": "HTMLView",
            "description": "",
            "description_tooltip": null,
            "layout": "IPY_MODEL_0e3caded726b4bb78db2515d148eef24",
            "placeholder": "​",
            "style": "IPY_MODEL_438f06f44c444a018d7bf8cc60cde90c",
            "value": "\n<b>Pro Tip:</b> If you don't already have one, you can create a dedicated\n'notebooks' token with 'write' access, that you can then easily reuse for all\nnotebooks. </center>"
          }
        },
        "b0d59eab849e41af9e14ddf62990f59f": {
          "model_module": "@jupyter-widgets/base",
          "model_name": "LayoutModel",
          "model_module_version": "1.2.0",
          "state": {
            "_model_module": "@jupyter-widgets/base",
            "_model_module_version": "1.2.0",
            "_model_name": "LayoutModel",
            "_view_count": null,
            "_view_module": "@jupyter-widgets/base",
            "_view_module_version": "1.2.0",
            "_view_name": "LayoutView",
            "align_content": null,
            "align_items": "center",
            "align_self": null,
            "border": null,
            "bottom": null,
            "display": "flex",
            "flex": null,
            "flex_flow": "column",
            "grid_area": null,
            "grid_auto_columns": null,
            "grid_auto_flow": null,
            "grid_auto_rows": null,
            "grid_column": null,
            "grid_gap": null,
            "grid_row": null,
            "grid_template_areas": null,
            "grid_template_columns": null,
            "grid_template_rows": null,
            "height": null,
            "justify_content": null,
            "justify_items": null,
            "left": null,
            "margin": null,
            "max_height": null,
            "max_width": null,
            "min_height": null,
            "min_width": null,
            "object_fit": null,
            "object_position": null,
            "order": null,
            "overflow": null,
            "overflow_x": null,
            "overflow_y": null,
            "padding": null,
            "right": null,
            "top": null,
            "visibility": null,
            "width": "50%"
          }
        },
        "34395590978647658c55e7066a30625a": {
          "model_module": "@jupyter-widgets/base",
          "model_name": "LayoutModel",
          "model_module_version": "1.2.0",
          "state": {
            "_model_module": "@jupyter-widgets/base",
            "_model_module_version": "1.2.0",
            "_model_name": "LayoutModel",
            "_view_count": null,
            "_view_module": "@jupyter-widgets/base",
            "_view_module_version": "1.2.0",
            "_view_name": "LayoutView",
            "align_content": null,
            "align_items": null,
            "align_self": null,
            "border": null,
            "bottom": null,
            "display": null,
            "flex": null,
            "flex_flow": null,
            "grid_area": null,
            "grid_auto_columns": null,
            "grid_auto_flow": null,
            "grid_auto_rows": null,
            "grid_column": null,
            "grid_gap": null,
            "grid_row": null,
            "grid_template_areas": null,
            "grid_template_columns": null,
            "grid_template_rows": null,
            "height": null,
            "justify_content": null,
            "justify_items": null,
            "left": null,
            "margin": null,
            "max_height": null,
            "max_width": null,
            "min_height": null,
            "min_width": null,
            "object_fit": null,
            "object_position": null,
            "order": null,
            "overflow": null,
            "overflow_x": null,
            "overflow_y": null,
            "padding": null,
            "right": null,
            "top": null,
            "visibility": null,
            "width": null
          }
        },
        "a5dc72d8a6204b6e86cc51d518014058": {
          "model_module": "@jupyter-widgets/controls",
          "model_name": "DescriptionStyleModel",
          "model_module_version": "1.5.0",
          "state": {
            "_model_module": "@jupyter-widgets/controls",
            "_model_module_version": "1.5.0",
            "_model_name": "DescriptionStyleModel",
            "_view_count": null,
            "_view_module": "@jupyter-widgets/base",
            "_view_module_version": "1.2.0",
            "_view_name": "StyleView",
            "description_width": ""
          }
        },
        "9bddf2f3381e4ac3a649aa86fbd55610": {
          "model_module": "@jupyter-widgets/base",
          "model_name": "LayoutModel",
          "model_module_version": "1.2.0",
          "state": {
            "_model_module": "@jupyter-widgets/base",
            "_model_module_version": "1.2.0",
            "_model_name": "LayoutModel",
            "_view_count": null,
            "_view_module": "@jupyter-widgets/base",
            "_view_module_version": "1.2.0",
            "_view_name": "LayoutView",
            "align_content": null,
            "align_items": null,
            "align_self": null,
            "border": null,
            "bottom": null,
            "display": null,
            "flex": null,
            "flex_flow": null,
            "grid_area": null,
            "grid_auto_columns": null,
            "grid_auto_flow": null,
            "grid_auto_rows": null,
            "grid_column": null,
            "grid_gap": null,
            "grid_row": null,
            "grid_template_areas": null,
            "grid_template_columns": null,
            "grid_template_rows": null,
            "height": null,
            "justify_content": null,
            "justify_items": null,
            "left": null,
            "margin": null,
            "max_height": null,
            "max_width": null,
            "min_height": null,
            "min_width": null,
            "object_fit": null,
            "object_position": null,
            "order": null,
            "overflow": null,
            "overflow_x": null,
            "overflow_y": null,
            "padding": null,
            "right": null,
            "top": null,
            "visibility": null,
            "width": null
          }
        },
        "7a18dded571246278d3e1e6094951cf3": {
          "model_module": "@jupyter-widgets/controls",
          "model_name": "DescriptionStyleModel",
          "model_module_version": "1.5.0",
          "state": {
            "_model_module": "@jupyter-widgets/controls",
            "_model_module_version": "1.5.0",
            "_model_name": "DescriptionStyleModel",
            "_view_count": null,
            "_view_module": "@jupyter-widgets/base",
            "_view_module_version": "1.2.0",
            "_view_name": "StyleView",
            "description_width": ""
          }
        },
        "9a906de03aca4d77ba307bdcdd18ce07": {
          "model_module": "@jupyter-widgets/base",
          "model_name": "LayoutModel",
          "model_module_version": "1.2.0",
          "state": {
            "_model_module": "@jupyter-widgets/base",
            "_model_module_version": "1.2.0",
            "_model_name": "LayoutModel",
            "_view_count": null,
            "_view_module": "@jupyter-widgets/base",
            "_view_module_version": "1.2.0",
            "_view_name": "LayoutView",
            "align_content": null,
            "align_items": null,
            "align_self": null,
            "border": null,
            "bottom": null,
            "display": null,
            "flex": null,
            "flex_flow": null,
            "grid_area": null,
            "grid_auto_columns": null,
            "grid_auto_flow": null,
            "grid_auto_rows": null,
            "grid_column": null,
            "grid_gap": null,
            "grid_row": null,
            "grid_template_areas": null,
            "grid_template_columns": null,
            "grid_template_rows": null,
            "height": null,
            "justify_content": null,
            "justify_items": null,
            "left": null,
            "margin": null,
            "max_height": null,
            "max_width": null,
            "min_height": null,
            "min_width": null,
            "object_fit": null,
            "object_position": null,
            "order": null,
            "overflow": null,
            "overflow_x": null,
            "overflow_y": null,
            "padding": null,
            "right": null,
            "top": null,
            "visibility": null,
            "width": null
          }
        },
        "932ee753775244d5abdb8e6a52e9a026": {
          "model_module": "@jupyter-widgets/controls",
          "model_name": "DescriptionStyleModel",
          "model_module_version": "1.5.0",
          "state": {
            "_model_module": "@jupyter-widgets/controls",
            "_model_module_version": "1.5.0",
            "_model_name": "DescriptionStyleModel",
            "_view_count": null,
            "_view_module": "@jupyter-widgets/base",
            "_view_module_version": "1.2.0",
            "_view_name": "StyleView",
            "description_width": ""
          }
        },
        "8c6e4164499443bba442255a57776e7f": {
          "model_module": "@jupyter-widgets/base",
          "model_name": "LayoutModel",
          "model_module_version": "1.2.0",
          "state": {
            "_model_module": "@jupyter-widgets/base",
            "_model_module_version": "1.2.0",
            "_model_name": "LayoutModel",
            "_view_count": null,
            "_view_module": "@jupyter-widgets/base",
            "_view_module_version": "1.2.0",
            "_view_name": "LayoutView",
            "align_content": null,
            "align_items": null,
            "align_self": null,
            "border": null,
            "bottom": null,
            "display": null,
            "flex": null,
            "flex_flow": null,
            "grid_area": null,
            "grid_auto_columns": null,
            "grid_auto_flow": null,
            "grid_auto_rows": null,
            "grid_column": null,
            "grid_gap": null,
            "grid_row": null,
            "grid_template_areas": null,
            "grid_template_columns": null,
            "grid_template_rows": null,
            "height": null,
            "justify_content": null,
            "justify_items": null,
            "left": null,
            "margin": null,
            "max_height": null,
            "max_width": null,
            "min_height": null,
            "min_width": null,
            "object_fit": null,
            "object_position": null,
            "order": null,
            "overflow": null,
            "overflow_x": null,
            "overflow_y": null,
            "padding": null,
            "right": null,
            "top": null,
            "visibility": null,
            "width": null
          }
        },
        "97224ca45eab4f289dd8b3d45e221b23": {
          "model_module": "@jupyter-widgets/controls",
          "model_name": "ButtonStyleModel",
          "model_module_version": "1.5.0",
          "state": {
            "_model_module": "@jupyter-widgets/controls",
            "_model_module_version": "1.5.0",
            "_model_name": "ButtonStyleModel",
            "_view_count": null,
            "_view_module": "@jupyter-widgets/base",
            "_view_module_version": "1.2.0",
            "_view_name": "StyleView",
            "button_color": null,
            "font_weight": ""
          }
        },
        "0e3caded726b4bb78db2515d148eef24": {
          "model_module": "@jupyter-widgets/base",
          "model_name": "LayoutModel",
          "model_module_version": "1.2.0",
          "state": {
            "_model_module": "@jupyter-widgets/base",
            "_model_module_version": "1.2.0",
            "_model_name": "LayoutModel",
            "_view_count": null,
            "_view_module": "@jupyter-widgets/base",
            "_view_module_version": "1.2.0",
            "_view_name": "LayoutView",
            "align_content": null,
            "align_items": null,
            "align_self": null,
            "border": null,
            "bottom": null,
            "display": null,
            "flex": null,
            "flex_flow": null,
            "grid_area": null,
            "grid_auto_columns": null,
            "grid_auto_flow": null,
            "grid_auto_rows": null,
            "grid_column": null,
            "grid_gap": null,
            "grid_row": null,
            "grid_template_areas": null,
            "grid_template_columns": null,
            "grid_template_rows": null,
            "height": null,
            "justify_content": null,
            "justify_items": null,
            "left": null,
            "margin": null,
            "max_height": null,
            "max_width": null,
            "min_height": null,
            "min_width": null,
            "object_fit": null,
            "object_position": null,
            "order": null,
            "overflow": null,
            "overflow_x": null,
            "overflow_y": null,
            "padding": null,
            "right": null,
            "top": null,
            "visibility": null,
            "width": null
          }
        },
        "438f06f44c444a018d7bf8cc60cde90c": {
          "model_module": "@jupyter-widgets/controls",
          "model_name": "DescriptionStyleModel",
          "model_module_version": "1.5.0",
          "state": {
            "_model_module": "@jupyter-widgets/controls",
            "_model_module_version": "1.5.0",
            "_model_name": "DescriptionStyleModel",
            "_view_count": null,
            "_view_module": "@jupyter-widgets/base",
            "_view_module_version": "1.2.0",
            "_view_name": "StyleView",
            "description_width": ""
          }
        },
        "9c1b9788e3594dd390c462025c81bce3": {
          "model_module": "@jupyter-widgets/controls",
          "model_name": "LabelModel",
          "model_module_version": "1.5.0",
          "state": {
            "_dom_classes": [],
            "_model_module": "@jupyter-widgets/controls",
            "_model_module_version": "1.5.0",
            "_model_name": "LabelModel",
            "_view_count": null,
            "_view_module": "@jupyter-widgets/controls",
            "_view_module_version": "1.5.0",
            "_view_name": "LabelView",
            "description": "",
            "description_tooltip": null,
            "layout": "IPY_MODEL_b6a2881769bd4399be51da94fe64da42",
            "placeholder": "​",
            "style": "IPY_MODEL_b3eed5f9d1264aa3be4f3c517bc8ebd5",
            "value": "Connecting..."
          }
        },
        "b6a2881769bd4399be51da94fe64da42": {
          "model_module": "@jupyter-widgets/base",
          "model_name": "LayoutModel",
          "model_module_version": "1.2.0",
          "state": {
            "_model_module": "@jupyter-widgets/base",
            "_model_module_version": "1.2.0",
            "_model_name": "LayoutModel",
            "_view_count": null,
            "_view_module": "@jupyter-widgets/base",
            "_view_module_version": "1.2.0",
            "_view_name": "LayoutView",
            "align_content": null,
            "align_items": null,
            "align_self": null,
            "border": null,
            "bottom": null,
            "display": null,
            "flex": null,
            "flex_flow": null,
            "grid_area": null,
            "grid_auto_columns": null,
            "grid_auto_flow": null,
            "grid_auto_rows": null,
            "grid_column": null,
            "grid_gap": null,
            "grid_row": null,
            "grid_template_areas": null,
            "grid_template_columns": null,
            "grid_template_rows": null,
            "height": null,
            "justify_content": null,
            "justify_items": null,
            "left": null,
            "margin": null,
            "max_height": null,
            "max_width": null,
            "min_height": null,
            "min_width": null,
            "object_fit": null,
            "object_position": null,
            "order": null,
            "overflow": null,
            "overflow_x": null,
            "overflow_y": null,
            "padding": null,
            "right": null,
            "top": null,
            "visibility": null,
            "width": null
          }
        },
        "b3eed5f9d1264aa3be4f3c517bc8ebd5": {
          "model_module": "@jupyter-widgets/controls",
          "model_name": "DescriptionStyleModel",
          "model_module_version": "1.5.0",
          "state": {
            "_model_module": "@jupyter-widgets/controls",
            "_model_module_version": "1.5.0",
            "_model_name": "DescriptionStyleModel",
            "_view_count": null,
            "_view_module": "@jupyter-widgets/base",
            "_view_module_version": "1.2.0",
            "_view_name": "StyleView",
            "description_width": ""
          }
        },
        "c30af8204fc24d1f81d6addab5e9c2e4": {
          "model_module": "@jupyter-widgets/controls",
          "model_name": "LabelModel",
          "model_module_version": "1.5.0",
          "state": {
            "_dom_classes": [],
            "_model_module": "@jupyter-widgets/controls",
            "_model_module_version": "1.5.0",
            "_model_name": "LabelModel",
            "_view_count": null,
            "_view_module": "@jupyter-widgets/controls",
            "_view_module_version": "1.5.0",
            "_view_name": "LabelView",
            "description": "",
            "description_tooltip": null,
            "layout": "IPY_MODEL_e99bbbc4ea68450fb43bddbc9a6781d9",
            "placeholder": "​",
            "style": "IPY_MODEL_58e6fa946d2e4de8b08ff55528873b0a",
            "value": "Token is valid (permission: write)."
          }
        },
        "b62b5ad9a22f4adc9f8cf2a64c5a60bc": {
          "model_module": "@jupyter-widgets/controls",
          "model_name": "LabelModel",
          "model_module_version": "1.5.0",
          "state": {
            "_dom_classes": [],
            "_model_module": "@jupyter-widgets/controls",
            "_model_module_version": "1.5.0",
            "_model_name": "LabelModel",
            "_view_count": null,
            "_view_module": "@jupyter-widgets/controls",
            "_view_module_version": "1.5.0",
            "_view_name": "LabelView",
            "description": "",
            "description_tooltip": null,
            "layout": "IPY_MODEL_e2f415d9ea704b92ae6ad93761211ce5",
            "placeholder": "​",
            "style": "IPY_MODEL_9fded67fc65447298b68bedb91323881",
            "value": "Your token has been saved in your configured git credential helpers (store)."
          }
        },
        "d8984151957942eaa2c44fcdb4475029": {
          "model_module": "@jupyter-widgets/controls",
          "model_name": "LabelModel",
          "model_module_version": "1.5.0",
          "state": {
            "_dom_classes": [],
            "_model_module": "@jupyter-widgets/controls",
            "_model_module_version": "1.5.0",
            "_model_name": "LabelModel",
            "_view_count": null,
            "_view_module": "@jupyter-widgets/controls",
            "_view_module_version": "1.5.0",
            "_view_name": "LabelView",
            "description": "",
            "description_tooltip": null,
            "layout": "IPY_MODEL_65af15ce94b34af1a811ac317b5978ee",
            "placeholder": "​",
            "style": "IPY_MODEL_18bdf43a5ede48109668db497a1d233f",
            "value": "Your token has been saved to /root/.cache/huggingface/token"
          }
        },
        "781aaa369cee402eb5835ce105a80098": {
          "model_module": "@jupyter-widgets/controls",
          "model_name": "LabelModel",
          "model_module_version": "1.5.0",
          "state": {
            "_dom_classes": [],
            "_model_module": "@jupyter-widgets/controls",
            "_model_module_version": "1.5.0",
            "_model_name": "LabelModel",
            "_view_count": null,
            "_view_module": "@jupyter-widgets/controls",
            "_view_module_version": "1.5.0",
            "_view_name": "LabelView",
            "description": "",
            "description_tooltip": null,
            "layout": "IPY_MODEL_9eafbfef20244323857f7d74b42ee00d",
            "placeholder": "​",
            "style": "IPY_MODEL_63a04906a58a41cd83006bed696b4f0d",
            "value": "Login successful"
          }
        },
        "e99bbbc4ea68450fb43bddbc9a6781d9": {
          "model_module": "@jupyter-widgets/base",
          "model_name": "LayoutModel",
          "model_module_version": "1.2.0",
          "state": {
            "_model_module": "@jupyter-widgets/base",
            "_model_module_version": "1.2.0",
            "_model_name": "LayoutModel",
            "_view_count": null,
            "_view_module": "@jupyter-widgets/base",
            "_view_module_version": "1.2.0",
            "_view_name": "LayoutView",
            "align_content": null,
            "align_items": null,
            "align_self": null,
            "border": null,
            "bottom": null,
            "display": null,
            "flex": null,
            "flex_flow": null,
            "grid_area": null,
            "grid_auto_columns": null,
            "grid_auto_flow": null,
            "grid_auto_rows": null,
            "grid_column": null,
            "grid_gap": null,
            "grid_row": null,
            "grid_template_areas": null,
            "grid_template_columns": null,
            "grid_template_rows": null,
            "height": null,
            "justify_content": null,
            "justify_items": null,
            "left": null,
            "margin": null,
            "max_height": null,
            "max_width": null,
            "min_height": null,
            "min_width": null,
            "object_fit": null,
            "object_position": null,
            "order": null,
            "overflow": null,
            "overflow_x": null,
            "overflow_y": null,
            "padding": null,
            "right": null,
            "top": null,
            "visibility": null,
            "width": null
          }
        },
        "58e6fa946d2e4de8b08ff55528873b0a": {
          "model_module": "@jupyter-widgets/controls",
          "model_name": "DescriptionStyleModel",
          "model_module_version": "1.5.0",
          "state": {
            "_model_module": "@jupyter-widgets/controls",
            "_model_module_version": "1.5.0",
            "_model_name": "DescriptionStyleModel",
            "_view_count": null,
            "_view_module": "@jupyter-widgets/base",
            "_view_module_version": "1.2.0",
            "_view_name": "StyleView",
            "description_width": ""
          }
        },
        "e2f415d9ea704b92ae6ad93761211ce5": {
          "model_module": "@jupyter-widgets/base",
          "model_name": "LayoutModel",
          "model_module_version": "1.2.0",
          "state": {
            "_model_module": "@jupyter-widgets/base",
            "_model_module_version": "1.2.0",
            "_model_name": "LayoutModel",
            "_view_count": null,
            "_view_module": "@jupyter-widgets/base",
            "_view_module_version": "1.2.0",
            "_view_name": "LayoutView",
            "align_content": null,
            "align_items": null,
            "align_self": null,
            "border": null,
            "bottom": null,
            "display": null,
            "flex": null,
            "flex_flow": null,
            "grid_area": null,
            "grid_auto_columns": null,
            "grid_auto_flow": null,
            "grid_auto_rows": null,
            "grid_column": null,
            "grid_gap": null,
            "grid_row": null,
            "grid_template_areas": null,
            "grid_template_columns": null,
            "grid_template_rows": null,
            "height": null,
            "justify_content": null,
            "justify_items": null,
            "left": null,
            "margin": null,
            "max_height": null,
            "max_width": null,
            "min_height": null,
            "min_width": null,
            "object_fit": null,
            "object_position": null,
            "order": null,
            "overflow": null,
            "overflow_x": null,
            "overflow_y": null,
            "padding": null,
            "right": null,
            "top": null,
            "visibility": null,
            "width": null
          }
        },
        "9fded67fc65447298b68bedb91323881": {
          "model_module": "@jupyter-widgets/controls",
          "model_name": "DescriptionStyleModel",
          "model_module_version": "1.5.0",
          "state": {
            "_model_module": "@jupyter-widgets/controls",
            "_model_module_version": "1.5.0",
            "_model_name": "DescriptionStyleModel",
            "_view_count": null,
            "_view_module": "@jupyter-widgets/base",
            "_view_module_version": "1.2.0",
            "_view_name": "StyleView",
            "description_width": ""
          }
        },
        "65af15ce94b34af1a811ac317b5978ee": {
          "model_module": "@jupyter-widgets/base",
          "model_name": "LayoutModel",
          "model_module_version": "1.2.0",
          "state": {
            "_model_module": "@jupyter-widgets/base",
            "_model_module_version": "1.2.0",
            "_model_name": "LayoutModel",
            "_view_count": null,
            "_view_module": "@jupyter-widgets/base",
            "_view_module_version": "1.2.0",
            "_view_name": "LayoutView",
            "align_content": null,
            "align_items": null,
            "align_self": null,
            "border": null,
            "bottom": null,
            "display": null,
            "flex": null,
            "flex_flow": null,
            "grid_area": null,
            "grid_auto_columns": null,
            "grid_auto_flow": null,
            "grid_auto_rows": null,
            "grid_column": null,
            "grid_gap": null,
            "grid_row": null,
            "grid_template_areas": null,
            "grid_template_columns": null,
            "grid_template_rows": null,
            "height": null,
            "justify_content": null,
            "justify_items": null,
            "left": null,
            "margin": null,
            "max_height": null,
            "max_width": null,
            "min_height": null,
            "min_width": null,
            "object_fit": null,
            "object_position": null,
            "order": null,
            "overflow": null,
            "overflow_x": null,
            "overflow_y": null,
            "padding": null,
            "right": null,
            "top": null,
            "visibility": null,
            "width": null
          }
        },
        "18bdf43a5ede48109668db497a1d233f": {
          "model_module": "@jupyter-widgets/controls",
          "model_name": "DescriptionStyleModel",
          "model_module_version": "1.5.0",
          "state": {
            "_model_module": "@jupyter-widgets/controls",
            "_model_module_version": "1.5.0",
            "_model_name": "DescriptionStyleModel",
            "_view_count": null,
            "_view_module": "@jupyter-widgets/base",
            "_view_module_version": "1.2.0",
            "_view_name": "StyleView",
            "description_width": ""
          }
        },
        "9eafbfef20244323857f7d74b42ee00d": {
          "model_module": "@jupyter-widgets/base",
          "model_name": "LayoutModel",
          "model_module_version": "1.2.0",
          "state": {
            "_model_module": "@jupyter-widgets/base",
            "_model_module_version": "1.2.0",
            "_model_name": "LayoutModel",
            "_view_count": null,
            "_view_module": "@jupyter-widgets/base",
            "_view_module_version": "1.2.0",
            "_view_name": "LayoutView",
            "align_content": null,
            "align_items": null,
            "align_self": null,
            "border": null,
            "bottom": null,
            "display": null,
            "flex": null,
            "flex_flow": null,
            "grid_area": null,
            "grid_auto_columns": null,
            "grid_auto_flow": null,
            "grid_auto_rows": null,
            "grid_column": null,
            "grid_gap": null,
            "grid_row": null,
            "grid_template_areas": null,
            "grid_template_columns": null,
            "grid_template_rows": null,
            "height": null,
            "justify_content": null,
            "justify_items": null,
            "left": null,
            "margin": null,
            "max_height": null,
            "max_width": null,
            "min_height": null,
            "min_width": null,
            "object_fit": null,
            "object_position": null,
            "order": null,
            "overflow": null,
            "overflow_x": null,
            "overflow_y": null,
            "padding": null,
            "right": null,
            "top": null,
            "visibility": null,
            "width": null
          }
        },
        "63a04906a58a41cd83006bed696b4f0d": {
          "model_module": "@jupyter-widgets/controls",
          "model_name": "DescriptionStyleModel",
          "model_module_version": "1.5.0",
          "state": {
            "_model_module": "@jupyter-widgets/controls",
            "_model_module_version": "1.5.0",
            "_model_name": "DescriptionStyleModel",
            "_view_count": null,
            "_view_module": "@jupyter-widgets/base",
            "_view_module_version": "1.2.0",
            "_view_name": "StyleView",
            "description_width": ""
          }
        }
      }
    },
    "accelerator": "GPU",
    "gpuClass": "standard"
  },
  "cells": [
    {
      "cell_type": "markdown",
      "source": [
        "# Fine-tuning SpeechT5 for multilingual TTS"
      ],
      "metadata": {
        "id": "2RosoNrCxVng"
      }
    },
    {
      "cell_type": "markdown",
      "source": [
        "This notebook demonstrates how to fine-tune the SpeechT5 model from 🤗 Transformers on the **text-to-speech** task.\n",
        "\n",
        "The unique thing about SpeechT5 is that the model is first pre-trained on a combination of speech-to-text and text-to-speech data, so that it learns a unified space of hidden representations shared by both text and speech. This allows us to fine-tune the same pretrained model on different tasks. Read more about SpeechT5 [in our blog post](https://huggingface.co/blog/speecht5).\n",
        "\n",
        "In this notebook we will start from an existing fine-tuned TTS model that was originally trained on English speech from LibriTTS, and fine-tune it for the Dutch language using the VoxPopuli dataset.\n",
        "\n",
        "This TTS model will support multiple speakers through x-vector speaker embeddings."
      ],
      "metadata": {
        "id": "uELTb9CcOaCp"
      }
    },
    {
      "cell_type": "markdown",
      "source": [
        "## Install required packages\n",
        "\n",
        "We install Transformers from GitHub since not all the SpeechT5 features we need have been merged into an official release yet.\n"
      ],
      "metadata": {
        "id": "5xB8fh-ht4kK"
      }
    },
    {
      "cell_type": "code",
      "source": [
        "!pip install datasets soundfile speechbrain"
      ],
      "metadata": {
        "id": "xJe8TF3atyqL",
        "outputId": "de2e747b-219e-41e8-dbe5-6321707f363e",
        "colab": {
          "base_uri": "https://localhost:8080/"
        }
      },
      "execution_count": 2,
      "outputs": [
        {
          "output_type": "stream",
          "name": "stdout",
          "text": [
            "Collecting nvidia-cublas-cu12==12.1.3.1 (from torch>=1.9->speechbrain)\n",
            "  Using cached nvidia_cublas_cu12-12.1.3.1-py3-none-manylinux1_x86_64.whl (410.6 MB)\n",
            "Collecting nvidia-cufft-cu12==11.0.2.54 (from torch>=1.9->speechbrain)\n",
            "  Using cached nvidia_cufft_cu12-11.0.2.54-py3-none-manylinux1_x86_64.whl (121.6 MB)\n",
            "Collecting nvidia-curand-cu12==10.3.2.106 (from torch>=1.9->speechbrain)\n",
            "  Using cached nvidia_curand_cu12-10.3.2.106-py3-none-manylinux1_x86_64.whl (56.5 MB)\n",
            "Collecting nvidia-cusolver-cu12==11.4.5.107 (from torch>=1.9->speechbrain)\n",
            "  Using cached nvidia_cusolver_cu12-11.4.5.107-py3-none-manylinux1_x86_64.whl (124.2 MB)\n",
            "Collecting nvidia-cusparse-cu12==12.1.0.106 (from torch>=1.9->speechbrain)\n",
            "  Using cached nvidia_cusparse_cu12-12.1.0.106-py3-none-manylinux1_x86_64.whl (196.0 MB)\n",
            "Collecting nvidia-nccl-cu12==2.19.3 (from torch>=1.9->speechbrain)\n",
            "  Using cached nvidia_nccl_cu12-2.19.3-py3-none-manylinux1_x86_64.whl (166.0 MB)\n",
            "Collecting nvidia-nvtx-cu12==12.1.105 (from torch>=1.9->speechbrain)\n",
            "  Using cached nvidia_nvtx_cu12-12.1.105-py3-none-manylinux1_x86_64.whl (99 kB)\n",
            "Requirement already satisfied: triton==2.2.0 in /usr/local/lib/python3.10/dist-packages (from torch>=1.9->speechbrain) (2.2.0)\n",
            "Collecting nvidia-nvjitlink-cu12 (from nvidia-cusolver-cu12==11.4.5.107->torch>=1.9->speechbrain)\n",
            "  Using cached nvidia_nvjitlink_cu12-12.4.127-py3-none-manylinux2014_x86_64.whl (21.1 MB)\n",
            "Collecting ruamel.yaml>=0.17.28 (from hyperpyyaml->speechbrain)\n",
            "  Downloading ruamel.yaml-0.18.6-py3-none-any.whl (117 kB)\n",
            "\u001b[2K     \u001b[90m━━━━━━━━━━━━━━━━━━━━━━━━━━━━━━━━━━━━━━━━\u001b[0m \u001b[32m117.8/117.8 kB\u001b[0m \u001b[31m15.1 MB/s\u001b[0m eta \u001b[36m0:00:00\u001b[0m\n",
            "\u001b[?25hRequirement already satisfied: python-dateutil>=2.8.2 in /usr/local/lib/python3.10/dist-packages (from pandas->datasets) (2.8.2)\n",
            "Requirement already satisfied: pytz>=2020.1 in /usr/local/lib/python3.10/dist-packages (from pandas->datasets) (2023.4)\n",
            "Requirement already satisfied: tzdata>=2022.1 in /usr/local/lib/python3.10/dist-packages (from pandas->datasets) (2024.1)\n",
            "Requirement already satisfied: six>=1.5 in /usr/local/lib/python3.10/dist-packages (from python-dateutil>=2.8.2->pandas->datasets) (1.16.0)\n",
            "Collecting ruamel.yaml.clib>=0.2.7 (from ruamel.yaml>=0.17.28->hyperpyyaml->speechbrain)\n",
            "  Downloading ruamel.yaml.clib-0.2.8-cp310-cp310-manylinux_2_17_x86_64.manylinux2014_x86_64.manylinux_2_24_x86_64.whl (526 kB)\n",
            "\u001b[2K     \u001b[90m━━━━━━━━━━━━━━━━━━━━━━━━━━━━━━━━━━━━━━━━\u001b[0m \u001b[32m526.7/526.7 kB\u001b[0m \u001b[31m17.4 MB/s\u001b[0m eta \u001b[36m0:00:00\u001b[0m\n",
            "\u001b[?25hRequirement already satisfied: MarkupSafe>=2.0 in /usr/local/lib/python3.10/dist-packages (from jinja2->torch>=1.9->speechbrain) (2.1.5)\n",
            "Requirement already satisfied: mpmath>=0.19 in /usr/local/lib/python3.10/dist-packages (from sympy->torch>=1.9->speechbrain) (1.3.0)\n",
            "Installing collected packages: xxhash, ruamel.yaml.clib, nvidia-nvtx-cu12, nvidia-nvjitlink-cu12, nvidia-nccl-cu12, nvidia-curand-cu12, nvidia-cufft-cu12, nvidia-cuda-runtime-cu12, nvidia-cuda-nvrtc-cu12, nvidia-cuda-cupti-cu12, nvidia-cublas-cu12, dill, ruamel.yaml, nvidia-cusparse-cu12, nvidia-cudnn-cu12, multiprocess, huggingface-hub, nvidia-cusolver-cu12, hyperpyyaml, datasets, speechbrain\n",
            "  Attempting uninstall: huggingface-hub\n",
            "    Found existing installation: huggingface-hub 0.20.3\n",
            "    Uninstalling huggingface-hub-0.20.3:\n",
            "      Successfully uninstalled huggingface-hub-0.20.3\n",
            "Successfully installed datasets-2.19.0 dill-0.3.8 huggingface-hub-0.22.2 hyperpyyaml-1.2.2 multiprocess-0.70.16 nvidia-cublas-cu12-12.1.3.1 nvidia-cuda-cupti-cu12-12.1.105 nvidia-cuda-nvrtc-cu12-12.1.105 nvidia-cuda-runtime-cu12-12.1.105 nvidia-cudnn-cu12-8.9.2.26 nvidia-cufft-cu12-11.0.2.54 nvidia-curand-cu12-10.3.2.106 nvidia-cusolver-cu12-11.4.5.107 nvidia-cusparse-cu12-12.1.0.106 nvidia-nccl-cu12-2.19.3 nvidia-nvjitlink-cu12-12.4.127 nvidia-nvtx-cu12-12.1.105 ruamel.yaml-0.18.6 ruamel.yaml.clib-0.2.8 speechbrain-1.0.0 xxhash-3.4.1\n"
          ]
        }
      ]
    },
    {
      "cell_type": "code",
      "source": [
        "!pip install git+https://github.com/huggingface/transformers.git"
      ],
      "metadata": {
        "id": "HQCuMz3fwuHa",
        "outputId": "8f30fe25-ff09-4aa3-a00d-c75d647ed963",
        "colab": {
          "base_uri": "https://localhost:8080/"
        }
      },
      "execution_count": 4,
      "outputs": [
        {
          "output_type": "stream",
          "name": "stdout",
          "text": [
            "Collecting git+https://github.com/huggingface/transformers.git\n",
            "  Cloning https://github.com/huggingface/transformers.git to /tmp/pip-req-build-w2b1_hbx\n",
            "  Running command git clone --filter=blob:none --quiet https://github.com/huggingface/transformers.git /tmp/pip-req-build-w2b1_hbx\n",
            "  Resolved https://github.com/huggingface/transformers.git to commit 8c12690cecbb97e187861e386f7a0ac790e4236c\n",
            "  Installing build dependencies ... \u001b[?25l\u001b[?25hdone\n",
            "  Getting requirements to build wheel ... \u001b[?25l\u001b[?25hdone\n",
            "  Preparing metadata (pyproject.toml) ... \u001b[?25l\u001b[?25hdone\n",
            "Requirement already satisfied: filelock in /usr/local/lib/python3.10/dist-packages (from transformers==4.41.0.dev0) (3.13.4)\n",
            "Requirement already satisfied: huggingface-hub<1.0,>=0.19.3 in /usr/local/lib/python3.10/dist-packages (from transformers==4.41.0.dev0) (0.22.2)\n",
            "Requirement already satisfied: numpy>=1.17 in /usr/local/lib/python3.10/dist-packages (from transformers==4.41.0.dev0) (1.25.2)\n",
            "Requirement already satisfied: packaging>=20.0 in /usr/local/lib/python3.10/dist-packages (from transformers==4.41.0.dev0) (24.0)\n",
            "Requirement already satisfied: pyyaml>=5.1 in /usr/local/lib/python3.10/dist-packages (from transformers==4.41.0.dev0) (6.0.1)\n",
            "Requirement already satisfied: regex!=2019.12.17 in /usr/local/lib/python3.10/dist-packages (from transformers==4.41.0.dev0) (2023.12.25)\n",
            "Requirement already satisfied: requests in /usr/local/lib/python3.10/dist-packages (from transformers==4.41.0.dev0) (2.31.0)\n",
            "Collecting tokenizers<0.20,>=0.19 (from transformers==4.41.0.dev0)\n",
            "  Downloading tokenizers-0.19.1-cp310-cp310-manylinux_2_17_x86_64.manylinux2014_x86_64.whl (3.6 MB)\n",
            "\u001b[2K     \u001b[90m━━━━━━━━━━━━━━━━━━━━━━━━━━━━━━━━━━━━━━━━\u001b[0m \u001b[32m3.6/3.6 MB\u001b[0m \u001b[31m17.5 MB/s\u001b[0m eta \u001b[36m0:00:00\u001b[0m\n",
            "\u001b[?25hRequirement already satisfied: safetensors>=0.4.1 in /usr/local/lib/python3.10/dist-packages (from transformers==4.41.0.dev0) (0.4.3)\n",
            "Requirement already satisfied: tqdm>=4.27 in /usr/local/lib/python3.10/dist-packages (from transformers==4.41.0.dev0) (4.66.2)\n",
            "Requirement already satisfied: fsspec>=2023.5.0 in /usr/local/lib/python3.10/dist-packages (from huggingface-hub<1.0,>=0.19.3->transformers==4.41.0.dev0) (2023.6.0)\n",
            "Requirement already satisfied: typing-extensions>=3.7.4.3 in /usr/local/lib/python3.10/dist-packages (from huggingface-hub<1.0,>=0.19.3->transformers==4.41.0.dev0) (4.11.0)\n",
            "Requirement already satisfied: charset-normalizer<4,>=2 in /usr/local/lib/python3.10/dist-packages (from requests->transformers==4.41.0.dev0) (3.3.2)\n",
            "Requirement already satisfied: idna<4,>=2.5 in /usr/local/lib/python3.10/dist-packages (from requests->transformers==4.41.0.dev0) (3.7)\n",
            "Requirement already satisfied: urllib3<3,>=1.21.1 in /usr/local/lib/python3.10/dist-packages (from requests->transformers==4.41.0.dev0) (2.0.7)\n",
            "Requirement already satisfied: certifi>=2017.4.17 in /usr/local/lib/python3.10/dist-packages (from requests->transformers==4.41.0.dev0) (2024.2.2)\n",
            "Building wheels for collected packages: transformers\n",
            "  Building wheel for transformers (pyproject.toml) ... \u001b[?25l\u001b[?25hdone\n",
            "  Created wheel for transformers: filename=transformers-4.41.0.dev0-py3-none-any.whl size=9012708 sha256=e19b381bf16c0a8c03055ce32ae7ac51f7de5c2720c82bfed09041669665c4a2\n",
            "  Stored in directory: /tmp/pip-ephem-wheel-cache-too1v3zn/wheels/e7/9c/5b/e1a9c8007c343041e61cc484433d512ea9274272e3fcbe7c16\n",
            "Successfully built transformers\n",
            "Installing collected packages: tokenizers, transformers\n",
            "  Attempting uninstall: tokenizers\n",
            "    Found existing installation: tokenizers 0.15.2\n",
            "    Uninstalling tokenizers-0.15.2:\n",
            "      Successfully uninstalled tokenizers-0.15.2\n",
            "  Attempting uninstall: transformers\n",
            "    Found existing installation: transformers 4.38.2\n",
            "    Uninstalling transformers-4.38.2:\n",
            "      Successfully uninstalled transformers-4.38.2\n",
            "Successfully installed tokenizers-0.19.1 transformers-4.41.0.dev0\n"
          ]
        }
      ]
    },
    {
      "cell_type": "code",
      "source": [
        "!pip install --upgrade accelerate"
      ],
      "metadata": {
        "id": "NfX4YNbs_HKP",
        "outputId": "c2d396a1-8b60-47a3-89dd-8a6ea38b7f2c",
        "colab": {
          "base_uri": "https://localhost:8080/"
        }
      },
      "execution_count": 5,
      "outputs": [
        {
          "output_type": "stream",
          "name": "stdout",
          "text": [
            "Collecting accelerate\n",
            "  Downloading accelerate-0.29.3-py3-none-any.whl (297 kB)\n",
            "\u001b[?25l     \u001b[90m━━━━━━━━━━━━━━━━━━━━━━━━━━━━━━━━━━━━━━━━\u001b[0m \u001b[32m0.0/297.6 kB\u001b[0m \u001b[31m?\u001b[0m eta \u001b[36m-:--:--\u001b[0m\r\u001b[2K     \u001b[91m━━━━━━━━━━━━━━━━━━━━━━━━━━━━━━━━━━\u001b[0m\u001b[90m╺\u001b[0m\u001b[90m━━━━━\u001b[0m \u001b[32m256.0/297.6 kB\u001b[0m \u001b[31m7.6 MB/s\u001b[0m eta \u001b[36m0:00:01\u001b[0m\r\u001b[2K     \u001b[90m━━━━━━━━━━━━━━━━━━━━━━━━━━━━━━━━━━━━━━━━\u001b[0m \u001b[32m297.6/297.6 kB\u001b[0m \u001b[31m6.9 MB/s\u001b[0m eta \u001b[36m0:00:00\u001b[0m\n",
            "\u001b[?25hRequirement already satisfied: numpy>=1.17 in /usr/local/lib/python3.10/dist-packages (from accelerate) (1.25.2)\n",
            "Requirement already satisfied: packaging>=20.0 in /usr/local/lib/python3.10/dist-packages (from accelerate) (24.0)\n",
            "Requirement already satisfied: psutil in /usr/local/lib/python3.10/dist-packages (from accelerate) (5.9.5)\n",
            "Requirement already satisfied: pyyaml in /usr/local/lib/python3.10/dist-packages (from accelerate) (6.0.1)\n",
            "Requirement already satisfied: torch>=1.10.0 in /usr/local/lib/python3.10/dist-packages (from accelerate) (2.2.1+cu121)\n",
            "Requirement already satisfied: huggingface-hub in /usr/local/lib/python3.10/dist-packages (from accelerate) (0.22.2)\n",
            "Requirement already satisfied: safetensors>=0.3.1 in /usr/local/lib/python3.10/dist-packages (from accelerate) (0.4.3)\n",
            "Requirement already satisfied: filelock in /usr/local/lib/python3.10/dist-packages (from torch>=1.10.0->accelerate) (3.13.4)\n",
            "Requirement already satisfied: typing-extensions>=4.8.0 in /usr/local/lib/python3.10/dist-packages (from torch>=1.10.0->accelerate) (4.11.0)\n",
            "Requirement already satisfied: sympy in /usr/local/lib/python3.10/dist-packages (from torch>=1.10.0->accelerate) (1.12)\n",
            "Requirement already satisfied: networkx in /usr/local/lib/python3.10/dist-packages (from torch>=1.10.0->accelerate) (3.3)\n",
            "Requirement already satisfied: jinja2 in /usr/local/lib/python3.10/dist-packages (from torch>=1.10.0->accelerate) (3.1.3)\n",
            "Requirement already satisfied: fsspec in /usr/local/lib/python3.10/dist-packages (from torch>=1.10.0->accelerate) (2023.6.0)\n",
            "Requirement already satisfied: nvidia-cuda-nvrtc-cu12==12.1.105 in /usr/local/lib/python3.10/dist-packages (from torch>=1.10.0->accelerate) (12.1.105)\n",
            "Requirement already satisfied: nvidia-cuda-runtime-cu12==12.1.105 in /usr/local/lib/python3.10/dist-packages (from torch>=1.10.0->accelerate) (12.1.105)\n",
            "Requirement already satisfied: nvidia-cuda-cupti-cu12==12.1.105 in /usr/local/lib/python3.10/dist-packages (from torch>=1.10.0->accelerate) (12.1.105)\n",
            "Requirement already satisfied: nvidia-cudnn-cu12==8.9.2.26 in /usr/local/lib/python3.10/dist-packages (from torch>=1.10.0->accelerate) (8.9.2.26)\n",
            "Requirement already satisfied: nvidia-cublas-cu12==12.1.3.1 in /usr/local/lib/python3.10/dist-packages (from torch>=1.10.0->accelerate) (12.1.3.1)\n",
            "Requirement already satisfied: nvidia-cufft-cu12==11.0.2.54 in /usr/local/lib/python3.10/dist-packages (from torch>=1.10.0->accelerate) (11.0.2.54)\n",
            "Requirement already satisfied: nvidia-curand-cu12==10.3.2.106 in /usr/local/lib/python3.10/dist-packages (from torch>=1.10.0->accelerate) (10.3.2.106)\n",
            "Requirement already satisfied: nvidia-cusolver-cu12==11.4.5.107 in /usr/local/lib/python3.10/dist-packages (from torch>=1.10.0->accelerate) (11.4.5.107)\n",
            "Requirement already satisfied: nvidia-cusparse-cu12==12.1.0.106 in /usr/local/lib/python3.10/dist-packages (from torch>=1.10.0->accelerate) (12.1.0.106)\n",
            "Requirement already satisfied: nvidia-nccl-cu12==2.19.3 in /usr/local/lib/python3.10/dist-packages (from torch>=1.10.0->accelerate) (2.19.3)\n",
            "Requirement already satisfied: nvidia-nvtx-cu12==12.1.105 in /usr/local/lib/python3.10/dist-packages (from torch>=1.10.0->accelerate) (12.1.105)\n",
            "Requirement already satisfied: triton==2.2.0 in /usr/local/lib/python3.10/dist-packages (from torch>=1.10.0->accelerate) (2.2.0)\n",
            "Requirement already satisfied: nvidia-nvjitlink-cu12 in /usr/local/lib/python3.10/dist-packages (from nvidia-cusolver-cu12==11.4.5.107->torch>=1.10.0->accelerate) (12.4.127)\n",
            "Requirement already satisfied: requests in /usr/local/lib/python3.10/dist-packages (from huggingface-hub->accelerate) (2.31.0)\n",
            "Requirement already satisfied: tqdm>=4.42.1 in /usr/local/lib/python3.10/dist-packages (from huggingface-hub->accelerate) (4.66.2)\n",
            "Requirement already satisfied: MarkupSafe>=2.0 in /usr/local/lib/python3.10/dist-packages (from jinja2->torch>=1.10.0->accelerate) (2.1.5)\n",
            "Requirement already satisfied: charset-normalizer<4,>=2 in /usr/local/lib/python3.10/dist-packages (from requests->huggingface-hub->accelerate) (3.3.2)\n",
            "Requirement already satisfied: idna<4,>=2.5 in /usr/local/lib/python3.10/dist-packages (from requests->huggingface-hub->accelerate) (3.7)\n",
            "Requirement already satisfied: urllib3<3,>=1.21.1 in /usr/local/lib/python3.10/dist-packages (from requests->huggingface-hub->accelerate) (2.0.7)\n",
            "Requirement already satisfied: certifi>=2017.4.17 in /usr/local/lib/python3.10/dist-packages (from requests->huggingface-hub->accelerate) (2024.2.2)\n",
            "Requirement already satisfied: mpmath>=0.19 in /usr/local/lib/python3.10/dist-packages (from sympy->torch>=1.10.0->accelerate) (1.3.0)\n",
            "Installing collected packages: accelerate\n",
            "Successfully installed accelerate-0.29.3\n"
          ]
        }
      ]
    },
    {
      "cell_type": "markdown",
      "source": [
        "Do we have a GPU?"
      ],
      "metadata": {
        "id": "g_Xffd7sRlpk"
      }
    },
    {
      "cell_type": "code",
      "source": [
        "!nvidia-smi"
      ],
      "metadata": {
        "colab": {
          "base_uri": "https://localhost:8080/"
        },
        "id": "-XLi4c9DRnxA",
        "outputId": "1c62c2a5-8a03-4424-e4c4-723c248eded2"
      },
      "execution_count": 6,
      "outputs": [
        {
          "output_type": "stream",
          "name": "stdout",
          "text": [
            "Sat Apr 20 15:22:35 2024       \n",
            "+---------------------------------------------------------------------------------------+\n",
            "| NVIDIA-SMI 535.104.05             Driver Version: 535.104.05   CUDA Version: 12.2     |\n",
            "|-----------------------------------------+----------------------+----------------------+\n",
            "| GPU  Name                 Persistence-M | Bus-Id        Disp.A | Volatile Uncorr. ECC |\n",
            "| Fan  Temp   Perf          Pwr:Usage/Cap |         Memory-Usage | GPU-Util  Compute M. |\n",
            "|                                         |                      |               MIG M. |\n",
            "|=========================================+======================+======================|\n",
            "|   0  Tesla T4                       Off | 00000000:00:04.0 Off |                    0 |\n",
            "| N/A   38C    P8               9W /  70W |      0MiB / 15360MiB |      0%      Default |\n",
            "|                                         |                      |                  N/A |\n",
            "+-----------------------------------------+----------------------+----------------------+\n",
            "                                                                                         \n",
            "+---------------------------------------------------------------------------------------+\n",
            "| Processes:                                                                            |\n",
            "|  GPU   GI   CI        PID   Type   Process name                            GPU Memory |\n",
            "|        ID   ID                                                             Usage      |\n",
            "|=======================================================================================|\n",
            "|  No running processes found                                                           |\n",
            "+---------------------------------------------------------------------------------------+\n"
          ]
        }
      ]
    },
    {
      "cell_type": "markdown",
      "source": [
        "In case no GPU is found, from the menu choose **Runtime > Change runtime type** and set **Hardware accelerator** to **GPU**. Then restart the runtime to activate the GPU."
      ],
      "metadata": {
        "id": "bmdgnloAQPQ1"
      }
    },
    {
      "cell_type": "markdown",
      "source": [
        "## Load the model\n",
        "\n",
        "We'll start from SpeechT5 that's already been fine-tuned for English TTS, and fine-tune it again but for a new language. For more info about the original checkpoint, you can find its model card on the [Hugging Face Hub](https://huggingface.co/microsoft/speecht5_tts)."
      ],
      "metadata": {
        "id": "GB6Ur8DHuUy8"
      }
    },
    {
      "cell_type": "code",
      "source": [
        "from transformers import SpeechT5Processor, SpeechT5ForTextToSpeech\n",
        "\n",
        "processor = SpeechT5Processor.from_pretrained(\"microsoft/speecht5_tts\")\n",
        "model = SpeechT5ForTextToSpeech.from_pretrained(\"microsoft/speecht5_tts\")"
      ],
      "metadata": {
        "id": "W7spxtTGtmba",
        "colab": {
          "base_uri": "https://localhost:8080/",
          "height": 241,
          "referenced_widgets": [
            "32b779110047427582b2127ff22e7ea4",
            "94130ef736814b44a4327ae699fc1809",
            "019e0429350a48fc88fc309430a6f371",
            "c31de0591eb34bca875b16cd05ae4f5c",
            "1cb5371a28114b3aa230b3c6ac1db6cf",
            "7e3d0a1662054a58941ff34d5aab5865",
            "2c539c1916b0495fab03dc2912cd056b",
            "6930fd72e03a494291c570b574e46e50",
            "2a1305db673e47078c08f34a3b2139a3",
            "a29bc5b7b0cb466a82579f69e9fee0c0",
            "efd8a0b0cd2346b983de1c567edf6480",
            "1feb0f21f603467d90e1ef2392aacdbe",
            "cac5e6c89ada43a3b8e9f7ad9fe1e0e5",
            "0c7d3de35ef042b683a474d23766eac8",
            "ff6206a180834f64991a16e169976ed5",
            "59cedd10d2314d2baa7fe304c2077d98",
            "689a5c261ed74e6889317d224f2e0080",
            "27fd4141f7b04823b8e8b72dc07af869",
            "9c2c47096ff74bd988ac0df04a527b5e",
            "281ce8d81a3c4593a9e8bdc47bdf5ff5",
            "da59281c7d954fdd9dd1060c3d0fb4e0",
            "caa9100b73be4095aae0041ab3a16e2d",
            "fde6b522cbf04bf9b04a6f8f8e2c98d8",
            "3795d4a5c1a94c2e96893461b2bf55f7",
            "5680a305d9e5460584e4a2b05481c7b2",
            "87c4c37c42e24a3d8b60ae38e6de2a08",
            "cda371baafad469184cb9e79a6b550db",
            "0e34e8db5fbb43939a38c51fc8f26ab4",
            "8d6ff413f02a4419aa08daa5281e3eb9",
            "b9d7aca38a3d472bae13b207cf689186",
            "f045da1df2974eb78692ec04d8ca2571",
            "65237908210449918d70e8302e5cb81b",
            "3820177e60044af18dcdb39b12bc08e4",
            "5ac2e9c0958a46d185d4d9143ee7730c",
            "a7b5920133c64e86a8574b8d38414df0",
            "0b1ef4ae11c84919a1375c77cb4467ba",
            "3d5f6d25289041ca8804e68421bdc0af",
            "ddc9022300c843ad9dd89c42c6bd0686",
            "2edb268ec47b4062a9690ed8e6c946a4",
            "bcb3f1552c104ee9bd41c06f7aa68643",
            "0dbb5d71ea34404695330634b6b900db",
            "3d37327baf1c48c6a303891d00824ef1",
            "bc1127d983b04effb172c62f795b9b93",
            "37380b4590a8476fbb11f0c1d556c8c6",
            "e3584779b26a4e47a8229c8ea22b65df",
            "594791aa230d4dbdb0765949060adf7b",
            "207b53d4842b4a81978e19f4e7c007aa",
            "435b57dde6b34f00809aeac18ea05259",
            "5e08607b68f34600950a54733fe3897b",
            "b73ff23029ff4875a6eb9d028af975c6",
            "a57ddba95d71407981a1d26976376aad",
            "cbc4ef5687314bb8ac57a4d578a3515d",
            "2f202a0b6c8941c2831227e5fdf29ab7",
            "7ef6759d6aa34c8d8431a4e4cb709936",
            "811f26b163e149b0867163e0d274ff36",
            "1d425ead25aa401f928ac4e323f7a3e1",
            "a078151a0dee48109b950c9b89c2cc84",
            "11a6c93948754da9aa7e4c78d67e028a",
            "c38c1e3482384e84b677c5649579ac15",
            "e38e0c56a74b41e18fa90a975150779b",
            "491c184ccc5d422286839afcdfa6b52d",
            "72e41dc38ecc413bacacaac8bef12fc7",
            "efd104e6ad9640f9b936ed488896a9c9",
            "9074e08ad13b48d0a4c3c051d36094f0",
            "9cd481b63d194448ba18afb63a1a5b2a",
            "88109f28f3904e56a212fa1603ce71c0",
            "661fc4c996ff4321aead068d4675866f",
            "2bf3994151ea4fcb8b2cd938936b96c3",
            "f71b5e080bff4890ab039786276e8698",
            "d9a89dbe9fb746d980f38b5ade70b0ac",
            "551dfc031b484ad392403184254a3d76",
            "c9fa45272e9c449f91a27e20030cc383",
            "1a617db16b07418ebf3eda6a8e93f31f",
            "91351c00d5744619a3609f8b605f7416",
            "7d621ebebcfe49de8b6c2b48c0a2d5de",
            "596d4bec382443fcb172666dd754bc0b",
            "bd3c9e38eaf84fe6a05d4061a03b017b"
          ]
        },
        "outputId": "7b1cf682-a4d0-45b0-e927-1a3a2e0e452e"
      },
      "execution_count": 7,
      "outputs": [
        {
          "output_type": "display_data",
          "data": {
            "text/plain": [
              "preprocessor_config.json:   0%|          | 0.00/433 [00:00<?, ?B/s]"
            ],
            "application/vnd.jupyter.widget-view+json": {
              "version_major": 2,
              "version_minor": 0,
              "model_id": "32b779110047427582b2127ff22e7ea4"
            }
          },
          "metadata": {}
        },
        {
          "output_type": "display_data",
          "data": {
            "text/plain": [
              "tokenizer_config.json:   0%|          | 0.00/232 [00:00<?, ?B/s]"
            ],
            "application/vnd.jupyter.widget-view+json": {
              "version_major": 2,
              "version_minor": 0,
              "model_id": "1feb0f21f603467d90e1ef2392aacdbe"
            }
          },
          "metadata": {}
        },
        {
          "output_type": "display_data",
          "data": {
            "text/plain": [
              "spm_char.model:   0%|          | 0.00/238k [00:00<?, ?B/s]"
            ],
            "application/vnd.jupyter.widget-view+json": {
              "version_major": 2,
              "version_minor": 0,
              "model_id": "fde6b522cbf04bf9b04a6f8f8e2c98d8"
            }
          },
          "metadata": {}
        },
        {
          "output_type": "display_data",
          "data": {
            "text/plain": [
              "added_tokens.json:   0%|          | 0.00/40.0 [00:00<?, ?B/s]"
            ],
            "application/vnd.jupyter.widget-view+json": {
              "version_major": 2,
              "version_minor": 0,
              "model_id": "5ac2e9c0958a46d185d4d9143ee7730c"
            }
          },
          "metadata": {}
        },
        {
          "output_type": "display_data",
          "data": {
            "text/plain": [
              "special_tokens_map.json:   0%|          | 0.00/234 [00:00<?, ?B/s]"
            ],
            "application/vnd.jupyter.widget-view+json": {
              "version_major": 2,
              "version_minor": 0,
              "model_id": "e3584779b26a4e47a8229c8ea22b65df"
            }
          },
          "metadata": {}
        },
        {
          "output_type": "display_data",
          "data": {
            "text/plain": [
              "config.json:   0%|          | 0.00/2.06k [00:00<?, ?B/s]"
            ],
            "application/vnd.jupyter.widget-view+json": {
              "version_major": 2,
              "version_minor": 0,
              "model_id": "1d425ead25aa401f928ac4e323f7a3e1"
            }
          },
          "metadata": {}
        },
        {
          "output_type": "display_data",
          "data": {
            "text/plain": [
              "pytorch_model.bin:   0%|          | 0.00/585M [00:00<?, ?B/s]"
            ],
            "application/vnd.jupyter.widget-view+json": {
              "version_major": 2,
              "version_minor": 0,
              "model_id": "661fc4c996ff4321aead068d4675866f"
            }
          },
          "metadata": {}
        }
      ]
    },
    {
      "cell_type": "markdown",
      "source": [
        "## Load the dataset\n",
        "\n",
        "We'll fine-tune on the Dutch (language code `nl`) examples from VoxPopuli.\n",
        "\n",
        "VoxPopuli is a large-scale multilingual speech corpus consisting of data sourced from 2009-2020 European Parliament event recordings. It contains labelled audio-transcription data for 15 European languages.\n",
        "\n",
        "You can find [VoxPopuli on the Hugging Face Hub](https://huggingface.co/datasets/facebook/voxpopuli). There, you can listen to audio samples in any one of the 15 European languages using the dataset previewer.\n",
        "\n",
        "Note that VoxPopuli, or any other automatic speech recognition (ASR) dataset, is not necessarily the best dataset to use for TTS training. The qualities that make it useful for ASR, such as lots of noise in the sound, are usually what we want to avoid in TTS. But high-quality, multilingual, multi-speaker TTS datasets are less easy to find than ASR datasets."
      ],
      "metadata": {
        "id": "UzjxPwP3tmsl"
      }
    },
    {
      "cell_type": "code",
      "execution_count": 11,
      "metadata": {
        "colab": {
          "base_uri": "https://localhost:8080/",
          "height": 241,
          "referenced_widgets": [
            "35f30dabaa0149658d345c41ce145812",
            "4f69b8d991574e07951fe2e242bf849c",
            "3d69e4fb13294ca7b17c128c4d29edfb",
            "3000541e9c174e2585972323149a553b",
            "bf07ebbdfd16485db9db484e61628458",
            "5bca9c4c30cb410caeda0582080321f7",
            "217168d7f2414dd986c11d1e544b60f4",
            "198dfb92186e4382a082b77fb29629ab",
            "62a04645df9e49f8a4f6dbfee816fa3c",
            "dfc3887724dd4803b91fbb75f2595c6e",
            "8d7853f28a3a4848abba8e8f3f6f21d6",
            "ce149ef856d546a6a7e1623267863ee6",
            "51e83303fa184e798486098341acfd78",
            "1a4a5eea360b406fbd5777d2b92708de",
            "c412e36b937b401ea6aac3d6efcec179",
            "a5440014e2484d24b394bb51b6784285",
            "12d4d20e2071430fba75d4ff2b526613",
            "d05822ecfd1344a69117c63474850de8",
            "888a639d64194332891b35d057eae099",
            "bc670a7a8bd041eda20a06ceb9eb98fa",
            "b573f6e0251e415db5054167794dd5c8",
            "abfc7a557902443aaa9527805849ac63",
            "7d9996593c9f42edba8b63e228759895",
            "0ced8035bb65467f8bd0b062f12df74f",
            "f54d1c56abe14e3f8605f0a48df8d463",
            "fb5a8d18beed42f5822074e248419181",
            "d7daf92e0ee645239ac7a01bf5b2a57d",
            "ccc34e015ced4285aa53be5881744b16",
            "d168274b22c449a8adb08fd049a850c4",
            "3a2e00cb9d6145e0a139bc0b78ab62a4",
            "f02996374c4e4f529da56ec63e0c6215",
            "06cfbe899e4c443fbb57bbef6cf53146",
            "90f2cafc1d414c469a62a4dfdae96555",
            "9be6fcb0dd1845388fa16450775ee3ea",
            "0546269ff622432da1a098e62b0b0798",
            "579ffc3e46dd4ca39674fe5481e57a8b",
            "c58c53f4bb6c4bac8c73c9eaec6c7d43",
            "69db79b7405a4ab097286d08b44c71d7",
            "145173e5d4cc4b1ea5f12eff20638741",
            "e10e8d71ce9644e39c2d4d91954cc79c",
            "76d40fa0ad6a40e99f609922057dac7d",
            "634f6efaa8b54cff891cfc185cc1e390",
            "5b8126cca3d247448bb699904d152992",
            "786214876a8e4b659df457778b39ce4e",
            "b1e1e6da696c46a88f64d59054963e08",
            "ebc86c9212274454b1d5f4227294eb48",
            "dc488bfb16504f4b8547b94c0d420767",
            "c7a38fc276ec462085878da276633968",
            "9d1ca8a8c15348e1bac68f5f02ba1a52",
            "1237da0fc9ed4b93b8ba18331c07a1f2",
            "5d8e33c998c84b9b90dd50ada0a0ed3b",
            "b7b1fa45fd374d0596549898a248c674",
            "a9d003572b8d42d19efe20de4ba37bdc",
            "f3d3d60edbab4acf9b59bf03e00fd25d",
            "fe126adcbf0a422c80d241408f409e01",
            "c1d29d29edb042d5ac91d1f5337f3e8c",
            "d23ad828d2124c2f91cb1493108e636a",
            "53636979142449819d00737a6e2e5ee3",
            "e2542af061384b90b4e872a442fe621c",
            "178167a71ad64f6db1cdedaf5c837767",
            "5204927cfef242e08d9aa6c40a226409",
            "da379fafdc214218ba949ff41a434dbe",
            "aa239c27857d45feb981de986be5eec6",
            "1485b875ad91467f95f6e1f2b3314cfe",
            "319e7512c01a48bf9e5beda069975204",
            "88cf69e7e3464aeba64360ede5fdf643",
            "82cab85ab8b54243a7e30a7f9fe9f818",
            "7d889556722846d2a374d041c7981a86",
            "96b66d91a7b94c989991940f3ddb23ad",
            "1d04a4a149db416f93e1a4732ee9909e",
            "b950297f98c24f468efc7cf6c3cc4c3e",
            "e1a45d3aedab40dcb475be93347ec4d2",
            "fef4568bece24990953361778637835f",
            "d67ba5be75a14b969317f1f46aca960b",
            "bf74c4fe30c24ff2bde0f1ccb992adc0",
            "3376bc44a18b44898f3e79656a02c9a9",
            "127c8eef8cf747f7afcab16a0975c332"
          ]
        },
        "id": "FjKjCViFtc5M",
        "outputId": "4de7b2ab-ea5b-4653-b49b-4eb867da6a66"
      },
      "outputs": [
        {
          "output_type": "display_data",
          "data": {
            "text/plain": [
              "Downloading data:   0%|          | 0.00/383M [00:00<?, ?B/s]"
            ],
            "application/vnd.jupyter.widget-view+json": {
              "version_major": 2,
              "version_minor": 0,
              "model_id": "35f30dabaa0149658d345c41ce145812"
            }
          },
          "metadata": {}
        },
        {
          "output_type": "display_data",
          "data": {
            "text/plain": [
              "Downloading data:   0%|          | 0.00/387M [00:00<?, ?B/s]"
            ],
            "application/vnd.jupyter.widget-view+json": {
              "version_major": 2,
              "version_minor": 0,
              "model_id": "ce149ef856d546a6a7e1623267863ee6"
            }
          },
          "metadata": {}
        },
        {
          "output_type": "display_data",
          "data": {
            "text/plain": [
              "Downloading data:   0%|          | 0.00/110M [00:00<?, ?B/s]"
            ],
            "application/vnd.jupyter.widget-view+json": {
              "version_major": 2,
              "version_minor": 0,
              "model_id": "7d9996593c9f42edba8b63e228759895"
            }
          },
          "metadata": {}
        },
        {
          "output_type": "display_data",
          "data": {
            "text/plain": [
              "Downloading data:   0%|          | 0.00/407M [00:00<?, ?B/s]"
            ],
            "application/vnd.jupyter.widget-view+json": {
              "version_major": 2,
              "version_minor": 0,
              "model_id": "9be6fcb0dd1845388fa16450775ee3ea"
            }
          },
          "metadata": {}
        },
        {
          "output_type": "display_data",
          "data": {
            "text/plain": [
              "Generating train split:   0%|          | 0/11344 [00:00<?, ? examples/s]"
            ],
            "application/vnd.jupyter.widget-view+json": {
              "version_major": 2,
              "version_minor": 0,
              "model_id": "b1e1e6da696c46a88f64d59054963e08"
            }
          },
          "metadata": {}
        },
        {
          "output_type": "display_data",
          "data": {
            "text/plain": [
              "Generating validation split:   0%|          | 0/1690 [00:00<?, ? examples/s]"
            ],
            "application/vnd.jupyter.widget-view+json": {
              "version_major": 2,
              "version_minor": 0,
              "model_id": "c1d29d29edb042d5ac91d1f5337f3e8c"
            }
          },
          "metadata": {}
        },
        {
          "output_type": "display_data",
          "data": {
            "text/plain": [
              "Generating test split:   0%|          | 0/6121 [00:00<?, ? examples/s]"
            ],
            "application/vnd.jupyter.widget-view+json": {
              "version_major": 2,
              "version_minor": 0,
              "model_id": "82cab85ab8b54243a7e30a7f9fe9f818"
            }
          },
          "metadata": {}
        }
      ],
      "source": [
        "from datasets import load_dataset, Audio\n",
        "\n",
        "dataset = load_dataset(\n",
        "    \"asapp/slue-phase-2\", \"hvb\", split=\"train\"\n",
        ")"
      ]
    },
    {
      "cell_type": "markdown",
      "source": [
        "It's important to set the sampling rate of the audio data to 16 kHz, which is what SpeechT5 expects."
      ],
      "metadata": {
        "id": "0omK1unnU2z0"
      }
    },
    {
      "cell_type": "code",
      "source": [
        "dataset = dataset.cast_column(\"audio\", Audio(sampling_rate=16000))"
      ],
      "metadata": {
        "id": "sibMqU6qU-h8"
      },
      "execution_count": 12,
      "outputs": []
    },
    {
      "cell_type": "markdown",
      "source": [
        "Let's quickly check how many examples are in this dataset."
      ],
      "metadata": {
        "id": "ZZYhgObQVAzj"
      }
    },
    {
      "cell_type": "code",
      "source": [
        "len(dataset)"
      ],
      "metadata": {
        "colab": {
          "base_uri": "https://localhost:8080/"
        },
        "id": "-tFbBI8aU__2",
        "outputId": "e1e6618c-d480-445a-bbb5-4d43c4dcaff1"
      },
      "execution_count": 13,
      "outputs": [
        {
          "output_type": "execute_result",
          "data": {
            "text/plain": [
              "11344"
            ]
          },
          "metadata": {},
          "execution_count": 13
        }
      ]
    },
    {
      "cell_type": "markdown",
      "source": [
        "That should be sufficient for fine-tuning. We'll have a closer look at these examples soon."
      ],
      "metadata": {
        "id": "Mn2qaGfJVn8o"
      }
    },
    {
      "cell_type": "markdown",
      "source": [
        "## Clean up the text\n",
        "\n",
        "The dataset may contain characters that are not in the SpeechT5 tokenizer vocabulary. Those will be converted to `<unk>` tokens. However, in Dutch a character such as `à` is used to stress syllables and so we can simply replace it with `a` without changing its meaning. The tokenizer supports some characters with diacritical marks, such as `é`, but not all of them.\n",
        "\n",
        "Note that the VoxPopuli examples have both `raw_text` and `normalized_text`, which is all lowercase. The SpeechT5 tokenizer can handle uppercase just fine, however, it doesn't have any tokens for numbers. The `normalized_text` has the numbers written out as text, so we'll use that.\n"
      ],
      "metadata": {
        "id": "-5qFwV2ouqkU"
      }
    },
    {
      "cell_type": "markdown",
      "source": [
        "\n",
        "First we'll need to find out what the unsupported tokens are. The `SpeechT5Tokenizer` works with characters as tokens, so let's extract all distinct characters of the dataset. We write a mapping function `extract_all_chars` that concatenates the transcriptions from all examples into one long transcription and then transforms the string into a set of characters. It is important to pass the arguments `batched=True` and `batch_size=-1` to `dataset.map(...)` so that the mapping function has access to all transcriptions at once."
      ],
      "metadata": {
        "id": "B6BtRe6qXTYp"
      }
    },
    {
      "cell_type": "code",
      "source": [
        "tokenizer = processor.tokenizer"
      ],
      "metadata": {
        "id": "0KmO3JnXBs6Z"
      },
      "execution_count": 14,
      "outputs": []
    },
    {
      "cell_type": "code",
      "source": [
        "dataset[0]"
      ],
      "metadata": {
        "id": "JONynnh8HvaC",
        "outputId": "8a5dcf2b-bf29-4808-cab7-e8ffee546027",
        "colab": {
          "base_uri": "https://localhost:8080/"
        }
      },
      "execution_count": 17,
      "outputs": [
        {
          "output_type": "execute_result",
          "data": {
            "text/plain": [
              "{'issue_id': '0002f70f7386445b',\n",
              " 'audio': {'path': '0002f70f7386445b_1669_4339.wav',\n",
              "  'array': array([0., 0., 0., ..., 0., 0., 0.]),\n",
              "  'sampling_rate': 16000},\n",
              " 'speaker_id': '46',\n",
              " 'text': 'hello this is harper valley national bank',\n",
              " 'utt_index': 1,\n",
              " 'channel': 2,\n",
              " 'role': 'agent',\n",
              " 'start_ms': 1669,\n",
              " 'duration_ms': 2670,\n",
              " 'intent': 'replace card',\n",
              " 'dialog_acts': ['statement_open']}"
            ]
          },
          "metadata": {},
          "execution_count": 17
        }
      ]
    },
    {
      "cell_type": "code",
      "source": [
        "extract_all_chars(dataset[0])"
      ],
      "metadata": {
        "id": "QyIgKXqTIhQO",
        "outputId": "f9468d0c-cbd1-4c0c-8e3a-74dc8c47433f",
        "colab": {
          "base_uri": "https://localhost:8080/"
        }
      },
      "execution_count": 19,
      "outputs": [
        {
          "output_type": "execute_result",
          "data": {
            "text/plain": [
              "{'vocab': [['v',\n",
              "   'r',\n",
              "   'e',\n",
              "   'l',\n",
              "   'i',\n",
              "   'b',\n",
              "   'a',\n",
              "   'p',\n",
              "   'o',\n",
              "   'h',\n",
              "   't',\n",
              "   's',\n",
              "   'y',\n",
              "   'n',\n",
              "   ' ',\n",
              "   'k']],\n",
              " 'all_text': ['h e l l o   t h i s   i s   h a r p e r   v a l l e y   n a t i o n a l   b a n k']}"
            ]
          },
          "metadata": {},
          "execution_count": 19
        }
      ]
    },
    {
      "cell_type": "code",
      "source": [
        "def extract_all_chars(batch):\n",
        "    all_text = \" \".join(batch[\"text\"])\n",
        "    vocab = list(set(all_text))\n",
        "    return {\"vocab\": [vocab], \"all_text\": [all_text]}\n",
        "\n",
        "vocabs = dataset.map(\n",
        "    extract_all_chars,\n",
        "    batched=True,\n",
        "    batch_size=-1,\n",
        "    keep_in_memory=True,\n",
        "    remove_columns=dataset.column_names,\n",
        ")\n",
        "\n",
        "dataset_vocab = set(vocabs[\"vocab\"][0])\n",
        "tokenizer_vocab = {k for k,_ in tokenizer.get_vocab().items()}"
      ],
      "metadata": {
        "colab": {
          "base_uri": "https://localhost:8080/",
          "height": 49,
          "referenced_widgets": [
            "756d841bd1f4409bad046084c9f77991",
            "9008b6a5eedb490a817b6a3dc95fe4c4",
            "452cdf9c0b9d4ca29f95b1b8b9145437",
            "18ec049e05b4420a9ae94c4319d8dc44",
            "04400892554b408c908a4df2e6ed15a5",
            "cc753ffbb2c44681bf54c11d7795ed1e",
            "3be9fb151a8e4ebd92ab3192bdfec81f",
            "ea5f6fc2204547d686e3ffcf8942a59f",
            "42dfd758fa9549b7b00856bc9a8eb54d",
            "a355959422c34ff886667d0cdac20750",
            "47f84fd3bdcf49c8b1d47192d89b028f"
          ]
        },
        "id": "uwnvx2AFuh_e",
        "outputId": "5f7fd0c4-bc53-4f9a-e893-55cecbbd9820"
      },
      "execution_count": 18,
      "outputs": [
        {
          "output_type": "display_data",
          "data": {
            "text/plain": [
              "Map:   0%|          | 0/11344 [00:00<?, ? examples/s]"
            ],
            "application/vnd.jupyter.widget-view+json": {
              "version_major": 2,
              "version_minor": 0,
              "model_id": "756d841bd1f4409bad046084c9f77991"
            }
          },
          "metadata": {}
        }
      ]
    },
    {
      "cell_type": "markdown",
      "source": [
        "Now we have two sets of characters, one with the vocabulary from the dataset and one with the vocabulary from the tokenizer. By taking the difference between these sets, we find the characters that are in the dataset but not in the tokenizer."
      ],
      "metadata": {
        "id": "C2u-lIk1Tvl8"
      }
    },
    {
      "cell_type": "code",
      "source": [
        "dataset_vocab - tokenizer_vocab"
      ],
      "metadata": {
        "colab": {
          "base_uri": "https://localhost:8080/"
        },
        "id": "lNV2BPKOvVuQ",
        "outputId": "31a00f1d-ed1a-4e76-f915-e4d64d00bbc5"
      },
      "execution_count": 20,
      "outputs": [
        {
          "output_type": "execute_result",
          "data": {
            "text/plain": [
              "{' '}"
            ]
          },
          "metadata": {},
          "execution_count": 20
        }
      ]
    },
    {
      "cell_type": "markdown",
      "source": [
        "Next, we will define a function to map these characters to valid tokens and then run it on the dataset. No need to handle space, that's already replaced by `▁` in the tokenizer."
      ],
      "metadata": {
        "id": "okCE9DjNvXM1"
      }
    },
    {
      "cell_type": "code",
      "source": [
        "replacements = [\n",
        "    ('à', 'a'),\n",
        "    ('ç', 'c'),\n",
        "    ('è', 'e'),\n",
        "    ('ë', 'e'),\n",
        "    ('í', 'i'),\n",
        "    ('ï', 'i'),\n",
        "    ('ö', 'o'),\n",
        "    ('ü', 'u'),\n",
        "]\n",
        "\n",
        "def cleanup_text(inputs):\n",
        "    for src, dst in replacements:\n",
        "        inputs[\"normalized_text\"] = inputs[\"normalized_text\"].replace(src, dst)\n",
        "    return inputs\n",
        "\n",
        "dataset = dataset.map(cleanup_text)"
      ],
      "metadata": {
        "colab": {
          "base_uri": "https://localhost:8080/",
          "height": 17,
          "referenced_widgets": [
            "1e0b907641bc483f8296e57c2704e6ff",
            "78bcc7c8746f45e4b32859b4e3266638",
            "c39d05dae7014c9c978d30f61205f0ff",
            "5b10533df3994f38bd79ade3d1bac713",
            "38a2875b8a2f4249b836d1757a0b54dc",
            "536133edae2e43c3997761207f9f0f35",
            "abe6c42e944e416d82ad5f9c622c3c14",
            "332eb002515b474dae7159b21af2edef",
            "8ad6434a37ef4be6b4c64cc1445f81bc",
            "5b86158d70ca4569801817cdac356746",
            "a4c42599c4cf479596fff8646b2a0a1c"
          ]
        },
        "id": "ybqsbUGZvtCa",
        "outputId": "62f39957-8755-49e2-9c08-93d44fce5eb1"
      },
      "execution_count": null,
      "outputs": [
        {
          "output_type": "display_data",
          "data": {
            "text/plain": [
              "Map:   0%|          | 0/20968 [00:00<?, ? examples/s]"
            ],
            "application/vnd.jupyter.widget-view+json": {
              "version_major": 2,
              "version_minor": 0,
              "model_id": "1e0b907641bc483f8296e57c2704e6ff"
            }
          },
          "metadata": {}
        }
      ]
    },
    {
      "cell_type": "markdown",
      "source": [
        "## Speakers\n",
        "\n",
        "VoxPopuli is a multi-speaker dataset. We know there are 20968 examples in the dataset, but how many speakers are there and how many examples do they have?"
      ],
      "metadata": {
        "id": "HmfamiPxXf_4"
      }
    },
    {
      "cell_type": "code",
      "source": [
        "from collections import defaultdict\n",
        "speaker_counts = defaultdict(int)\n",
        "\n",
        "for speaker_id in dataset[\"speaker_id\"]:\n",
        "    speaker_counts[speaker_id] += 1"
      ],
      "metadata": {
        "id": "p95Czw8TXFDj"
      },
      "execution_count": 21,
      "outputs": []
    },
    {
      "cell_type": "markdown",
      "source": [
        "By plotting a histogram we can get a sense of how much data there is for each speaker."
      ],
      "metadata": {
        "id": "nV0FTeGX8Crw"
      }
    },
    {
      "cell_type": "code",
      "source": [
        "import matplotlib.pyplot as plt\n",
        "\n",
        "plt.figure()\n",
        "plt.hist(speaker_counts.values(), bins=20)\n",
        "plt.ylabel(\"Speakers\")\n",
        "plt.xlabel(\"Examples\")\n",
        "plt.show()"
      ],
      "metadata": {
        "colab": {
          "base_uri": "https://localhost:8080/",
          "height": 449
        },
        "id": "tyJQ6rlt65ef",
        "outputId": "8ec1f3a5-ee98-4849-8582-53874c93bbca"
      },
      "execution_count": 22,
      "outputs": [
        {
          "output_type": "display_data",
          "data": {
            "text/plain": [
              "<Figure size 640x480 with 1 Axes>"
            ],
            "image/png": "[encoded data removed]"
          },
          "metadata": {}
        }
      ]
    },
    {
      "cell_type": "markdown",
      "source": [
        "Around one-third of speakers has fewer than 100 examples. Approximately ten or so speakers have more than 500 examples. To speed up training, let's limit ourselves to speakers that have between 100 and 400 examples. This also makes the dataset more balanced."
      ],
      "metadata": {
        "id": "p_GKHahr8V2J"
      }
    },
    {
      "cell_type": "code",
      "source": [
        "def select_speaker(speaker_id):\n",
        "    return 100 <= speaker_counts[speaker_id] <= 400\n",
        "\n",
        "dataset2 = dataset.filter(select_speaker, input_columns=[\"speaker_id\"])"
      ],
      "metadata": {
        "colab": {
          "base_uri": "https://localhost:8080/",
          "height": 49,
          "referenced_widgets": [
            "75d5fb728f5b473db6441786bba32cb9",
            "713fe4f033dc4f659c53e0c405aee347",
            "8da1f9617e594c13a53ea39fad2d9396",
            "785f1174fd724e8695d6113665be3231",
            "d4a93896aa6241c4b33ca1e27e69134a",
            "505cedd28cd64f4192f19593646724c2",
            "8927d6c0d13b4b8aab484412e1a8129f",
            "1eebc0684a3c48f48c2599464872179e",
            "2e72b74eefc14109b362a2a0de841902",
            "bb40708445c14f8da9db48c5aca1dc86",
            "17c0de3234cf484a8f2ec97db92f7457"
          ]
        },
        "id": "hU12-RRn8-sL",
        "outputId": "695c9f0a-6634-470f-e0c1-35caf257f426"
      },
      "execution_count": 24,
      "outputs": [
        {
          "output_type": "display_data",
          "data": {
            "text/plain": [
              "Filter:   0%|          | 0/11344 [00:00<?, ? examples/s]"
            ],
            "application/vnd.jupyter.widget-view+json": {
              "version_major": 2,
              "version_minor": 0,
              "model_id": "75d5fb728f5b473db6441786bba32cb9"
            }
          },
          "metadata": {}
        }
      ]
    },
    {
      "cell_type": "markdown",
      "source": [
        "How many speakers remain?"
      ],
      "metadata": {
        "id": "gB2_vznxFDFJ"
      }
    },
    {
      "cell_type": "code",
      "source": [
        "len(set(dataset[\"speaker_id\"]))"
      ],
      "metadata": {
        "colab": {
          "base_uri": "https://localhost:8080/"
        },
        "id": "fDM9ZEf39PYe",
        "outputId": "ea56ea0f-e3d3-4224-87a8-f5320d17f1ba"
      },
      "execution_count": 26,
      "outputs": [
        {
          "output_type": "execute_result",
          "data": {
            "text/plain": [
              "31"
            ]
          },
          "metadata": {},
          "execution_count": 26
        }
      ]
    },
    {
      "cell_type": "markdown",
      "source": [
        "And how many examples?"
      ],
      "metadata": {
        "id": "pZKvfkf_FL5J"
      }
    },
    {
      "cell_type": "code",
      "source": [
        "len(dataset)"
      ],
      "metadata": {
        "colab": {
          "base_uri": "https://localhost:8080/"
        },
        "id": "9TzhTrjxFPMs",
        "outputId": "998d7113-4c42-4076-fcf3-c2f42c16e585"
      },
      "execution_count": 27,
      "outputs": [
        {
          "output_type": "execute_result",
          "data": {
            "text/plain": [
              "11344"
            ]
          },
          "metadata": {},
          "execution_count": 27
        }
      ]
    },
    {
      "cell_type": "markdown",
      "source": [
        "Just under 10k examples and ~40 unique speakers, which should be plenty."
      ],
      "metadata": {
        "id": "9qbivw_W9p0Z"
      }
    },
    {
      "cell_type": "markdown",
      "source": [
        "Note: Even better would be to include the lengths of the examples. It's quite possible that speakers with few examples have plenty of audio available if these examples are relatively long. But it takes a while to scan through the entire dataset to find this information (since that requires loading and decoding each audio file), which is why we're skipping it here."
      ],
      "metadata": {
        "id": "gdI1j_XzX3Px"
      }
    },
    {
      "cell_type": "markdown",
      "source": [
        "## Speaker embeddings"
      ],
      "metadata": {
        "id": "-OL3s6YUv9ND"
      }
    },
    {
      "cell_type": "markdown",
      "source": [
        "To allow the TTS model to distinguish between multiple speakers, we'll need to create a speaker embedding for each example. The speaker embedding is simply an additional input into the model that captures a particular speaker's voice characteristics.\n",
        "\n",
        "To create the speaker embeddings, we use the [spkrec-xvect-voxceleb](https://huggingface.co/speechbrain/spkrec-xvect-voxceleb) model from SpeechBrain. The following defines a function `create_speaker_embedding()` that takes an input audio waveform and outputs a 512-element vector containing the corresponding speaker embedding."
      ],
      "metadata": {
        "id": "QsmonrEW1IlH"
      }
    },
    {
      "cell_type": "code",
      "source": [
        "import os\n",
        "import torch\n",
        "from speechbrain.inference.classifiers import EncoderClassifier\n",
        "\n",
        "spk_model_name = \"speechbrain/spkrec-xvect-voxceleb\"\n",
        "\n",
        "device = \"cuda\" if torch.cuda.is_available() else \"cpu\"\n",
        "speaker_model = EncoderClassifier.from_hparams(\n",
        "    source=spk_model_name,\n",
        "    run_opts={\"device\": device},\n",
        "    savedir=os.path.join(\"/tmp\", spk_model_name)\n",
        ")\n",
        "\n",
        "def create_speaker_embedding(waveform):\n",
        "    with torch.no_grad():\n",
        "        speaker_embeddings = speaker_model.encode_batch(torch.tensor(waveform))\n",
        "        speaker_embeddings = torch.nn.functional.normalize(speaker_embeddings, dim=2)\n",
        "        speaker_embeddings = speaker_embeddings.squeeze().cpu().numpy()\n",
        "    return speaker_embeddings"
      ],
      "metadata": {
        "id": "smJs3_VB1Da2",
        "colab": {
          "base_uri": "https://localhost:8080/",
          "height": 177,
          "referenced_widgets": [
            "a371f1d53bd340fb9005ac6778ba7221",
            "8a8ea4848a88410790df93f751340184",
            "6f344dc97f854d19b1f62f0f500700e2",
            "7d3ca9ef550c4516b079e59859a9e0fa",
            "aa68dff61460472bb7d0c906e28ffe81",
            "8434cb54e61546c6abd26e37c89e7c15",
            "a93d643bb2cd4e3ca6cd3bf8f2a7a0f9",
            "b84eb9a61fb04b9eb9a6030538e70d59",
            "fbea5f919e5b42f9b383bc28de843b3d",
            "0d88ef3502bc4762a88c7ae16315e8b9",
            "4056160f52574bb0969f2c4b0e2688c1",
            "3e7d71940bed4e5088c2e5fbbd2c7c6f",
            "78669aeeecc44a80b60dcae9cbf8b008",
            "02e0eadb1c31432aa9d8ff659d0a63b1",
            "577e6ca418444b6896dfa1b6f01aaf06",
            "f8ec31c836a34f048241331b20a40fc8",
            "7be7d2e642b84b2ea767eeed5ce8789c",
            "9d74fdf3d6d5426eac6f62be24e93a8e",
            "f5ebc928dccf42438622835a7f7dcb98",
            "f98c793bb6224be394a25bd7cf7243ee",
            "91422984f2754b40830a9512d73fb171",
            "702e820ff1dc490fbdd6d4568dd95273",
            "b1ec159f53244fbda13b2c2703fc6684",
            "77a5a6d59e2d48b6a9ad6f0fcf1524d9",
            "15681951686349c090f31fd8018f5135",
            "f9227c094ff14cef816b350379a240ef",
            "841c42c80c914ecca52dc27991f922bb",
            "78d0f5e563fb4f1fb44a10c9a0cd15ef",
            "4875d7df078249ed9f1d09518f948741",
            "05842962c1e244929c2ac79ff0655d1b",
            "02bf3f3b03b94bd7962ba1383ad35bfe",
            "1afbf8cd39274c3a88a12784e807e3e3",
            "8e83172457e54699b3d54013e755568e",
            "e138a7afc9c5446889d2d0812fb9df7d",
            "51bc2e76b9c840029010bd7426262098",
            "9c0eaeb1e0aa490db05650859cb19121",
            "8ff8bc799fea4aa896185fb60ba471e5",
            "e51ec5cfb6474434a19a1d19b6347de7",
            "f39f60fba858495e878f7db9406abcf6",
            "bcbaa0c843154a34b1aa23dbb1d81e61",
            "452dfc6c65084d45945935199f58b3fc",
            "aadc751af99d43ee8fb37293ba182102",
            "59638821d38340fa91242083bade49a4",
            "b2a9ff160c924ea69430fb4932c2355c",
            "a3de7f0b3ee14a77938563db81023ea3",
            "24931902e7dc48fd992f20e46036e901",
            "ce2bf274e3b84fee99f577a7e4fc4e61",
            "e9e483dc849d448d81d42c3f10199531",
            "1a5ea843caaf473a8b3a2a81d292f6c8",
            "64f0136625584859b07266de4153f507",
            "f869938e1222472080e8a35d08b7f2ee",
            "bc4601cfa6c2487eb4b16c88dbfb5bd4",
            "1d8ff4d68b0f4dcb82bfdd4ba293f819",
            "6ba854af010c4469811c52e4be9f10ec",
            "362fa84b51ff438f835b54a257c57b43"
          ]
        },
        "outputId": "7bdc3b19-3249-42ad-8da5-b261ede26cfc"
      },
      "execution_count": 35,
      "outputs": [
        {
          "output_type": "display_data",
          "data": {
            "text/plain": [
              "hyperparams.yaml:   0%|          | 0.00/2.04k [00:00<?, ?B/s]"
            ],
            "application/vnd.jupyter.widget-view+json": {
              "version_major": 2,
              "version_minor": 0,
              "model_id": "a371f1d53bd340fb9005ac6778ba7221"
            }
          },
          "metadata": {}
        },
        {
          "output_type": "display_data",
          "data": {
            "text/plain": [
              "embedding_model.ckpt:   0%|          | 0.00/16.9M [00:00<?, ?B/s]"
            ],
            "application/vnd.jupyter.widget-view+json": {
              "version_major": 2,
              "version_minor": 0,
              "model_id": "3e7d71940bed4e5088c2e5fbbd2c7c6f"
            }
          },
          "metadata": {}
        },
        {
          "output_type": "display_data",
          "data": {
            "text/plain": [
              "mean_var_norm_emb.ckpt:   0%|          | 0.00/3.20k [00:00<?, ?B/s]"
            ],
            "application/vnd.jupyter.widget-view+json": {
              "version_major": 2,
              "version_minor": 0,
              "model_id": "b1ec159f53244fbda13b2c2703fc6684"
            }
          },
          "metadata": {}
        },
        {
          "output_type": "display_data",
          "data": {
            "text/plain": [
              "classifier.ckpt:   0%|          | 0.00/15.9M [00:00<?, ?B/s]"
            ],
            "application/vnd.jupyter.widget-view+json": {
              "version_major": 2,
              "version_minor": 0,
              "model_id": "e138a7afc9c5446889d2d0812fb9df7d"
            }
          },
          "metadata": {}
        },
        {
          "output_type": "display_data",
          "data": {
            "text/plain": [
              "label_encoder.txt:   0%|          | 0.00/129k [00:00<?, ?B/s]"
            ],
            "application/vnd.jupyter.widget-view+json": {
              "version_major": 2,
              "version_minor": 0,
              "model_id": "a3de7f0b3ee14a77938563db81023ea3"
            }
          },
          "metadata": {}
        }
      ]
    },
    {
      "cell_type": "markdown",
      "source": [
        "Note: the `speechbrain/spkrec-xvect-voxceleb` model was trained on English speech from the VoxCeleb dataset, while our training examples are in Dutch. We're assuming here that this model will still make reasonable speaker embeddings, but this may not be true. First training an X-vector model on the target speech, such as Dutch, might work better."
      ],
      "metadata": {
        "id": "UczHmLsuFkC6"
      }
    },
    {
      "cell_type": "markdown",
      "source": [
        "## Preparing the dataset"
      ],
      "metadata": {
        "id": "_a8ouSY-Fnxy"
      }
    },
    {
      "cell_type": "markdown",
      "source": [
        "The `prepare_dataset` function takes in a single example and uses the `SpeechT5Processor` object to tokenize the input text and load the target audio into a log-mel spectrogram. It also adds the speaker embeddings as an additional input."
      ],
      "metadata": {
        "id": "dTI_2WkH-3_Z"
      }
    },
    {
      "cell_type": "code",
      "source": [
        "def prepare_dataset(example):\n",
        "    # load the audio data; if necessary, this resamples the audio to 16kHz\n",
        "    audio = example[\"audio\"]\n",
        "\n",
        "    # feature extraction and tokenization\n",
        "    example = processor(\n",
        "        text=example[\"text\"],\n",
        "        audio_target=audio[\"array\"],\n",
        "        sampling_rate=audio[\"sampling_rate\"],\n",
        "        return_attention_mask=False,\n",
        "    )\n",
        "\n",
        "    # strip off the batch dimension\n",
        "    example[\"labels\"] = example[\"labels\"][0]\n",
        "\n",
        "    # use SpeechBrain to obtain x-vector\n",
        "    example[\"speaker_embeddings\"] = create_speaker_embedding(audio[\"array\"])\n",
        "\n",
        "    return example"
      ],
      "metadata": {
        "id": "Mmu8f555v_Ea"
      },
      "execution_count": 38,
      "outputs": []
    },
    {
      "cell_type": "markdown",
      "source": [
        "Let's verify the processing is correct by looking at a single example:"
      ],
      "metadata": {
        "id": "XYYxiCoC15WG"
      }
    },
    {
      "cell_type": "code",
      "source": [
        "processed_example = prepare_dataset(dataset[0])"
      ],
      "metadata": {
        "id": "GYiXtnFczVIP"
      },
      "execution_count": 39,
      "outputs": []
    },
    {
      "cell_type": "markdown",
      "source": [
        "This returns:\n",
        "\n",
        "- the tokens for the input text in `input_ids`\n",
        "- the speaker embedding in `speaker_embeddings`\n",
        "- the target spectrogram in `labels`"
      ],
      "metadata": {
        "id": "dr_zXRhiGu-G"
      }
    },
    {
      "cell_type": "code",
      "source": [
        "list(processed_example.keys())"
      ],
      "metadata": {
        "colab": {
          "base_uri": "https://localhost:8080/"
        },
        "id": "Wkboc3EUzXtp",
        "outputId": "1f66f1f4-09b3-421d-ae88-eaeb4d854e32"
      },
      "execution_count": 40,
      "outputs": [
        {
          "output_type": "execute_result",
          "data": {
            "text/plain": [
              "['input_ids', 'labels', 'speaker_embeddings']"
            ]
          },
          "metadata": {},
          "execution_count": 40
        }
      ]
    },
    {
      "cell_type": "markdown",
      "source": [
        "The tokens should decode into the original text, with `</s>` to mark the end of the sentence."
      ],
      "metadata": {
        "id": "nvNI_JrE2oA8"
      }
    },
    {
      "cell_type": "code",
      "source": [
        "tokenizer.decode(processed_example[\"input_ids\"])"
      ],
      "metadata": {
        "colab": {
          "base_uri": "https://localhost:8080/",
          "height": 36
        },
        "id": "uu8PgZqH07lW",
        "outputId": "ef688693-7f65-47e5-f65b-5a131d04bafb"
      },
      "execution_count": 42,
      "outputs": [
        {
          "output_type": "execute_result",
          "data": {
            "text/plain": [
              "'hello this is harper valley national bank</s>'"
            ],
            "application/vnd.google.colaboratory.intrinsic+json": {
              "type": "string"
            }
          },
          "metadata": {},
          "execution_count": 42
        }
      ]
    },
    {
      "cell_type": "markdown",
      "source": [
        "Speaker embeddings should be a 512-element vector:"
      ],
      "metadata": {
        "id": "wOdMw-xa2u_8"
      }
    },
    {
      "cell_type": "code",
      "source": [
        "processed_example[\"speaker_embeddings\"].shape"
      ],
      "metadata": {
        "colab": {
          "base_uri": "https://localhost:8080/"
        },
        "id": "uuybSBq32AuH",
        "outputId": "3acc12a4-0837-45a0-b448-d6ef5a1c9e03"
      },
      "execution_count": 43,
      "outputs": [
        {
          "output_type": "execute_result",
          "data": {
            "text/plain": [
              "(512,)"
            ]
          },
          "metadata": {},
          "execution_count": 43
        }
      ]
    },
    {
      "cell_type": "markdown",
      "source": [
        "The labels are a log-mel spectrogram with 80 mel bins."
      ],
      "metadata": {
        "id": "YzyoPE2y2zHk"
      }
    },
    {
      "cell_type": "code",
      "source": [
        "import matplotlib.pyplot as plt\n",
        "plt.figure()\n",
        "plt.imshow(processed_example[\"labels\"].T)\n",
        "plt.show()"
      ],
      "metadata": {
        "colab": {
          "base_uri": "https://localhost:8080/",
          "height": 302
        },
        "id": "dKu2km552GL-",
        "outputId": "4b795c5b-616b-424d-c6c7-dfdd8eef8fbf"
      },
      "execution_count": 44,
      "outputs": [
        {
          "output_type": "display_data",
          "data": {
            "text/plain": [
              "<Figure size 640x480 with 1 Axes>"
            ],
            "image/png": "[encoded data removed]"
          },
          "metadata": {}
        }
      ]
    },
    {
      "cell_type": "markdown",
      "source": [
        "If we run a vocoder on the log-mel spectrogram, it should produce the original audio again. We'll load the HiFi-GAN vocoder from the original [SpeechT5 checkpoint](https://hf.co/microsoft/speecht5_hifigan)."
      ],
      "metadata": {
        "id": "bWMT9X6w237M"
      }
    },
    {
      "cell_type": "code",
      "source": [
        "from transformers import SpeechT5HifiGan\n",
        "vocoder = SpeechT5HifiGan.from_pretrained(\"microsoft/speecht5_hifigan\")"
      ],
      "metadata": {
        "colab": {
          "base_uri": "https://localhost:8080/",
          "height": 81,
          "referenced_widgets": [
            "2b69d4b7edc44aec99f614521d87fedb",
            "7e0d6d5b42914080866efa712aec5ca9",
            "503f831c9c0c4abf8c525cbd906116c4",
            "051ee9ab3c1b4531b57863ae9392ba9a",
            "cb8130dd3c9c43798742bc12cd5c077d",
            "7913d08c5d204eaa949b9b2fb2e534f5",
            "887452d9c99b4a499233af5f97741c49",
            "363860d85a9246f3b67227eb3e254f96",
            "0d179c93924f46a09ff85b5e45c22bf8",
            "b9e3c1ce2838486c86eef41ed2526678",
            "2b80f99ba60244eca8fc0f8da56167aa",
            "d1585de4aee14a01a82f8aba11a94899",
            "7714d59c5c1a4b8181ef5eeb5a0f8587",
            "659c71c4b37046d09b37dced246c0a31",
            "eebd3404c0c547a39e98daeda98b1cbd",
            "f3b4aa65efc44e008a1e9eb745c52b4b",
            "970b70495209481ba5619e8d23574446",
            "090f79d44592409dbcd4af33a69b04b8",
            "d964239e587a4114a87cb21bcf53c73f",
            "847282a14b704131a9b24aeaebf170f9",
            "0aa0455cbf644c46841a7b73e24f8526",
            "1e9fa2b50416484fab80efed3f1d0e7c"
          ]
        },
        "id": "2Yu-rqwa1zns",
        "outputId": "d0bc8e58-1708-4d6b-d467-beadbcbc7628"
      },
      "execution_count": 45,
      "outputs": [
        {
          "output_type": "display_data",
          "data": {
            "text/plain": [
              "config.json:   0%|          | 0.00/636 [00:00<?, ?B/s]"
            ],
            "application/vnd.jupyter.widget-view+json": {
              "version_major": 2,
              "version_minor": 0,
              "model_id": "2b69d4b7edc44aec99f614521d87fedb"
            }
          },
          "metadata": {}
        },
        {
          "output_type": "display_data",
          "data": {
            "text/plain": [
              "pytorch_model.bin:   0%|          | 0.00/50.7M [00:00<?, ?B/s]"
            ],
            "application/vnd.jupyter.widget-view+json": {
              "version_major": 2,
              "version_minor": 0,
              "model_id": "d1585de4aee14a01a82f8aba11a94899"
            }
          },
          "metadata": {}
        }
      ]
    },
    {
      "cell_type": "code",
      "source": [
        "spectrogram = torch.tensor(processed_example[\"labels\"])\n",
        "with torch.no_grad():\n",
        "    speech = vocoder(spectrogram)"
      ],
      "metadata": {
        "id": "byzHH-Jl2XeL"
      },
      "execution_count": 46,
      "outputs": []
    },
    {
      "cell_type": "code",
      "source": [
        "from IPython.display import Audio\n",
        "Audio(speech.cpu().numpy(), rate=16000)"
      ],
      "metadata": {
        "colab": {
          "base_uri": "https://localhost:8080/",
          "height": 75
        },
        "id": "MgovGHdT2aJv",
        "outputId": "c83a22a8-4ed4-4715-b17f-826b0e70ccf4"
      },
      "execution_count": 47,
      "outputs": [
        {
          "output_type": "execute_result",
          "data": {
            "text/plain": [
              "<IPython.lib.display.Audio object>"
            ],
            "text/html": [
              "\n",
              "                <audio  controls=\"controls\" >\n",
              "                    <source src=\"data:audio/wav;base64,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\" type=\"audio/wav\" />\n",
              "                    Your browser does not support the audio element.\n",
              "                </audio>\n",
              "              "
            ]
          },
          "metadata": {},
          "execution_count": 47
        }
      ]
    },
    {
      "cell_type": "markdown",
      "source": [
        "That all looks and sounds good! We can now process the entire dataset. This will take between 5 and 10 minutes."
      ],
      "metadata": {
        "id": "RPLVad8w3CvV"
      }
    },
    {
      "cell_type": "code",
      "source": [
        "dataset = dataset.map(\n",
        "    prepare_dataset, remove_columns=dataset.column_names,\n",
        ")"
      ],
      "metadata": {
        "colab": {
          "base_uri": "https://localhost:8080/",
          "height": 49,
          "referenced_widgets": [
            "668a617c2868461088d2547b25e532c8",
            "185e5f3486e7482da23b2a7ad9ec5d27",
            "ba936df571a24d8393b63e13a7437602",
            "3f34527b726f44349e250e0995aa2f37",
            "d32f6f0af5334f4fa930a9013cf12841",
            "529850b4698e43eb90b6bff48f6b8476",
            "e13bee2b744f43ac876b4791ff113a6f",
            "23574cdd79d04200a54151b824f79083",
            "46b4d7c9f6da4dac9506278f719a469c",
            "2dab4d26ff84418fa75e9a52bee0ceb6",
            "1c1b4d93864543529a1f559973e8165d"
          ]
        },
        "id": "ekis02SC2hBN",
        "outputId": "659850ea-5158-477b-dd69-6db2cce89eb1"
      },
      "execution_count": 48,
      "outputs": [
        {
          "output_type": "display_data",
          "data": {
            "text/plain": [
              "Map:   0%|          | 0/11344 [00:00<?, ? examples/s]"
            ],
            "application/vnd.jupyter.widget-view+json": {
              "version_major": 2,
              "version_minor": 0,
              "model_id": "668a617c2868461088d2547b25e532c8"
            }
          },
          "metadata": {}
        }
      ]
    },
    {
      "cell_type": "markdown",
      "source": [
        "Some of the examples in the dataset are apparently longer than the maximum input length the model can handle (600 tokens), so we should remove those from the dataset. In fact, to allow for larger batch sizes we'll remove anything over 200 tokens."
      ],
      "metadata": {
        "id": "7z_QGJ1u3LTa"
      }
    },
    {
      "cell_type": "code",
      "source": [
        "def is_not_too_long(input_ids):\n",
        "    input_length = len(input_ids)\n",
        "    return input_length < 200\n",
        "\n",
        "dataset = dataset.filter(is_not_too_long, input_columns=[\"input_ids\"])"
      ],
      "metadata": {
        "colab": {
          "base_uri": "https://localhost:8080/",
          "height": 49,
          "referenced_widgets": [
            "112cbb0a45994841ae36aa6d2a314d18",
            "421cf61baf794508b29e0d52b1ad5bc7",
            "896b92ee2d6a454fb3a60ef410689b8f",
            "5cee30e737fb47c68cd5d419e2d9cb99",
            "5f1b071d65a04c529ebb71850ac0c59c",
            "aa91f28d437d42eda48c6cc3270b7808",
            "80c4e72a1bc741a9a9218592cc217637",
            "f27735003a15414fa22d777aeeb51eae",
            "adeb6c88711542a3b4c26c00beef2952",
            "710f11461495409db24cb56cb180a964",
            "983c4889a5bd460bb7409b5747e47397"
          ]
        },
        "id": "Sy4kcOco3Ks3",
        "outputId": "e32e8136-1225-4b02-a184-201e30504d2e"
      },
      "execution_count": 49,
      "outputs": [
        {
          "output_type": "display_data",
          "data": {
            "text/plain": [
              "Filter:   0%|          | 0/11344 [00:00<?, ? examples/s]"
            ],
            "application/vnd.jupyter.widget-view+json": {
              "version_major": 2,
              "version_minor": 0,
              "model_id": "112cbb0a45994841ae36aa6d2a314d18"
            }
          },
          "metadata": {}
        }
      ]
    },
    {
      "cell_type": "markdown",
      "source": [
        "How many examples are left?"
      ],
      "metadata": {
        "id": "KRaX-WqeHiDy"
      }
    },
    {
      "cell_type": "code",
      "source": [
        "len(dataset)"
      ],
      "metadata": {
        "colab": {
          "base_uri": "https://localhost:8080/"
        },
        "id": "Xi6DLMeEHlZ6",
        "outputId": "8d5776bf-792b-4190-ebdc-58bfb251f311"
      },
      "execution_count": 50,
      "outputs": [
        {
          "output_type": "execute_result",
          "data": {
            "text/plain": [
              "11342"
            ]
          },
          "metadata": {},
          "execution_count": 50
        }
      ]
    },
    {
      "cell_type": "markdown",
      "source": [
        "## Train/test split"
      ],
      "metadata": {
        "id": "KAcyUJ6IHVug"
      }
    },
    {
      "cell_type": "markdown",
      "source": [
        "Create a basic train/test split. For our purposes, it's OK if the same speaker is part of both sets."
      ],
      "metadata": {
        "id": "UnDAXO5KTTE-"
      }
    },
    {
      "cell_type": "code",
      "source": [
        "dataset = dataset.train_test_split(test_size=0.1)"
      ],
      "metadata": {
        "id": "IUuFNOjZ_viW"
      },
      "execution_count": 51,
      "outputs": []
    },
    {
      "cell_type": "markdown",
      "source": [
        "What does the dataset look like now?"
      ],
      "metadata": {
        "id": "lZmUOJ956k8P"
      }
    },
    {
      "cell_type": "code",
      "source": [
        "dataset"
      ],
      "metadata": {
        "colab": {
          "base_uri": "https://localhost:8080/"
        },
        "id": "xUBq8Y8X6htL",
        "outputId": "f5e2d2fe-17b9-45d2-bdb0-71ca7f4b61ad"
      },
      "execution_count": 52,
      "outputs": [
        {
          "output_type": "execute_result",
          "data": {
            "text/plain": [
              "DatasetDict({\n",
              "    train: Dataset({\n",
              "        features: ['input_ids', 'labels', 'speaker_embeddings'],\n",
              "        num_rows: 10207\n",
              "    })\n",
              "    test: Dataset({\n",
              "        features: ['input_ids', 'labels', 'speaker_embeddings'],\n",
              "        num_rows: 1135\n",
              "    })\n",
              "})"
            ]
          },
          "metadata": {},
          "execution_count": 52
        }
      ]
    },
    {
      "cell_type": "markdown",
      "source": [
        "## Collator to make batches\n",
        "\n",
        "We need to define a custom collator to combine multiple examples into a batch. This will pad shorter sequences with padding tokens. For the spectrogram labels, the padded portions are replaced with the special value -100. This special value tells the model to ignore that part of the spectrogram when calculating the spectrogram loss.\n"
      ],
      "metadata": {
        "id": "zLvJ4HRb3aCp"
      }
    },
    {
      "cell_type": "code",
      "source": [
        "from dataclasses import dataclass\n",
        "from typing import Any, Dict, List, Union\n",
        "\n",
        "@dataclass\n",
        "class TTSDataCollatorWithPadding:\n",
        "    processor: Any\n",
        "\n",
        "    def __call__(self, features: List[Dict[str, Union[List[int], torch.Tensor]]]) -> Dict[str, torch.Tensor]:\n",
        "\n",
        "        input_ids = [{\"input_ids\": feature[\"input_ids\"]} for feature in features]\n",
        "        label_features = [{\"input_values\": feature[\"labels\"]} for feature in features]\n",
        "        speaker_features = [feature[\"speaker_embeddings\"] for feature in features]\n",
        "\n",
        "        # collate the inputs and targets into a batch\n",
        "        batch = processor.pad(\n",
        "            input_ids=input_ids,\n",
        "            labels=label_features,\n",
        "            return_tensors=\"pt\",\n",
        "        )\n",
        "\n",
        "        # replace padding with -100 to ignore loss correctly\n",
        "        batch[\"labels\"] = batch[\"labels\"].masked_fill(\n",
        "            batch.decoder_attention_mask.unsqueeze(-1).ne(1), -100\n",
        "        )\n",
        "\n",
        "        # not used during fine-tuning\n",
        "        del batch[\"decoder_attention_mask\"]\n",
        "\n",
        "        # round down target lengths to multiple of reduction factor\n",
        "        if model.config.reduction_factor > 1:\n",
        "            target_lengths = torch.tensor([\n",
        "                len(feature[\"input_values\"]) for feature in label_features\n",
        "            ])\n",
        "            target_lengths = target_lengths.new([\n",
        "                length - length % model.config.reduction_factor for length in target_lengths\n",
        "            ])\n",
        "            max_length = max(target_lengths)\n",
        "            batch[\"labels\"] = batch[\"labels\"][:, :max_length]\n",
        "\n",
        "        # also add in the speaker embeddings\n",
        "        batch[\"speaker_embeddings\"] = torch.tensor(speaker_features)\n",
        "\n",
        "        return batch"
      ],
      "metadata": {
        "id": "rZOX8bTe3Kq5"
      },
      "execution_count": 53,
      "outputs": []
    },
    {
      "cell_type": "markdown",
      "source": [
        "In SpeechT5, the input to the decoder part of the model is reduced by a factor 2. In other words, it throws away every other timestep from the target sequence. The decoder then predicts a sequence that is twice as long. Since the original target sequence length may be odd, the data collator makes sure to round the maximum length of the batch down to be a multiple of 2."
      ],
      "metadata": {
        "id": "ffNanldmrlbD"
      }
    },
    {
      "cell_type": "code",
      "source": [
        "data_collator = TTSDataCollatorWithPadding(processor=processor)"
      ],
      "metadata": {
        "id": "CJKY4DVO4khr"
      },
      "execution_count": 54,
      "outputs": []
    },
    {
      "cell_type": "markdown",
      "source": [
        "Let's test the data collator."
      ],
      "metadata": {
        "id": "McZfpBzL4mRK"
      }
    },
    {
      "cell_type": "code",
      "source": [
        "features = [\n",
        "    dataset[\"train\"][0],\n",
        "    dataset[\"train\"][1],\n",
        "    dataset[\"train\"][20],\n",
        "]\n",
        "\n",
        "batch = data_collator(features)"
      ],
      "metadata": {
        "id": "78-XVnD04ouJ"
      },
      "execution_count": 55,
      "outputs": []
    },
    {
      "cell_type": "code",
      "source": [
        "{k:v.shape for k,v in batch.items()}"
      ],
      "metadata": {
        "colab": {
          "base_uri": "https://localhost:8080/"
        },
        "id": "vuWoBSpW4pY9",
        "outputId": "5c3b9a24-6393-4496-e678-d569e7c389aa"
      },
      "execution_count": 56,
      "outputs": [
        {
          "output_type": "execute_result",
          "data": {
            "text/plain": [
              "{'input_ids': torch.Size([3, 69]),\n",
              " 'attention_mask': torch.Size([3, 69]),\n",
              " 'labels': torch.Size([3, 234, 80]),\n",
              " 'speaker_embeddings': torch.Size([3, 512])}"
            ]
          },
          "metadata": {},
          "execution_count": 56
        }
      ]
    },
    {
      "cell_type": "markdown",
      "source": [
        "Looks good!"
      ],
      "metadata": {
        "id": "sVMpz-tpP-vw"
      }
    },
    {
      "cell_type": "markdown",
      "source": [
        "## Training"
      ],
      "metadata": {
        "id": "_iOqGsqq4uJv"
      }
    },
    {
      "cell_type": "markdown",
      "source": [
        "It's always a good idea to upload model checkpoints directly to the [Hugging Face Hub](https://huggingface.co/) while training. To allow this, first log in to the Hub by entering your Hub authentication token:"
      ],
      "metadata": {
        "id": "uQiZlXN9ICmc"
      }
    },
    {
      "cell_type": "code",
      "source": [
        "from huggingface_hub import notebook_login\n",
        "\n",
        "notebook_login()"
      ],
      "metadata": {
        "colab": {
          "base_uri": "https://localhost:8080/",
          "height": 145,
          "referenced_widgets": [
            "774b0f08074441cba5b88cc11d941e31",
            "3abb8444955e41468cdc16c99417a57b",
            "0e8cb35c14a542acafdfbb605a461b15",
            "d0e24c4e77314edc8811e6830f6df2c2",
            "a9a896f9831044409e3ed03c9d78a4c2",
            "8f2dc9758b8c4169a4a6ab8889777d7a",
            "b0d59eab849e41af9e14ddf62990f59f",
            "34395590978647658c55e7066a30625a",
            "a5dc72d8a6204b6e86cc51d518014058",
            "9bddf2f3381e4ac3a649aa86fbd55610",
            "7a18dded571246278d3e1e6094951cf3",
            "9a906de03aca4d77ba307bdcdd18ce07",
            "932ee753775244d5abdb8e6a52e9a026",
            "8c6e4164499443bba442255a57776e7f",
            "97224ca45eab4f289dd8b3d45e221b23",
            "0e3caded726b4bb78db2515d148eef24",
            "438f06f44c444a018d7bf8cc60cde90c",
            "9c1b9788e3594dd390c462025c81bce3",
            "b6a2881769bd4399be51da94fe64da42",
            "b3eed5f9d1264aa3be4f3c517bc8ebd5",
            "c30af8204fc24d1f81d6addab5e9c2e4",
            "b62b5ad9a22f4adc9f8cf2a64c5a60bc",
            "d8984151957942eaa2c44fcdb4475029",
            "781aaa369cee402eb5835ce105a80098",
            "e99bbbc4ea68450fb43bddbc9a6781d9",
            "58e6fa946d2e4de8b08ff55528873b0a",
            "e2f415d9ea704b92ae6ad93761211ce5",
            "9fded67fc65447298b68bedb91323881",
            "65af15ce94b34af1a811ac317b5978ee",
            "18bdf43a5ede48109668db497a1d233f",
            "9eafbfef20244323857f7d74b42ee00d",
            "63a04906a58a41cd83006bed696b4f0d"
          ]
        },
        "id": "1z3DEgUOIBz7",
        "outputId": "744a3b1e-d048-4d92-e0f7-0d21cf8e00a4"
      },
      "execution_count": 58,
      "outputs": [
        {
          "output_type": "display_data",
          "data": {
            "text/plain": [
              "VBox(children=(HTML(value='<center> <img\\nsrc=https://huggingface.co/front/assets/huggingface_logo-noborder.sv…"
            ],
            "application/vnd.jupyter.widget-view+json": {
              "version_major": 2,
              "version_minor": 0,
              "model_id": "774b0f08074441cba5b88cc11d941e31"
            }
          },
          "metadata": {}
        }
      ]
    },
    {
      "cell_type": "markdown",
      "source": [
        "The `use_cache=True` option is incompatible with gradient checkpointing. Disable it for training, otherwise it keeps complaining about it."
      ],
      "metadata": {
        "id": "Et5pSY56QEFA"
      }
    },
    {
      "cell_type": "code",
      "source": [
        "model.config.use_cache = False"
      ],
      "metadata": {
        "id": "DmjX8QsH4vUW"
      },
      "execution_count": 59,
      "outputs": []
    },
    {
      "cell_type": "markdown",
      "source": [
        "Define the training arguments.\n",
        "\n",
        "We won't be computing any evaluation metrics during the training process. Instead, we'll only look at the loss. The lower the loss, the better the model.\n",
        "\n",
        "Note: If you do not want to upload the model checkpoints to the Hub, set `push_to_hub=False`."
      ],
      "metadata": {
        "id": "QRWLpbljIagm"
      }
    },
    {
      "cell_type": "code",
      "source": [
        "from transformers import Seq2SeqTrainingArguments\n",
        "\n",
        "training_args = Seq2SeqTrainingArguments(\n",
        "    output_dir=\"./temp\",  # change to a repo name of your choice\n",
        "    per_device_train_batch_size=16,\n",
        "    gradient_accumulation_steps=2,\n",
        "    learning_rate=1e-5,\n",
        "    warmup_steps=500,\n",
        "    max_steps=4000,\n",
        "    gradient_checkpointing=True,\n",
        "    fp16=True,\n",
        "    evaluation_strategy=\"steps\",\n",
        "    per_device_eval_batch_size=8,\n",
        "    save_steps=1000,\n",
        "    eval_steps=1000,\n",
        "    logging_steps=25,\n",
        "    report_to=[\"tensorboard\"],\n",
        "    load_best_model_at_end=True,\n",
        "    greater_is_better=False,\n",
        "    label_names=[\"labels\"],\n",
        "    push_to_hub=True,\n",
        ")"
      ],
      "metadata": {
        "id": "2fXg9cfJ7JQT",
        "outputId": "cb5432da-b2e9-4422-a5bb-6e972289d3f7",
        "colab": {
          "base_uri": "https://localhost:8080/"
        }
      },
      "execution_count": 68,
      "outputs": [
        {
          "output_type": "stream",
          "name": "stderr",
          "text": [
            "/usr/local/lib/python3.10/dist-packages/transformers/training_args.py:1449: FutureWarning: `evaluation_strategy` is deprecated and will be removed in version 4.46 of 🤗 Transformers. Use `eval_strategy` instead\n",
            "  warnings.warn(\n"
          ]
        }
      ]
    },
    {
      "cell_type": "markdown",
      "source": [
        "Create the trainer object using the model, dataset, and data collator."
      ],
      "metadata": {
        "id": "ksyDvPosI1Vg"
      }
    },
    {
      "cell_type": "code",
      "source": [
        "from transformers import Seq2SeqTrainer\n",
        "\n",
        "trainer = Seq2SeqTrainer(\n",
        "    args=training_args,\n",
        "    model=model,\n",
        "    train_dataset=dataset[\"train\"],\n",
        "    eval_dataset=dataset[\"test\"],\n",
        "    data_collator=data_collator,\n",
        "    tokenizer=processor.tokenizer,\n",
        ")"
      ],
      "metadata": {
        "id": "ekIPeQuD7RwA",
        "colab": {
          "base_uri": "https://localhost:8080/"
        },
        "outputId": "0eb69793-7ee9-4cd1-cbc6-49fa09f2cf9c"
      },
      "execution_count": 69,
      "outputs": [
        {
          "output_type": "stream",
          "name": "stderr",
          "text": [
            "max_steps is given, it will override any value given in num_train_epochs\n"
          ]
        }
      ]
    },
    {
      "cell_type": "markdown",
      "source": [
        "And with that, we're ready to start training!\n",
        "\n",
        "Training will take several hours depending on your GPU or the one allocated to the Google Colab. Depending on your GPU, it is possible that you will encounter a CUDA \"out-of-memory\" error when you start training. In this case, you can reduce the `per_device_train_batch_size` incrementally by factors of 2 and increase `gradient_accumulation_steps` by 2x to compensate."
      ],
      "metadata": {
        "id": "l9OkZG-ZJAh5"
      }
    },
    {
      "cell_type": "code",
      "source": [
        "trainer.train()"
      ],
      "metadata": {
        "colab": {
          "base_uri": "https://localhost:8080/",
          "height": 131
        },
        "id": "87U167Vf7V5Q",
        "outputId": "6f4a03a7-5fe7-4972-a882-91e6a906c53a"
      },
      "execution_count": null,
      "outputs": [
        {
          "output_type": "stream",
          "name": "stderr",
          "text": [
            "/usr/local/lib/python3.10/dist-packages/torch/utils/checkpoint.py:460: UserWarning: torch.utils.checkpoint: please pass in use_reentrant=True or use_reentrant=False explicitly. The default value of use_reentrant will be updated to be False in the future. To maintain current behavior, pass use_reentrant=True. It is recommended that you use use_reentrant=False. Refer to docs for more details on the differences between the two variants.\n",
            "  warnings.warn(\n"
          ]
        },
        {
          "output_type": "display_data",
          "data": {
            "text/plain": [
              "<IPython.core.display.HTML object>"
            ],
            "text/html": [
              "\n",
              "    <div>\n",
              "      \n",
              "      <progress value='130' max='4000' style='width:300px; height:20px; vertical-align: middle;'></progress>\n",
              "      [ 130/4000 01:39 < 50:06, 1.29 it/s, Epoch 0.40/13]\n",
              "    </div>\n",
              "    <table border=\"1\" class=\"dataframe\">\n",
              "  <thead>\n",
              " <tr style=\"text-align: left;\">\n",
              "      <th>Step</th>\n",
              "      <th>Training Loss</th>\n",
              "      <th>Validation Loss</th>\n",
              "    </tr>\n",
              "  </thead>\n",
              "  <tbody>\n",
              "  </tbody>\n",
              "</table><p>"
            ]
          },
          "metadata": {}
        }
      ]
    },
    {
      "cell_type": "markdown",
      "source": [
        "If we do one more `push_to_hub()` after training we can get a nice model card built for us. We simply have to set the appropriate keyword arguments (kwargs). You can change these values to match your dataset, language and model name accordingly:"
      ],
      "metadata": {
        "id": "4z3CzVGSs000"
      }
    },
    {
      "cell_type": "code",
      "source": [
        "kwargs = {\n",
        "    \"dataset_tags\": \"facebook/voxpopuli\",\n",
        "    \"dataset\": \"VoxPopuli\",  # a 'pretty' name for the training dataset\n",
        "    \"dataset_args\": \"config: nl, split: train\",\n",
        "    \"language\": \"nl\",\n",
        "    \"model_name\": \"SpeechT5 TTS Dutch\",  # a 'pretty' name for your model\n",
        "    \"finetuned_from\": \"microsoft/speecht5_tts\",\n",
        "    \"tasks\": \"text-to-speech\",\n",
        "    \"tags\": \"\",\n",
        "}"
      ],
      "metadata": {
        "id": "NpXOJAZIs2-n"
      },
      "execution_count": null,
      "outputs": []
    },
    {
      "cell_type": "markdown",
      "source": [
        "The training results can now be uploaded to the Hub. To do so, execute the `push_to_hub` command:"
      ],
      "metadata": {
        "id": "ooEluBcXs5hJ"
      }
    },
    {
      "cell_type": "code",
      "source": [
        "trainer.push_to_hub(**kwargs)"
      ],
      "metadata": {
        "id": "mpodV89js9KT"
      },
      "execution_count": null,
      "outputs": []
    },
    {
      "cell_type": "markdown",
      "source": [
        "You can now share this model with anyone using the link on the Hub."
      ],
      "metadata": {
        "id": "ojrUgMeEs_LP"
      }
    },
    {
      "cell_type": "markdown",
      "source": [
        "## Evaluate"
      ],
      "metadata": {
        "id": "5K1AQd8B7b-p"
      }
    },
    {
      "cell_type": "markdown",
      "source": [
        "After training finishes, let's use the model to synthesize some speech!\n",
        "\n",
        "I'm loading the model from the Hugging Face Hub, as the Colab notebook was terminated before training finished (which is why it's a good idea to use `push_to_hub=True` when training)."
      ],
      "metadata": {
        "id": "TrqUYy3-Qr1w"
      }
    },
    {
      "cell_type": "code",
      "source": [
        "model = SpeechT5ForTextToSpeech.from_pretrained(\"Matthijs/speecht5_tts_voxpopuli_nl\")"
      ],
      "metadata": {
        "colab": {
          "base_uri": "https://localhost:8080/",
          "height": 81,
          "referenced_widgets": [
            "81fa22bbeaca4a24b76c628160fd9a8e",
            "9d69ce1ea1f045528519d1303ff8af77",
            "c5d1b33e111e42ed877b47b91c9831cc",
            "426640aec3574c95a652f945e16c45a4",
            "a160ef70490b46dc8fb653a938bee09e",
            "31f843802662472a94d3c682a2bd74a8",
            "969b776096564cceb400b2c90a3adb55",
            "5854ee4e1a224964b90364231547ecf8",
            "37e1802f96f1438e98130dd5878e1078",
            "8ebc38668f9c469bac7317b92c2407e6",
            "e98503c6db424b96bb996e4fbb7b8a2a",
            "c03e907d330d4ef3a67dc5a9c74efb8a",
            "7a2afb9beeae4f0cb8df3c9cd2508245",
            "9fab9106ee00497ba1ef4a67de4751cc",
            "f72ced9bcad74bcaaa7af943b31e87f6",
            "12dee1b077694478900d22bb6652d7b6",
            "54b66c1a49174d5382e0272483866176",
            "00c77e7eee56468daef0889d3d622b8e",
            "3fa69385ce1f40a58f6c4059474887b5",
            "e016e5b2b5bf4b7e8e6c7461f6757828",
            "63603aadc07649ba91e1abd21a655c29",
            "3fe0a7bc778641d9a3168e47b3a06092"
          ]
        },
        "id": "bos-fW6CHijQ",
        "outputId": "0a25e110-5872-45f1-fa8c-27461944205e"
      },
      "execution_count": null,
      "outputs": [
        {
          "output_type": "display_data",
          "data": {
            "text/plain": [
              "Downloading (…)lve/main/config.json:   0%|          | 0.00/2.11k [00:00<?, ?B/s]"
            ],
            "application/vnd.jupyter.widget-view+json": {
              "version_major": 2,
              "version_minor": 0,
              "model_id": "81fa22bbeaca4a24b76c628160fd9a8e"
            }
          },
          "metadata": {}
        },
        {
          "output_type": "display_data",
          "data": {
            "text/plain": [
              "Downloading pytorch_model.bin:   0%|          | 0.00/585M [00:00<?, ?B/s]"
            ],
            "application/vnd.jupyter.widget-view+json": {
              "version_major": 2,
              "version_minor": 0,
              "model_id": "c03e907d330d4ef3a67dc5a9c74efb8a"
            }
          },
          "metadata": {}
        }
      ]
    },
    {
      "cell_type": "markdown",
      "source": [
        "First we need to obtain a speaker embedding. We can simply grab one from the test set."
      ],
      "metadata": {
        "id": "AePsNMjKHhBH"
      }
    },
    {
      "cell_type": "code",
      "source": [
        "example = dataset[\"test\"][304]\n",
        "speaker_embeddings = torch.tensor(example[\"speaker_embeddings\"]).unsqueeze(0)\n",
        "speaker_embeddings.shape"
      ],
      "metadata": {
        "colab": {
          "base_uri": "https://localhost:8080/"
        },
        "id": "08GkZiwq7dE7",
        "outputId": "13b442a3-520c-468f-cdf4-27e63c58f96d"
      },
      "execution_count": null,
      "outputs": [
        {
          "output_type": "execute_result",
          "data": {
            "text/plain": [
              "torch.Size([1, 512])"
            ]
          },
          "metadata": {},
          "execution_count": 172
        }
      ]
    },
    {
      "cell_type": "markdown",
      "source": [
        "Define some input text and tokenize it."
      ],
      "metadata": {
        "id": "dUg-8t6xQ-k1"
      }
    },
    {
      "cell_type": "code",
      "source": [
        "text = \"hallo allemaal, ik praat nederlands. groetjes aan iedereen!\""
      ],
      "metadata": {
        "id": "T6uROO_97nnJ"
      },
      "execution_count": null,
      "outputs": []
    },
    {
      "cell_type": "code",
      "source": [
        "#tokenizer.decode(tokenizer(text)[\"input_ids\"])"
      ],
      "metadata": {
        "id": "LpuE7d9WOoE0"
      },
      "execution_count": null,
      "outputs": []
    },
    {
      "cell_type": "code",
      "source": [
        "inputs = processor(text=text, return_tensors=\"pt\")"
      ],
      "metadata": {
        "id": "JCY1Hr987oox"
      },
      "execution_count": null,
      "outputs": []
    },
    {
      "cell_type": "markdown",
      "source": [
        "Tell the model to generate a spectrogram from the input text."
      ],
      "metadata": {
        "id": "M5ShECAkRCUv"
      }
    },
    {
      "cell_type": "code",
      "source": [
        "spectrogram = model.generate_speech(inputs[\"input_ids\"], speaker_embeddings)"
      ],
      "metadata": {
        "id": "ZvA6z5w47q7L"
      },
      "execution_count": null,
      "outputs": []
    },
    {
      "cell_type": "code",
      "source": [
        "plt.figure()\n",
        "plt.imshow(spectrogram.T)\n",
        "plt.show()"
      ],
      "metadata": {
        "colab": {
          "base_uri": "https://localhost:8080/",
          "height": 186
        },
        "id": "IVN17Mt67sTe",
        "outputId": "43b6a1cc-fba7-4706-d9ca-d70c1801c307"
      },
      "execution_count": null,
      "outputs": [
        {
          "output_type": "display_data",
          "data": {
            "text/plain": [
              "<Figure size 432x288 with 1 Axes>"
            ],
            "image/png": "[encoded data removed]"
          },
          "metadata": {
            "needs_background": "light"
          }
        }
      ]
    },
    {
      "cell_type": "markdown",
      "source": [
        "Finally, use the vocoder to turn the spectrogram into sound."
      ],
      "metadata": {
        "id": "McG3EnpYRJVj"
      }
    },
    {
      "cell_type": "code",
      "source": [
        "with torch.no_grad():\n",
        "    speech = vocoder(spectrogram)"
      ],
      "metadata": {
        "id": "MpogdOe_7uoe"
      },
      "execution_count": null,
      "outputs": []
    },
    {
      "cell_type": "code",
      "source": [
        "from IPython.display import Audio\n",
        "Audio(speech.numpy(), rate=16000)"
      ],
      "metadata": {
        "colab": {
          "base_uri": "https://localhost:8080/",
          "height": 75
        },
        "id": "5H_FaVuW7wXt",
        "outputId": "f03892ad-4db1-4ad8-cc62-6e3e8e2324f1"
      },
      "execution_count": null,
      "outputs": [
        {
          "output_type": "execute_result",
          "data": {
            "text/plain": [
              "<IPython.lib.display.Audio object>"
            ],
            "text/html": [
              "\n",
              "                <audio  controls=\"controls\" >\n",
              "                    <source src=\"data:audio/wav;base64,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\" type=\"audio/wav\" />\n",
              "                    Your browser does not support the audio element.\n",
              "                </audio>\n",
              "              "
            ]
          },
          "metadata": {},
          "execution_count": 176
        }
      ]
    },
    {
      "cell_type": "code",
      "source": [
        "import soundfile as sf\n",
        "sf.write(\"output.wav\", speech.numpy(), samplerate=16000)"
      ],
      "metadata": {
        "id": "PV0nUOmO7xvv"
      },
      "execution_count": null,
      "outputs": []
    },
    {
      "cell_type": "markdown",
      "source": [
        "## Building a demo\n",
        "\n",
        "To showcase your newly fine-tuned model, make a demo on Hugging Face Spaces! We've created a [template Gradio demo](https://huggingface.co/spaces/Matthijs/speecht5-tts-demo) that you can easily copy and make your own.\n",
        "\n",
        "Click the link to duplicate the template demo to your account: https://huggingface.co/spaces/Matthijs/speecht5-tts-demo?duplicate=true (or from the three-dot button at the top choose **Duplicate this Space**).\n",
        "\n",
        "We recommend giving your space a similar name to your fine-tuned model (e.g. `speecht5_tts_voxpopuli_nl`) and setting the visibility to \"Public\".\n",
        "\n",
        "Once you've duplicated the Space to your account, click **Files and versions > app.py > edit**. Change the model identifier to your fine-tuned model (line 9). Scroll to the bottom of the page and click **Commit changes to main**. The demo will reboot, this time using your fine-tuned model.\n",
        "\n",
        "You can share this demo with your friends and family so that they can use the model that you've trained!"
      ],
      "metadata": {
        "id": "wm7B3zxrumfF"
      }
    },
    {
      "cell_type": "markdown",
      "source": [
        "## Conclusion\n",
        "\n",
        "That's it, you've fine-tuned SpeechT5 for TTS on a custom dataset!\n",
        "\n",
        "In our experience, it can be difficult to get good results out of this model. The results can be rather noisy and sometimes what the model outputs doesn't even sound like speech at all. A lot of this appears to be related to the speaker embeddings. Since SpeechT5 was pre-trained with English x-vectors, it gives the best results using those English speaker embeddings. So if the generated speech sounds bad, try using a different speaker embedding and it might improve.\n",
        "\n",
        "Of course, the demo above was only trained for 3000 iterations. Training for longer should improve the results. Even so, the speech clearly is Dutch instead of English, and it does capture the voice characteristics of the speaker (compare to the original audio in the example).\n",
        "\n",
        "Another thing to experiment with is the model's configuration. For example, try using `config.reduction_factor = 1` to see if this improves the results."
      ],
      "metadata": {
        "id": "W5_p2oWERU3C"
      }
    },
    {
      "cell_type": "markdown",
      "source": [
        "A final note on ethical concerns: While TTS technology has many beneficial uses, it can also be used for nefarious purposes such as imitating someone's voice without their permission. Please use TTS wisely and responsibly!"
      ],
      "metadata": {
        "id": "58ISNvOwuGiY"
      }
    },
    {
      "cell_type": "code",
      "source": [],
      "metadata": {
        "id": "L-1ph4naugf6"
      },
      "execution_count": null,
      "outputs": []
    }
  ]
}