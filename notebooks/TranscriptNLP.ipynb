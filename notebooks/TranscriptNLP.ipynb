{
  "cells": [
    {
      "cell_type": "markdown",
      "metadata": {
        "id": "auM3jLkGYHk5"
      },
      "source": [
        "# Gridspace-Stanford Harper Valley transcript dataset\n",
        "\n",
        "This notebook focuses on the use of the Gridspace-Stanford Harper Valley transcripts to use embeddings, visualizations, classifiers and chatbots."
      ]
    },
    {
      "cell_type": "markdown",
      "metadata": {
        "id": "sHv1LsPley3G"
      },
      "source": [
        "**Optional for Colab users**"
      ]
    },
    {
      "cell_type": "code",
      "execution_count": 1,
      "metadata": {
        "id": "5PqaF2l7ey3J",
        "colab": {
          "base_uri": "https://localhost:8080/"
        },
        "outputId": "91b5bd1f-ad95-4f30-9c94-7bd5fcd2e78c"
      },
      "outputs": [
        {
          "output_type": "stream",
          "name": "stdout",
          "text": [
            "Mounted at /content/drive\n"
          ]
        }
      ],
      "source": [
        "import os\n",
        "from google.colab import drive\n",
        "\n",
        "# # Mount drive and change directory\n",
        "drive.mount('/content/drive')\n",
        "\n",
        "path = 'NLP-Proyecto'\n",
        "os.chdir(f'/content/drive/MyDrive/{path}')\n",
        "datarepo = 'gridspace_repo/data/transcript'"
      ]
    },
    {
      "cell_type": "markdown",
      "metadata": {
        "id": "DPtKB1FNYHlH"
      },
      "source": [
        "## Data Retrieval"
      ]
    },
    {
      "cell_type": "markdown",
      "metadata": {
        "id": "TOEoUJJC-nPq"
      },
      "source": [
        "The information related to the audios are stored in multiple json files, containing:\n",
        "\n",
        "\n",
        "*   Machine Generated Transcript\n",
        "*   Human Revised Transcript\n",
        "*   Dialog Acts\n",
        "*   Emotion detected (softmax output of a ML classifier)\n",
        "\n"
      ]
    },
    {
      "cell_type": "code",
      "execution_count": 2,
      "metadata": {
        "id": "6vWDgYc9BU3G"
      },
      "outputs": [],
      "source": [
        "import json\n",
        "import pandas as pd"
      ]
    },
    {
      "cell_type": "code",
      "execution_count": null,
      "metadata": {
        "colab": {
          "background_save": true
        },
        "id": "2L7l3ErF5KLM"
      },
      "outputs": [],
      "source": [
        "data = []\n",
        "\n",
        "for filename in os.listdir(datarepo):\n",
        "    if filename.endswith('.json'):\n",
        "        file_path = os.path.join(datarepo, filename)\n",
        "        with open(file_path, 'r') as file:\n",
        "            contents = json.load(file)\n",
        "            for content in contents:\n",
        "                emotions = content.get('emotion', {})\n",
        "                neutral = emotions.get('neutral', None)\n",
        "                negative = emotions.get('negative', None)\n",
        "                positive = emotions.get('positive', None)\n",
        "                data.append({\n",
        "                    'identifier': filename[:-5],\n",
        "                    'human_transcript': content['human_transcript'],\n",
        "                    'machine_transcript': content['transcript'],\n",
        "                    'dialog_acts': content['dialog_acts'],\n",
        "                    'emotion_neutral': neutral,\n",
        "                    'emotion_negative': negative,\n",
        "                    'emotion_positive': positive,\n",
        "                    'index': content['index'],\n",
        "                    'speaker_role': content['speaker_role']\n",
        "                })\n",
        "df = pd.DataFrame(data)\n",
        "df.to_csv('TranscriptDB.csv', index=False)"
      ]
    },
    {
      "cell_type": "code",
      "execution_count": 3,
      "metadata": {
        "colab": {
          "base_uri": "https://localhost:8080/",
          "height": 539
        },
        "id": "jjFv-fsOGwHP",
        "outputId": "55719bda-fd20-4998-da09-cc0884619f26"
      },
      "outputs": [
        {
          "output_type": "execute_result",
          "data": {
            "text/plain": [
              "         identifier                                   human_transcript  \\\n",
              "0  9691bca74ef140d0  hello this is harper valley national bank my n...   \n",
              "1  9691bca74ef140d0                     hi my name is michael williams   \n",
              "2  9691bca74ef140d0                  i would like to reset my password   \n",
              "3  9691bca74ef140d0                    i'm happy to help you with that   \n",
              "4  9691bca74ef140d0                      and what is your phone number   \n",
              "5  9691bca74ef140d0                  my phone number is zero one three   \n",
              "6  9691bca74ef140d0                                    four four eight   \n",
              "7  9691bca74ef140d0                               six eight three nine   \n",
              "8  9691bca74ef140d0                                            [noise]   \n",
              "9  9691bca74ef140d0  can you repeat the final four numbers of your ...   \n",
              "\n",
              "                                  machine_transcript  \\\n",
              "0  hello this is harper valley national bank my n...   \n",
              "1                     hi my name is michael williams   \n",
              "2                  i would like to reset my password   \n",
              "3                    i'm happy to help you with that   \n",
              "4                      and what is your phone number   \n",
              "5                  my phone number is zero one three   \n",
              "6                                    four four eight   \n",
              "7                               six eight three nine   \n",
              "8                                            [noise]   \n",
              "9  can you repeat the final four numbers of your ...   \n",
              "\n",
              "                                         dialog_acts  emotion_neutral  \\\n",
              "0                             ['gridspace_greeting']         0.309475   \n",
              "1  ['gridspace_data_communication', 'gridspace_gr...         0.317042   \n",
              "2  ['gridspace_yes_response', 'gridspace_problem_...         0.553823   \n",
              "3                                ['gridspace_other']         0.345135   \n",
              "4                        ['gridspace_data_question']         0.560032   \n",
              "5                        ['gridspace_data_response']         0.584506   \n",
              "6                        ['gridspace_data_response']         0.582787   \n",
              "7                        ['gridspace_data_response']         0.602211   \n",
              "8                         ['gridspace_confirm_data']         1.000000   \n",
              "9                        ['gridspace_data_question']         0.481985   \n",
              "\n",
              "   emotion_negative  emotion_positive  index speaker_role  \n",
              "0          0.015957          0.674568      1        agent  \n",
              "1          0.036193          0.646765      2       caller  \n",
              "2          0.278830          0.167346      3       caller  \n",
              "3          0.052922          0.601943      4        agent  \n",
              "4          0.199025          0.240943      5        agent  \n",
              "5          0.275289          0.140205      6       caller  \n",
              "6          0.224562          0.192652      7       caller  \n",
              "7          0.188286          0.209503      8       caller  \n",
              "8          0.000000          0.000000      9        agent  \n",
              "9          0.070061          0.447953     10        agent  "
            ],
            "text/html": [
              "\n",
              "  <div id=\"df-550f72a5-a8c4-470d-9ce3-41e967ea31d5\" class=\"colab-df-container\">\n",
              "    <div>\n",
              "<style scoped>\n",
              "    .dataframe tbody tr th:only-of-type {\n",
              "        vertical-align: middle;\n",
              "    }\n",
              "\n",
              "    .dataframe tbody tr th {\n",
              "        vertical-align: top;\n",
              "    }\n",
              "\n",
              "    .dataframe thead th {\n",
              "        text-align: right;\n",
              "    }\n",
              "</style>\n",
              "<table border=\"1\" class=\"dataframe\">\n",
              "  <thead>\n",
              "    <tr style=\"text-align: right;\">\n",
              "      <th></th>\n",
              "      <th>identifier</th>\n",
              "      <th>human_transcript</th>\n",
              "      <th>machine_transcript</th>\n",
              "      <th>dialog_acts</th>\n",
              "      <th>emotion_neutral</th>\n",
              "      <th>emotion_negative</th>\n",
              "      <th>emotion_positive</th>\n",
              "      <th>index</th>\n",
              "      <th>speaker_role</th>\n",
              "    </tr>\n",
              "  </thead>\n",
              "  <tbody>\n",
              "    <tr>\n",
              "      <th>0</th>\n",
              "      <td>9691bca74ef140d0</td>\n",
              "      <td>hello this is harper valley national bank my n...</td>\n",
              "      <td>hello this is harper valley national bank my n...</td>\n",
              "      <td>['gridspace_greeting']</td>\n",
              "      <td>0.309475</td>\n",
              "      <td>0.015957</td>\n",
              "      <td>0.674568</td>\n",
              "      <td>1</td>\n",
              "      <td>agent</td>\n",
              "    </tr>\n",
              "    <tr>\n",
              "      <th>1</th>\n",
              "      <td>9691bca74ef140d0</td>\n",
              "      <td>hi my name is michael williams</td>\n",
              "      <td>hi my name is michael williams</td>\n",
              "      <td>['gridspace_data_communication', 'gridspace_gr...</td>\n",
              "      <td>0.317042</td>\n",
              "      <td>0.036193</td>\n",
              "      <td>0.646765</td>\n",
              "      <td>2</td>\n",
              "      <td>caller</td>\n",
              "    </tr>\n",
              "    <tr>\n",
              "      <th>2</th>\n",
              "      <td>9691bca74ef140d0</td>\n",
              "      <td>i would like to reset my password</td>\n",
              "      <td>i would like to reset my password</td>\n",
              "      <td>['gridspace_yes_response', 'gridspace_problem_...</td>\n",
              "      <td>0.553823</td>\n",
              "      <td>0.278830</td>\n",
              "      <td>0.167346</td>\n",
              "      <td>3</td>\n",
              "      <td>caller</td>\n",
              "    </tr>\n",
              "    <tr>\n",
              "      <th>3</th>\n",
              "      <td>9691bca74ef140d0</td>\n",
              "      <td>i'm happy to help you with that</td>\n",
              "      <td>i'm happy to help you with that</td>\n",
              "      <td>['gridspace_other']</td>\n",
              "      <td>0.345135</td>\n",
              "      <td>0.052922</td>\n",
              "      <td>0.601943</td>\n",
              "      <td>4</td>\n",
              "      <td>agent</td>\n",
              "    </tr>\n",
              "    <tr>\n",
              "      <th>4</th>\n",
              "      <td>9691bca74ef140d0</td>\n",
              "      <td>and what is your phone number</td>\n",
              "      <td>and what is your phone number</td>\n",
              "      <td>['gridspace_data_question']</td>\n",
              "      <td>0.560032</td>\n",
              "      <td>0.199025</td>\n",
              "      <td>0.240943</td>\n",
              "      <td>5</td>\n",
              "      <td>agent</td>\n",
              "    </tr>\n",
              "    <tr>\n",
              "      <th>5</th>\n",
              "      <td>9691bca74ef140d0</td>\n",
              "      <td>my phone number is zero one three</td>\n",
              "      <td>my phone number is zero one three</td>\n",
              "      <td>['gridspace_data_response']</td>\n",
              "      <td>0.584506</td>\n",
              "      <td>0.275289</td>\n",
              "      <td>0.140205</td>\n",
              "      <td>6</td>\n",
              "      <td>caller</td>\n",
              "    </tr>\n",
              "    <tr>\n",
              "      <th>6</th>\n",
              "      <td>9691bca74ef140d0</td>\n",
              "      <td>four four eight</td>\n",
              "      <td>four four eight</td>\n",
              "      <td>['gridspace_data_response']</td>\n",
              "      <td>0.582787</td>\n",
              "      <td>0.224562</td>\n",
              "      <td>0.192652</td>\n",
              "      <td>7</td>\n",
              "      <td>caller</td>\n",
              "    </tr>\n",
              "    <tr>\n",
              "      <th>7</th>\n",
              "      <td>9691bca74ef140d0</td>\n",
              "      <td>six eight three nine</td>\n",
              "      <td>six eight three nine</td>\n",
              "      <td>['gridspace_data_response']</td>\n",
              "      <td>0.602211</td>\n",
              "      <td>0.188286</td>\n",
              "      <td>0.209503</td>\n",
              "      <td>8</td>\n",
              "      <td>caller</td>\n",
              "    </tr>\n",
              "    <tr>\n",
              "      <th>8</th>\n",
              "      <td>9691bca74ef140d0</td>\n",
              "      <td>[noise]</td>\n",
              "      <td>[noise]</td>\n",
              "      <td>['gridspace_confirm_data']</td>\n",
              "      <td>1.000000</td>\n",
              "      <td>0.000000</td>\n",
              "      <td>0.000000</td>\n",
              "      <td>9</td>\n",
              "      <td>agent</td>\n",
              "    </tr>\n",
              "    <tr>\n",
              "      <th>9</th>\n",
              "      <td>9691bca74ef140d0</td>\n",
              "      <td>can you repeat the final four numbers of your ...</td>\n",
              "      <td>can you repeat the final four numbers of your ...</td>\n",
              "      <td>['gridspace_data_question']</td>\n",
              "      <td>0.481985</td>\n",
              "      <td>0.070061</td>\n",
              "      <td>0.447953</td>\n",
              "      <td>10</td>\n",
              "      <td>agent</td>\n",
              "    </tr>\n",
              "  </tbody>\n",
              "</table>\n",
              "</div>\n",
              "    <div class=\"colab-df-buttons\">\n",
              "\n",
              "  <div class=\"colab-df-container\">\n",
              "    <button class=\"colab-df-convert\" onclick=\"convertToInteractive('df-550f72a5-a8c4-470d-9ce3-41e967ea31d5')\"\n",
              "            title=\"Convert this dataframe to an interactive table.\"\n",
              "            style=\"display:none;\">\n",
              "\n",
              "  <svg xmlns=\"http://www.w3.org/2000/svg\" height=\"24px\" viewBox=\"0 -960 960 960\">\n",
              "    <path d=\"M120-120v-720h720v720H120Zm60-500h600v-160H180v160Zm220 220h160v-160H400v160Zm0 220h160v-160H400v160ZM180-400h160v-160H180v160Zm440 0h160v-160H620v160ZM180-180h160v-160H180v160Zm440 0h160v-160H620v160Z\"/>\n",
              "  </svg>\n",
              "    </button>\n",
              "\n",
              "  <style>\n",
              "    .colab-df-container {\n",
              "      display:flex;\n",
              "      gap: 12px;\n",
              "    }\n",
              "\n",
              "    .colab-df-convert {\n",
              "      background-color: #E8F0FE;\n",
              "      border: none;\n",
              "      border-radius: 50%;\n",
              "      cursor: pointer;\n",
              "      display: none;\n",
              "      fill: #1967D2;\n",
              "      height: 32px;\n",
              "      padding: 0 0 0 0;\n",
              "      width: 32px;\n",
              "    }\n",
              "\n",
              "    .colab-df-convert:hover {\n",
              "      background-color: #E2EBFA;\n",
              "      box-shadow: 0px 1px 2px rgba(60, 64, 67, 0.3), 0px 1px 3px 1px rgba(60, 64, 67, 0.15);\n",
              "      fill: #174EA6;\n",
              "    }\n",
              "\n",
              "    .colab-df-buttons div {\n",
              "      margin-bottom: 4px;\n",
              "    }\n",
              "\n",
              "    [theme=dark] .colab-df-convert {\n",
              "      background-color: #3B4455;\n",
              "      fill: #D2E3FC;\n",
              "    }\n",
              "\n",
              "    [theme=dark] .colab-df-convert:hover {\n",
              "      background-color: #434B5C;\n",
              "      box-shadow: 0px 1px 3px 1px rgba(0, 0, 0, 0.15);\n",
              "      filter: drop-shadow(0px 1px 2px rgba(0, 0, 0, 0.3));\n",
              "      fill: #FFFFFF;\n",
              "    }\n",
              "  </style>\n",
              "\n",
              "    <script>\n",
              "      const buttonEl =\n",
              "        document.querySelector('#df-550f72a5-a8c4-470d-9ce3-41e967ea31d5 button.colab-df-convert');\n",
              "      buttonEl.style.display =\n",
              "        google.colab.kernel.accessAllowed ? 'block' : 'none';\n",
              "\n",
              "      async function convertToInteractive(key) {\n",
              "        const element = document.querySelector('#df-550f72a5-a8c4-470d-9ce3-41e967ea31d5');\n",
              "        const dataTable =\n",
              "          await google.colab.kernel.invokeFunction('convertToInteractive',\n",
              "                                                    [key], {});\n",
              "        if (!dataTable) return;\n",
              "\n",
              "        const docLinkHtml = 'Like what you see? Visit the ' +\n",
              "          '<a target=\"_blank\" href=https://colab.research.google.com/notebooks/data_table.ipynb>data table notebook</a>'\n",
              "          + ' to learn more about interactive tables.';\n",
              "        element.innerHTML = '';\n",
              "        dataTable['output_type'] = 'display_data';\n",
              "        await google.colab.output.renderOutput(dataTable, element);\n",
              "        const docLink = document.createElement('div');\n",
              "        docLink.innerHTML = docLinkHtml;\n",
              "        element.appendChild(docLink);\n",
              "      }\n",
              "    </script>\n",
              "  </div>\n",
              "\n",
              "\n",
              "<div id=\"df-2ddd2750-001f-4084-bdbb-67c1ac5dc11c\">\n",
              "  <button class=\"colab-df-quickchart\" onclick=\"quickchart('df-2ddd2750-001f-4084-bdbb-67c1ac5dc11c')\"\n",
              "            title=\"Suggest charts\"\n",
              "            style=\"display:none;\">\n",
              "\n",
              "<svg xmlns=\"http://www.w3.org/2000/svg\" height=\"24px\"viewBox=\"0 0 24 24\"\n",
              "     width=\"24px\">\n",
              "    <g>\n",
              "        <path d=\"M19 3H5c-1.1 0-2 .9-2 2v14c0 1.1.9 2 2 2h14c1.1 0 2-.9 2-2V5c0-1.1-.9-2-2-2zM9 17H7v-7h2v7zm4 0h-2V7h2v10zm4 0h-2v-4h2v4z\"/>\n",
              "    </g>\n",
              "</svg>\n",
              "  </button>\n",
              "\n",
              "<style>\n",
              "  .colab-df-quickchart {\n",
              "      --bg-color: #E8F0FE;\n",
              "      --fill-color: #1967D2;\n",
              "      --hover-bg-color: #E2EBFA;\n",
              "      --hover-fill-color: #174EA6;\n",
              "      --disabled-fill-color: #AAA;\n",
              "      --disabled-bg-color: #DDD;\n",
              "  }\n",
              "\n",
              "  [theme=dark] .colab-df-quickchart {\n",
              "      --bg-color: #3B4455;\n",
              "      --fill-color: #D2E3FC;\n",
              "      --hover-bg-color: #434B5C;\n",
              "      --hover-fill-color: #FFFFFF;\n",
              "      --disabled-bg-color: #3B4455;\n",
              "      --disabled-fill-color: #666;\n",
              "  }\n",
              "\n",
              "  .colab-df-quickchart {\n",
              "    background-color: var(--bg-color);\n",
              "    border: none;\n",
              "    border-radius: 50%;\n",
              "    cursor: pointer;\n",
              "    display: none;\n",
              "    fill: var(--fill-color);\n",
              "    height: 32px;\n",
              "    padding: 0;\n",
              "    width: 32px;\n",
              "  }\n",
              "\n",
              "  .colab-df-quickchart:hover {\n",
              "    background-color: var(--hover-bg-color);\n",
              "    box-shadow: 0 1px 2px rgba(60, 64, 67, 0.3), 0 1px 3px 1px rgba(60, 64, 67, 0.15);\n",
              "    fill: var(--button-hover-fill-color);\n",
              "  }\n",
              "\n",
              "  .colab-df-quickchart-complete:disabled,\n",
              "  .colab-df-quickchart-complete:disabled:hover {\n",
              "    background-color: var(--disabled-bg-color);\n",
              "    fill: var(--disabled-fill-color);\n",
              "    box-shadow: none;\n",
              "  }\n",
              "\n",
              "  .colab-df-spinner {\n",
              "    border: 2px solid var(--fill-color);\n",
              "    border-color: transparent;\n",
              "    border-bottom-color: var(--fill-color);\n",
              "    animation:\n",
              "      spin 1s steps(1) infinite;\n",
              "  }\n",
              "\n",
              "  @keyframes spin {\n",
              "    0% {\n",
              "      border-color: transparent;\n",
              "      border-bottom-color: var(--fill-color);\n",
              "      border-left-color: var(--fill-color);\n",
              "    }\n",
              "    20% {\n",
              "      border-color: transparent;\n",
              "      border-left-color: var(--fill-color);\n",
              "      border-top-color: var(--fill-color);\n",
              "    }\n",
              "    30% {\n",
              "      border-color: transparent;\n",
              "      border-left-color: var(--fill-color);\n",
              "      border-top-color: var(--fill-color);\n",
              "      border-right-color: var(--fill-color);\n",
              "    }\n",
              "    40% {\n",
              "      border-color: transparent;\n",
              "      border-right-color: var(--fill-color);\n",
              "      border-top-color: var(--fill-color);\n",
              "    }\n",
              "    60% {\n",
              "      border-color: transparent;\n",
              "      border-right-color: var(--fill-color);\n",
              "    }\n",
              "    80% {\n",
              "      border-color: transparent;\n",
              "      border-right-color: var(--fill-color);\n",
              "      border-bottom-color: var(--fill-color);\n",
              "    }\n",
              "    90% {\n",
              "      border-color: transparent;\n",
              "      border-bottom-color: var(--fill-color);\n",
              "    }\n",
              "  }\n",
              "</style>\n",
              "\n",
              "  <script>\n",
              "    async function quickchart(key) {\n",
              "      const quickchartButtonEl =\n",
              "        document.querySelector('#' + key + ' button');\n",
              "      quickchartButtonEl.disabled = true;  // To prevent multiple clicks.\n",
              "      quickchartButtonEl.classList.add('colab-df-spinner');\n",
              "      try {\n",
              "        const charts = await google.colab.kernel.invokeFunction(\n",
              "            'suggestCharts', [key], {});\n",
              "      } catch (error) {\n",
              "        console.error('Error during call to suggestCharts:', error);\n",
              "      }\n",
              "      quickchartButtonEl.classList.remove('colab-df-spinner');\n",
              "      quickchartButtonEl.classList.add('colab-df-quickchart-complete');\n",
              "    }\n",
              "    (() => {\n",
              "      let quickchartButtonEl =\n",
              "        document.querySelector('#df-2ddd2750-001f-4084-bdbb-67c1ac5dc11c button');\n",
              "      quickchartButtonEl.style.display =\n",
              "        google.colab.kernel.accessAllowed ? 'block' : 'none';\n",
              "    })();\n",
              "  </script>\n",
              "</div>\n",
              "    </div>\n",
              "  </div>\n"
            ],
            "application/vnd.google.colaboratory.intrinsic+json": {
              "type": "dataframe",
              "variable_name": "df",
              "summary": "{\n  \"name\": \"df\",\n  \"rows\": 25730,\n  \"fields\": [\n    {\n      \"column\": \"identifier\",\n      \"properties\": {\n        \"dtype\": \"category\",\n        \"num_unique_values\": 1446,\n        \"samples\": [\n          \"9de64546b2d84e71\",\n          \"fe5a642df4ae45a9\",\n          \"c026a81022514035\"\n        ],\n        \"semantic_type\": \"\",\n        \"description\": \"\"\n      }\n    },\n    {\n      \"column\": \"human_transcript\",\n      \"properties\": {\n        \"dtype\": \"category\",\n        \"num_unique_values\": 7247,\n        \"samples\": [\n          \"five seven one nine zero\",\n          \"twelve p m\",\n          \"smart electic\"\n        ],\n        \"semantic_type\": \"\",\n        \"description\": \"\"\n      }\n    },\n    {\n      \"column\": \"machine_transcript\",\n      \"properties\": {\n        \"dtype\": \"category\",\n        \"num_unique_values\": 8811,\n        \"samples\": [\n          \"hi my name is elizabeth from\",\n          \"okay to certify it in the afternoon\",\n          \"the company is mark alexis\"\n        ],\n        \"semantic_type\": \"\",\n        \"description\": \"\"\n      }\n    },\n    {\n      \"column\": \"dialog_acts\",\n      \"properties\": {\n        \"dtype\": \"category\",\n        \"num_unique_values\": 139,\n        \"samples\": [\n          \"['gridspace_open_question', 'gridspace_yes_response']\",\n          \"['gridspace_procedure_explanation']\",\n          \"['gridspace_data_communication', 'gridspace_data_response']\"\n        ],\n        \"semantic_type\": \"\",\n        \"description\": \"\"\n      }\n    },\n    {\n      \"column\": \"emotion_neutral\",\n      \"properties\": {\n        \"dtype\": \"number\",\n        \"std\": 0.21889226599061065,\n        \"min\": 0.1405421644449234,\n        \"max\": 1.0,\n        \"num_unique_values\": 21669,\n        \"samples\": [\n          0.339726835489273,\n          0.4782918691635132,\n          0.4518747329711914\n        ],\n        \"semantic_type\": \"\",\n        \"description\": \"\"\n      }\n    },\n    {\n      \"column\": \"emotion_negative\",\n      \"properties\": {\n        \"dtype\": \"number\",\n        \"std\": 0.132250479203746,\n        \"min\": 0.0,\n        \"max\": 0.6853471994400024,\n        \"num_unique_values\": 21710,\n        \"samples\": [\n          0.2636705636978149,\n          0.2345851361751556,\n          0.1850858926773071\n        ],\n        \"semantic_type\": \"\",\n        \"description\": \"\"\n      }\n    },\n    {\n      \"column\": \"emotion_positive\",\n      \"properties\": {\n        \"dtype\": \"number\",\n        \"std\": 0.23364039008097814,\n        \"min\": 0.0,\n        \"max\": 0.8583862781524658,\n        \"num_unique_values\": 21704,\n        \"samples\": [\n          0.1702902466058731,\n          0.0980007871985435,\n          0.1529330760240554\n        ],\n        \"semantic_type\": \"\",\n        \"description\": \"\"\n      }\n    },\n    {\n      \"column\": \"index\",\n      \"properties\": {\n        \"dtype\": \"number\",\n        \"std\": 8,\n        \"min\": 1,\n        \"max\": 76,\n        \"num_unique_values\": 76,\n        \"samples\": [\n          5,\n          36,\n          11\n        ],\n        \"semantic_type\": \"\",\n        \"description\": \"\"\n      }\n    },\n    {\n      \"column\": \"speaker_role\",\n      \"properties\": {\n        \"dtype\": \"category\",\n        \"num_unique_values\": 2,\n        \"samples\": [\n          \"caller\",\n          \"agent\"\n        ],\n        \"semantic_type\": \"\",\n        \"description\": \"\"\n      }\n    }\n  ]\n}"
            }
          },
          "metadata": {},
          "execution_count": 3
        }
      ],
      "source": [
        "df = pd.read_csv('TranscriptDB.csv')\n",
        "df.head(10)"
      ]
    },
    {
      "cell_type": "markdown",
      "metadata": {
        "id": "SNtFiT_uAir7"
      },
      "source": [
        "###Cleaning\n",
        "The data choosed to work with is the Human Revised transcript, but is noted that some records are missing along with a notation for events during the phone call (as [noise] or [dog]), therefore its needed to clean the dataframe"
      ]
    },
    {
      "cell_type": "code",
      "execution_count": 4,
      "metadata": {
        "colab": {
          "base_uri": "https://localhost:8080/"
        },
        "id": "74aD__rhHBvK",
        "outputId": "bc1fa84e-2ba4-4d4e-ba1c-1622e5c05b6d"
      },
      "outputs": [
        {
          "output_type": "execute_result",
          "data": {
            "text/plain": [
              "identifier              0\n",
              "human_transcript      349\n",
              "machine_transcript      0\n",
              "dialog_acts             0\n",
              "emotion_neutral         0\n",
              "emotion_negative        0\n",
              "emotion_positive        0\n",
              "index                   0\n",
              "speaker_role            0\n",
              "dtype: int64"
            ]
          },
          "metadata": {},
          "execution_count": 4
        }
      ],
      "source": [
        "df.isna().sum()"
      ]
    },
    {
      "cell_type": "code",
      "execution_count": 5,
      "metadata": {
        "colab": {
          "base_uri": "https://localhost:8080/"
        },
        "id": "JzzwdybqBkHY",
        "outputId": "e1a2a133-f15c-4604-e00f-bea82136b6bb"
      },
      "outputs": [
        {
          "output_type": "execute_result",
          "data": {
            "text/plain": [
              "(identifier            0\n",
              " human_transcript      0\n",
              " machine_transcript    0\n",
              " dialog_acts           0\n",
              " emotion_neutral       0\n",
              " emotion_negative      0\n",
              " emotion_positive      0\n",
              " index                 0\n",
              " speaker_role          0\n",
              " dtype: int64,\n",
              " 231570)"
            ]
          },
          "metadata": {},
          "execution_count": 5
        }
      ],
      "source": [
        "df['human_transcript'] = df['human_transcript'].fillna(df['machine_transcript'])\n",
        "df.isna().sum(), df.size"
      ]
    },
    {
      "cell_type": "code",
      "execution_count": 6,
      "metadata": {
        "colab": {
          "base_uri": "https://localhost:8080/"
        },
        "id": "RLxenI9KsR9v",
        "outputId": "dca07e55-3064-494e-ec62-69e199b8cecf"
      },
      "outputs": [
        {
          "output_type": "stream",
          "name": "stdout",
          "text": [
            "{'dogs', 'noise', 'music', 'cough', 'unintelligible', 'laughter', 'kids', 'baby', 'ringing'}\n"
          ]
        }
      ],
      "source": [
        "unique_words = set(word for sublist in df['human_transcript'].str.findall(r'\\[([^\\]]+)\\]').dropna() for word in sublist)\n",
        "\n",
        "print(unique_words)"
      ]
    },
    {
      "cell_type": "code",
      "execution_count": 7,
      "metadata": {
        "colab": {
          "base_uri": "https://localhost:8080/",
          "height": 539
        },
        "id": "gmxRIOgcIMhx",
        "outputId": "7493d9bb-2482-4cd2-ffa5-cb36a6f5bd5b"
      },
      "outputs": [
        {
          "output_type": "execute_result",
          "data": {
            "text/plain": [
              "          identifier                                   human_transcript  \\\n",
              "0   9691bca74ef140d0  hello this is harper valley national bank my n...   \n",
              "1   9691bca74ef140d0                     hi my name is michael williams   \n",
              "2   9691bca74ef140d0                  i would like to reset my password   \n",
              "3   9691bca74ef140d0                    i'm happy to help you with that   \n",
              "4   9691bca74ef140d0                      and what is your phone number   \n",
              "5   9691bca74ef140d0                  my phone number is zero one three   \n",
              "6   9691bca74ef140d0                                    four four eight   \n",
              "7   9691bca74ef140d0                               six eight three nine   \n",
              "9   9691bca74ef140d0  can you repeat the final four numbers of your ...   \n",
              "10  9691bca74ef140d0                               six eight three nine   \n",
              "\n",
              "                                   machine_transcript  \\\n",
              "0   hello this is harper valley national bank my n...   \n",
              "1                      hi my name is michael williams   \n",
              "2                   i would like to reset my password   \n",
              "3                     i'm happy to help you with that   \n",
              "4                       and what is your phone number   \n",
              "5                   my phone number is zero one three   \n",
              "6                                     four four eight   \n",
              "7                                six eight three nine   \n",
              "9   can you repeat the final four numbers of your ...   \n",
              "10                               six eight three nine   \n",
              "\n",
              "                                          dialog_acts  emotion_neutral  \\\n",
              "0                              ['gridspace_greeting']         0.309475   \n",
              "1   ['gridspace_data_communication', 'gridspace_gr...         0.317042   \n",
              "2   ['gridspace_yes_response', 'gridspace_problem_...         0.553823   \n",
              "3                                 ['gridspace_other']         0.345135   \n",
              "4                         ['gridspace_data_question']         0.560032   \n",
              "5                         ['gridspace_data_response']         0.584506   \n",
              "6                         ['gridspace_data_response']         0.582787   \n",
              "7                         ['gridspace_data_response']         0.602211   \n",
              "9                         ['gridspace_data_question']         0.481985   \n",
              "10                        ['gridspace_data_response']         0.604004   \n",
              "\n",
              "    emotion_negative  emotion_positive  index speaker_role  \n",
              "0           0.015957          0.674568      1        agent  \n",
              "1           0.036193          0.646765      2       caller  \n",
              "2           0.278830          0.167346      3       caller  \n",
              "3           0.052922          0.601943      4        agent  \n",
              "4           0.199025          0.240943      5        agent  \n",
              "5           0.275289          0.140205      6       caller  \n",
              "6           0.224562          0.192652      7       caller  \n",
              "7           0.188286          0.209503      8       caller  \n",
              "9           0.070061          0.447953     10        agent  \n",
              "10          0.187679          0.208318     11       caller  "
            ],
            "text/html": [
              "\n",
              "  <div id=\"df-c16a07f8-ef10-49b0-9b5f-01632da29bc2\" class=\"colab-df-container\">\n",
              "    <div>\n",
              "<style scoped>\n",
              "    .dataframe tbody tr th:only-of-type {\n",
              "        vertical-align: middle;\n",
              "    }\n",
              "\n",
              "    .dataframe tbody tr th {\n",
              "        vertical-align: top;\n",
              "    }\n",
              "\n",
              "    .dataframe thead th {\n",
              "        text-align: right;\n",
              "    }\n",
              "</style>\n",
              "<table border=\"1\" class=\"dataframe\">\n",
              "  <thead>\n",
              "    <tr style=\"text-align: right;\">\n",
              "      <th></th>\n",
              "      <th>identifier</th>\n",
              "      <th>human_transcript</th>\n",
              "      <th>machine_transcript</th>\n",
              "      <th>dialog_acts</th>\n",
              "      <th>emotion_neutral</th>\n",
              "      <th>emotion_negative</th>\n",
              "      <th>emotion_positive</th>\n",
              "      <th>index</th>\n",
              "      <th>speaker_role</th>\n",
              "    </tr>\n",
              "  </thead>\n",
              "  <tbody>\n",
              "    <tr>\n",
              "      <th>0</th>\n",
              "      <td>9691bca74ef140d0</td>\n",
              "      <td>hello this is harper valley national bank my n...</td>\n",
              "      <td>hello this is harper valley national bank my n...</td>\n",
              "      <td>['gridspace_greeting']</td>\n",
              "      <td>0.309475</td>\n",
              "      <td>0.015957</td>\n",
              "      <td>0.674568</td>\n",
              "      <td>1</td>\n",
              "      <td>agent</td>\n",
              "    </tr>\n",
              "    <tr>\n",
              "      <th>1</th>\n",
              "      <td>9691bca74ef140d0</td>\n",
              "      <td>hi my name is michael williams</td>\n",
              "      <td>hi my name is michael williams</td>\n",
              "      <td>['gridspace_data_communication', 'gridspace_gr...</td>\n",
              "      <td>0.317042</td>\n",
              "      <td>0.036193</td>\n",
              "      <td>0.646765</td>\n",
              "      <td>2</td>\n",
              "      <td>caller</td>\n",
              "    </tr>\n",
              "    <tr>\n",
              "      <th>2</th>\n",
              "      <td>9691bca74ef140d0</td>\n",
              "      <td>i would like to reset my password</td>\n",
              "      <td>i would like to reset my password</td>\n",
              "      <td>['gridspace_yes_response', 'gridspace_problem_...</td>\n",
              "      <td>0.553823</td>\n",
              "      <td>0.278830</td>\n",
              "      <td>0.167346</td>\n",
              "      <td>3</td>\n",
              "      <td>caller</td>\n",
              "    </tr>\n",
              "    <tr>\n",
              "      <th>3</th>\n",
              "      <td>9691bca74ef140d0</td>\n",
              "      <td>i'm happy to help you with that</td>\n",
              "      <td>i'm happy to help you with that</td>\n",
              "      <td>['gridspace_other']</td>\n",
              "      <td>0.345135</td>\n",
              "      <td>0.052922</td>\n",
              "      <td>0.601943</td>\n",
              "      <td>4</td>\n",
              "      <td>agent</td>\n",
              "    </tr>\n",
              "    <tr>\n",
              "      <th>4</th>\n",
              "      <td>9691bca74ef140d0</td>\n",
              "      <td>and what is your phone number</td>\n",
              "      <td>and what is your phone number</td>\n",
              "      <td>['gridspace_data_question']</td>\n",
              "      <td>0.560032</td>\n",
              "      <td>0.199025</td>\n",
              "      <td>0.240943</td>\n",
              "      <td>5</td>\n",
              "      <td>agent</td>\n",
              "    </tr>\n",
              "    <tr>\n",
              "      <th>5</th>\n",
              "      <td>9691bca74ef140d0</td>\n",
              "      <td>my phone number is zero one three</td>\n",
              "      <td>my phone number is zero one three</td>\n",
              "      <td>['gridspace_data_response']</td>\n",
              "      <td>0.584506</td>\n",
              "      <td>0.275289</td>\n",
              "      <td>0.140205</td>\n",
              "      <td>6</td>\n",
              "      <td>caller</td>\n",
              "    </tr>\n",
              "    <tr>\n",
              "      <th>6</th>\n",
              "      <td>9691bca74ef140d0</td>\n",
              "      <td>four four eight</td>\n",
              "      <td>four four eight</td>\n",
              "      <td>['gridspace_data_response']</td>\n",
              "      <td>0.582787</td>\n",
              "      <td>0.224562</td>\n",
              "      <td>0.192652</td>\n",
              "      <td>7</td>\n",
              "      <td>caller</td>\n",
              "    </tr>\n",
              "    <tr>\n",
              "      <th>7</th>\n",
              "      <td>9691bca74ef140d0</td>\n",
              "      <td>six eight three nine</td>\n",
              "      <td>six eight three nine</td>\n",
              "      <td>['gridspace_data_response']</td>\n",
              "      <td>0.602211</td>\n",
              "      <td>0.188286</td>\n",
              "      <td>0.209503</td>\n",
              "      <td>8</td>\n",
              "      <td>caller</td>\n",
              "    </tr>\n",
              "    <tr>\n",
              "      <th>9</th>\n",
              "      <td>9691bca74ef140d0</td>\n",
              "      <td>can you repeat the final four numbers of your ...</td>\n",
              "      <td>can you repeat the final four numbers of your ...</td>\n",
              "      <td>['gridspace_data_question']</td>\n",
              "      <td>0.481985</td>\n",
              "      <td>0.070061</td>\n",
              "      <td>0.447953</td>\n",
              "      <td>10</td>\n",
              "      <td>agent</td>\n",
              "    </tr>\n",
              "    <tr>\n",
              "      <th>10</th>\n",
              "      <td>9691bca74ef140d0</td>\n",
              "      <td>six eight three nine</td>\n",
              "      <td>six eight three nine</td>\n",
              "      <td>['gridspace_data_response']</td>\n",
              "      <td>0.604004</td>\n",
              "      <td>0.187679</td>\n",
              "      <td>0.208318</td>\n",
              "      <td>11</td>\n",
              "      <td>caller</td>\n",
              "    </tr>\n",
              "  </tbody>\n",
              "</table>\n",
              "</div>\n",
              "    <div class=\"colab-df-buttons\">\n",
              "\n",
              "  <div class=\"colab-df-container\">\n",
              "    <button class=\"colab-df-convert\" onclick=\"convertToInteractive('df-c16a07f8-ef10-49b0-9b5f-01632da29bc2')\"\n",
              "            title=\"Convert this dataframe to an interactive table.\"\n",
              "            style=\"display:none;\">\n",
              "\n",
              "  <svg xmlns=\"http://www.w3.org/2000/svg\" height=\"24px\" viewBox=\"0 -960 960 960\">\n",
              "    <path d=\"M120-120v-720h720v720H120Zm60-500h600v-160H180v160Zm220 220h160v-160H400v160Zm0 220h160v-160H400v160ZM180-400h160v-160H180v160Zm440 0h160v-160H620v160ZM180-180h160v-160H180v160Zm440 0h160v-160H620v160Z\"/>\n",
              "  </svg>\n",
              "    </button>\n",
              "\n",
              "  <style>\n",
              "    .colab-df-container {\n",
              "      display:flex;\n",
              "      gap: 12px;\n",
              "    }\n",
              "\n",
              "    .colab-df-convert {\n",
              "      background-color: #E8F0FE;\n",
              "      border: none;\n",
              "      border-radius: 50%;\n",
              "      cursor: pointer;\n",
              "      display: none;\n",
              "      fill: #1967D2;\n",
              "      height: 32px;\n",
              "      padding: 0 0 0 0;\n",
              "      width: 32px;\n",
              "    }\n",
              "\n",
              "    .colab-df-convert:hover {\n",
              "      background-color: #E2EBFA;\n",
              "      box-shadow: 0px 1px 2px rgba(60, 64, 67, 0.3), 0px 1px 3px 1px rgba(60, 64, 67, 0.15);\n",
              "      fill: #174EA6;\n",
              "    }\n",
              "\n",
              "    .colab-df-buttons div {\n",
              "      margin-bottom: 4px;\n",
              "    }\n",
              "\n",
              "    [theme=dark] .colab-df-convert {\n",
              "      background-color: #3B4455;\n",
              "      fill: #D2E3FC;\n",
              "    }\n",
              "\n",
              "    [theme=dark] .colab-df-convert:hover {\n",
              "      background-color: #434B5C;\n",
              "      box-shadow: 0px 1px 3px 1px rgba(0, 0, 0, 0.15);\n",
              "      filter: drop-shadow(0px 1px 2px rgba(0, 0, 0, 0.3));\n",
              "      fill: #FFFFFF;\n",
              "    }\n",
              "  </style>\n",
              "\n",
              "    <script>\n",
              "      const buttonEl =\n",
              "        document.querySelector('#df-c16a07f8-ef10-49b0-9b5f-01632da29bc2 button.colab-df-convert');\n",
              "      buttonEl.style.display =\n",
              "        google.colab.kernel.accessAllowed ? 'block' : 'none';\n",
              "\n",
              "      async function convertToInteractive(key) {\n",
              "        const element = document.querySelector('#df-c16a07f8-ef10-49b0-9b5f-01632da29bc2');\n",
              "        const dataTable =\n",
              "          await google.colab.kernel.invokeFunction('convertToInteractive',\n",
              "                                                    [key], {});\n",
              "        if (!dataTable) return;\n",
              "\n",
              "        const docLinkHtml = 'Like what you see? Visit the ' +\n",
              "          '<a target=\"_blank\" href=https://colab.research.google.com/notebooks/data_table.ipynb>data table notebook</a>'\n",
              "          + ' to learn more about interactive tables.';\n",
              "        element.innerHTML = '';\n",
              "        dataTable['output_type'] = 'display_data';\n",
              "        await google.colab.output.renderOutput(dataTable, element);\n",
              "        const docLink = document.createElement('div');\n",
              "        docLink.innerHTML = docLinkHtml;\n",
              "        element.appendChild(docLink);\n",
              "      }\n",
              "    </script>\n",
              "  </div>\n",
              "\n",
              "\n",
              "<div id=\"df-ec00b1b8-8cc8-435b-8219-e69ddb52f20f\">\n",
              "  <button class=\"colab-df-quickchart\" onclick=\"quickchart('df-ec00b1b8-8cc8-435b-8219-e69ddb52f20f')\"\n",
              "            title=\"Suggest charts\"\n",
              "            style=\"display:none;\">\n",
              "\n",
              "<svg xmlns=\"http://www.w3.org/2000/svg\" height=\"24px\"viewBox=\"0 0 24 24\"\n",
              "     width=\"24px\">\n",
              "    <g>\n",
              "        <path d=\"M19 3H5c-1.1 0-2 .9-2 2v14c0 1.1.9 2 2 2h14c1.1 0 2-.9 2-2V5c0-1.1-.9-2-2-2zM9 17H7v-7h2v7zm4 0h-2V7h2v10zm4 0h-2v-4h2v4z\"/>\n",
              "    </g>\n",
              "</svg>\n",
              "  </button>\n",
              "\n",
              "<style>\n",
              "  .colab-df-quickchart {\n",
              "      --bg-color: #E8F0FE;\n",
              "      --fill-color: #1967D2;\n",
              "      --hover-bg-color: #E2EBFA;\n",
              "      --hover-fill-color: #174EA6;\n",
              "      --disabled-fill-color: #AAA;\n",
              "      --disabled-bg-color: #DDD;\n",
              "  }\n",
              "\n",
              "  [theme=dark] .colab-df-quickchart {\n",
              "      --bg-color: #3B4455;\n",
              "      --fill-color: #D2E3FC;\n",
              "      --hover-bg-color: #434B5C;\n",
              "      --hover-fill-color: #FFFFFF;\n",
              "      --disabled-bg-color: #3B4455;\n",
              "      --disabled-fill-color: #666;\n",
              "  }\n",
              "\n",
              "  .colab-df-quickchart {\n",
              "    background-color: var(--bg-color);\n",
              "    border: none;\n",
              "    border-radius: 50%;\n",
              "    cursor: pointer;\n",
              "    display: none;\n",
              "    fill: var(--fill-color);\n",
              "    height: 32px;\n",
              "    padding: 0;\n",
              "    width: 32px;\n",
              "  }\n",
              "\n",
              "  .colab-df-quickchart:hover {\n",
              "    background-color: var(--hover-bg-color);\n",
              "    box-shadow: 0 1px 2px rgba(60, 64, 67, 0.3), 0 1px 3px 1px rgba(60, 64, 67, 0.15);\n",
              "    fill: var(--button-hover-fill-color);\n",
              "  }\n",
              "\n",
              "  .colab-df-quickchart-complete:disabled,\n",
              "  .colab-df-quickchart-complete:disabled:hover {\n",
              "    background-color: var(--disabled-bg-color);\n",
              "    fill: var(--disabled-fill-color);\n",
              "    box-shadow: none;\n",
              "  }\n",
              "\n",
              "  .colab-df-spinner {\n",
              "    border: 2px solid var(--fill-color);\n",
              "    border-color: transparent;\n",
              "    border-bottom-color: var(--fill-color);\n",
              "    animation:\n",
              "      spin 1s steps(1) infinite;\n",
              "  }\n",
              "\n",
              "  @keyframes spin {\n",
              "    0% {\n",
              "      border-color: transparent;\n",
              "      border-bottom-color: var(--fill-color);\n",
              "      border-left-color: var(--fill-color);\n",
              "    }\n",
              "    20% {\n",
              "      border-color: transparent;\n",
              "      border-left-color: var(--fill-color);\n",
              "      border-top-color: var(--fill-color);\n",
              "    }\n",
              "    30% {\n",
              "      border-color: transparent;\n",
              "      border-left-color: var(--fill-color);\n",
              "      border-top-color: var(--fill-color);\n",
              "      border-right-color: var(--fill-color);\n",
              "    }\n",
              "    40% {\n",
              "      border-color: transparent;\n",
              "      border-right-color: var(--fill-color);\n",
              "      border-top-color: var(--fill-color);\n",
              "    }\n",
              "    60% {\n",
              "      border-color: transparent;\n",
              "      border-right-color: var(--fill-color);\n",
              "    }\n",
              "    80% {\n",
              "      border-color: transparent;\n",
              "      border-right-color: var(--fill-color);\n",
              "      border-bottom-color: var(--fill-color);\n",
              "    }\n",
              "    90% {\n",
              "      border-color: transparent;\n",
              "      border-bottom-color: var(--fill-color);\n",
              "    }\n",
              "  }\n",
              "</style>\n",
              "\n",
              "  <script>\n",
              "    async function quickchart(key) {\n",
              "      const quickchartButtonEl =\n",
              "        document.querySelector('#' + key + ' button');\n",
              "      quickchartButtonEl.disabled = true;  // To prevent multiple clicks.\n",
              "      quickchartButtonEl.classList.add('colab-df-spinner');\n",
              "      try {\n",
              "        const charts = await google.colab.kernel.invokeFunction(\n",
              "            'suggestCharts', [key], {});\n",
              "      } catch (error) {\n",
              "        console.error('Error during call to suggestCharts:', error);\n",
              "      }\n",
              "      quickchartButtonEl.classList.remove('colab-df-spinner');\n",
              "      quickchartButtonEl.classList.add('colab-df-quickchart-complete');\n",
              "    }\n",
              "    (() => {\n",
              "      let quickchartButtonEl =\n",
              "        document.querySelector('#df-ec00b1b8-8cc8-435b-8219-e69ddb52f20f button');\n",
              "      quickchartButtonEl.style.display =\n",
              "        google.colab.kernel.accessAllowed ? 'block' : 'none';\n",
              "    })();\n",
              "  </script>\n",
              "</div>\n",
              "    </div>\n",
              "  </div>\n"
            ],
            "application/vnd.google.colaboratory.intrinsic+json": {
              "type": "dataframe",
              "variable_name": "df",
              "summary": "{\n  \"name\": \"df\",\n  \"rows\": 19599,\n  \"fields\": [\n    {\n      \"column\": \"identifier\",\n      \"properties\": {\n        \"dtype\": \"category\",\n        \"num_unique_values\": 1446,\n        \"samples\": [\n          \"9de64546b2d84e71\",\n          \"fe5a642df4ae45a9\",\n          \"c026a81022514035\"\n        ],\n        \"semantic_type\": \"\",\n        \"description\": \"\"\n      }\n    },\n    {\n      \"column\": \"human_transcript\",\n      \"properties\": {\n        \"dtype\": \"category\",\n        \"num_unique_values\": 7038,\n        \"samples\": [\n          \"okay uh\",\n          \"hi i'm robert davis and i would like to um pay a bill\",\n          \"no i think that will be it for today\"\n        ],\n        \"semantic_type\": \"\",\n        \"description\": \"\"\n      }\n    },\n    {\n      \"column\": \"machine_transcript\",\n      \"properties\": {\n        \"dtype\": \"category\",\n        \"num_unique_values\": 8519,\n        \"samples\": [\n          \"five one five six nine\",\n          \"the address is zero seven three first street\",\n          \"sure i'd be glad to help you with that\"\n        ],\n        \"semantic_type\": \"\",\n        \"description\": \"\"\n      }\n    },\n    {\n      \"column\": \"dialog_acts\",\n      \"properties\": {\n        \"dtype\": \"category\",\n        \"num_unique_values\": 137,\n        \"samples\": [\n          \"['gridspace_response', 'gridspace_procedure_explanation']\",\n          \"['gridspace_acknowledgement', 'gridspace_data_response']\",\n          \"['gridspace_greeting', 'gridspace_open_question']\"\n        ],\n        \"semantic_type\": \"\",\n        \"description\": \"\"\n      }\n    },\n    {\n      \"column\": \"emotion_neutral\",\n      \"properties\": {\n        \"dtype\": \"number\",\n        \"std\": 0.1078605127885559,\n        \"min\": 0.1405421644449234,\n        \"max\": 1.0,\n        \"num_unique_values\": 19538,\n        \"samples\": [\n          0.3870861232280731,\n          0.3015497326850891,\n          0.3633340895175934\n        ],\n        \"semantic_type\": \"\",\n        \"description\": \"\"\n      }\n    },\n    {\n      \"column\": \"emotion_negative\",\n      \"properties\": {\n        \"dtype\": \"number\",\n        \"std\": 0.12767747793637435,\n        \"min\": 0.0,\n        \"max\": 0.6853471994400024,\n        \"num_unique_values\": 19566,\n        \"samples\": [\n          0.2184556275606155,\n          0.0564531609416008,\n          0.0851879715919494\n        ],\n        \"semantic_type\": \"\",\n        \"description\": \"\"\n      }\n    },\n    {\n      \"column\": \"emotion_positive\",\n      \"properties\": {\n        \"dtype\": \"number\",\n        \"std\": 0.2142771346349694,\n        \"min\": 0.0,\n        \"max\": 0.8583862781524658,\n        \"num_unique_values\": 19561,\n        \"samples\": [\n          0.1911607533693313,\n          0.5687628984451294,\n          0.6660022735595703\n        ],\n        \"semantic_type\": \"\",\n        \"description\": \"\"\n      }\n    },\n    {\n      \"column\": \"index\",\n      \"properties\": {\n        \"dtype\": \"number\",\n        \"std\": 8,\n        \"min\": 1,\n        \"max\": 76,\n        \"num_unique_values\": 75,\n        \"samples\": [\n          5,\n          69,\n          12\n        ],\n        \"semantic_type\": \"\",\n        \"description\": \"\"\n      }\n    },\n    {\n      \"column\": \"speaker_role\",\n      \"properties\": {\n        \"dtype\": \"category\",\n        \"num_unique_values\": 2,\n        \"samples\": [\n          \"caller\",\n          \"agent\"\n        ],\n        \"semantic_type\": \"\",\n        \"description\": \"\"\n      }\n    }\n  ]\n}"
            }
          },
          "metadata": {},
          "execution_count": 7
        }
      ],
      "source": [
        "pattern = r'(\\[(' + '|'.join(unique_words) + r')\\])|\\<unk\\>'\n",
        "\n",
        "df['human_transcript'] = df['human_transcript'].replace(to_replace=pattern, value='', regex=True).str.strip()\n",
        "\n",
        "df.drop(df[df['human_transcript'] == ''].index, inplace=True)\n",
        "\n",
        "df.head(10)"
      ]
    },
    {
      "cell_type": "code",
      "execution_count": 8,
      "metadata": {
        "colab": {
          "base_uri": "https://localhost:8080/"
        },
        "id": "0gBtD9SS6NMj",
        "outputId": "1b7e9542-a063-4965-b191-3ba2556f0d24"
      },
      "outputs": [
        {
          "output_type": "execute_result",
          "data": {
            "text/plain": [
              "19599"
            ]
          },
          "metadata": {},
          "execution_count": 8
        }
      ],
      "source": [
        "len(df)"
      ]
    },
    {
      "cell_type": "markdown",
      "source": [
        "##Data exploration\n"
      ],
      "metadata": {
        "id": "TIpA36Hzyvqs"
      }
    },
    {
      "cell_type": "markdown",
      "source": [
        "###Documents statistics\n",
        "The dataset can be splited into documents grouping sentences belonging to calls, this will allow to see statistics regarding the length and vocab size average across all documents  "
      ],
      "metadata": {
        "id": "lunsqUwVYovL"
      }
    },
    {
      "cell_type": "code",
      "source": [
        "docs = df.groupby('identifier')['human_transcript'].apply(list).tolist()\n",
        "docs[:2]"
      ],
      "metadata": {
        "colab": {
          "base_uri": "https://localhost:8080/"
        },
        "id": "1WMiyBSaZBPk",
        "outputId": "2846e2fa-26c6-4e55-b2bd-7acc5bb9fc1e"
      },
      "execution_count": 9,
      "outputs": [
        {
          "output_type": "execute_result",
          "data": {
            "text/plain": [
              "[['hello this is harper valley national bank',\n",
              "  'my name is elizabeth',\n",
              "  'how can i help you today',\n",
              "  'hi',\n",
              "  'my name is patricia brown',\n",
              "  'i lost my debit card',\n",
              "  'can you send me a new one',\n",
              "  'which card would you like to replace',\n",
              "  'my',\n",
              "  'debit card',\n",
              "  'can you repeat that please',\n",
              "  'yes',\n",
              "  'my debit card',\n",
              "  'is there anything else i can help you with today',\n",
              "  'no that was going to be it',\n",
              "  'thank you for calling have a great day',\n",
              "  'bye'],\n",
              " ['hello this is harper valley national bank my name is robert how can i help you today',\n",
              "  'hi my name is mary smith',\n",
              "  'i lost my credit card',\n",
              "  'can you send me a new one',\n",
              "  'sure i can help you with that',\n",
              "  'uh which card would you like to replace',\n",
              "  'my credit card',\n",
              "  'okay so i have ordered your replacement credit card and you should be able to receive it in three to five business days',\n",
              "  'is there anything else i can help you with',\n",
              "  'no that was gonna be it',\n",
              "  'thank you for calling have a great day',\n",
              "  'bye']]"
            ]
          },
          "metadata": {},
          "execution_count": 9
        }
      ]
    },
    {
      "cell_type": "code",
      "source": [
        "avg_words = 0\n",
        "avg_vocab = 0\n",
        "\n",
        "for doc in docs:\n",
        "    words = [word for sentence in doc for word in sentence.split()]\n",
        "    avg_words += len(words)\n",
        "    avg_vocab += len(set(words))\n",
        "\n",
        "avg_words /= len(docs)\n",
        "avg_vocab /= len(docs)\n",
        "\n",
        "print(f\"The average count of words in each document is: {avg_words:.1f}\\nWhile the average vocab length is: {avg_vocab:.1f}\")"
      ],
      "metadata": {
        "colab": {
          "base_uri": "https://localhost:8080/"
        },
        "id": "DDvs2ml4aIod",
        "outputId": "2950067f-6cd1-45c5-f410-33c339fc63f8"
      },
      "execution_count": 10,
      "outputs": [
        {
          "output_type": "stream",
          "name": "stdout",
          "text": [
            "The average count of words in each document is: 95.7\n",
            "While the average vocab length is: 58.6\n"
          ]
        }
      ]
    },
    {
      "cell_type": "markdown",
      "source": [
        "###Vocabulary\n",
        "The size of and the vocabulary of all the docs can be verified after cleaning the sentences from punctuation and conting different words"
      ],
      "metadata": {
        "id": "TYjgHKuvy0fr"
      }
    },
    {
      "cell_type": "code",
      "source": [
        "import re\n",
        "from pandas.core.common import flatten\n",
        "\n",
        "tokenized_sentences = [re.sub(r'\\W+', ' ', re.sub(r\"\\'\", '', sentence)).lower().split()  for sentence in df[\"human_transcript\"].values]\n",
        "sentences = list(flatten(tokenized_sentences))\n",
        "\n",
        "vocab = sorted(set(sentences))\n",
        "print(vocab)\n",
        "print(\"Size of Vocab: \"+str(len(vocab)))"
      ],
      "metadata": {
        "colab": {
          "base_uri": "https://localhost:8080/"
        },
        "id": "1LLG9nfZw9tz",
        "outputId": "d7860dbe-ea7a-434d-ae22-99024dec1a09"
      },
      "execution_count": 11,
      "outputs": [
        {
          "output_type": "stream",
          "name": "stdout",
          "text": [
            "['a', 'able', 'about', 'absolutely', 'acc', 'account', 'accounts', 'actually', 'address', 'addresses', 'after', 'afternoon', 'again', 'ah', 'ahead', 'all', 'almost', 'already', 'alright', 'alrighty', 'also', 'am', 'amanda', 'amount', 'amounts', 'an', 'and', 'animals', 'another', 'any', 'anymore', 'anyone', 'anything', 'apologize', 'apply', 'appointment', 'appointments', 'appreciate', 'are', 'area', 'around', 'arranged', 'arrive', 'arriving', 'as', 'ask', 'asked', 'asking', 'assist', 'associated', 'at', 'available', 'away', 'awesome', 'back', 'bada', 'balance', 'balances', 'bank', 'barry', 'be', 'beautiful', 'because', 'bedtime', 'been', 'before', 'beginning', 'behalf', 'believe', 'best', 'between', 'bill', 'bing', 'book', 'books', 'boom', 'branch', 'branches', 'broke', 'brought', 'brown', 'brunch', 'bunch', 'business', 'but', 'by', 'bye', 'c', 'calendar', 'cali', 'california', 'call', 'called', 'calling', 'can', 'cancel', 'canceled', 'cannot', 'cant', 'car', 'card', 'care', 'case', 'cash', 'cell', 'cents', 'certainly', 'charges', 'check', 'checkbook', 'checkbooks', 'checking', 'checks', 'city', 'clear', 'clock', 'code', 'codes', 'come', 'coming', 'comma', 'company', 'companys', 'complete', 'completed', 'confirm', 'confirming', 'continue', 'conversation', 'correct', 'cost', 'could', 'couldnt', 'course', 'credit', 'creek', 'current', 'currently', 'customer', 'cutting', 'd', 'dan', 'dash', 'date', 'david', 'davies', 'davis', 'dawn', 'day', 'days', 'dear', 'debbie', 'debit', 'definitely', 'destination', 'destinations', 'did', 'didnt', 'different', 'digit', 'digits', 'direction', 'directly', 'do', 'doctor', 'does', 'doing', 'doke', 'dollar', 'dollars', 'don', 'done', 'dont', 'down', 'dunes', 'e', 'eight', 'eighteen', 'eighty', 'either', 'elastic', 'elec', 'elect', 'electic', 'electric', 'eleven', 'eliz', 'elizabeth', 'ellen', 'else', 'email', 'enjoy', 'entering', 'er', 'even', 'evening', 'every', 'everything', 'exact', 'exactly', 'excellent', 'excuse', 'expedite', 'experience', 'f', 'fabulous', 'faded', 'fantastic', 'fast', 'favor', 'fifteen', 'fifth', 'fifty', 'final', 'find', 'fine', 'first', 'five', 'fo', 'for', 'foreign', 'forest', 'fornia', 'forrest', 'forty', 'fossil', 'four', 'fourteen', 'fourth', 'friday', 'from', 'full', 'funny', 'further', 'g', 'garcia', 'gas', 'gee', 'get', 'getting', 'gift', 'give', 'glad', 'glenda', 'go', 'god', 'goes', 'going', 'gone', 'gonna', 'good', 'goodbye', 'got', 'gotcha', 'gotta', 'great', 'ground', 'guess', 'h', 'ha', 'had', 'happen', 'happy', 'har', 'harp', 'harper', 'has', 'have', 'he', 'hear', 'hello', 'help', 'helped', 'helper', 'helpful', 'her', 'here', 'hey', 'hi', 'hm', 'hmm', 'hold', 'home', 'hope', 'horrible', 'hour', 'hours', 'how', 'howre', 'hows', 'huh', 'hum', 'hundred', 'husband', 'i', 'id', 'idea', 'if', 'ill', 'im', 'in', 'including', 'information', 'instructions', 'into', 'is', 'isnt', 'it', 'item', 'itll', 'its', 'ive', 'james', 'jan', 'jane', 'jay', 'jean', 'jeez', 'jenna', 'jennifer', 'jim', 'joan', 'job', 'john', 'johns', 'johnson', 'johnston', 'jones', 'just', 'k', 'keeps', 'know', 'kris', 'l', 'last', 'left', 'less', 'let', 'lets', 'letter', 'letting', 'li', 'lie', 'like', 'likely', 'linda', 'line', 'link', 'linked', 'little', 'live', 'lo', 'local', 'long', 'look', 'looking', 'looks', 'lopez', 'lose', 'lost', 'lot', 'loud', 'low', 'm', 'maam', 'mail', 'mailbox', 'mailed', 'main', 'maine', 'make', 'makes', 'march', 'marie', 'mario', 'mark', 'mary', 'matt', 'matthew', 'may', 'maybe', 'me', 'mean', 'megan', 'mhm', 'michael', 'might', 'miller', 'million', 'minute', 'miss', 'mister', 'mkay', 'mm', 'mmk', 'mmm', 'moment', 'monday', 'money', 'more', 'mr', 'ms', 'muah', 'much', 'multiple', 'my', 'n', 'nah', 'name', 'names', 'nancy', 'nation', 'national', 'ne', 'need', 'needed', 'needing', 'new', 'next', 'nice', 'night', 'nine', 'nineteen', 'ninety', 'no', 'noise', 'noon', 'nope', 'normal', 'north', 'not', 'nothing', 'notifications', 'now', 'number', 'numbers', 'o', 'obvious', 'oclock', 'of', 'off', 'officers', 'oh', 'okay', 'okey', 'old', 'on', 'once', 'one', 'ones', 'online', 'only', 'ooh', 'ooph', 'open', 'opening', 'or', 'order', 'ordered', 'ordering', 'oregon', 'os', 'other', 'our', 'out', 'over', 'p', 'paid', 'pardon', 'part', 'pass', 'password', 'past', 'patricia', 'pay', 'paying', 'payment', 'payments', 'people', 'perfect', 'person', 'phone', 'placed', 'ple', 'please', 'pm', 'police', 'por', 'possible', 'preferably', 'pretty', 'probably', 'problem', 'provide', 'pull', 'pulling', 'pushing', 'put', 'question', 'quick', 'r', 'rally', 'ranch', 're', 'read', 'ready', 'real', 'really', 'reason', 'recalling', 'receive', 'receiving', 'regas', 'remember', 'repeat', 'repeated', 'replace', 'replaced', 'replacement', 'request', 'reset', 'rest', 'right', 'robert', 'roberts', 'robot', 'roderick', 'rodriguez', 'roger', 'rough', 'running', 's', 'sa', 'safe', 'said', 'same', 'saturday', 'saving', 'savings', 'say', 'schedule', 'scheduled', 'scheduling', 'screen', 'second', 'seconds', 'see', 'seems', 'send', 'sending', 'sense', 'sent', 'separate', 'set', 'setting', 'seven', 'seventeen', 'seventh', 'seventy', 'shortly', 'should', 'shouldve', 'showers', 'shows', 'sir', 'six', 'sixteen', 'sixty', 'slower', 'slowly', 'smart', 'smith', 'so', 'some', 'something', 'sometimes', 'soon', 'sorry', 'sound', 'sounded', 'sounds', 'source', 'sourced', 'sourcing', 'south', 'space', 'specified', 'spell', 'spelled', 'start', 'state', 'stay', 'still', 'street', 'streets', 'submit', 'submitted', 'submitting', 'successful', 'successfully', 'sunday', 'sure', 'system', 't', 'take', 'taken', 'takes', 'taking', 'talking', 'task', 'telephone', 'tell', 'ten', 'text', 'than', 'thank', 'thanks', 'that', 'thatd', 'thatll', 'thats', 'the', 'their', 'then', 'there', 'theres', 'they', 'thing', 'think', 'thir', 'third', 'thirteen', 'thirty', 'this', 'those', 'thousand', 'thre', 'three', 'through', 'throughout', 'thursday', 'till', 'time', 'to', 'today', 'tomorrow', 'tonight', 'too', 'total', 'towards', 'town', 'transfer', 'transferred', 'transferring', 'trip', 'try', 'trying', 'tuesday', 'twelve', 'twenty', 'two', 'uh', 'uhm', 'um', 'understood', 'unfortunately', 'until', 'up', 'us', 'use', 'v', 'va', 'valid', 'valley', 'value', 'very', 'wait', 'waiting', 'wanna', 'want', 'wanted', 'wanting', 'was', 'way', 'we', 'wednesday', 'week', 'weeks', 'welcome', 'well', 'went', 'were', 'what', 'whats', 'wheeler', 'when', 'whenever', 'where', 'wheres', 'which', 'while', 'whole', 'whoops', 'why', 'will', 'william', 'williams', 'wilson', 'wish', 'with', 'within', 'without', 'wonderful', 'wondering', 'word', 'words', 'work', 'working', 'wou', 'would', 'wouldve', 'wow', 'wrong', 'y', 'ya', 'yeah', 'yep', 'yes', 'yo', 'you', 'youd', 'youll', 'your', 'youre', 'yourself', 'youve', 'yup', 'zero', 'zip']\n",
            "Size of Vocab: 739\n"
          ]
        }
      ]
    },
    {
      "cell_type": "markdown",
      "source": [
        "###Words Frequency\n",
        "To gain some insight in the dataset the words frequency can be calculated, but it might be useless unless you remove stop words that compose the most of the words in the data."
      ],
      "metadata": {
        "id": "VFrWcsxdDF8k"
      }
    },
    {
      "cell_type": "code",
      "source": [
        "import nltk\n",
        "counts = nltk.Counter(sentences)\n",
        "counts.most_common(10)"
      ],
      "metadata": {
        "colab": {
          "base_uri": "https://localhost:8080/"
        },
        "id": "h9-Qj1WdDKq1",
        "outputId": "005e5b4b-8cb0-4080-c595-2983e0439cf2"
      },
      "execution_count": 12,
      "outputs": [
        {
          "output_type": "execute_result",
          "data": {
            "text/plain": [
              "[('is', 8119),\n",
              " ('you', 7940),\n",
              " ('i', 4866),\n",
              " ('my', 4615),\n",
              " ('can', 3407),\n",
              " ('help', 3051),\n",
              " ('name', 3048),\n",
              " ('a', 2799),\n",
              " ('thank', 2635),\n",
              " ('to', 2529)]"
            ]
          },
          "metadata": {},
          "execution_count": 12
        }
      ]
    },
    {
      "cell_type": "code",
      "source": [
        "nltk.download('stopwords')"
      ],
      "metadata": {
        "colab": {
          "base_uri": "https://localhost:8080/"
        },
        "id": "Z-mPAtF7QksV",
        "outputId": "c6683414-9509-4e51-c501-7d30a0cec4c4"
      },
      "execution_count": 13,
      "outputs": [
        {
          "output_type": "stream",
          "name": "stderr",
          "text": [
            "[nltk_data] Downloading package stopwords to /root/nltk_data...\n",
            "[nltk_data]   Unzipping corpora/stopwords.zip.\n"
          ]
        },
        {
          "output_type": "execute_result",
          "data": {
            "text/plain": [
              "True"
            ]
          },
          "metadata": {},
          "execution_count": 13
        }
      ]
    },
    {
      "cell_type": "code",
      "source": [
        "from nltk.corpus import stopwords\n",
        "\n",
        "words_nostopwords = [w for w in sentences if w not in stopwords.words('english')]\n",
        "counts_nostopwords = nltk.Counter(words_nostopwords)\n",
        "counts_nostopwords.most_common(10)"
      ],
      "metadata": {
        "colab": {
          "base_uri": "https://localhost:8080/"
        },
        "id": "1rKj8zgtQflN",
        "outputId": "daf7bad8-db30-4c0c-f517-72087abf6985"
      },
      "execution_count": 14,
      "outputs": [
        {
          "output_type": "execute_result",
          "data": {
            "text/plain": [
              "[('help', 3051),\n",
              " ('name', 3048),\n",
              " ('thank', 2635),\n",
              " ('today', 1987),\n",
              " ('account', 1702),\n",
              " ('valley', 1669),\n",
              " ('harper', 1662),\n",
              " ('okay', 1659),\n",
              " ('day', 1600),\n",
              " ('hello', 1525)]"
            ]
          },
          "metadata": {},
          "execution_count": 14
        }
      ]
    },
    {
      "cell_type": "code",
      "source": [
        "vocab_nonstop = sorted(set(words_nostopwords))\n",
        "print(\"Size of Vocab without nonstop words: \"+str(len(vocab_nonstop)))"
      ],
      "metadata": {
        "colab": {
          "base_uri": "https://localhost:8080/"
        },
        "id": "DmqZ1fy4X5IP",
        "outputId": "f153380a-8aef-4f3f-dfe9-ed2ae33efea5"
      },
      "execution_count": 15,
      "outputs": [
        {
          "output_type": "stream",
          "name": "stdout",
          "text": [
            "Size of Vocab without nonstop words: 639\n"
          ]
        }
      ]
    },
    {
      "cell_type": "markdown",
      "metadata": {
        "id": "qTTluJ3TYHlH"
      },
      "source": [
        "##Embeddings\n",
        "\n",
        "The dataset will be explored with embeddings, specifically, using Word2Vec and Fast-text.\n",
        "For this, the data should be splited into sentences (already done) and each sentence tokenized."
      ]
    },
    {
      "cell_type": "code",
      "execution_count": 16,
      "metadata": {
        "colab": {
          "base_uri": "https://localhost:8080/"
        },
        "id": "jUdEnQoWNCuz",
        "outputId": "a8da6c8e-e079-4bb8-d027-7d68c82f56bc"
      },
      "outputs": [
        {
          "output_type": "stream",
          "name": "stdout",
          "text": [
            "['hello', 'this', 'is', 'harper', 'valley', 'national', 'bank', 'my', 'name', 'is', 'james', 'how', 'can', 'i', 'help', 'you', 'today']\n",
            "['hi', 'my', 'name', 'is', 'michael', 'williams']\n",
            "['i', 'would', 'like', 'to', 'reset', 'my', 'password']\n",
            "['im', 'happy', 'to', 'help', 'you', 'with', 'that']\n",
            "['and', 'what', 'is', 'your', 'phone', 'number']\n",
            "['my', 'phone', 'number', 'is', 'zero', 'one', 'three']\n",
            "['four', 'four', 'eight']\n",
            "['six', 'eight', 'three', 'nine']\n",
            "['can', 'you', 'repeat', 'the', 'final', 'four', 'numbers', 'of', 'your', 'phone', 'number', 'please']\n",
            "['six', 'eight', 'three', 'nine']\n"
          ]
        }
      ],
      "source": [
        "import re\n",
        "\n",
        "tokenized = [sentence for sentence in tokenized_sentences if len(sentence) > 1]\n",
        "\n",
        "for sentence in tokenized[:10]:\n",
        "    print(sentence)"
      ]
    },
    {
      "cell_type": "code",
      "execution_count": 17,
      "metadata": {
        "colab": {
          "base_uri": "https://localhost:8080/"
        },
        "id": "RNFr74v0jEMC",
        "outputId": "d2e10114-48ec-4231-cb22-d7e062f19dbc"
      },
      "outputs": [
        {
          "output_type": "execute_result",
          "data": {
            "text/plain": [
              "19599"
            ]
          },
          "metadata": {},
          "execution_count": 17
        }
      ],
      "source": [
        "len(tokenized_sentences)"
      ]
    },
    {
      "cell_type": "markdown",
      "metadata": {
        "id": "_xYG3RKRYHlI"
      },
      "source": [
        "Finally we have the data in the right format for training Word2Vec/FastText, so we can provide it to the algorithm. For parameters, we set:\n",
        "- the embedding size to be 50,\n",
        "- the minimum count for any vocabulary term to be 2 as we have a small vocab\n",
        "- the size of the context window to 10."
      ]
    },
    {
      "cell_type": "code",
      "execution_count": 18,
      "metadata": {
        "colab": {
          "base_uri": "https://localhost:8080/"
        },
        "id": "TmJqt2NRYHlH",
        "outputId": "59fd78b7-7051-4203-d295-f4b3b062f244"
      },
      "outputs": [
        {
          "output_type": "stream",
          "name": "stdout",
          "text": [
            "Requirement already satisfied: gensim in /usr/local/lib/python3.10/dist-packages (4.3.2)\n",
            "Requirement already satisfied: numpy>=1.18.5 in /usr/local/lib/python3.10/dist-packages (from gensim) (1.25.2)\n",
            "Requirement already satisfied: scipy>=1.7.0 in /usr/local/lib/python3.10/dist-packages (from gensim) (1.11.4)\n",
            "Requirement already satisfied: smart-open>=1.8.1 in /usr/local/lib/python3.10/dist-packages (from gensim) (6.4.0)\n"
          ]
        }
      ],
      "source": [
        "!pip install --upgrade gensim"
      ]
    },
    {
      "cell_type": "code",
      "execution_count": 29,
      "metadata": {
        "id": "fXolbjAXYHlJ"
      },
      "outputs": [],
      "source": [
        "from gensim.models import Word2Vec, FastText\n",
        "\n",
        "model_WV = Word2Vec(vector_size=50, window=10, min_count=4, sentences=tokenized_sentences, epochs=10)\n",
        "model_FT = FastText(vector_size=50, window=10, min_count=4, sentences=tokenized_sentences, epochs=10)"
      ]
    },
    {
      "cell_type": "markdown",
      "metadata": {
        "id": "3BP16EM3YHlJ"
      },
      "source": [
        "The vocab learned is small, as the dataset is not big and is composed of by a specific task."
      ]
    },
    {
      "cell_type": "code",
      "execution_count": 30,
      "metadata": {
        "colab": {
          "base_uri": "https://localhost:8080/"
        },
        "id": "Z7ZYKyxcYHlJ",
        "outputId": "ff1a224b-7419-4d0c-9853-5012f7e4666c"
      },
      "outputs": [
        {
          "output_type": "execute_result",
          "data": {
            "text/plain": [
              "(395, 395)"
            ]
          },
          "metadata": {},
          "execution_count": 30
        }
      ],
      "source": [
        "len(model_WV.wv), len(model_FT.wv)"
      ]
    },
    {
      "cell_type": "markdown",
      "metadata": {
        "id": "DHRbIkEYYHlJ"
      },
      "source": [
        "### Inspecting embeddings\n",
        "Its remarkable that whether Word2vec can only use words presented during training, FastText can also different ones\n",
        "\n"
      ]
    },
    {
      "cell_type": "code",
      "source": [
        "term = 'help'\n",
        "\n",
        "try:\n",
        "  print(model_WV.wv.most_similar(term)[:3])\n",
        "except Exception as e:\n",
        "  print(e)\n",
        "print(model_FT.wv.most_similar(term)[:3])"
      ],
      "metadata": {
        "colab": {
          "base_uri": "https://localhost:8080/"
        },
        "id": "uaLYQND5yHYs",
        "outputId": "1b88eca6-da5f-48c8-a099-39a75d2ac316"
      },
      "execution_count": 31,
      "outputs": [
        {
          "output_type": "stream",
          "name": "stdout",
          "text": [
            "[('can', 0.5684390068054199), ('assist', 0.5332887768745422), ('is', 0.5020341873168945)]\n",
            "[('helpful', 0.9060781002044678), ('hear', 0.7105252146720886), ('here', 0.6761425137519836)]\n"
          ]
        }
      ]
    },
    {
      "cell_type": "code",
      "execution_count": 32,
      "metadata": {
        "colab": {
          "base_uri": "https://localhost:8080/"
        },
        "id": "Ej6ij-9-YHlK",
        "outputId": "47232c3c-a140-46ab-ea8d-f21e9a77aa24"
      },
      "outputs": [
        {
          "output_type": "stream",
          "name": "stdout",
          "text": [
            "\"Key 'banking' not present in vocabulary\"\n",
            "[('bank', 0.676230788230896), ('checking', 0.6284130215644836), ('savings', 0.6205735802650452)]\n"
          ]
        }
      ],
      "source": [
        "term = 'banking'\n",
        "\n",
        "try:\n",
        "  print(model_WV.wv.most_similar(term)[:3])\n",
        "except Exception as e:\n",
        "  print(e)\n",
        "print(model_FT.wv.most_similar(term)[:3])"
      ]
    },
    {
      "cell_type": "markdown",
      "metadata": {
        "id": "Y4Su5jmKYHlK"
      },
      "source": [
        "###Embedding visualization (tSNE)"
      ]
    },
    {
      "cell_type": "markdown",
      "metadata": {
        "id": "tb51ZnSpYHlK"
      },
      "source": [
        "As the vocab learned is pretty small (512 words) all can be included in the visualization, for which a TSNE model needs to be fited to the data and then converted in 3D coordinates\n",
        "\n"
      ]
    },
    {
      "cell_type": "code",
      "execution_count": 33,
      "metadata": {
        "id": "wdIlwUjaYHlK"
      },
      "outputs": [],
      "source": [
        "from sklearn.manifold import TSNE\n",
        "import numpy as np\n",
        "\n",
        "word_vectors_WV = model_WV.wv[list(model_WV.wv.key_to_index)]\n",
        "word_vectors_FT = model_FT.wv[list(model_FT.wv.key_to_index)]\n",
        "\n",
        "tsne = TSNE(n_components=3, n_iter=2000)\n",
        "tsne_embeddingWV = tsne.fit_transform(word_vectors_WV)\n",
        "tsne_embeddingFT = tsne.fit_transform(word_vectors_FT)\n",
        "\n",
        "x, y, z = np.transpose(tsne_embeddingWV)\n",
        "x2, y2, z2 = np.transpose(tsne_embeddingFT)"
      ]
    },
    {
      "cell_type": "markdown",
      "metadata": {
        "id": "2RQtluK0YHlL"
      },
      "source": [
        "And generate the 3d plot:"
      ]
    },
    {
      "cell_type": "code",
      "execution_count": 34,
      "metadata": {
        "id": "Q8NKZB497z8O"
      },
      "outputs": [],
      "source": [
        "!pip install -q plotly\n",
        "import plotly.express as px"
      ]
    },
    {
      "cell_type": "code",
      "execution_count": 35,
      "metadata": {
        "id": "nwF1aJAQy9YY",
        "colab": {
          "base_uri": "https://localhost:8080/",
          "height": 542
        },
        "outputId": "412068b8-da1f-4695-c1a9-dc8790ef46dc"
      },
      "outputs": [
        {
          "output_type": "display_data",
          "data": {
            "text/html": [
              "<html>\n",
              "<head><meta charset=\"utf-8\" /></head>\n",
              "<body>\n",
              "    <div>            <script src=\"https://cdnjs.cloudflare.com/ajax/libs/mathjax/2.7.5/MathJax.js?config=TeX-AMS-MML_SVG\"></script><script type=\"text/javascript\">if (window.MathJax && window.MathJax.Hub && window.MathJax.Hub.Config) {window.MathJax.Hub.Config({SVG: {font: \"STIX-Web\"}});}</script>                <script type=\"text/javascript\">window.PlotlyConfig = {MathJaxConfig: 'local'};</script>\n",
              "        <script charset=\"utf-8\" src=\"https://cdn.plot.ly/plotly-2.24.1.min.js\"></script>                <div id=\"954a504d-bd99-41dc-841b-76468757b73e\" class=\"plotly-graph-div\" style=\"height:525px; width:100%;\"></div>            <script type=\"text/javascript\">                                    window.PLOTLYENV=window.PLOTLYENV || {};                                    if (document.getElementById(\"954a504d-bd99-41dc-841b-76468757b73e\")) {                    Plotly.newPlot(                        \"954a504d-bd99-41dc-841b-76468757b73e\",                        [{\"hovertemplate\":\"x=%{x}\\u003cbr\\u003ey=%{y}\\u003cbr\\u003ez=%{z}\\u003cbr\\u003etext=%{text}\\u003cextra\\u003e\\u003c\\u002fextra\\u003e\",\"legendgroup\":\"\",\"marker\":{\"color\":\"#636efa\",\"symbol\":\"circle\",\"line\":{\"width\":2},\"size\":3},\"mode\":\"markers+text\",\"name\":\"\",\"scene\":\"scene\",\"showlegend\":false,\"text\":[\"is\",\"you\",\"i\",\"my\",\"can\",\"help\",\"name\",\"a\",\"thank\",\"to\",\"the\",\"for\",\"your\",\"today\",\"what\",\"account\",\"valley\",\"harper\",\"okay\",\"day\",\"have\",\"hello\",\"with\",\"and\",\"how\",\"like\",\"this\",\"bank\",\"national\",\"there\",\"anything\",\"else\",\"great\",\"hi\",\"would\",\"calling\",\"one\",\"no\",\"bye\",\"five\",\"nine\",\"that\",\"address\",\"three\",\"two\",\"card\",\"dollars\",\"eight\",\"four\",\"uh\",\"seven\",\"appointment\",\"m\",\"too\",\"savings\",\"six\",\"amount\",\"it\",\"thats\",\"all\",\"been\",\"checking\",\"new\",\"has\",\"zero\",\"um\",\"check\",\"be\",\"need\",\"bill\",\"alright\",\"company\",\"phone\",\"hundred\",\"balance\",\"street\",\"transfer\",\"branch\",\"are\",\"hours\",\"was\",\"thirty\",\"which\",\"credit\",\"from\",\"p\",\"me\",\"password\",\"sent\",\"send\",\"reset\",\"elizabeth\",\"michael\",\"number\",\"so\",\"jennifer\",\"much\",\"james\",\"mary\",\"robert\",\"checkbook\",\"linda\",\"patricia\",\"david\",\"yes\",\"john\",\"debit\",\"repeat\",\"will\",\"california\",\"schedule\",\"pay\",\"ranch\",\"please\",\"main\",\"thatll\",\"first\",\"local\",\"an\",\"forest\",\"of\",\"forty\",\"lost\",\"oregon\",\"time\",\"smart\",\"money\",\"at\",\"zip\",\"electric\",\"accounts\",\"between\",\"gas\",\"fossil\",\"replacement\",\"home\",\"ordered\",\"we\",\"johnson\",\"replace\",\"code\",\"sure\",\"source\",\"gonna\",\"ive\",\"scheduled\",\"link\",\"wilson\",\"oh\",\"rodriguez\",\"miller\",\"very\",\"williams\",\"nope\",\"well\",\"uhm\",\"jones\",\"brown\",\"davis\",\"do\",\"transferred\",\"its\",\"payment\",\"thanks\",\"garcia\",\"needed\",\"hmm\",\"yeah\",\"im\",\"smith\",\"sunday\",\"id\",\"mm\",\"sorry\",\"in\",\"destination\",\"twenty\",\"seventy\",\"ninety\",\"fifteen\",\"eighty\",\"now\",\"mhm\",\"could\",\"ten\",\"book\",\"good\",\"actually\",\"youre\",\"just\",\"or\",\"monday\",\"whats\",\"fifty\",\"everything\",\"correct\",\"welcome\",\"moment\",\"s\",\"think\"],\"x\":[-10.951143264770508,-5.980503082275391,-1.1123875379562378,14.749152183532715,-15.978520393371582,-18.860244750976562,24.477415084838867,11.098532676696777,20.94337272644043,-8.041987419128418,-23.05341911315918,-2.7781007289886475,38.93214797973633,-9.488044738769531,-21.69361686706543,42.5266227722168,-10.542110443115234,-16.29022979736328,5.805444717407227,5.831254959106445,13.009100914001465,-12.438664436340332,15.488368034362793,-22.89211654663086,-13.361291885375977,14.413493156433105,-8.147688865661621,-11.817986488342285,-6.907261371612549,20.134798049926758,16.325986862182617,12.875738143920898,15.947331428527832,19.438413619995117,21.911170959472656,11.291932106018066,-28.381132125854492,33.778690338134766,17.165861129760742,-17.549772262573242,-19.770309448242188,20.629392623901367,-20.49217987060547,-22.004837036132812,-27.150989532470703,-5.220294952392578,40.97933578491211,-25.30973243713379,-24.868101119995117,16.002534866333008,-29.173221588134766,-1.7326128482818604,-7.35411262512207,13.572674751281738,40.16780090332031,-30.411163330078125,-34.075653076171875,23.63188934326172,36.85803985595703,32.44394302368164,32.902976989746094,42.917945861816406,20.509532928466797,31.0650577545166,-33.8325309753418,12.702652931213379,24.460481643676758,13.476040840148926,34.21099853515625,26.625675201416016,6.283238410949707,-27.839094161987305,-16.95053482055664,43.53459548950195,35.02311706542969,-34.64409637451172,29.029926300048828,-0.8044655919075012,1.6698251962661743,-3.6493141651153564,4.929965972900391,-8.636802673339844,15.627467155456543,-12.073270797729492,37.06863784790039,-8.230782508850098,-8.161399841308594,18.965805053710938,23.26223373413086,-14.279732704162598,22.59886360168457,10.487982749938965,4.4835920333862305,-32.950714111328125,25.132976531982422,10.64193058013916,39.11918258666992,5.062728404998779,4.568703651428223,10.26966667175293,24.395294189453125,7.438104629516602,6.387333869934082,2.038393259048462,-11.734419822692871,12.336063385009766,-10.325448036193848,-9.967536926269531,18.80791473388672,-41.998477935791016,11.593429565429688,28.091856002807617,-39.06241989135742,-7.033325672149658,-29.619606018066406,32.1475715637207,-33.711952209472656,4.390100479125977,11.034893035888672,-46.184791564941406,-32.34251022338867,3.4492251873016357,-8.168484687805176,-39.430965423583984,3.960283041000366,20.57522201538086,30.480993270874023,-4.064449310302734,-18.01544952392578,21.353134155273438,31.091938018798828,34.62442398071289,17.815622329711914,15.714300155639648,-0.20548835396766663,22.637767791748047,2.409714937210083,20.177473068237305,22.015636444091797,11.584856033325195,-20.361757278442383,14.944901466369629,-33.61193084716797,29.07854652404785,1.8507566452026367,-0.6965200304985046,21.626808166503906,27.81241798400879,8.827166557312012,27.87537956237793,20.28156089782715,25.598508834838867,24.714902877807617,30.34801483154297,13.2201566696167,17.263168334960938,21.91706085205078,22.423606872558594,24.99022674560547,13.27871036529541,37.67034912109375,-6.017888069152832,15.328181266784668,17.324447631835938,18.60045051574707,26.963144302368164,-33.251644134521484,14.549409866333008,-3.3298537731170654,26.608251571655273,4.420155048370361,25.01148796081543,-33.16191482543945,-5.093410968780518,0.8173988461494446,-34.07832336425781,-32.113731384277344,-36.97425079345703,-37.011573791503906,-0.8298214077949524,-37.94810485839844,13.062426567077637,4.043700695037842,-10.12396240234375,2.558197259902954,21.946748733520508,6.277891635894775,35.064353942871094,-3.500684976577759,6.881047248840332,-10.986669540405273,7.205748558044434,-20.75322723388672,-32.807273864746094,25.033435821533203,-5.166438579559326,0.07020967453718185,-2.2977685928344727,-41.8851318359375,30.597415924072266],\"y\":[14.692556381225586,-27.693222045898438,21.07500648498535,28.95121955871582,12.706070899963379,17.153892517089844,23.543922424316406,-4.307855129241943,-16.139759063720703,13.070561408996582,-17.179956436157227,-17.47538948059082,18.070682525634766,23.294578552246094,-27.90714454650879,1.0384362936019897,20.815956115722656,24.97064208984375,-4.711385250091553,-26.68045425415039,-12.552787780761719,25.46074867248535,15.954055786132812,-6.067229747772217,29.888965606689453,25.418264389038086,25.556127548217773,30.37291145324707,27.84148597717285,18.351110458374023,12.063323020935059,18.365650177001953,-19.7719783782959,35.535343170166016,14.86575984954834,-18.569673538208008,4.07943058013916,-20.03554916381836,-28.18271255493164,33.49863052368164,31.2531795501709,-28.47605323791504,23.542226791381836,22.535457611083984,24.185327529907227,14.288798332214355,14.332565307617188,28.771793365478516,24.282176971435547,-35.22233200073242,20.36948013305664,33.23898696899414,43.598167419433594,-30.74939727783203,6.611449718475342,26.27007484436035,-10.994778633117676,-18.611373901367188,-23.244688034057617,-27.597055435180664,14.227228164672852,7.35402250289917,17.70554542541504,14.732205390930176,23.71807098388672,-37.37947463989258,11.251180648803711,-21.9070987701416,22.017284393310547,-0.330478698015213,-7.551338195800781,-21.002613067626953,22.088794708251953,16.014677047729492,1.4283298254013062,16.1457576751709,0.8674837350845337,36.806209564208984,36.89642333984375,36.45197296142578,-27.400394439697266,37.99472427368164,-42.229461669921875,-0.2708781659603119,6.418370246887207,40.37663269042969,-4.975709915161133,24.064294815063477,12.180048942565918,1.670322060585022,25.171356201171875,20.63286018371582,22.742069244384766,30.68504524230957,-23.113574981689453,14.896868705749512,-17.038326263427734,18.041751861572266,12.133442878723145,10.11185359954834,7.129798412322998,19.501771926879883,13.172840118408203,16.868507385253906,-23.442264556884766,15.837125778198242,3.5694241523742676,-44.322635650634766,-7.800434112548828,12.255651473999023,18.259660720825195,29.847126007080078,7.793147087097168,-41.7203369140625,14.231756210327148,-13.136791229248047,13.899356842041016,34.191131591796875,17.059326171875,10.6893949508667,-6.636236667633057,40.78946304321289,-0.26591411232948303,13.563220977783203,33.36405944824219,1.397094964981079,6.259827613830566,45.69540786743164,-42.891387939453125,5.889589786529541,0.9176816344261169,4.003292083740234,2.1682188510894775,3.923853874206543,10.610553741455078,14.215312004089355,13.515570640563965,-5.6060075759887695,27.480823516845703,-42.324710845947266,-41.86454772949219,-29.14886474609375,-13.664619445800781,-16.242992401123047,15.484566688537598,44.97340774536133,19.803131103515625,26.160717010498047,-28.59065055847168,26.75088119506836,22.10065460205078,-20.9719181060791,30.8337459564209,-20.12668228149414,-19.12424087524414,-32.78511428833008,23.894983291625977,30.150693893432617,21.400177001953125,-25.500844955444336,11.718695640563965,-15.74039363861084,-3.2006962299346924,-17.962587356567383,27.94386863708496,-27.8032283782959,-12.797750473022461,-6.076045513153076,-42.85722351074219,20.812387466430664,36.15198516845703,-5.387639999389648,-10.927412033081055,-45.01796340942383,-11.986128807067871,-17.589204788208008,0.10920912772417068,-0.4838939607143402,5.1392998695373535,38.015621185302734,4.594705104827881,-23.08698272705078,-13.52944564819336,-35.7827262878418,33.255897521972656,12.63774585723877,-18.07387924194336,-21.428369522094727,-22.552154541015625,-39.77262878417969,7.145297527313232,32.1728401184082,-24.14486312866211,1.0890820026397705,-20.001157760620117,-13.114078521728516,-24.322200775146484,-36.45166778564453,2.2346696853637695,-24.096187591552734],\"z\":[-19.943782806396484,-23.593976974487305,-16.324010848999023,-21.94658851623535,-21.926284790039062,-19.664052963256836,-26.511367797851562,-21.357330322265625,-19.733583450317383,21.299270629882812,-12.116585731506348,-31.117828369140625,11.362460136413574,-17.2399845123291,-11.183453559875488,7.615845203399658,-30.68886947631836,-33.31239700317383,-34.886051177978516,-29.33334732055664,-27.71251106262207,-29.414989471435547,30.862350463867188,-19.42865753173828,-25.98011589050293,-8.50943374633789,-33.93925094604492,-32.50985336303711,-27.49152374267578,29.81960105895996,27.299518585205078,28.020408630371094,-31.710289001464844,-11.0295991897583,-17.965816497802734,-33.945716857910156,-26.573396682739258,-1.4667236804962158,-22.398988723754883,5.254674911499023,1.3737212419509888,20.6811580657959,13.808270454406738,6.812691688537598,9.166431427001953,34.811973571777344,-0.15672047436237335,6.49330997467041,2.106177806854248,-4.793891429901123,4.724539279937744,27.600242614746094,1.7727388143539429,-19.775585174560547,3.711730480194092,2.886000871658325,-18.27829933166504,12.882203102111816,11.910476684570312,0.10443943738937378,16.427021026611328,7.4427571296691895,2.260622024536133,11.240842819213867,8.02766227722168,-0.1880757063627243,-5.136329174041748,31.178895950317383,-14.482345581054688,-25.403392791748047,-31.2336483001709,-2.4535763263702393,17.989316940307617,-4.6629815101623535,4.098633289337158,0.634296178817749,-20.9024658203125,-14.258472442626953,-9.691779136657715,-9.707639694213867,25.474979400634766,0.813847541809082,15.859147071838379,-32.19131088256836,8.77375602722168,7.139998912811279,-41.88566589355469,16.57976531982422,16.206575393676758,-37.7892951965332,11.15802001953125,-38.038570404052734,-36.91585922241211,9.160406112670898,-8.610404968261719,-40.883689880371094,0.5800266861915588,-41.32565689086914,-38.91558837890625,-36.55393600463867,5.118584632873535,-32.03448486328125,-32.40171813964844,-35.32860565185547,23.71176528930664,-34.17538833618164,-32.007789611816406,3.789459705352783,35.151634216308594,4.730190277099609,-15.15805435180664,-5.324295997619629,-0.10365128517150879,-1.226289987564087,14.603646278381348,5.977844715118408,16.395641326904297,-14.290746688842773,-19.23889923095703,10.349885940551758,-21.577728271484375,3.969421863555908,-40.981590270996094,8.281901359558105,26.98699378967285,42.106468200683594,-15.135885238647461,11.621012687683105,7.207747459411621,39.36136245727539,-14.986471176147461,-16.791765213012695,36.99241256713867,41.83061981201172,34.093318939208984,11.897236824035645,36.78526306152344,39.292388916015625,-9.580952644348145,17.465421676635742,3.824127435684204,22.75800895690918,-6.967696666717529,9.77917766571045,32.17316436767578,14.619335174560547,13.859014511108398,-12.403924942016602,18.929109573364258,-18.81533432006836,-13.372941970825195,-4.4134368896484375,-14.472916603088379,3.371319532394409,-24.14958953857422,0.24381044507026672,-18.972658157348633,-20.222618103027344,-9.587762832641602,26.054061889648438,8.412236213684082,29.871015548706055,41.679107666015625,-14.98897933959961,-15.102216720581055,6.240779399871826,14.38886547088623,-16.603294372558594,16.528989791870117,-16.13080406188965,20.717010498046875,19.21358299255371,19.31661605834961,13.140296936035156,32.85213088989258,-5.511690139770508,-23.396650314331055,-20.44512176513672,-22.1817569732666,8.00088119506836,-16.703454971313477,-16.979846954345703,-13.915606498718262,13.42834758758545,5.998743057250977,5.106149196624756,-27.594751358032227,5.929739475250244,-26.67888641357422,-0.8006358742713928,23.408369064331055,15.819621086120605,-7.117307662963867,-16.165111541748047,4.508378028869629,23.57148551940918,-24.499738693237305,-4.704558849334717,17.36785316467285,7.872947692871094],\"type\":\"scatter3d\",\"textfont\":{\"size\":10}}],                        {\"template\":{\"data\":{\"histogram2dcontour\":[{\"type\":\"histogram2dcontour\",\"colorbar\":{\"outlinewidth\":0,\"ticks\":\"\"},\"colorscale\":[[0.0,\"#0d0887\"],[0.1111111111111111,\"#46039f\"],[0.2222222222222222,\"#7201a8\"],[0.3333333333333333,\"#9c179e\"],[0.4444444444444444,\"#bd3786\"],[0.5555555555555556,\"#d8576b\"],[0.6666666666666666,\"#ed7953\"],[0.7777777777777778,\"#fb9f3a\"],[0.8888888888888888,\"#fdca26\"],[1.0,\"#f0f921\"]]}],\"choropleth\":[{\"type\":\"choropleth\",\"colorbar\":{\"outlinewidth\":0,\"ticks\":\"\"}}],\"histogram2d\":[{\"type\":\"histogram2d\",\"colorbar\":{\"outlinewidth\":0,\"ticks\":\"\"},\"colorscale\":[[0.0,\"#0d0887\"],[0.1111111111111111,\"#46039f\"],[0.2222222222222222,\"#7201a8\"],[0.3333333333333333,\"#9c179e\"],[0.4444444444444444,\"#bd3786\"],[0.5555555555555556,\"#d8576b\"],[0.6666666666666666,\"#ed7953\"],[0.7777777777777778,\"#fb9f3a\"],[0.8888888888888888,\"#fdca26\"],[1.0,\"#f0f921\"]]}],\"heatmap\":[{\"type\":\"heatmap\",\"colorbar\":{\"outlinewidth\":0,\"ticks\":\"\"},\"colorscale\":[[0.0,\"#0d0887\"],[0.1111111111111111,\"#46039f\"],[0.2222222222222222,\"#7201a8\"],[0.3333333333333333,\"#9c179e\"],[0.4444444444444444,\"#bd3786\"],[0.5555555555555556,\"#d8576b\"],[0.6666666666666666,\"#ed7953\"],[0.7777777777777778,\"#fb9f3a\"],[0.8888888888888888,\"#fdca26\"],[1.0,\"#f0f921\"]]}],\"heatmapgl\":[{\"type\":\"heatmapgl\",\"colorbar\":{\"outlinewidth\":0,\"ticks\":\"\"},\"colorscale\":[[0.0,\"#0d0887\"],[0.1111111111111111,\"#46039f\"],[0.2222222222222222,\"#7201a8\"],[0.3333333333333333,\"#9c179e\"],[0.4444444444444444,\"#bd3786\"],[0.5555555555555556,\"#d8576b\"],[0.6666666666666666,\"#ed7953\"],[0.7777777777777778,\"#fb9f3a\"],[0.8888888888888888,\"#fdca26\"],[1.0,\"#f0f921\"]]}],\"contourcarpet\":[{\"type\":\"contourcarpet\",\"colorbar\":{\"outlinewidth\":0,\"ticks\":\"\"}}],\"contour\":[{\"type\":\"contour\",\"colorbar\":{\"outlinewidth\":0,\"ticks\":\"\"},\"colorscale\":[[0.0,\"#0d0887\"],[0.1111111111111111,\"#46039f\"],[0.2222222222222222,\"#7201a8\"],[0.3333333333333333,\"#9c179e\"],[0.4444444444444444,\"#bd3786\"],[0.5555555555555556,\"#d8576b\"],[0.6666666666666666,\"#ed7953\"],[0.7777777777777778,\"#fb9f3a\"],[0.8888888888888888,\"#fdca26\"],[1.0,\"#f0f921\"]]}],\"surface\":[{\"type\":\"surface\",\"colorbar\":{\"outlinewidth\":0,\"ticks\":\"\"},\"colorscale\":[[0.0,\"#0d0887\"],[0.1111111111111111,\"#46039f\"],[0.2222222222222222,\"#7201a8\"],[0.3333333333333333,\"#9c179e\"],[0.4444444444444444,\"#bd3786\"],[0.5555555555555556,\"#d8576b\"],[0.6666666666666666,\"#ed7953\"],[0.7777777777777778,\"#fb9f3a\"],[0.8888888888888888,\"#fdca26\"],[1.0,\"#f0f921\"]]}],\"mesh3d\":[{\"type\":\"mesh3d\",\"colorbar\":{\"outlinewidth\":0,\"ticks\":\"\"}}],\"scatter\":[{\"fillpattern\":{\"fillmode\":\"overlay\",\"size\":10,\"solidity\":0.2},\"type\":\"scatter\"}],\"parcoords\":[{\"type\":\"parcoords\",\"line\":{\"colorbar\":{\"outlinewidth\":0,\"ticks\":\"\"}}}],\"scatterpolargl\":[{\"type\":\"scatterpolargl\",\"marker\":{\"colorbar\":{\"outlinewidth\":0,\"ticks\":\"\"}}}],\"bar\":[{\"error_x\":{\"color\":\"#2a3f5f\"},\"error_y\":{\"color\":\"#2a3f5f\"},\"marker\":{\"line\":{\"color\":\"#E5ECF6\",\"width\":0.5},\"pattern\":{\"fillmode\":\"overlay\",\"size\":10,\"solidity\":0.2}},\"type\":\"bar\"}],\"scattergeo\":[{\"type\":\"scattergeo\",\"marker\":{\"colorbar\":{\"outlinewidth\":0,\"ticks\":\"\"}}}],\"scatterpolar\":[{\"type\":\"scatterpolar\",\"marker\":{\"colorbar\":{\"outlinewidth\":0,\"ticks\":\"\"}}}],\"histogram\":[{\"marker\":{\"pattern\":{\"fillmode\":\"overlay\",\"size\":10,\"solidity\":0.2}},\"type\":\"histogram\"}],\"scattergl\":[{\"type\":\"scattergl\",\"marker\":{\"colorbar\":{\"outlinewidth\":0,\"ticks\":\"\"}}}],\"scatter3d\":[{\"type\":\"scatter3d\",\"line\":{\"colorbar\":{\"outlinewidth\":0,\"ticks\":\"\"}},\"marker\":{\"colorbar\":{\"outlinewidth\":0,\"ticks\":\"\"}}}],\"scattermapbox\":[{\"type\":\"scattermapbox\",\"marker\":{\"colorbar\":{\"outlinewidth\":0,\"ticks\":\"\"}}}],\"scatterternary\":[{\"type\":\"scatterternary\",\"marker\":{\"colorbar\":{\"outlinewidth\":0,\"ticks\":\"\"}}}],\"scattercarpet\":[{\"type\":\"scattercarpet\",\"marker\":{\"colorbar\":{\"outlinewidth\":0,\"ticks\":\"\"}}}],\"carpet\":[{\"aaxis\":{\"endlinecolor\":\"#2a3f5f\",\"gridcolor\":\"white\",\"linecolor\":\"white\",\"minorgridcolor\":\"white\",\"startlinecolor\":\"#2a3f5f\"},\"baxis\":{\"endlinecolor\":\"#2a3f5f\",\"gridcolor\":\"white\",\"linecolor\":\"white\",\"minorgridcolor\":\"white\",\"startlinecolor\":\"#2a3f5f\"},\"type\":\"carpet\"}],\"table\":[{\"cells\":{\"fill\":{\"color\":\"#EBF0F8\"},\"line\":{\"color\":\"white\"}},\"header\":{\"fill\":{\"color\":\"#C8D4E3\"},\"line\":{\"color\":\"white\"}},\"type\":\"table\"}],\"barpolar\":[{\"marker\":{\"line\":{\"color\":\"#E5ECF6\",\"width\":0.5},\"pattern\":{\"fillmode\":\"overlay\",\"size\":10,\"solidity\":0.2}},\"type\":\"barpolar\"}],\"pie\":[{\"automargin\":true,\"type\":\"pie\"}]},\"layout\":{\"autotypenumbers\":\"strict\",\"colorway\":[\"#636efa\",\"#EF553B\",\"#00cc96\",\"#ab63fa\",\"#FFA15A\",\"#19d3f3\",\"#FF6692\",\"#B6E880\",\"#FF97FF\",\"#FECB52\"],\"font\":{\"color\":\"#2a3f5f\"},\"hovermode\":\"closest\",\"hoverlabel\":{\"align\":\"left\"},\"paper_bgcolor\":\"white\",\"plot_bgcolor\":\"#E5ECF6\",\"polar\":{\"bgcolor\":\"#E5ECF6\",\"angularaxis\":{\"gridcolor\":\"white\",\"linecolor\":\"white\",\"ticks\":\"\"},\"radialaxis\":{\"gridcolor\":\"white\",\"linecolor\":\"white\",\"ticks\":\"\"}},\"ternary\":{\"bgcolor\":\"#E5ECF6\",\"aaxis\":{\"gridcolor\":\"white\",\"linecolor\":\"white\",\"ticks\":\"\"},\"baxis\":{\"gridcolor\":\"white\",\"linecolor\":\"white\",\"ticks\":\"\"},\"caxis\":{\"gridcolor\":\"white\",\"linecolor\":\"white\",\"ticks\":\"\"}},\"coloraxis\":{\"colorbar\":{\"outlinewidth\":0,\"ticks\":\"\"}},\"colorscale\":{\"sequential\":[[0.0,\"#0d0887\"],[0.1111111111111111,\"#46039f\"],[0.2222222222222222,\"#7201a8\"],[0.3333333333333333,\"#9c179e\"],[0.4444444444444444,\"#bd3786\"],[0.5555555555555556,\"#d8576b\"],[0.6666666666666666,\"#ed7953\"],[0.7777777777777778,\"#fb9f3a\"],[0.8888888888888888,\"#fdca26\"],[1.0,\"#f0f921\"]],\"sequentialminus\":[[0.0,\"#0d0887\"],[0.1111111111111111,\"#46039f\"],[0.2222222222222222,\"#7201a8\"],[0.3333333333333333,\"#9c179e\"],[0.4444444444444444,\"#bd3786\"],[0.5555555555555556,\"#d8576b\"],[0.6666666666666666,\"#ed7953\"],[0.7777777777777778,\"#fb9f3a\"],[0.8888888888888888,\"#fdca26\"],[1.0,\"#f0f921\"]],\"diverging\":[[0,\"#8e0152\"],[0.1,\"#c51b7d\"],[0.2,\"#de77ae\"],[0.3,\"#f1b6da\"],[0.4,\"#fde0ef\"],[0.5,\"#f7f7f7\"],[0.6,\"#e6f5d0\"],[0.7,\"#b8e186\"],[0.8,\"#7fbc41\"],[0.9,\"#4d9221\"],[1,\"#276419\"]]},\"xaxis\":{\"gridcolor\":\"white\",\"linecolor\":\"white\",\"ticks\":\"\",\"title\":{\"standoff\":15},\"zerolinecolor\":\"white\",\"automargin\":true,\"zerolinewidth\":2},\"yaxis\":{\"gridcolor\":\"white\",\"linecolor\":\"white\",\"ticks\":\"\",\"title\":{\"standoff\":15},\"zerolinecolor\":\"white\",\"automargin\":true,\"zerolinewidth\":2},\"scene\":{\"xaxis\":{\"backgroundcolor\":\"#E5ECF6\",\"gridcolor\":\"white\",\"linecolor\":\"white\",\"showbackground\":true,\"ticks\":\"\",\"zerolinecolor\":\"white\",\"gridwidth\":2},\"yaxis\":{\"backgroundcolor\":\"#E5ECF6\",\"gridcolor\":\"white\",\"linecolor\":\"white\",\"showbackground\":true,\"ticks\":\"\",\"zerolinecolor\":\"white\",\"gridwidth\":2},\"zaxis\":{\"backgroundcolor\":\"#E5ECF6\",\"gridcolor\":\"white\",\"linecolor\":\"white\",\"showbackground\":true,\"ticks\":\"\",\"zerolinecolor\":\"white\",\"gridwidth\":2}},\"shapedefaults\":{\"line\":{\"color\":\"#2a3f5f\"}},\"annotationdefaults\":{\"arrowcolor\":\"#2a3f5f\",\"arrowhead\":0,\"arrowwidth\":1},\"geo\":{\"bgcolor\":\"white\",\"landcolor\":\"#E5ECF6\",\"subunitcolor\":\"white\",\"showland\":true,\"showlakes\":true,\"lakecolor\":\"white\"},\"title\":{\"x\":0.05},\"mapbox\":{\"style\":\"light\"}}},\"scene\":{\"domain\":{\"x\":[0.0,1.0],\"y\":[0.0,1.0]},\"xaxis\":{\"title\":{\"text\":\"x\"}},\"yaxis\":{\"title\":{\"text\":\"y\"}},\"zaxis\":{\"title\":{\"text\":\"z\"}}},\"legend\":{\"tracegroupgap\":0},\"margin\":{\"t\":60}},                        {\"responsive\": true}                    ).then(function(){\n",
              "                            \n",
              "var gd = document.getElementById('954a504d-bd99-41dc-841b-76468757b73e');\n",
              "var x = new MutationObserver(function (mutations, observer) {{\n",
              "        var display = window.getComputedStyle(gd).display;\n",
              "        if (!display || display === 'none') {{\n",
              "            console.log([gd, 'removed!']);\n",
              "            Plotly.purge(gd);\n",
              "            observer.disconnect();\n",
              "        }}\n",
              "}});\n",
              "\n",
              "// Listen for the removal of the full notebook cells\n",
              "var notebookContainer = gd.closest('#notebook-container');\n",
              "if (notebookContainer) {{\n",
              "    x.observe(notebookContainer, {childList: true});\n",
              "}}\n",
              "\n",
              "// Listen for the clearing of the current output cell\n",
              "var outputEl = gd.closest('.output');\n",
              "if (outputEl) {{\n",
              "    x.observe(outputEl, {childList: true});\n",
              "}}\n",
              "\n",
              "                        })                };                            </script>        </div>\n",
              "</body>\n",
              "</html>"
            ]
          },
          "metadata": {}
        }
      ],
      "source": [
        "fig = px.scatter_3d(x=x[:200],y=y[:200],z=z[:200],text=list(model_WV.wv.key_to_index)[:200])\n",
        "fig.update_traces(marker=dict(size=3,line=dict(width=2)),textfont_size=10)\n",
        "fig.show()"
      ]
    },
    {
      "cell_type": "markdown",
      "metadata": {
        "id": "Pr1QqmH9YHlL"
      },
      "source": [
        "Words regarding the welcome are grouped together, the same as words used to get some time...\n",
        "![image.png](data:image/png;base64,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)"
      ]
    },
    {
      "cell_type": "code",
      "source": [
        "fig = px.scatter_3d(x=x2[:200],y=y2[:200],z=z2[:200],text=list(model_FT.wv.key_to_index)[:200])\n",
        "fig.update_traces(marker=dict(size=3,line=dict(width=2)),textfont_size=10)\n",
        "fig.show()"
      ],
      "metadata": {
        "colab": {
          "base_uri": "https://localhost:8080/",
          "height": 542
        },
        "id": "8D-YqU0ZWDNw",
        "outputId": "f615404d-3fdf-456f-ec03-fabd556018aa"
      },
      "execution_count": 26,
      "outputs": [
        {
          "output_type": "display_data",
          "data": {
            "text/html": [
              "<html>\n",
              "<head><meta charset=\"utf-8\" /></head>\n",
              "<body>\n",
              "    <div>            <script src=\"https://cdnjs.cloudflare.com/ajax/libs/mathjax/2.7.5/MathJax.js?config=TeX-AMS-MML_SVG\"></script><script type=\"text/javascript\">if (window.MathJax && window.MathJax.Hub && window.MathJax.Hub.Config) {window.MathJax.Hub.Config({SVG: {font: \"STIX-Web\"}});}</script>                <script type=\"text/javascript\">window.PlotlyConfig = {MathJaxConfig: 'local'};</script>\n",
              "        <script charset=\"utf-8\" src=\"https://cdn.plot.ly/plotly-2.24.1.min.js\"></script>                <div id=\"dca6b5fb-9f7a-4d0a-96aa-cc6ade065b8f\" class=\"plotly-graph-div\" style=\"height:525px; width:100%;\"></div>            <script type=\"text/javascript\">                                    window.PLOTLYENV=window.PLOTLYENV || {};                                    if (document.getElementById(\"dca6b5fb-9f7a-4d0a-96aa-cc6ade065b8f\")) {                    Plotly.newPlot(                        \"dca6b5fb-9f7a-4d0a-96aa-cc6ade065b8f\",                        [{\"hovertemplate\":\"x=%{x}\\u003cbr\\u003ey=%{y}\\u003cbr\\u003ez=%{z}\\u003cbr\\u003etext=%{text}\\u003cextra\\u003e\\u003c\\u002fextra\\u003e\",\"legendgroup\":\"\",\"marker\":{\"color\":\"#636efa\",\"symbol\":\"circle\",\"line\":{\"width\":2},\"size\":3},\"mode\":\"markers+text\",\"name\":\"\",\"scene\":\"scene\",\"showlegend\":false,\"text\":[\"is\",\"you\",\"i\",\"my\",\"can\",\"help\",\"name\",\"a\",\"thank\",\"to\",\"the\",\"for\",\"your\",\"today\",\"what\",\"account\",\"valley\",\"harper\",\"okay\",\"day\",\"have\",\"hello\",\"with\",\"and\",\"how\",\"like\",\"this\",\"bank\",\"national\",\"there\",\"anything\",\"else\",\"great\",\"hi\",\"would\",\"calling\",\"one\",\"no\",\"bye\",\"five\",\"nine\",\"that\",\"address\",\"two\",\"three\",\"card\",\"dollars\",\"eight\",\"four\",\"uh\",\"seven\",\"appointment\",\"m\",\"too\",\"savings\",\"six\",\"amount\",\"it\",\"thats\",\"all\",\"been\",\"checking\",\"has\",\"new\",\"zero\",\"um\",\"check\",\"be\",\"need\",\"bill\",\"alright\",\"company\",\"phone\",\"hundred\",\"balance\",\"street\",\"transfer\",\"branch\",\"are\",\"hours\",\"was\",\"thirty\",\"which\",\"credit\",\"from\",\"p\",\"me\",\"password\",\"sent\",\"send\",\"reset\",\"elizabeth\",\"michael\",\"number\",\"so\",\"jennifer\",\"much\",\"james\",\"mary\",\"robert\",\"checkbook\",\"linda\",\"patricia\",\"david\",\"yes\",\"john\",\"debit\",\"repeat\",\"will\",\"california\",\"schedule\",\"ranch\",\"pay\",\"please\",\"main\",\"thatll\",\"first\",\"local\",\"an\",\"forest\",\"of\",\"forty\",\"lost\",\"oregon\",\"time\",\"smart\",\"money\",\"at\",\"zip\",\"electric\",\"accounts\",\"between\",\"fossil\",\"gas\",\"ordered\",\"home\",\"replacement\",\"replace\",\"johnson\",\"we\",\"code\",\"sure\",\"source\",\"gonna\",\"ive\",\"scheduled\",\"link\",\"wilson\",\"rodriguez\",\"oh\",\"miller\",\"williams\",\"very\",\"nope\",\"well\",\"uhm\",\"jones\",\"davis\",\"brown\",\"do\",\"transferred\",\"its\",\"payment\",\"thanks\",\"garcia\",\"needed\",\"hmm\",\"yeah\",\"im\",\"smith\",\"sunday\",\"id\",\"sorry\",\"mm\",\"in\",\"destination\",\"twenty\",\"seventy\",\"ninety\",\"fifteen\",\"eighty\",\"now\",\"mhm\",\"could\",\"ten\",\"book\",\"good\",\"youre\",\"actually\",\"just\",\"or\",\"monday\",\"whats\",\"fifty\",\"correct\",\"everything\",\"s\",\"moment\",\"welcome\",\"eleven\"],\"x\":[14.35567569732666,-23.751548767089844,21.878068923950195,9.2662935256958,-13.735849380493164,-2.905439853668213,6.662933349609375,-5.266360282897949,-2.4001240730285645,11.233259201049805,-2.9352734088897705,29.113744735717773,-25.133563995361328,5.875761985778809,30.45229721069336,-10.522150993347168,8.980570793151855,2.3431904315948486,-7.207075595855713,-3.1835341453552246,-7.513678550720215,6.152339458465576,-32.77226257324219,1.3024301528930664,4.385525226593018,-4.389189720153809,7.165733337402344,3.461547374725342,8.785322189331055,-34.6700553894043,-30.208080291748047,-35.690673828125,-9.067737579345703,5.032931804656982,-3.2973251342773438,-10.495376586914062,-26.010120391845703,-8.268776893615723,-0.5398163199424744,-19.48700523376465,-21.558258056640625,6.738504409790039,-26.169076919555664,-28.214353561401367,-23.713642120361328,-22.528793334960938,-23.844451904296875,-25.800003051757812,-27.81928253173828,10.991517066955566,-25.76169776916504,-13.794758796691895,-4.157916069030762,2.9064362049102783,-21.6298885345459,-30.053529739379883,9.1951904296875,-6.257328510284424,1.8209420442581177,-6.21913480758667,-36.198978424072266,-22.489110946655273,-35.711204528808594,-22.72821807861328,-32.837947845458984,10.86828327178955,-24.676998138427734,-8.272647857666016,-1.9241985082626343,-14.204336166381836,-7.543174743652344,21.64590835571289,-32.65934371948242,-20.53052520751953,2.3985724449157715,-30.775949478149414,-11.125578880310059,10.987236976623535,7.663214206695557,5.67246150970459,-4.883872032165527,-7.509857654571533,27.100677490234375,-15.632734298706055,-20.027177810668945,-7.020214557647705,-16.872446060180664,-9.500457763671875,-28.687044143676758,-18.486610412597656,-11.473960876464844,15.057791709899902,19.817827224731445,-36.5106086730957,0.14803825318813324,15.792612075805664,1.9829884767532349,19.613985061645508,20.197351455688477,19.754497528076172,-27.553537368774414,23.159748077392578,18.222726821899414,15.588247299194336,15.20015811920166,16.137441635131836,-17.24174690246582,26.611745834350586,-18.67865753173828,23.155176162719727,-14.3135404586792,12.420242309570312,-19.819156646728516,21.639875411987305,25.474727630615234,1.821457862854004,22.9699764251709,10.691539764404297,2.231238603591919,26.18461036682129,5.929908752441406,-13.64081859588623,-14.149730682373047,21.20028305053711,-7.4816412925720215,-29.25495719909668,-3.034665822982788,-8.815750122070312,20.768617630004883,-25.72174072265625,-8.195209503173828,-5.222601413726807,-27.435237884521484,-27.040016174316406,-24.932565689086914,-28.23014259338379,-28.93456268310547,-31.235136032104492,1.6357451677322388,-21.616918563842773,18.08217430114746,-4.198017597198486,15.337172508239746,-2.0793492794036865,-22.89742088317871,-13.116606712341309,-13.695683479309082,0.7240121364593506,3.0565450191497803,0.27475443482398987,3.9494125843048096,0.19918541610240936,-2.4965505599975586,-3.7372584342956543,-4.896440029144287,14.281248092651367,-2.314110517501831,4.785806655883789,4.287768363952637,-6.811999320983887,-15.44175910949707,5.666515350341797,-25.942556381225586,-0.7337723970413208,0.17567729949951172,-2.199479103088379,12.434385299682617,10.565593719482422,27.414762496948242,7.639900207519531,-6.723730087280273,12.662272453308105,27.244583129882812,12.077157020568848,7.394865989685059,17.028778076171875,-19.97564697265625,-23.92181968688965,-22.69881820678711,-9.558753967285156,-25.534564971923828,2.4263875484466553,4.2248969078063965,15.396238327026367,-11.78714370727539,-26.86428451538086,-3.9061267375946045,-22.56108283996582,-1.0584146976470947,17.939167022705078,21.326358795166016,-8.22474479675293,28.161956787109375,-17.591976165771484,7.050108909606934,-22.511268615722656,19.555286407470703,-21.477155685424805,-4.09532356262207,-11.322813034057617],\"y\":[0.1170910894870758,8.428457260131836,3.9881019592285156,-23.160568237304688,4.971005916595459,8.426583290100098,-13.479100227355957,10.240087509155273,-8.908555030822754,-20.624475479125977,16.860692977905273,-1.2373846769332886,6.686875820159912,7.089027404785156,8.617676734924316,-3.3971951007843018,3.3547115325927734,1.983469009399414,15.191771507263184,34.296180725097656,5.156052112579346,5.174275875091553,-7.587465763092041,16.5329647064209,-0.039903949946165085,-17.47211456298828,-1.7965099811553955,5.263712406158447,2.48905873298645,-1.973506212234497,-5.383403778076172,-5.019367694854736,0.7137216925621033,-29.216867446899414,-21.74251937866211,-4.40521240234375,16.208904266357422,-28.82475471496582,3.3916680812835693,31.97486686706543,29.847177505493164,-30.4367618560791,8.198379516601562,29.48457145690918,27.846702575683594,1.5737593173980713,18.496065139770508,23.476987838745117,27.086647033691406,-32.843910217285156,26.010591506958008,31.58549690246582,34.87556457519531,4.128626823425293,7.368269443511963,24.762052536010742,23.124080657958984,-29.421918869018555,-27.570947647094727,-29.115297317504883,-4.997326850891113,3.629755973815918,-7.57528829574585,-12.943574905395508,27.833486557006836,-30.148168563842773,-4.894710063934326,-22.589508056640625,-25.164325714111328,-28.68972396850586,12.339642524719238,18.671737670898438,10.20287799835205,21.708675384521484,23.935771942138672,28.163612365722656,4.303773880004883,25.35482406616211,25.04459571838379,27.781490325927734,-20.65777015686035,28.650590896606445,8.183080673217773,-5.137968063354492,11.371967315673828,35.69673538208008,-11.773969650268555,-20.745214462280273,-10.514161109924316,-8.140989303588867,-17.796695709228516,-16.376405715942383,-13.421367645263672,26.08721351623535,-34.81258773803711,-11.732966423034668,-28.98798942565918,-11.96095085144043,-16.388134002685547,-17.938190460205078,-7.098233699798584,-14.872381210327148,-17.495128631591797,-14.458776473999023,1.0582902431488037,-19.171916961669922,-2.752676486968994,-15.46814250946045,-24.086702346801758,2.723832130432129,36.89263153076172,26.32461166381836,-20.686140060424805,-15.615609169006348,6.252237319946289,-30.533336639404297,4.042073726654053,22.024887084960938,-21.419038772583008,-0.7561786770820618,21.45591163635254,29.448755264282227,-12.409043312072754,0.08277788758277893,30.600528717041016,-21.12201690673828,-11.989856719970703,35.495147705078125,15.587963104248047,-22.596994400024414,-5.630477428436279,-9.670888900756836,-22.243032455444336,-18.179889678955078,5.386754512786865,-9.400060653686523,4.307914733886719,5.0250468254089355,-24.2971248626709,-19.3763427734375,14.951441764831543,-13.871341705322266,23.18233871459961,-27.877531051635742,6.132229328155518,35.76953125,-12.911194801330566,-27.440584182739258,-19.381641387939453,-16.43631362915039,-23.899621963500977,-23.241191864013672,-32.061710357666016,-26.733068466186523,3.743471384048462,-32.26606369018555,-24.121408462524414,-20.12131118774414,-26.473365783691406,-15.90500259399414,8.104154586791992,-17.335556030273438,-15.632316589355469,-6.373363971710205,-20.32025146484375,-24.458864212036133,2.801417589187622,1.638723373413086,-18.551923751831055,-21.76353645324707,34.25685501098633,-23.404388427734375,-17.564359664916992,5.25449275970459,-14.777363777160645,22.104209899902344,20.741558074951172,18.871503829956055,24.303876876831055,28.360206604003906,22.582799911499023,0.07288175076246262,0.6836121082305908,-18.515901565551758,28.21209716796875,-9.183866500854492,-0.8717595338821411,7.928961753845215,-26.141263961791992,-17.623741149902344,-23.861602783203125,31.07593536376953,5.585754871368408,24.78156280517578,-11.89587116241455,-11.236262321472168,-3.0777924060821533,-10.348832130432129,5.440971374511719,23.661544799804688],\"z\":[-26.10138702392578,25.903276443481445,-22.232074737548828,-28.41212272644043,-14.368426322937012,-23.842609405517578,-31.758853912353516,24.4318790435791,29.597501754760742,-15.570738792419434,-17.7885799407959,19.029409408569336,17.89952850341797,-25.154088973999023,1.2224171161651611,-30.193660736083984,-30.77438735961914,-31.910369873046875,21.003738403320312,8.09150218963623,18.65569305419922,-33.226932525634766,2.6348471641540527,16.670696258544922,-37.582523345947266,-26.933752059936523,-33.27457809448242,-36.88103485107422,-36.73415756225586,0.03285982832312584,8.357349395751953,4.195866107940674,26.127656936645508,-26.81218910217285,-29.980199813842773,22.167726516723633,-2.2097432613372803,12.42444896697998,32.258689880371094,-5.274968147277832,-7.642300128936768,21.301050186157227,8.630401611328125,0.21378493309020996,-2.225226879119873,-15.129106521606445,-16.69049835205078,-2.1752779483795166,-3.844032049179077,4.5054121017456055,1.716827154159546,14.646409034729004,-8.583405494689941,30.7604923248291,-23.344085693359375,0.7464795112609863,16.998926162719727,18.795799255371094,22.4335994720459,7.78838586807251,-11.63936710357666,-25.437889099121094,-10.00518798828125,-19.963788986206055,-0.28910303115844727,8.117828369140625,-27.72214698791504,14.5398530960083,-0.8486686944961548,-2.369126319885254,18.53291893005371,10.50512409210205,6.759006977081299,-17.91542625427246,9.83870792388916,6.302441120147705,-27.43934440612793,-9.61159610748291,-13.293764114379883,-12.5935697555542,18.219884872436523,-11.435051918029785,-9.315336227416992,-19.926712036132812,-23.304121017456055,-7.075009346008301,-21.180450439453125,-13.864827156066895,-10.585503578186035,-16.401090621948242,-7.3250203132629395,-30.75395393371582,-29.649616241455078,-2.105691909790039,10.51942253112793,-31.20921516418457,5.837647914886475,-34.40930938720703,-36.703758239746094,-31.91556739807129,-24.33008575439453,-32.684295654296875,-27.558645248413086,-35.194393157958984,16.447526931762695,-34.577125549316406,-18.863920211791992,6.499008655548096,1.9468376636505127,23.436307907104492,9.724520683288574,-6.766883373260498,-10.051946640014648,8.259982109069824,28.68317222595215,19.83438491821289,29.105369567871094,-13.460501670837402,-32.956031799316406,26.09119987487793,19.286088943481445,-8.232379913330078,-23.476072311401367,23.231151580810547,18.180435180664062,-3.644895315170288,-29.841602325439453,-3.2091825008392334,22.97826385498047,-3.8886783123016357,-30.14103126525879,-29.74266242980957,-0.015932990238070488,-0.8810678124427795,-6.741866588592529,-15.639677047729492,-8.853262901306152,-12.681652069091797,-27.213926315307617,-0.4316726326942444,24.23267364501953,18.683856964111328,6.176456928253174,17.470186233520508,-2.812206983566284,6.683034420013428,-10.692525863647461,-22.979915618896484,-21.21592140197754,18.308881759643555,-23.531082153320312,-20.14668083190918,12.173871994018555,12.853899955749512,27.705703735351562,8.35402774810791,-24.05350685119629,-26.08612632751465,-19.8165283203125,15.443285942077637,-24.184648513793945,25.506322860717773,-7.514777183532715,28.07992935180664,-24.599435806274414,3.4148805141448975,24.3319091796875,15.237259864807129,11.148106575012207,-21.048675537109375,3.3939409255981445,2.669963836669922,14.221315383911133,26.25421142578125,26.71540069580078,3.7721400260925293,-11.609474182128906,-9.933216094970703,-11.268174171447754,-5.7054243087768555,-8.098456382751465,28.12601661682129,16.33881950378418,-1.0687732696533203,-2.1849353313446045,-19.74924659729004,25.343364715576172,21.154695510864258,7.978945255279541,16.527347564697266,1.8843926191329956,7.522987365722656,-0.027526162564754486,-9.42215347290039,20.665428161621094,8.624034881591797,36.972625732421875,-5.422049045562744,21.662166595458984,-2.301316499710083],\"type\":\"scatter3d\",\"textfont\":{\"size\":10}}],                        {\"template\":{\"data\":{\"histogram2dcontour\":[{\"type\":\"histogram2dcontour\",\"colorbar\":{\"outlinewidth\":0,\"ticks\":\"\"},\"colorscale\":[[0.0,\"#0d0887\"],[0.1111111111111111,\"#46039f\"],[0.2222222222222222,\"#7201a8\"],[0.3333333333333333,\"#9c179e\"],[0.4444444444444444,\"#bd3786\"],[0.5555555555555556,\"#d8576b\"],[0.6666666666666666,\"#ed7953\"],[0.7777777777777778,\"#fb9f3a\"],[0.8888888888888888,\"#fdca26\"],[1.0,\"#f0f921\"]]}],\"choropleth\":[{\"type\":\"choropleth\",\"colorbar\":{\"outlinewidth\":0,\"ticks\":\"\"}}],\"histogram2d\":[{\"type\":\"histogram2d\",\"colorbar\":{\"outlinewidth\":0,\"ticks\":\"\"},\"colorscale\":[[0.0,\"#0d0887\"],[0.1111111111111111,\"#46039f\"],[0.2222222222222222,\"#7201a8\"],[0.3333333333333333,\"#9c179e\"],[0.4444444444444444,\"#bd3786\"],[0.5555555555555556,\"#d8576b\"],[0.6666666666666666,\"#ed7953\"],[0.7777777777777778,\"#fb9f3a\"],[0.8888888888888888,\"#fdca26\"],[1.0,\"#f0f921\"]]}],\"heatmap\":[{\"type\":\"heatmap\",\"colorbar\":{\"outlinewidth\":0,\"ticks\":\"\"},\"colorscale\":[[0.0,\"#0d0887\"],[0.1111111111111111,\"#46039f\"],[0.2222222222222222,\"#7201a8\"],[0.3333333333333333,\"#9c179e\"],[0.4444444444444444,\"#bd3786\"],[0.5555555555555556,\"#d8576b\"],[0.6666666666666666,\"#ed7953\"],[0.7777777777777778,\"#fb9f3a\"],[0.8888888888888888,\"#fdca26\"],[1.0,\"#f0f921\"]]}],\"heatmapgl\":[{\"type\":\"heatmapgl\",\"colorbar\":{\"outlinewidth\":0,\"ticks\":\"\"},\"colorscale\":[[0.0,\"#0d0887\"],[0.1111111111111111,\"#46039f\"],[0.2222222222222222,\"#7201a8\"],[0.3333333333333333,\"#9c179e\"],[0.4444444444444444,\"#bd3786\"],[0.5555555555555556,\"#d8576b\"],[0.6666666666666666,\"#ed7953\"],[0.7777777777777778,\"#fb9f3a\"],[0.8888888888888888,\"#fdca26\"],[1.0,\"#f0f921\"]]}],\"contourcarpet\":[{\"type\":\"contourcarpet\",\"colorbar\":{\"outlinewidth\":0,\"ticks\":\"\"}}],\"contour\":[{\"type\":\"contour\",\"colorbar\":{\"outlinewidth\":0,\"ticks\":\"\"},\"colorscale\":[[0.0,\"#0d0887\"],[0.1111111111111111,\"#46039f\"],[0.2222222222222222,\"#7201a8\"],[0.3333333333333333,\"#9c179e\"],[0.4444444444444444,\"#bd3786\"],[0.5555555555555556,\"#d8576b\"],[0.6666666666666666,\"#ed7953\"],[0.7777777777777778,\"#fb9f3a\"],[0.8888888888888888,\"#fdca26\"],[1.0,\"#f0f921\"]]}],\"surface\":[{\"type\":\"surface\",\"colorbar\":{\"outlinewidth\":0,\"ticks\":\"\"},\"colorscale\":[[0.0,\"#0d0887\"],[0.1111111111111111,\"#46039f\"],[0.2222222222222222,\"#7201a8\"],[0.3333333333333333,\"#9c179e\"],[0.4444444444444444,\"#bd3786\"],[0.5555555555555556,\"#d8576b\"],[0.6666666666666666,\"#ed7953\"],[0.7777777777777778,\"#fb9f3a\"],[0.8888888888888888,\"#fdca26\"],[1.0,\"#f0f921\"]]}],\"mesh3d\":[{\"type\":\"mesh3d\",\"colorbar\":{\"outlinewidth\":0,\"ticks\":\"\"}}],\"scatter\":[{\"fillpattern\":{\"fillmode\":\"overlay\",\"size\":10,\"solidity\":0.2},\"type\":\"scatter\"}],\"parcoords\":[{\"type\":\"parcoords\",\"line\":{\"colorbar\":{\"outlinewidth\":0,\"ticks\":\"\"}}}],\"scatterpolargl\":[{\"type\":\"scatterpolargl\",\"marker\":{\"colorbar\":{\"outlinewidth\":0,\"ticks\":\"\"}}}],\"bar\":[{\"error_x\":{\"color\":\"#2a3f5f\"},\"error_y\":{\"color\":\"#2a3f5f\"},\"marker\":{\"line\":{\"color\":\"#E5ECF6\",\"width\":0.5},\"pattern\":{\"fillmode\":\"overlay\",\"size\":10,\"solidity\":0.2}},\"type\":\"bar\"}],\"scattergeo\":[{\"type\":\"scattergeo\",\"marker\":{\"colorbar\":{\"outlinewidth\":0,\"ticks\":\"\"}}}],\"scatterpolar\":[{\"type\":\"scatterpolar\",\"marker\":{\"colorbar\":{\"outlinewidth\":0,\"ticks\":\"\"}}}],\"histogram\":[{\"marker\":{\"pattern\":{\"fillmode\":\"overlay\",\"size\":10,\"solidity\":0.2}},\"type\":\"histogram\"}],\"scattergl\":[{\"type\":\"scattergl\",\"marker\":{\"colorbar\":{\"outlinewidth\":0,\"ticks\":\"\"}}}],\"scatter3d\":[{\"type\":\"scatter3d\",\"line\":{\"colorbar\":{\"outlinewidth\":0,\"ticks\":\"\"}},\"marker\":{\"colorbar\":{\"outlinewidth\":0,\"ticks\":\"\"}}}],\"scattermapbox\":[{\"type\":\"scattermapbox\",\"marker\":{\"colorbar\":{\"outlinewidth\":0,\"ticks\":\"\"}}}],\"scatterternary\":[{\"type\":\"scatterternary\",\"marker\":{\"colorbar\":{\"outlinewidth\":0,\"ticks\":\"\"}}}],\"scattercarpet\":[{\"type\":\"scattercarpet\",\"marker\":{\"colorbar\":{\"outlinewidth\":0,\"ticks\":\"\"}}}],\"carpet\":[{\"aaxis\":{\"endlinecolor\":\"#2a3f5f\",\"gridcolor\":\"white\",\"linecolor\":\"white\",\"minorgridcolor\":\"white\",\"startlinecolor\":\"#2a3f5f\"},\"baxis\":{\"endlinecolor\":\"#2a3f5f\",\"gridcolor\":\"white\",\"linecolor\":\"white\",\"minorgridcolor\":\"white\",\"startlinecolor\":\"#2a3f5f\"},\"type\":\"carpet\"}],\"table\":[{\"cells\":{\"fill\":{\"color\":\"#EBF0F8\"},\"line\":{\"color\":\"white\"}},\"header\":{\"fill\":{\"color\":\"#C8D4E3\"},\"line\":{\"color\":\"white\"}},\"type\":\"table\"}],\"barpolar\":[{\"marker\":{\"line\":{\"color\":\"#E5ECF6\",\"width\":0.5},\"pattern\":{\"fillmode\":\"overlay\",\"size\":10,\"solidity\":0.2}},\"type\":\"barpolar\"}],\"pie\":[{\"automargin\":true,\"type\":\"pie\"}]},\"layout\":{\"autotypenumbers\":\"strict\",\"colorway\":[\"#636efa\",\"#EF553B\",\"#00cc96\",\"#ab63fa\",\"#FFA15A\",\"#19d3f3\",\"#FF6692\",\"#B6E880\",\"#FF97FF\",\"#FECB52\"],\"font\":{\"color\":\"#2a3f5f\"},\"hovermode\":\"closest\",\"hoverlabel\":{\"align\":\"left\"},\"paper_bgcolor\":\"white\",\"plot_bgcolor\":\"#E5ECF6\",\"polar\":{\"bgcolor\":\"#E5ECF6\",\"angularaxis\":{\"gridcolor\":\"white\",\"linecolor\":\"white\",\"ticks\":\"\"},\"radialaxis\":{\"gridcolor\":\"white\",\"linecolor\":\"white\",\"ticks\":\"\"}},\"ternary\":{\"bgcolor\":\"#E5ECF6\",\"aaxis\":{\"gridcolor\":\"white\",\"linecolor\":\"white\",\"ticks\":\"\"},\"baxis\":{\"gridcolor\":\"white\",\"linecolor\":\"white\",\"ticks\":\"\"},\"caxis\":{\"gridcolor\":\"white\",\"linecolor\":\"white\",\"ticks\":\"\"}},\"coloraxis\":{\"colorbar\":{\"outlinewidth\":0,\"ticks\":\"\"}},\"colorscale\":{\"sequential\":[[0.0,\"#0d0887\"],[0.1111111111111111,\"#46039f\"],[0.2222222222222222,\"#7201a8\"],[0.3333333333333333,\"#9c179e\"],[0.4444444444444444,\"#bd3786\"],[0.5555555555555556,\"#d8576b\"],[0.6666666666666666,\"#ed7953\"],[0.7777777777777778,\"#fb9f3a\"],[0.8888888888888888,\"#fdca26\"],[1.0,\"#f0f921\"]],\"sequentialminus\":[[0.0,\"#0d0887\"],[0.1111111111111111,\"#46039f\"],[0.2222222222222222,\"#7201a8\"],[0.3333333333333333,\"#9c179e\"],[0.4444444444444444,\"#bd3786\"],[0.5555555555555556,\"#d8576b\"],[0.6666666666666666,\"#ed7953\"],[0.7777777777777778,\"#fb9f3a\"],[0.8888888888888888,\"#fdca26\"],[1.0,\"#f0f921\"]],\"diverging\":[[0,\"#8e0152\"],[0.1,\"#c51b7d\"],[0.2,\"#de77ae\"],[0.3,\"#f1b6da\"],[0.4,\"#fde0ef\"],[0.5,\"#f7f7f7\"],[0.6,\"#e6f5d0\"],[0.7,\"#b8e186\"],[0.8,\"#7fbc41\"],[0.9,\"#4d9221\"],[1,\"#276419\"]]},\"xaxis\":{\"gridcolor\":\"white\",\"linecolor\":\"white\",\"ticks\":\"\",\"title\":{\"standoff\":15},\"zerolinecolor\":\"white\",\"automargin\":true,\"zerolinewidth\":2},\"yaxis\":{\"gridcolor\":\"white\",\"linecolor\":\"white\",\"ticks\":\"\",\"title\":{\"standoff\":15},\"zerolinecolor\":\"white\",\"automargin\":true,\"zerolinewidth\":2},\"scene\":{\"xaxis\":{\"backgroundcolor\":\"#E5ECF6\",\"gridcolor\":\"white\",\"linecolor\":\"white\",\"showbackground\":true,\"ticks\":\"\",\"zerolinecolor\":\"white\",\"gridwidth\":2},\"yaxis\":{\"backgroundcolor\":\"#E5ECF6\",\"gridcolor\":\"white\",\"linecolor\":\"white\",\"showbackground\":true,\"ticks\":\"\",\"zerolinecolor\":\"white\",\"gridwidth\":2},\"zaxis\":{\"backgroundcolor\":\"#E5ECF6\",\"gridcolor\":\"white\",\"linecolor\":\"white\",\"showbackground\":true,\"ticks\":\"\",\"zerolinecolor\":\"white\",\"gridwidth\":2}},\"shapedefaults\":{\"line\":{\"color\":\"#2a3f5f\"}},\"annotationdefaults\":{\"arrowcolor\":\"#2a3f5f\",\"arrowhead\":0,\"arrowwidth\":1},\"geo\":{\"bgcolor\":\"white\",\"landcolor\":\"#E5ECF6\",\"subunitcolor\":\"white\",\"showland\":true,\"showlakes\":true,\"lakecolor\":\"white\"},\"title\":{\"x\":0.05},\"mapbox\":{\"style\":\"light\"}}},\"scene\":{\"domain\":{\"x\":[0.0,1.0],\"y\":[0.0,1.0]},\"xaxis\":{\"title\":{\"text\":\"x\"}},\"yaxis\":{\"title\":{\"text\":\"y\"}},\"zaxis\":{\"title\":{\"text\":\"z\"}}},\"legend\":{\"tracegroupgap\":0},\"margin\":{\"t\":60}},                        {\"responsive\": true}                    ).then(function(){\n",
              "                            \n",
              "var gd = document.getElementById('dca6b5fb-9f7a-4d0a-96aa-cc6ade065b8f');\n",
              "var x = new MutationObserver(function (mutations, observer) {{\n",
              "        var display = window.getComputedStyle(gd).display;\n",
              "        if (!display || display === 'none') {{\n",
              "            console.log([gd, 'removed!']);\n",
              "            Plotly.purge(gd);\n",
              "            observer.disconnect();\n",
              "        }}\n",
              "}});\n",
              "\n",
              "// Listen for the removal of the full notebook cells\n",
              "var notebookContainer = gd.closest('#notebook-container');\n",
              "if (notebookContainer) {{\n",
              "    x.observe(notebookContainer, {childList: true});\n",
              "}}\n",
              "\n",
              "// Listen for the clearing of the current output cell\n",
              "var outputEl = gd.closest('.output');\n",
              "if (outputEl) {{\n",
              "    x.observe(outputEl, {childList: true});\n",
              "}}\n",
              "\n",
              "                        })                };                            </script>        </div>\n",
              "</body>\n",
              "</html>"
            ]
          },
          "metadata": {}
        }
      ]
    }
  ],
  "metadata": {
    "colab": {
      "provenance": [],
      "toc_visible": true,
      "gpuType": "T4"
    },
    "kernelspec": {
      "display_name": "Python 3",
      "name": "python3"
    },
    "language_info": {
      "codemirror_mode": {
        "name": "ipython",
        "version": 3
      },
      "file_extension": ".py",
      "mimetype": "text/x-python",
      "name": "python",
      "nbconvert_exporter": "python",
      "pygments_lexer": "ipython3",
      "version": "3.7.13"
    },
    "accelerator": "GPU"
  },
  "nbformat": 4,
  "nbformat_minor": 0
}