{
  "cells": [
    {
      "cell_type": "markdown",
      "metadata": {
        "id": "auM3jLkGYHk5"
      },
      "source": [
        "# Gridspace-Stanford Harper Valley transcript dataset\n",
        "\n",
        "This notebook focuses on the use of the Gridspace-Stanford Harper Valley transcripts to use embeddings, visualizations, classifiers and chatbots."
      ]
    },
    {
      "cell_type": "markdown",
      "metadata": {
        "id": "sHv1LsPley3G"
      },
      "source": [
        "**Optional for Colab users**"
      ]
    },
    {
      "cell_type": "code",
      "execution_count": 3,
      "metadata": {
        "id": "5PqaF2l7ey3J",
        "colab": {
          "base_uri": "https://localhost:8080/"
        },
        "outputId": "4d0a0c7d-9644-4cb6-a556-f5beae1f0184"
      },
      "outputs": [
        {
          "output_type": "stream",
          "name": "stdout",
          "text": [
            "Drive already mounted at /content/drive; to attempt to forcibly remount, call drive.mount(\"/content/drive\", force_remount=True).\n"
          ]
        }
      ],
      "source": [
        "import os\n",
        "from google.colab import drive\n",
        "\n",
        "# # Mount drive and change directory\n",
        "drive.mount('/content/drive')\n",
        "\n",
        "path = 'NLP-Proyecto'\n",
        "os.chdir(f'/content/drive/MyDrive/{path}')\n",
        "datarepo = 'gridspace_repo/data/transcript'"
      ]
    },
    {
      "cell_type": "markdown",
      "metadata": {
        "id": "DPtKB1FNYHlH"
      },
      "source": [
        "## Data Retrieval"
      ]
    },
    {
      "cell_type": "markdown",
      "metadata": {
        "id": "TOEoUJJC-nPq"
      },
      "source": [
        "The information related to the audios are stored in multiple json files, containing:\n",
        "\n",
        "\n",
        "*   Machine Generated Transcript\n",
        "*   Human Revised Transcript\n",
        "*   Dialog Acts\n",
        "*   Emotion detected (softmax output of a ML classifier)\n",
        "\n"
      ]
    },
    {
      "cell_type": "code",
      "execution_count": 1,
      "metadata": {
        "id": "6vWDgYc9BU3G"
      },
      "outputs": [],
      "source": [
        "import json\n",
        "import pandas as pd"
      ]
    },
    {
      "cell_type": "code",
      "execution_count": null,
      "metadata": {
        "colab": {
          "background_save": true
        },
        "id": "2L7l3ErF5KLM"
      },
      "outputs": [],
      "source": [
        "data = []\n",
        "\n",
        "for filename in os.listdir(datarepo):\n",
        "    if filename.endswith('.json'):\n",
        "        file_path = os.path.join(datarepo, filename)\n",
        "        with open(file_path, 'r') as file:\n",
        "            contents = json.load(file)\n",
        "            for content in contents:\n",
        "                emotions = content.get('emotion', {})\n",
        "                neutral = emotions.get('neutral', None)\n",
        "                negative = emotions.get('negative', None)\n",
        "                positive = emotions.get('positive', None)\n",
        "                data.append({\n",
        "                    'identifier': filename[:-5],\n",
        "                    'human_transcript': content['human_transcript'],\n",
        "                    'machine_transcript': content['transcript'],\n",
        "                    'dialog_acts': content['dialog_acts'],\n",
        "                    'emotion_neutral': neutral,\n",
        "                    'emotion_negative': negative,\n",
        "                    'emotion_positive': positive,\n",
        "                    'index': content['index'],\n",
        "                    'speaker_role': content['speaker_role']\n",
        "                })\n",
        "df = pd.DataFrame(data)\n",
        "df.to_csv('TranscriptDB.csv', index=False)"
      ]
    },
    {
      "cell_type": "code",
      "execution_count": 4,
      "metadata": {
        "colab": {
          "base_uri": "https://localhost:8080/",
          "height": 539
        },
        "id": "jjFv-fsOGwHP",
        "outputId": "1d75253a-2379-4c15-bcb6-31c07ebeb625"
      },
      "outputs": [
        {
          "output_type": "execute_result",
          "data": {
            "text/plain": [
              "         identifier                                   human_transcript  \\\n",
              "0  9691bca74ef140d0  hello this is harper valley national bank my n...   \n",
              "1  9691bca74ef140d0                     hi my name is michael williams   \n",
              "2  9691bca74ef140d0                  i would like to reset my password   \n",
              "3  9691bca74ef140d0                    i'm happy to help you with that   \n",
              "4  9691bca74ef140d0                      and what is your phone number   \n",
              "5  9691bca74ef140d0                  my phone number is zero one three   \n",
              "6  9691bca74ef140d0                                    four four eight   \n",
              "7  9691bca74ef140d0                               six eight three nine   \n",
              "8  9691bca74ef140d0                                            [noise]   \n",
              "9  9691bca74ef140d0  can you repeat the final four numbers of your ...   \n",
              "\n",
              "                                  machine_transcript  \\\n",
              "0  hello this is harper valley national bank my n...   \n",
              "1                     hi my name is michael williams   \n",
              "2                  i would like to reset my password   \n",
              "3                    i'm happy to help you with that   \n",
              "4                      and what is your phone number   \n",
              "5                  my phone number is zero one three   \n",
              "6                                    four four eight   \n",
              "7                               six eight three nine   \n",
              "8                                            [noise]   \n",
              "9  can you repeat the final four numbers of your ...   \n",
              "\n",
              "                                         dialog_acts  emotion_neutral  \\\n",
              "0                             ['gridspace_greeting']         0.309475   \n",
              "1  ['gridspace_data_communication', 'gridspace_gr...         0.317042   \n",
              "2  ['gridspace_yes_response', 'gridspace_problem_...         0.553823   \n",
              "3                                ['gridspace_other']         0.345135   \n",
              "4                        ['gridspace_data_question']         0.560032   \n",
              "5                        ['gridspace_data_response']         0.584506   \n",
              "6                        ['gridspace_data_response']         0.582787   \n",
              "7                        ['gridspace_data_response']         0.602211   \n",
              "8                         ['gridspace_confirm_data']         1.000000   \n",
              "9                        ['gridspace_data_question']         0.481985   \n",
              "\n",
              "   emotion_negative  emotion_positive  index speaker_role  \n",
              "0          0.015957          0.674568      1        agent  \n",
              "1          0.036193          0.646765      2       caller  \n",
              "2          0.278830          0.167346      3       caller  \n",
              "3          0.052922          0.601943      4        agent  \n",
              "4          0.199025          0.240943      5        agent  \n",
              "5          0.275289          0.140205      6       caller  \n",
              "6          0.224562          0.192652      7       caller  \n",
              "7          0.188286          0.209503      8       caller  \n",
              "8          0.000000          0.000000      9        agent  \n",
              "9          0.070061          0.447953     10        agent  "
            ],
            "text/html": [
              "\n",
              "  <div id=\"df-dc9e42ab-97c2-4419-8993-51d51b4b1411\" class=\"colab-df-container\">\n",
              "    <div>\n",
              "<style scoped>\n",
              "    .dataframe tbody tr th:only-of-type {\n",
              "        vertical-align: middle;\n",
              "    }\n",
              "\n",
              "    .dataframe tbody tr th {\n",
              "        vertical-align: top;\n",
              "    }\n",
              "\n",
              "    .dataframe thead th {\n",
              "        text-align: right;\n",
              "    }\n",
              "</style>\n",
              "<table border=\"1\" class=\"dataframe\">\n",
              "  <thead>\n",
              "    <tr style=\"text-align: right;\">\n",
              "      <th></th>\n",
              "      <th>identifier</th>\n",
              "      <th>human_transcript</th>\n",
              "      <th>machine_transcript</th>\n",
              "      <th>dialog_acts</th>\n",
              "      <th>emotion_neutral</th>\n",
              "      <th>emotion_negative</th>\n",
              "      <th>emotion_positive</th>\n",
              "      <th>index</th>\n",
              "      <th>speaker_role</th>\n",
              "    </tr>\n",
              "  </thead>\n",
              "  <tbody>\n",
              "    <tr>\n",
              "      <th>0</th>\n",
              "      <td>9691bca74ef140d0</td>\n",
              "      <td>hello this is harper valley national bank my n...</td>\n",
              "      <td>hello this is harper valley national bank my n...</td>\n",
              "      <td>['gridspace_greeting']</td>\n",
              "      <td>0.309475</td>\n",
              "      <td>0.015957</td>\n",
              "      <td>0.674568</td>\n",
              "      <td>1</td>\n",
              "      <td>agent</td>\n",
              "    </tr>\n",
              "    <tr>\n",
              "      <th>1</th>\n",
              "      <td>9691bca74ef140d0</td>\n",
              "      <td>hi my name is michael williams</td>\n",
              "      <td>hi my name is michael williams</td>\n",
              "      <td>['gridspace_data_communication', 'gridspace_gr...</td>\n",
              "      <td>0.317042</td>\n",
              "      <td>0.036193</td>\n",
              "      <td>0.646765</td>\n",
              "      <td>2</td>\n",
              "      <td>caller</td>\n",
              "    </tr>\n",
              "    <tr>\n",
              "      <th>2</th>\n",
              "      <td>9691bca74ef140d0</td>\n",
              "      <td>i would like to reset my password</td>\n",
              "      <td>i would like to reset my password</td>\n",
              "      <td>['gridspace_yes_response', 'gridspace_problem_...</td>\n",
              "      <td>0.553823</td>\n",
              "      <td>0.278830</td>\n",
              "      <td>0.167346</td>\n",
              "      <td>3</td>\n",
              "      <td>caller</td>\n",
              "    </tr>\n",
              "    <tr>\n",
              "      <th>3</th>\n",
              "      <td>9691bca74ef140d0</td>\n",
              "      <td>i'm happy to help you with that</td>\n",
              "      <td>i'm happy to help you with that</td>\n",
              "      <td>['gridspace_other']</td>\n",
              "      <td>0.345135</td>\n",
              "      <td>0.052922</td>\n",
              "      <td>0.601943</td>\n",
              "      <td>4</td>\n",
              "      <td>agent</td>\n",
              "    </tr>\n",
              "    <tr>\n",
              "      <th>4</th>\n",
              "      <td>9691bca74ef140d0</td>\n",
              "      <td>and what is your phone number</td>\n",
              "      <td>and what is your phone number</td>\n",
              "      <td>['gridspace_data_question']</td>\n",
              "      <td>0.560032</td>\n",
              "      <td>0.199025</td>\n",
              "      <td>0.240943</td>\n",
              "      <td>5</td>\n",
              "      <td>agent</td>\n",
              "    </tr>\n",
              "    <tr>\n",
              "      <th>5</th>\n",
              "      <td>9691bca74ef140d0</td>\n",
              "      <td>my phone number is zero one three</td>\n",
              "      <td>my phone number is zero one three</td>\n",
              "      <td>['gridspace_data_response']</td>\n",
              "      <td>0.584506</td>\n",
              "      <td>0.275289</td>\n",
              "      <td>0.140205</td>\n",
              "      <td>6</td>\n",
              "      <td>caller</td>\n",
              "    </tr>\n",
              "    <tr>\n",
              "      <th>6</th>\n",
              "      <td>9691bca74ef140d0</td>\n",
              "      <td>four four eight</td>\n",
              "      <td>four four eight</td>\n",
              "      <td>['gridspace_data_response']</td>\n",
              "      <td>0.582787</td>\n",
              "      <td>0.224562</td>\n",
              "      <td>0.192652</td>\n",
              "      <td>7</td>\n",
              "      <td>caller</td>\n",
              "    </tr>\n",
              "    <tr>\n",
              "      <th>7</th>\n",
              "      <td>9691bca74ef140d0</td>\n",
              "      <td>six eight three nine</td>\n",
              "      <td>six eight three nine</td>\n",
              "      <td>['gridspace_data_response']</td>\n",
              "      <td>0.602211</td>\n",
              "      <td>0.188286</td>\n",
              "      <td>0.209503</td>\n",
              "      <td>8</td>\n",
              "      <td>caller</td>\n",
              "    </tr>\n",
              "    <tr>\n",
              "      <th>8</th>\n",
              "      <td>9691bca74ef140d0</td>\n",
              "      <td>[noise]</td>\n",
              "      <td>[noise]</td>\n",
              "      <td>['gridspace_confirm_data']</td>\n",
              "      <td>1.000000</td>\n",
              "      <td>0.000000</td>\n",
              "      <td>0.000000</td>\n",
              "      <td>9</td>\n",
              "      <td>agent</td>\n",
              "    </tr>\n",
              "    <tr>\n",
              "      <th>9</th>\n",
              "      <td>9691bca74ef140d0</td>\n",
              "      <td>can you repeat the final four numbers of your ...</td>\n",
              "      <td>can you repeat the final four numbers of your ...</td>\n",
              "      <td>['gridspace_data_question']</td>\n",
              "      <td>0.481985</td>\n",
              "      <td>0.070061</td>\n",
              "      <td>0.447953</td>\n",
              "      <td>10</td>\n",
              "      <td>agent</td>\n",
              "    </tr>\n",
              "  </tbody>\n",
              "</table>\n",
              "</div>\n",
              "    <div class=\"colab-df-buttons\">\n",
              "\n",
              "  <div class=\"colab-df-container\">\n",
              "    <button class=\"colab-df-convert\" onclick=\"convertToInteractive('df-dc9e42ab-97c2-4419-8993-51d51b4b1411')\"\n",
              "            title=\"Convert this dataframe to an interactive table.\"\n",
              "            style=\"display:none;\">\n",
              "\n",
              "  <svg xmlns=\"http://www.w3.org/2000/svg\" height=\"24px\" viewBox=\"0 -960 960 960\">\n",
              "    <path d=\"M120-120v-720h720v720H120Zm60-500h600v-160H180v160Zm220 220h160v-160H400v160Zm0 220h160v-160H400v160ZM180-400h160v-160H180v160Zm440 0h160v-160H620v160ZM180-180h160v-160H180v160Zm440 0h160v-160H620v160Z\"/>\n",
              "  </svg>\n",
              "    </button>\n",
              "\n",
              "  <style>\n",
              "    .colab-df-container {\n",
              "      display:flex;\n",
              "      gap: 12px;\n",
              "    }\n",
              "\n",
              "    .colab-df-convert {\n",
              "      background-color: #E8F0FE;\n",
              "      border: none;\n",
              "      border-radius: 50%;\n",
              "      cursor: pointer;\n",
              "      display: none;\n",
              "      fill: #1967D2;\n",
              "      height: 32px;\n",
              "      padding: 0 0 0 0;\n",
              "      width: 32px;\n",
              "    }\n",
              "\n",
              "    .colab-df-convert:hover {\n",
              "      background-color: #E2EBFA;\n",
              "      box-shadow: 0px 1px 2px rgba(60, 64, 67, 0.3), 0px 1px 3px 1px rgba(60, 64, 67, 0.15);\n",
              "      fill: #174EA6;\n",
              "    }\n",
              "\n",
              "    .colab-df-buttons div {\n",
              "      margin-bottom: 4px;\n",
              "    }\n",
              "\n",
              "    [theme=dark] .colab-df-convert {\n",
              "      background-color: #3B4455;\n",
              "      fill: #D2E3FC;\n",
              "    }\n",
              "\n",
              "    [theme=dark] .colab-df-convert:hover {\n",
              "      background-color: #434B5C;\n",
              "      box-shadow: 0px 1px 3px 1px rgba(0, 0, 0, 0.15);\n",
              "      filter: drop-shadow(0px 1px 2px rgba(0, 0, 0, 0.3));\n",
              "      fill: #FFFFFF;\n",
              "    }\n",
              "  </style>\n",
              "\n",
              "    <script>\n",
              "      const buttonEl =\n",
              "        document.querySelector('#df-dc9e42ab-97c2-4419-8993-51d51b4b1411 button.colab-df-convert');\n",
              "      buttonEl.style.display =\n",
              "        google.colab.kernel.accessAllowed ? 'block' : 'none';\n",
              "\n",
              "      async function convertToInteractive(key) {\n",
              "        const element = document.querySelector('#df-dc9e42ab-97c2-4419-8993-51d51b4b1411');\n",
              "        const dataTable =\n",
              "          await google.colab.kernel.invokeFunction('convertToInteractive',\n",
              "                                                    [key], {});\n",
              "        if (!dataTable) return;\n",
              "\n",
              "        const docLinkHtml = 'Like what you see? Visit the ' +\n",
              "          '<a target=\"_blank\" href=https://colab.research.google.com/notebooks/data_table.ipynb>data table notebook</a>'\n",
              "          + ' to learn more about interactive tables.';\n",
              "        element.innerHTML = '';\n",
              "        dataTable['output_type'] = 'display_data';\n",
              "        await google.colab.output.renderOutput(dataTable, element);\n",
              "        const docLink = document.createElement('div');\n",
              "        docLink.innerHTML = docLinkHtml;\n",
              "        element.appendChild(docLink);\n",
              "      }\n",
              "    </script>\n",
              "  </div>\n",
              "\n",
              "\n",
              "<div id=\"df-c1383523-2cd2-409b-821f-6c735ba2211d\">\n",
              "  <button class=\"colab-df-quickchart\" onclick=\"quickchart('df-c1383523-2cd2-409b-821f-6c735ba2211d')\"\n",
              "            title=\"Suggest charts\"\n",
              "            style=\"display:none;\">\n",
              "\n",
              "<svg xmlns=\"http://www.w3.org/2000/svg\" height=\"24px\"viewBox=\"0 0 24 24\"\n",
              "     width=\"24px\">\n",
              "    <g>\n",
              "        <path d=\"M19 3H5c-1.1 0-2 .9-2 2v14c0 1.1.9 2 2 2h14c1.1 0 2-.9 2-2V5c0-1.1-.9-2-2-2zM9 17H7v-7h2v7zm4 0h-2V7h2v10zm4 0h-2v-4h2v4z\"/>\n",
              "    </g>\n",
              "</svg>\n",
              "  </button>\n",
              "\n",
              "<style>\n",
              "  .colab-df-quickchart {\n",
              "      --bg-color: #E8F0FE;\n",
              "      --fill-color: #1967D2;\n",
              "      --hover-bg-color: #E2EBFA;\n",
              "      --hover-fill-color: #174EA6;\n",
              "      --disabled-fill-color: #AAA;\n",
              "      --disabled-bg-color: #DDD;\n",
              "  }\n",
              "\n",
              "  [theme=dark] .colab-df-quickchart {\n",
              "      --bg-color: #3B4455;\n",
              "      --fill-color: #D2E3FC;\n",
              "      --hover-bg-color: #434B5C;\n",
              "      --hover-fill-color: #FFFFFF;\n",
              "      --disabled-bg-color: #3B4455;\n",
              "      --disabled-fill-color: #666;\n",
              "  }\n",
              "\n",
              "  .colab-df-quickchart {\n",
              "    background-color: var(--bg-color);\n",
              "    border: none;\n",
              "    border-radius: 50%;\n",
              "    cursor: pointer;\n",
              "    display: none;\n",
              "    fill: var(--fill-color);\n",
              "    height: 32px;\n",
              "    padding: 0;\n",
              "    width: 32px;\n",
              "  }\n",
              "\n",
              "  .colab-df-quickchart:hover {\n",
              "    background-color: var(--hover-bg-color);\n",
              "    box-shadow: 0 1px 2px rgba(60, 64, 67, 0.3), 0 1px 3px 1px rgba(60, 64, 67, 0.15);\n",
              "    fill: var(--button-hover-fill-color);\n",
              "  }\n",
              "\n",
              "  .colab-df-quickchart-complete:disabled,\n",
              "  .colab-df-quickchart-complete:disabled:hover {\n",
              "    background-color: var(--disabled-bg-color);\n",
              "    fill: var(--disabled-fill-color);\n",
              "    box-shadow: none;\n",
              "  }\n",
              "\n",
              "  .colab-df-spinner {\n",
              "    border: 2px solid var(--fill-color);\n",
              "    border-color: transparent;\n",
              "    border-bottom-color: var(--fill-color);\n",
              "    animation:\n",
              "      spin 1s steps(1) infinite;\n",
              "  }\n",
              "\n",
              "  @keyframes spin {\n",
              "    0% {\n",
              "      border-color: transparent;\n",
              "      border-bottom-color: var(--fill-color);\n",
              "      border-left-color: var(--fill-color);\n",
              "    }\n",
              "    20% {\n",
              "      border-color: transparent;\n",
              "      border-left-color: var(--fill-color);\n",
              "      border-top-color: var(--fill-color);\n",
              "    }\n",
              "    30% {\n",
              "      border-color: transparent;\n",
              "      border-left-color: var(--fill-color);\n",
              "      border-top-color: var(--fill-color);\n",
              "      border-right-color: var(--fill-color);\n",
              "    }\n",
              "    40% {\n",
              "      border-color: transparent;\n",
              "      border-right-color: var(--fill-color);\n",
              "      border-top-color: var(--fill-color);\n",
              "    }\n",
              "    60% {\n",
              "      border-color: transparent;\n",
              "      border-right-color: var(--fill-color);\n",
              "    }\n",
              "    80% {\n",
              "      border-color: transparent;\n",
              "      border-right-color: var(--fill-color);\n",
              "      border-bottom-color: var(--fill-color);\n",
              "    }\n",
              "    90% {\n",
              "      border-color: transparent;\n",
              "      border-bottom-color: var(--fill-color);\n",
              "    }\n",
              "  }\n",
              "</style>\n",
              "\n",
              "  <script>\n",
              "    async function quickchart(key) {\n",
              "      const quickchartButtonEl =\n",
              "        document.querySelector('#' + key + ' button');\n",
              "      quickchartButtonEl.disabled = true;  // To prevent multiple clicks.\n",
              "      quickchartButtonEl.classList.add('colab-df-spinner');\n",
              "      try {\n",
              "        const charts = await google.colab.kernel.invokeFunction(\n",
              "            'suggestCharts', [key], {});\n",
              "      } catch (error) {\n",
              "        console.error('Error during call to suggestCharts:', error);\n",
              "      }\n",
              "      quickchartButtonEl.classList.remove('colab-df-spinner');\n",
              "      quickchartButtonEl.classList.add('colab-df-quickchart-complete');\n",
              "    }\n",
              "    (() => {\n",
              "      let quickchartButtonEl =\n",
              "        document.querySelector('#df-c1383523-2cd2-409b-821f-6c735ba2211d button');\n",
              "      quickchartButtonEl.style.display =\n",
              "        google.colab.kernel.accessAllowed ? 'block' : 'none';\n",
              "    })();\n",
              "  </script>\n",
              "</div>\n",
              "    </div>\n",
              "  </div>\n"
            ],
            "application/vnd.google.colaboratory.intrinsic+json": {
              "type": "dataframe",
              "variable_name": "df",
              "summary": "{\n  \"name\": \"df\",\n  \"rows\": 25730,\n  \"fields\": [\n    {\n      \"column\": \"identifier\",\n      \"properties\": {\n        \"dtype\": \"category\",\n        \"num_unique_values\": 1446,\n        \"samples\": [\n          \"9de64546b2d84e71\",\n          \"fe5a642df4ae45a9\",\n          \"c026a81022514035\"\n        ],\n        \"semantic_type\": \"\",\n        \"description\": \"\"\n      }\n    },\n    {\n      \"column\": \"human_transcript\",\n      \"properties\": {\n        \"dtype\": \"category\",\n        \"num_unique_values\": 7247,\n        \"samples\": [\n          \"five seven one nine zero\",\n          \"twelve p m\",\n          \"smart electic\"\n        ],\n        \"semantic_type\": \"\",\n        \"description\": \"\"\n      }\n    },\n    {\n      \"column\": \"machine_transcript\",\n      \"properties\": {\n        \"dtype\": \"category\",\n        \"num_unique_values\": 8811,\n        \"samples\": [\n          \"hi my name is elizabeth from\",\n          \"okay to certify it in the afternoon\",\n          \"the company is mark alexis\"\n        ],\n        \"semantic_type\": \"\",\n        \"description\": \"\"\n      }\n    },\n    {\n      \"column\": \"dialog_acts\",\n      \"properties\": {\n        \"dtype\": \"category\",\n        \"num_unique_values\": 139,\n        \"samples\": [\n          \"['gridspace_open_question', 'gridspace_yes_response']\",\n          \"['gridspace_procedure_explanation']\",\n          \"['gridspace_data_communication', 'gridspace_data_response']\"\n        ],\n        \"semantic_type\": \"\",\n        \"description\": \"\"\n      }\n    },\n    {\n      \"column\": \"emotion_neutral\",\n      \"properties\": {\n        \"dtype\": \"number\",\n        \"std\": 0.21889226599061065,\n        \"min\": 0.1405421644449234,\n        \"max\": 1.0,\n        \"num_unique_values\": 21669,\n        \"samples\": [\n          0.339726835489273,\n          0.4782918691635132,\n          0.4518747329711914\n        ],\n        \"semantic_type\": \"\",\n        \"description\": \"\"\n      }\n    },\n    {\n      \"column\": \"emotion_negative\",\n      \"properties\": {\n        \"dtype\": \"number\",\n        \"std\": 0.132250479203746,\n        \"min\": 0.0,\n        \"max\": 0.6853471994400024,\n        \"num_unique_values\": 21710,\n        \"samples\": [\n          0.2636705636978149,\n          0.2345851361751556,\n          0.1850858926773071\n        ],\n        \"semantic_type\": \"\",\n        \"description\": \"\"\n      }\n    },\n    {\n      \"column\": \"emotion_positive\",\n      \"properties\": {\n        \"dtype\": \"number\",\n        \"std\": 0.23364039008097814,\n        \"min\": 0.0,\n        \"max\": 0.8583862781524658,\n        \"num_unique_values\": 21704,\n        \"samples\": [\n          0.1702902466058731,\n          0.0980007871985435,\n          0.1529330760240554\n        ],\n        \"semantic_type\": \"\",\n        \"description\": \"\"\n      }\n    },\n    {\n      \"column\": \"index\",\n      \"properties\": {\n        \"dtype\": \"number\",\n        \"std\": 8,\n        \"min\": 1,\n        \"max\": 76,\n        \"num_unique_values\": 76,\n        \"samples\": [\n          5,\n          36,\n          11\n        ],\n        \"semantic_type\": \"\",\n        \"description\": \"\"\n      }\n    },\n    {\n      \"column\": \"speaker_role\",\n      \"properties\": {\n        \"dtype\": \"category\",\n        \"num_unique_values\": 2,\n        \"samples\": [\n          \"caller\",\n          \"agent\"\n        ],\n        \"semantic_type\": \"\",\n        \"description\": \"\"\n      }\n    }\n  ]\n}"
            }
          },
          "metadata": {},
          "execution_count": 4
        }
      ],
      "source": [
        "df = pd.read_csv('TranscriptDB.csv')\n",
        "df.head(10)"
      ]
    },
    {
      "cell_type": "markdown",
      "metadata": {
        "id": "SNtFiT_uAir7"
      },
      "source": [
        "###Cleaning\n",
        "The data choosed to work with is the Human Revised transcript, but is noted that some records are missing along with a notation for events during the phone call (as [noise] or [dog]), therefore its needed to clean the dataframe"
      ]
    },
    {
      "cell_type": "code",
      "execution_count": 5,
      "metadata": {
        "colab": {
          "base_uri": "https://localhost:8080/"
        },
        "id": "74aD__rhHBvK",
        "outputId": "bbc099f1-cd93-487b-c464-3421cbfc6a7e"
      },
      "outputs": [
        {
          "output_type": "execute_result",
          "data": {
            "text/plain": [
              "identifier              0\n",
              "human_transcript      349\n",
              "machine_transcript      0\n",
              "dialog_acts             0\n",
              "emotion_neutral         0\n",
              "emotion_negative        0\n",
              "emotion_positive        0\n",
              "index                   0\n",
              "speaker_role            0\n",
              "dtype: int64"
            ]
          },
          "metadata": {},
          "execution_count": 5
        }
      ],
      "source": [
        "df.isna().sum()"
      ]
    },
    {
      "cell_type": "code",
      "execution_count": 6,
      "metadata": {
        "colab": {
          "base_uri": "https://localhost:8080/"
        },
        "id": "JzzwdybqBkHY",
        "outputId": "5d08bc37-4857-4649-ba4e-45b1bd585694"
      },
      "outputs": [
        {
          "output_type": "execute_result",
          "data": {
            "text/plain": [
              "(identifier            0\n",
              " human_transcript      0\n",
              " machine_transcript    0\n",
              " dialog_acts           0\n",
              " emotion_neutral       0\n",
              " emotion_negative      0\n",
              " emotion_positive      0\n",
              " index                 0\n",
              " speaker_role          0\n",
              " dtype: int64,\n",
              " 231570)"
            ]
          },
          "metadata": {},
          "execution_count": 6
        }
      ],
      "source": [
        "df['human_transcript'] = df['human_transcript'].fillna(df['machine_transcript'])\n",
        "df.isna().sum(), df.size"
      ]
    },
    {
      "cell_type": "code",
      "execution_count": 7,
      "metadata": {
        "colab": {
          "base_uri": "https://localhost:8080/"
        },
        "id": "RLxenI9KsR9v",
        "outputId": "c5bef591-dcaa-4343-fdc3-61e9cd54ef6b"
      },
      "outputs": [
        {
          "output_type": "stream",
          "name": "stdout",
          "text": [
            "{'cough', 'music', 'dogs', 'ringing', 'kids', 'laughter', 'unintelligible', 'baby', 'noise'}\n"
          ]
        }
      ],
      "source": [
        "unique_words = set(word for sublist in df['human_transcript'].str.findall(r'\\[([^\\]]+)\\]').dropna() for word in sublist)\n",
        "\n",
        "print(unique_words)"
      ]
    },
    {
      "cell_type": "code",
      "execution_count": 8,
      "metadata": {
        "colab": {
          "base_uri": "https://localhost:8080/",
          "height": 539
        },
        "id": "gmxRIOgcIMhx",
        "outputId": "01dcf848-1fb7-4c07-bf94-ec8f14856381"
      },
      "outputs": [
        {
          "output_type": "execute_result",
          "data": {
            "text/plain": [
              "          identifier                                   human_transcript  \\\n",
              "0   9691bca74ef140d0  hello this is harper valley national bank my n...   \n",
              "1   9691bca74ef140d0                     hi my name is michael williams   \n",
              "2   9691bca74ef140d0                  i would like to reset my password   \n",
              "3   9691bca74ef140d0                    i'm happy to help you with that   \n",
              "4   9691bca74ef140d0                      and what is your phone number   \n",
              "5   9691bca74ef140d0                  my phone number is zero one three   \n",
              "6   9691bca74ef140d0                                    four four eight   \n",
              "7   9691bca74ef140d0                               six eight three nine   \n",
              "9   9691bca74ef140d0  can you repeat the final four numbers of your ...   \n",
              "10  9691bca74ef140d0                               six eight three nine   \n",
              "\n",
              "                                   machine_transcript  \\\n",
              "0   hello this is harper valley national bank my n...   \n",
              "1                      hi my name is michael williams   \n",
              "2                   i would like to reset my password   \n",
              "3                     i'm happy to help you with that   \n",
              "4                       and what is your phone number   \n",
              "5                   my phone number is zero one three   \n",
              "6                                     four four eight   \n",
              "7                                six eight three nine   \n",
              "9   can you repeat the final four numbers of your ...   \n",
              "10                               six eight three nine   \n",
              "\n",
              "                                          dialog_acts  emotion_neutral  \\\n",
              "0                              ['gridspace_greeting']         0.309475   \n",
              "1   ['gridspace_data_communication', 'gridspace_gr...         0.317042   \n",
              "2   ['gridspace_yes_response', 'gridspace_problem_...         0.553823   \n",
              "3                                 ['gridspace_other']         0.345135   \n",
              "4                         ['gridspace_data_question']         0.560032   \n",
              "5                         ['gridspace_data_response']         0.584506   \n",
              "6                         ['gridspace_data_response']         0.582787   \n",
              "7                         ['gridspace_data_response']         0.602211   \n",
              "9                         ['gridspace_data_question']         0.481985   \n",
              "10                        ['gridspace_data_response']         0.604004   \n",
              "\n",
              "    emotion_negative  emotion_positive  index speaker_role  \n",
              "0           0.015957          0.674568      1        agent  \n",
              "1           0.036193          0.646765      2       caller  \n",
              "2           0.278830          0.167346      3       caller  \n",
              "3           0.052922          0.601943      4        agent  \n",
              "4           0.199025          0.240943      5        agent  \n",
              "5           0.275289          0.140205      6       caller  \n",
              "6           0.224562          0.192652      7       caller  \n",
              "7           0.188286          0.209503      8       caller  \n",
              "9           0.070061          0.447953     10        agent  \n",
              "10          0.187679          0.208318     11       caller  "
            ],
            "text/html": [
              "\n",
              "  <div id=\"df-c7447b21-54bf-4480-9c06-8b63178ebe75\" class=\"colab-df-container\">\n",
              "    <div>\n",
              "<style scoped>\n",
              "    .dataframe tbody tr th:only-of-type {\n",
              "        vertical-align: middle;\n",
              "    }\n",
              "\n",
              "    .dataframe tbody tr th {\n",
              "        vertical-align: top;\n",
              "    }\n",
              "\n",
              "    .dataframe thead th {\n",
              "        text-align: right;\n",
              "    }\n",
              "</style>\n",
              "<table border=\"1\" class=\"dataframe\">\n",
              "  <thead>\n",
              "    <tr style=\"text-align: right;\">\n",
              "      <th></th>\n",
              "      <th>identifier</th>\n",
              "      <th>human_transcript</th>\n",
              "      <th>machine_transcript</th>\n",
              "      <th>dialog_acts</th>\n",
              "      <th>emotion_neutral</th>\n",
              "      <th>emotion_negative</th>\n",
              "      <th>emotion_positive</th>\n",
              "      <th>index</th>\n",
              "      <th>speaker_role</th>\n",
              "    </tr>\n",
              "  </thead>\n",
              "  <tbody>\n",
              "    <tr>\n",
              "      <th>0</th>\n",
              "      <td>9691bca74ef140d0</td>\n",
              "      <td>hello this is harper valley national bank my n...</td>\n",
              "      <td>hello this is harper valley national bank my n...</td>\n",
              "      <td>['gridspace_greeting']</td>\n",
              "      <td>0.309475</td>\n",
              "      <td>0.015957</td>\n",
              "      <td>0.674568</td>\n",
              "      <td>1</td>\n",
              "      <td>agent</td>\n",
              "    </tr>\n",
              "    <tr>\n",
              "      <th>1</th>\n",
              "      <td>9691bca74ef140d0</td>\n",
              "      <td>hi my name is michael williams</td>\n",
              "      <td>hi my name is michael williams</td>\n",
              "      <td>['gridspace_data_communication', 'gridspace_gr...</td>\n",
              "      <td>0.317042</td>\n",
              "      <td>0.036193</td>\n",
              "      <td>0.646765</td>\n",
              "      <td>2</td>\n",
              "      <td>caller</td>\n",
              "    </tr>\n",
              "    <tr>\n",
              "      <th>2</th>\n",
              "      <td>9691bca74ef140d0</td>\n",
              "      <td>i would like to reset my password</td>\n",
              "      <td>i would like to reset my password</td>\n",
              "      <td>['gridspace_yes_response', 'gridspace_problem_...</td>\n",
              "      <td>0.553823</td>\n",
              "      <td>0.278830</td>\n",
              "      <td>0.167346</td>\n",
              "      <td>3</td>\n",
              "      <td>caller</td>\n",
              "    </tr>\n",
              "    <tr>\n",
              "      <th>3</th>\n",
              "      <td>9691bca74ef140d0</td>\n",
              "      <td>i'm happy to help you with that</td>\n",
              "      <td>i'm happy to help you with that</td>\n",
              "      <td>['gridspace_other']</td>\n",
              "      <td>0.345135</td>\n",
              "      <td>0.052922</td>\n",
              "      <td>0.601943</td>\n",
              "      <td>4</td>\n",
              "      <td>agent</td>\n",
              "    </tr>\n",
              "    <tr>\n",
              "      <th>4</th>\n",
              "      <td>9691bca74ef140d0</td>\n",
              "      <td>and what is your phone number</td>\n",
              "      <td>and what is your phone number</td>\n",
              "      <td>['gridspace_data_question']</td>\n",
              "      <td>0.560032</td>\n",
              "      <td>0.199025</td>\n",
              "      <td>0.240943</td>\n",
              "      <td>5</td>\n",
              "      <td>agent</td>\n",
              "    </tr>\n",
              "    <tr>\n",
              "      <th>5</th>\n",
              "      <td>9691bca74ef140d0</td>\n",
              "      <td>my phone number is zero one three</td>\n",
              "      <td>my phone number is zero one three</td>\n",
              "      <td>['gridspace_data_response']</td>\n",
              "      <td>0.584506</td>\n",
              "      <td>0.275289</td>\n",
              "      <td>0.140205</td>\n",
              "      <td>6</td>\n",
              "      <td>caller</td>\n",
              "    </tr>\n",
              "    <tr>\n",
              "      <th>6</th>\n",
              "      <td>9691bca74ef140d0</td>\n",
              "      <td>four four eight</td>\n",
              "      <td>four four eight</td>\n",
              "      <td>['gridspace_data_response']</td>\n",
              "      <td>0.582787</td>\n",
              "      <td>0.224562</td>\n",
              "      <td>0.192652</td>\n",
              "      <td>7</td>\n",
              "      <td>caller</td>\n",
              "    </tr>\n",
              "    <tr>\n",
              "      <th>7</th>\n",
              "      <td>9691bca74ef140d0</td>\n",
              "      <td>six eight three nine</td>\n",
              "      <td>six eight three nine</td>\n",
              "      <td>['gridspace_data_response']</td>\n",
              "      <td>0.602211</td>\n",
              "      <td>0.188286</td>\n",
              "      <td>0.209503</td>\n",
              "      <td>8</td>\n",
              "      <td>caller</td>\n",
              "    </tr>\n",
              "    <tr>\n",
              "      <th>9</th>\n",
              "      <td>9691bca74ef140d0</td>\n",
              "      <td>can you repeat the final four numbers of your ...</td>\n",
              "      <td>can you repeat the final four numbers of your ...</td>\n",
              "      <td>['gridspace_data_question']</td>\n",
              "      <td>0.481985</td>\n",
              "      <td>0.070061</td>\n",
              "      <td>0.447953</td>\n",
              "      <td>10</td>\n",
              "      <td>agent</td>\n",
              "    </tr>\n",
              "    <tr>\n",
              "      <th>10</th>\n",
              "      <td>9691bca74ef140d0</td>\n",
              "      <td>six eight three nine</td>\n",
              "      <td>six eight three nine</td>\n",
              "      <td>['gridspace_data_response']</td>\n",
              "      <td>0.604004</td>\n",
              "      <td>0.187679</td>\n",
              "      <td>0.208318</td>\n",
              "      <td>11</td>\n",
              "      <td>caller</td>\n",
              "    </tr>\n",
              "  </tbody>\n",
              "</table>\n",
              "</div>\n",
              "    <div class=\"colab-df-buttons\">\n",
              "\n",
              "  <div class=\"colab-df-container\">\n",
              "    <button class=\"colab-df-convert\" onclick=\"convertToInteractive('df-c7447b21-54bf-4480-9c06-8b63178ebe75')\"\n",
              "            title=\"Convert this dataframe to an interactive table.\"\n",
              "            style=\"display:none;\">\n",
              "\n",
              "  <svg xmlns=\"http://www.w3.org/2000/svg\" height=\"24px\" viewBox=\"0 -960 960 960\">\n",
              "    <path d=\"M120-120v-720h720v720H120Zm60-500h600v-160H180v160Zm220 220h160v-160H400v160Zm0 220h160v-160H400v160ZM180-400h160v-160H180v160Zm440 0h160v-160H620v160ZM180-180h160v-160H180v160Zm440 0h160v-160H620v160Z\"/>\n",
              "  </svg>\n",
              "    </button>\n",
              "\n",
              "  <style>\n",
              "    .colab-df-container {\n",
              "      display:flex;\n",
              "      gap: 12px;\n",
              "    }\n",
              "\n",
              "    .colab-df-convert {\n",
              "      background-color: #E8F0FE;\n",
              "      border: none;\n",
              "      border-radius: 50%;\n",
              "      cursor: pointer;\n",
              "      display: none;\n",
              "      fill: #1967D2;\n",
              "      height: 32px;\n",
              "      padding: 0 0 0 0;\n",
              "      width: 32px;\n",
              "    }\n",
              "\n",
              "    .colab-df-convert:hover {\n",
              "      background-color: #E2EBFA;\n",
              "      box-shadow: 0px 1px 2px rgba(60, 64, 67, 0.3), 0px 1px 3px 1px rgba(60, 64, 67, 0.15);\n",
              "      fill: #174EA6;\n",
              "    }\n",
              "\n",
              "    .colab-df-buttons div {\n",
              "      margin-bottom: 4px;\n",
              "    }\n",
              "\n",
              "    [theme=dark] .colab-df-convert {\n",
              "      background-color: #3B4455;\n",
              "      fill: #D2E3FC;\n",
              "    }\n",
              "\n",
              "    [theme=dark] .colab-df-convert:hover {\n",
              "      background-color: #434B5C;\n",
              "      box-shadow: 0px 1px 3px 1px rgba(0, 0, 0, 0.15);\n",
              "      filter: drop-shadow(0px 1px 2px rgba(0, 0, 0, 0.3));\n",
              "      fill: #FFFFFF;\n",
              "    }\n",
              "  </style>\n",
              "\n",
              "    <script>\n",
              "      const buttonEl =\n",
              "        document.querySelector('#df-c7447b21-54bf-4480-9c06-8b63178ebe75 button.colab-df-convert');\n",
              "      buttonEl.style.display =\n",
              "        google.colab.kernel.accessAllowed ? 'block' : 'none';\n",
              "\n",
              "      async function convertToInteractive(key) {\n",
              "        const element = document.querySelector('#df-c7447b21-54bf-4480-9c06-8b63178ebe75');\n",
              "        const dataTable =\n",
              "          await google.colab.kernel.invokeFunction('convertToInteractive',\n",
              "                                                    [key], {});\n",
              "        if (!dataTable) return;\n",
              "\n",
              "        const docLinkHtml = 'Like what you see? Visit the ' +\n",
              "          '<a target=\"_blank\" href=https://colab.research.google.com/notebooks/data_table.ipynb>data table notebook</a>'\n",
              "          + ' to learn more about interactive tables.';\n",
              "        element.innerHTML = '';\n",
              "        dataTable['output_type'] = 'display_data';\n",
              "        await google.colab.output.renderOutput(dataTable, element);\n",
              "        const docLink = document.createElement('div');\n",
              "        docLink.innerHTML = docLinkHtml;\n",
              "        element.appendChild(docLink);\n",
              "      }\n",
              "    </script>\n",
              "  </div>\n",
              "\n",
              "\n",
              "<div id=\"df-0a9d8b22-0b61-4f86-8115-f0b4cc0e4ccf\">\n",
              "  <button class=\"colab-df-quickchart\" onclick=\"quickchart('df-0a9d8b22-0b61-4f86-8115-f0b4cc0e4ccf')\"\n",
              "            title=\"Suggest charts\"\n",
              "            style=\"display:none;\">\n",
              "\n",
              "<svg xmlns=\"http://www.w3.org/2000/svg\" height=\"24px\"viewBox=\"0 0 24 24\"\n",
              "     width=\"24px\">\n",
              "    <g>\n",
              "        <path d=\"M19 3H5c-1.1 0-2 .9-2 2v14c0 1.1.9 2 2 2h14c1.1 0 2-.9 2-2V5c0-1.1-.9-2-2-2zM9 17H7v-7h2v7zm4 0h-2V7h2v10zm4 0h-2v-4h2v4z\"/>\n",
              "    </g>\n",
              "</svg>\n",
              "  </button>\n",
              "\n",
              "<style>\n",
              "  .colab-df-quickchart {\n",
              "      --bg-color: #E8F0FE;\n",
              "      --fill-color: #1967D2;\n",
              "      --hover-bg-color: #E2EBFA;\n",
              "      --hover-fill-color: #174EA6;\n",
              "      --disabled-fill-color: #AAA;\n",
              "      --disabled-bg-color: #DDD;\n",
              "  }\n",
              "\n",
              "  [theme=dark] .colab-df-quickchart {\n",
              "      --bg-color: #3B4455;\n",
              "      --fill-color: #D2E3FC;\n",
              "      --hover-bg-color: #434B5C;\n",
              "      --hover-fill-color: #FFFFFF;\n",
              "      --disabled-bg-color: #3B4455;\n",
              "      --disabled-fill-color: #666;\n",
              "  }\n",
              "\n",
              "  .colab-df-quickchart {\n",
              "    background-color: var(--bg-color);\n",
              "    border: none;\n",
              "    border-radius: 50%;\n",
              "    cursor: pointer;\n",
              "    display: none;\n",
              "    fill: var(--fill-color);\n",
              "    height: 32px;\n",
              "    padding: 0;\n",
              "    width: 32px;\n",
              "  }\n",
              "\n",
              "  .colab-df-quickchart:hover {\n",
              "    background-color: var(--hover-bg-color);\n",
              "    box-shadow: 0 1px 2px rgba(60, 64, 67, 0.3), 0 1px 3px 1px rgba(60, 64, 67, 0.15);\n",
              "    fill: var(--button-hover-fill-color);\n",
              "  }\n",
              "\n",
              "  .colab-df-quickchart-complete:disabled,\n",
              "  .colab-df-quickchart-complete:disabled:hover {\n",
              "    background-color: var(--disabled-bg-color);\n",
              "    fill: var(--disabled-fill-color);\n",
              "    box-shadow: none;\n",
              "  }\n",
              "\n",
              "  .colab-df-spinner {\n",
              "    border: 2px solid var(--fill-color);\n",
              "    border-color: transparent;\n",
              "    border-bottom-color: var(--fill-color);\n",
              "    animation:\n",
              "      spin 1s steps(1) infinite;\n",
              "  }\n",
              "\n",
              "  @keyframes spin {\n",
              "    0% {\n",
              "      border-color: transparent;\n",
              "      border-bottom-color: var(--fill-color);\n",
              "      border-left-color: var(--fill-color);\n",
              "    }\n",
              "    20% {\n",
              "      border-color: transparent;\n",
              "      border-left-color: var(--fill-color);\n",
              "      border-top-color: var(--fill-color);\n",
              "    }\n",
              "    30% {\n",
              "      border-color: transparent;\n",
              "      border-left-color: var(--fill-color);\n",
              "      border-top-color: var(--fill-color);\n",
              "      border-right-color: var(--fill-color);\n",
              "    }\n",
              "    40% {\n",
              "      border-color: transparent;\n",
              "      border-right-color: var(--fill-color);\n",
              "      border-top-color: var(--fill-color);\n",
              "    }\n",
              "    60% {\n",
              "      border-color: transparent;\n",
              "      border-right-color: var(--fill-color);\n",
              "    }\n",
              "    80% {\n",
              "      border-color: transparent;\n",
              "      border-right-color: var(--fill-color);\n",
              "      border-bottom-color: var(--fill-color);\n",
              "    }\n",
              "    90% {\n",
              "      border-color: transparent;\n",
              "      border-bottom-color: var(--fill-color);\n",
              "    }\n",
              "  }\n",
              "</style>\n",
              "\n",
              "  <script>\n",
              "    async function quickchart(key) {\n",
              "      const quickchartButtonEl =\n",
              "        document.querySelector('#' + key + ' button');\n",
              "      quickchartButtonEl.disabled = true;  // To prevent multiple clicks.\n",
              "      quickchartButtonEl.classList.add('colab-df-spinner');\n",
              "      try {\n",
              "        const charts = await google.colab.kernel.invokeFunction(\n",
              "            'suggestCharts', [key], {});\n",
              "      } catch (error) {\n",
              "        console.error('Error during call to suggestCharts:', error);\n",
              "      }\n",
              "      quickchartButtonEl.classList.remove('colab-df-spinner');\n",
              "      quickchartButtonEl.classList.add('colab-df-quickchart-complete');\n",
              "    }\n",
              "    (() => {\n",
              "      let quickchartButtonEl =\n",
              "        document.querySelector('#df-0a9d8b22-0b61-4f86-8115-f0b4cc0e4ccf button');\n",
              "      quickchartButtonEl.style.display =\n",
              "        google.colab.kernel.accessAllowed ? 'block' : 'none';\n",
              "    })();\n",
              "  </script>\n",
              "</div>\n",
              "    </div>\n",
              "  </div>\n"
            ],
            "application/vnd.google.colaboratory.intrinsic+json": {
              "type": "dataframe",
              "variable_name": "df",
              "summary": "{\n  \"name\": \"df\",\n  \"rows\": 19599,\n  \"fields\": [\n    {\n      \"column\": \"identifier\",\n      \"properties\": {\n        \"dtype\": \"category\",\n        \"num_unique_values\": 1446,\n        \"samples\": [\n          \"9de64546b2d84e71\",\n          \"fe5a642df4ae45a9\",\n          \"c026a81022514035\"\n        ],\n        \"semantic_type\": \"\",\n        \"description\": \"\"\n      }\n    },\n    {\n      \"column\": \"human_transcript\",\n      \"properties\": {\n        \"dtype\": \"category\",\n        \"num_unique_values\": 7038,\n        \"samples\": [\n          \"okay uh\",\n          \"hi i'm robert davis and i would like to um pay a bill\",\n          \"no i think that will be it for today\"\n        ],\n        \"semantic_type\": \"\",\n        \"description\": \"\"\n      }\n    },\n    {\n      \"column\": \"machine_transcript\",\n      \"properties\": {\n        \"dtype\": \"category\",\n        \"num_unique_values\": 8519,\n        \"samples\": [\n          \"five one five six nine\",\n          \"the address is zero seven three first street\",\n          \"sure i'd be glad to help you with that\"\n        ],\n        \"semantic_type\": \"\",\n        \"description\": \"\"\n      }\n    },\n    {\n      \"column\": \"dialog_acts\",\n      \"properties\": {\n        \"dtype\": \"category\",\n        \"num_unique_values\": 137,\n        \"samples\": [\n          \"['gridspace_response', 'gridspace_procedure_explanation']\",\n          \"['gridspace_acknowledgement', 'gridspace_data_response']\",\n          \"['gridspace_greeting', 'gridspace_open_question']\"\n        ],\n        \"semantic_type\": \"\",\n        \"description\": \"\"\n      }\n    },\n    {\n      \"column\": \"emotion_neutral\",\n      \"properties\": {\n        \"dtype\": \"number\",\n        \"std\": 0.1078605127885559,\n        \"min\": 0.1405421644449234,\n        \"max\": 1.0,\n        \"num_unique_values\": 19538,\n        \"samples\": [\n          0.3870861232280731,\n          0.3015497326850891,\n          0.3633340895175934\n        ],\n        \"semantic_type\": \"\",\n        \"description\": \"\"\n      }\n    },\n    {\n      \"column\": \"emotion_negative\",\n      \"properties\": {\n        \"dtype\": \"number\",\n        \"std\": 0.12767747793637435,\n        \"min\": 0.0,\n        \"max\": 0.6853471994400024,\n        \"num_unique_values\": 19566,\n        \"samples\": [\n          0.2184556275606155,\n          0.0564531609416008,\n          0.0851879715919494\n        ],\n        \"semantic_type\": \"\",\n        \"description\": \"\"\n      }\n    },\n    {\n      \"column\": \"emotion_positive\",\n      \"properties\": {\n        \"dtype\": \"number\",\n        \"std\": 0.2142771346349694,\n        \"min\": 0.0,\n        \"max\": 0.8583862781524658,\n        \"num_unique_values\": 19561,\n        \"samples\": [\n          0.1911607533693313,\n          0.5687628984451294,\n          0.6660022735595703\n        ],\n        \"semantic_type\": \"\",\n        \"description\": \"\"\n      }\n    },\n    {\n      \"column\": \"index\",\n      \"properties\": {\n        \"dtype\": \"number\",\n        \"std\": 8,\n        \"min\": 1,\n        \"max\": 76,\n        \"num_unique_values\": 75,\n        \"samples\": [\n          5,\n          69,\n          12\n        ],\n        \"semantic_type\": \"\",\n        \"description\": \"\"\n      }\n    },\n    {\n      \"column\": \"speaker_role\",\n      \"properties\": {\n        \"dtype\": \"category\",\n        \"num_unique_values\": 2,\n        \"samples\": [\n          \"caller\",\n          \"agent\"\n        ],\n        \"semantic_type\": \"\",\n        \"description\": \"\"\n      }\n    }\n  ]\n}"
            }
          },
          "metadata": {},
          "execution_count": 8
        }
      ],
      "source": [
        "pattern = r'(\\[(' + '|'.join(unique_words) + r')\\])|\\<unk\\>'\n",
        "\n",
        "df['human_transcript'] = df['human_transcript'].replace(to_replace=pattern, value='', regex=True).str.strip()\n",
        "\n",
        "df.drop(df[df['human_transcript'] == ''].index, inplace=True)\n",
        "\n",
        "df.head(10)"
      ]
    },
    {
      "cell_type": "code",
      "execution_count": 9,
      "metadata": {
        "colab": {
          "base_uri": "https://localhost:8080/"
        },
        "id": "0gBtD9SS6NMj",
        "outputId": "7afc5ca4-3336-449f-998c-7822b588c3c5"
      },
      "outputs": [
        {
          "output_type": "execute_result",
          "data": {
            "text/plain": [
              "19599"
            ]
          },
          "metadata": {},
          "execution_count": 9
        }
      ],
      "source": [
        "len(df)"
      ]
    },
    {
      "cell_type": "markdown",
      "source": [
        "##Data exploration\n"
      ],
      "metadata": {
        "id": "TIpA36Hzyvqs"
      }
    },
    {
      "cell_type": "markdown",
      "source": [
        "###Documents statistics\n",
        "The dataset can be splited into documents grouping sentences belonging to calls, this will allow to see statistics regarding the length and vocab size average across all documents  "
      ],
      "metadata": {
        "id": "lunsqUwVYovL"
      }
    },
    {
      "cell_type": "code",
      "source": [
        "docs = df.groupby('identifier')['human_transcript'].apply(list).tolist()\n",
        "docs[:2]"
      ],
      "metadata": {
        "colab": {
          "base_uri": "https://localhost:8080/"
        },
        "id": "1WMiyBSaZBPk",
        "outputId": "bdd8f67e-2ed4-40a1-d44d-8aa161904a58"
      },
      "execution_count": 32,
      "outputs": [
        {
          "output_type": "execute_result",
          "data": {
            "text/plain": [
              "[['hello this is harper valley national bank',\n",
              "  'my name is elizabeth',\n",
              "  'how can i help you today',\n",
              "  'hi',\n",
              "  'my name is patricia brown',\n",
              "  'i lost my debit card',\n",
              "  'can you send me a new one',\n",
              "  'which card would you like to replace',\n",
              "  'my',\n",
              "  'debit card',\n",
              "  'can you repeat that please',\n",
              "  'yes',\n",
              "  'my debit card',\n",
              "  'is there anything else i can help you with today',\n",
              "  'no that was going to be it',\n",
              "  'thank you for calling have a great day',\n",
              "  'bye'],\n",
              " ['hello this is harper valley national bank my name is robert how can i help you today',\n",
              "  'hi my name is mary smith',\n",
              "  'i lost my credit card',\n",
              "  'can you send me a new one',\n",
              "  'sure i can help you with that',\n",
              "  'uh which card would you like to replace',\n",
              "  'my credit card',\n",
              "  'okay so i have ordered your replacement credit card and you should be able to receive it in three to five business days',\n",
              "  'is there anything else i can help you with',\n",
              "  'no that was gonna be it',\n",
              "  'thank you for calling have a great day',\n",
              "  'bye']]"
            ]
          },
          "metadata": {},
          "execution_count": 32
        }
      ]
    },
    {
      "cell_type": "code",
      "source": [
        "avg_words = 0\n",
        "avg_vocab = 0\n",
        "\n",
        "for doc in docs:\n",
        "    words = [word for sentence in doc for word in sentence.split()]\n",
        "    avg_words += len(words)\n",
        "    avg_vocab += len(set(words))\n",
        "\n",
        "avg_words /= len(docs)\n",
        "avg_vocab /= len(docs)\n",
        "\n",
        "print(f\"The average count of words in each document is: {avg_words:.1f}\\nWhile the average vocab length is: {avg_vocab:.1f}\")"
      ],
      "metadata": {
        "colab": {
          "base_uri": "https://localhost:8080/"
        },
        "id": "DDvs2ml4aIod",
        "outputId": "85e26d85-0019-4b81-d21b-9245729410f5"
      },
      "execution_count": 40,
      "outputs": [
        {
          "output_type": "stream",
          "name": "stdout",
          "text": [
            "The average words in each document is: 95.7\n",
            "While the average vocab is: 58.6\n"
          ]
        }
      ]
    },
    {
      "cell_type": "markdown",
      "source": [
        "###Vocabulary\n",
        "The size of and the vocabulary of all the docs can be verified after cleaning the sentences from punctuation and conting different words"
      ],
      "metadata": {
        "id": "TYjgHKuvy0fr"
      }
    },
    {
      "cell_type": "code",
      "source": [
        "import re\n",
        "from pandas.core.common import flatten\n",
        "\n",
        "tokenized_sentences = [re.sub(r'\\W+', ' ', re.sub(r\"\\'\", '', sentence)).lower().split()  for sentence in df[\"human_transcript\"].values]\n",
        "sentences = list(flatten(tokenized_sentences))\n",
        "\n",
        "vocab = sorted(set(sentences))\n",
        "print(vocab)\n",
        "print(\"Size of Vocab: \"+str(len(vocab)))"
      ],
      "metadata": {
        "colab": {
          "base_uri": "https://localhost:8080/"
        },
        "id": "1LLG9nfZw9tz",
        "outputId": "643079cd-cdad-45e0-fb4a-ebbdaab53fed"
      },
      "execution_count": 48,
      "outputs": [
        {
          "output_type": "stream",
          "name": "stdout",
          "text": [
            "['a', 'able', 'about', 'absolutely', 'acc', 'account', 'accounts', 'actually', 'address', 'addresses', 'after', 'afternoon', 'again', 'ah', 'ahead', 'all', 'almost', 'already', 'alright', 'alrighty', 'also', 'am', 'amanda', 'amount', 'amounts', 'an', 'and', 'animals', 'another', 'any', 'anymore', 'anyone', 'anything', 'apologize', 'apply', 'appointment', 'appointments', 'appreciate', 'are', 'area', 'around', 'arranged', 'arrive', 'arriving', 'as', 'ask', 'asked', 'asking', 'assist', 'associated', 'at', 'available', 'away', 'awesome', 'back', 'bada', 'balance', 'balances', 'bank', 'barry', 'be', 'beautiful', 'because', 'bedtime', 'been', 'before', 'beginning', 'behalf', 'believe', 'best', 'between', 'bill', 'bing', 'book', 'books', 'boom', 'branch', 'branches', 'broke', 'brought', 'brown', 'brunch', 'bunch', 'business', 'but', 'by', 'bye', 'c', 'calendar', 'cali', 'california', 'call', 'called', 'calling', 'can', 'cancel', 'canceled', 'cannot', 'cant', 'car', 'card', 'care', 'case', 'cash', 'cell', 'cents', 'certainly', 'charges', 'check', 'checkbook', 'checkbooks', 'checking', 'checks', 'city', 'clear', 'clock', 'code', 'codes', 'come', 'coming', 'comma', 'company', 'companys', 'complete', 'completed', 'confirm', 'confirming', 'continue', 'conversation', 'correct', 'cost', 'could', 'couldnt', 'course', 'credit', 'creek', 'current', 'currently', 'customer', 'cutting', 'd', 'dan', 'dash', 'date', 'david', 'davies', 'davis', 'dawn', 'day', 'days', 'dear', 'debbie', 'debit', 'definitely', 'destination', 'destinations', 'did', 'didnt', 'different', 'digit', 'digits', 'direction', 'directly', 'do', 'doctor', 'does', 'doing', 'doke', 'dollar', 'dollars', 'don', 'done', 'dont', 'down', 'dunes', 'e', 'eight', 'eighteen', 'eighty', 'either', 'elastic', 'elec', 'elect', 'electic', 'electric', 'eleven', 'eliz', 'elizabeth', 'ellen', 'else', 'email', 'enjoy', 'entering', 'er', 'even', 'evening', 'every', 'everything', 'exact', 'exactly', 'excellent', 'excuse', 'expedite', 'experience', 'f', 'fabulous', 'faded', 'fantastic', 'fast', 'favor', 'fifteen', 'fifth', 'fifty', 'final', 'find', 'fine', 'first', 'five', 'fo', 'for', 'foreign', 'forest', 'fornia', 'forrest', 'forty', 'fossil', 'four', 'fourteen', 'fourth', 'friday', 'from', 'full', 'funny', 'further', 'g', 'garcia', 'gas', 'gee', 'get', 'getting', 'gift', 'give', 'glad', 'glenda', 'go', 'god', 'goes', 'going', 'gone', 'gonna', 'good', 'goodbye', 'got', 'gotcha', 'gotta', 'great', 'ground', 'guess', 'h', 'ha', 'had', 'happen', 'happy', 'har', 'harp', 'harper', 'has', 'have', 'he', 'hear', 'hello', 'help', 'helped', 'helper', 'helpful', 'her', 'here', 'hey', 'hi', 'hm', 'hmm', 'hold', 'home', 'hope', 'horrible', 'hour', 'hours', 'how', 'howre', 'hows', 'huh', 'hum', 'hundred', 'husband', 'i', 'id', 'idea', 'if', 'ill', 'im', 'in', 'including', 'information', 'instructions', 'into', 'is', 'isnt', 'it', 'item', 'itll', 'its', 'ive', 'james', 'jan', 'jane', 'jay', 'jean', 'jeez', 'jenna', 'jennifer', 'jim', 'joan', 'job', 'john', 'johns', 'johnson', 'johnston', 'jones', 'just', 'k', 'keeps', 'know', 'kris', 'l', 'last', 'left', 'less', 'let', 'lets', 'letter', 'letting', 'li', 'lie', 'like', 'likely', 'linda', 'line', 'link', 'linked', 'little', 'live', 'lo', 'local', 'long', 'look', 'looking', 'looks', 'lopez', 'lose', 'lost', 'lot', 'loud', 'low', 'm', 'maam', 'mail', 'mailbox', 'mailed', 'main', 'maine', 'make', 'makes', 'march', 'marie', 'mario', 'mark', 'mary', 'matt', 'matthew', 'may', 'maybe', 'me', 'mean', 'megan', 'mhm', 'michael', 'might', 'miller', 'million', 'minute', 'miss', 'mister', 'mkay', 'mm', 'mmk', 'mmm', 'moment', 'monday', 'money', 'more', 'mr', 'ms', 'muah', 'much', 'multiple', 'my', 'n', 'nah', 'name', 'names', 'nancy', 'nation', 'national', 'ne', 'need', 'needed', 'needing', 'new', 'next', 'nice', 'night', 'nine', 'nineteen', 'ninety', 'no', 'noise', 'noon', 'nope', 'normal', 'north', 'not', 'nothing', 'notifications', 'now', 'number', 'numbers', 'o', 'obvious', 'oclock', 'of', 'off', 'officers', 'oh', 'okay', 'okey', 'old', 'on', 'once', 'one', 'ones', 'online', 'only', 'ooh', 'ooph', 'open', 'opening', 'or', 'order', 'ordered', 'ordering', 'oregon', 'os', 'other', 'our', 'out', 'over', 'p', 'paid', 'pardon', 'part', 'pass', 'password', 'past', 'patricia', 'pay', 'paying', 'payment', 'payments', 'people', 'perfect', 'person', 'phone', 'placed', 'ple', 'please', 'pm', 'police', 'por', 'possible', 'preferably', 'pretty', 'probably', 'problem', 'provide', 'pull', 'pulling', 'pushing', 'put', 'question', 'quick', 'r', 'rally', 'ranch', 're', 'read', 'ready', 'real', 'really', 'reason', 'recalling', 'receive', 'receiving', 'regas', 'remember', 'repeat', 'repeated', 'replace', 'replaced', 'replacement', 'request', 'reset', 'rest', 'right', 'robert', 'roberts', 'robot', 'roderick', 'rodriguez', 'roger', 'rough', 'running', 's', 'sa', 'safe', 'said', 'same', 'saturday', 'saving', 'savings', 'say', 'schedule', 'scheduled', 'scheduling', 'screen', 'second', 'seconds', 'see', 'seems', 'send', 'sending', 'sense', 'sent', 'separate', 'set', 'setting', 'seven', 'seventeen', 'seventh', 'seventy', 'shortly', 'should', 'shouldve', 'showers', 'shows', 'sir', 'six', 'sixteen', 'sixty', 'slower', 'slowly', 'smart', 'smith', 'so', 'some', 'something', 'sometimes', 'soon', 'sorry', 'sound', 'sounded', 'sounds', 'source', 'sourced', 'sourcing', 'south', 'space', 'specified', 'spell', 'spelled', 'start', 'state', 'stay', 'still', 'street', 'streets', 'submit', 'submitted', 'submitting', 'successful', 'successfully', 'sunday', 'sure', 'system', 't', 'take', 'taken', 'takes', 'taking', 'talking', 'task', 'telephone', 'tell', 'ten', 'text', 'than', 'thank', 'thanks', 'that', 'thatd', 'thatll', 'thats', 'the', 'their', 'then', 'there', 'theres', 'they', 'thing', 'think', 'thir', 'third', 'thirteen', 'thirty', 'this', 'those', 'thousand', 'thre', 'three', 'through', 'throughout', 'thursday', 'till', 'time', 'to', 'today', 'tomorrow', 'tonight', 'too', 'total', 'towards', 'town', 'transfer', 'transferred', 'transferring', 'trip', 'try', 'trying', 'tuesday', 'twelve', 'twenty', 'two', 'uh', 'uhm', 'um', 'understood', 'unfortunately', 'until', 'up', 'us', 'use', 'v', 'va', 'valid', 'valley', 'value', 'very', 'wait', 'waiting', 'wanna', 'want', 'wanted', 'wanting', 'was', 'way', 'we', 'wednesday', 'week', 'weeks', 'welcome', 'well', 'went', 'were', 'what', 'whats', 'wheeler', 'when', 'whenever', 'where', 'wheres', 'which', 'while', 'whole', 'whoops', 'why', 'will', 'william', 'williams', 'wilson', 'wish', 'with', 'within', 'without', 'wonderful', 'wondering', 'word', 'words', 'work', 'working', 'wou', 'would', 'wouldve', 'wow', 'wrong', 'y', 'ya', 'yeah', 'yep', 'yes', 'yo', 'you', 'youd', 'youll', 'your', 'youre', 'yourself', 'youve', 'yup', 'zero', 'zip']\n",
            "Size of Vocab: 739\n"
          ]
        }
      ]
    },
    {
      "cell_type": "markdown",
      "source": [
        "###Words Frequency\n",
        "To gain some insight in the dataset the words frequency can be calculated, but it might be useless unless you remove stop words that compose the most of the words in the data."
      ],
      "metadata": {
        "id": "VFrWcsxdDF8k"
      }
    },
    {
      "cell_type": "code",
      "source": [
        "import nltk\n",
        "counts = nltk.Counter(sentences)\n",
        "counts.most_common(10)"
      ],
      "metadata": {
        "colab": {
          "base_uri": "https://localhost:8080/"
        },
        "id": "h9-Qj1WdDKq1",
        "outputId": "ed2187b3-a807-4ebf-866e-3c0d02271fe6"
      },
      "execution_count": 49,
      "outputs": [
        {
          "output_type": "execute_result",
          "data": {
            "text/plain": [
              "[('is', 8119),\n",
              " ('you', 7940),\n",
              " ('i', 4866),\n",
              " ('my', 4615),\n",
              " ('can', 3407),\n",
              " ('help', 3051),\n",
              " ('name', 3048),\n",
              " ('a', 2799),\n",
              " ('thank', 2635),\n",
              " ('to', 2529)]"
            ]
          },
          "metadata": {},
          "execution_count": 49
        }
      ]
    },
    {
      "cell_type": "code",
      "source": [
        "nltk.download('stopwords')"
      ],
      "metadata": {
        "colab": {
          "base_uri": "https://localhost:8080/"
        },
        "id": "Z-mPAtF7QksV",
        "outputId": "b929d391-04e4-4706-f990-e9f8d0155b33"
      },
      "execution_count": 50,
      "outputs": [
        {
          "output_type": "stream",
          "name": "stderr",
          "text": [
            "[nltk_data] Downloading package stopwords to /root/nltk_data...\n",
            "[nltk_data]   Package stopwords is already up-to-date!\n"
          ]
        },
        {
          "output_type": "execute_result",
          "data": {
            "text/plain": [
              "True"
            ]
          },
          "metadata": {},
          "execution_count": 50
        }
      ]
    },
    {
      "cell_type": "code",
      "source": [
        "from nltk.corpus import stopwords\n",
        "\n",
        "words_nostopwords = [w for w in sentences if w not in stopwords.words('english')]\n",
        "counts_nostopwords = nltk.Counter(words_nostopwords)\n",
        "counts_nostopwords.most_common(10)"
      ],
      "metadata": {
        "colab": {
          "base_uri": "https://localhost:8080/"
        },
        "id": "1rKj8zgtQflN",
        "outputId": "bc736f67-b4d5-451b-cd59-ab42ae73d8e3"
      },
      "execution_count": 51,
      "outputs": [
        {
          "output_type": "execute_result",
          "data": {
            "text/plain": [
              "[('help', 3051),\n",
              " ('name', 3048),\n",
              " ('thank', 2635),\n",
              " ('today', 1987),\n",
              " ('account', 1702),\n",
              " ('valley', 1669),\n",
              " ('harper', 1662),\n",
              " ('okay', 1659),\n",
              " ('day', 1600),\n",
              " ('hello', 1525)]"
            ]
          },
          "metadata": {},
          "execution_count": 51
        }
      ]
    },
    {
      "cell_type": "code",
      "source": [
        "vocab_nonstop = sorted(set(words_nostopwords))\n",
        "print(\"Size of Vocab without nonstop words: \"+str(len(vocab_nonstop)))"
      ],
      "metadata": {
        "colab": {
          "base_uri": "https://localhost:8080/"
        },
        "id": "DmqZ1fy4X5IP",
        "outputId": "7c02ba83-bd41-4d57-8397-a5f955d9dc79"
      },
      "execution_count": 52,
      "outputs": [
        {
          "output_type": "stream",
          "name": "stdout",
          "text": [
            "Size of Vocab without nonstop words: 639\n"
          ]
        }
      ]
    },
    {
      "cell_type": "markdown",
      "metadata": {
        "id": "qTTluJ3TYHlH"
      },
      "source": [
        "##Embeddings\n",
        "\n",
        "The dataset will be explored with embeddings, specifically, using Word2Vec and Fast-text.\n",
        "For this, the data should be splited into sentences (already done) and each sentence tokenized."
      ]
    },
    {
      "cell_type": "code",
      "execution_count": 53,
      "metadata": {
        "colab": {
          "base_uri": "https://localhost:8080/"
        },
        "id": "jUdEnQoWNCuz",
        "outputId": "7a1e94c7-b5c3-4354-83aa-a09a9a219aad"
      },
      "outputs": [
        {
          "output_type": "stream",
          "name": "stdout",
          "text": [
            "['hello', 'this', 'is', 'harper', 'valley', 'national', 'bank', 'my', 'name', 'is', 'james', 'how', 'can', 'i', 'help', 'you', 'today']\n",
            "['hi', 'my', 'name', 'is', 'michael', 'williams']\n",
            "['i', 'would', 'like', 'to', 'reset', 'my', 'password']\n",
            "['im', 'happy', 'to', 'help', 'you', 'with', 'that']\n",
            "['and', 'what', 'is', 'your', 'phone', 'number']\n",
            "['my', 'phone', 'number', 'is', 'zero', 'one', 'three']\n",
            "['four', 'four', 'eight']\n",
            "['six', 'eight', 'three', 'nine']\n",
            "['can', 'you', 'repeat', 'the', 'final', 'four', 'numbers', 'of', 'your', 'phone', 'number', 'please']\n",
            "['six', 'eight', 'three', 'nine']\n"
          ]
        }
      ],
      "source": [
        "import re\n",
        "\n",
        "tokenized = [sentence for sentence in tokenized_sentences if len(sentence) > 1]\n",
        "\n",
        "for sentence in tokenized[:10]:\n",
        "    print(sentence)"
      ]
    },
    {
      "cell_type": "code",
      "execution_count": 54,
      "metadata": {
        "colab": {
          "base_uri": "https://localhost:8080/"
        },
        "id": "RNFr74v0jEMC",
        "outputId": "9e1ede40-3606-4b1f-b49c-6e1d9f499379"
      },
      "outputs": [
        {
          "output_type": "execute_result",
          "data": {
            "text/plain": [
              "19599"
            ]
          },
          "metadata": {},
          "execution_count": 54
        }
      ],
      "source": [
        "len(tokenized_sentences)"
      ]
    },
    {
      "cell_type": "markdown",
      "metadata": {
        "id": "_xYG3RKRYHlI"
      },
      "source": [
        "Finally we have the data in the right format for training Word2Vec/FastText, so we can provide it to the algorithm. For parameters, we set:\n",
        "- the embedding size to be 50,\n",
        "- the minimum count for any vocabulary term to be 2 as we have a small vocab\n",
        "- the size of the context window to 10."
      ]
    },
    {
      "cell_type": "code",
      "execution_count": 55,
      "metadata": {
        "colab": {
          "base_uri": "https://localhost:8080/"
        },
        "id": "TmJqt2NRYHlH",
        "outputId": "b5128393-ae2e-45e5-d15b-70b28f0bbd22"
      },
      "outputs": [
        {
          "output_type": "stream",
          "name": "stdout",
          "text": [
            "Requirement already satisfied: gensim in /usr/local/lib/python3.10/dist-packages (4.3.2)\n",
            "Requirement already satisfied: numpy>=1.18.5 in /usr/local/lib/python3.10/dist-packages (from gensim) (1.25.2)\n",
            "Requirement already satisfied: scipy>=1.7.0 in /usr/local/lib/python3.10/dist-packages (from gensim) (1.11.4)\n",
            "Requirement already satisfied: smart-open>=1.8.1 in /usr/local/lib/python3.10/dist-packages (from gensim) (6.4.0)\n"
          ]
        }
      ],
      "source": [
        "!pip install --upgrade gensim"
      ]
    },
    {
      "cell_type": "code",
      "execution_count": 56,
      "metadata": {
        "id": "fXolbjAXYHlJ"
      },
      "outputs": [],
      "source": [
        "from gensim.models import Word2Vec, FastText\n",
        "\n",
        "model = Word2Vec(vector_size=50, window=10, min_count=2, sentences=tokenized_sentences, epochs=10)\n",
        "model2 = FastText(vector_size=50, window=10, min_count=2, sentences=tokenized_sentences, epochs=10)"
      ]
    },
    {
      "cell_type": "markdown",
      "metadata": {
        "id": "3BP16EM3YHlJ"
      },
      "source": [
        "The vocab learned is small, as the dataset is not big and is composed of by a specific task."
      ]
    },
    {
      "cell_type": "code",
      "execution_count": 57,
      "metadata": {
        "colab": {
          "base_uri": "https://localhost:8080/"
        },
        "id": "Z7ZYKyxcYHlJ",
        "outputId": "e320da0e-e286-486b-b71c-eb3821056c6a"
      },
      "outputs": [
        {
          "output_type": "execute_result",
          "data": {
            "text/plain": [
              "(512, 512)"
            ]
          },
          "metadata": {},
          "execution_count": 57
        }
      ],
      "source": [
        "len(model.wv), len(model2.wv)"
      ]
    },
    {
      "cell_type": "markdown",
      "metadata": {
        "id": "DHRbIkEYYHlJ"
      },
      "source": [
        "### Inspecting embeddings\n",
        "Its remarkable that whether Word2vec can only use words presented during training, FastText can also different ones\n",
        "\n"
      ]
    },
    {
      "cell_type": "code",
      "source": [
        "term = 'help'\n",
        "\n",
        "try:\n",
        "  print(model.wv.most_similar(term)[:3])\n",
        "except Exception as e:\n",
        "  print(e)\n",
        "print(model2.wv.most_similar(term)[:3])"
      ],
      "metadata": {
        "colab": {
          "base_uri": "https://localhost:8080/"
        },
        "id": "uaLYQND5yHYs",
        "outputId": "4eb81ec7-a661-48bd-d1a0-f3a3c61291b3"
      },
      "execution_count": 66,
      "outputs": [
        {
          "output_type": "stream",
          "name": "stdout",
          "text": [
            "[('assist', 0.7040031552314758), ('can', 0.5243115425109863), ('there', 0.5109908580780029)]\n",
            "[('helped', 0.9416909217834473), ('helpful', 0.8691413998603821), ('hear', 0.7346541285514832)]\n"
          ]
        }
      ]
    },
    {
      "cell_type": "code",
      "execution_count": 67,
      "metadata": {
        "colab": {
          "base_uri": "https://localhost:8080/"
        },
        "id": "Ej6ij-9-YHlK",
        "outputId": "d2b8aed0-3b31-4bff-af6c-5dd0f8038c58"
      },
      "outputs": [
        {
          "output_type": "stream",
          "name": "stdout",
          "text": [
            "\"Key 'banking' not present in vocabulary\"\n",
            "[('bank', 0.7071945071220398), ('saving', 0.6596732139587402), ('savings', 0.6403202414512634)]\n"
          ]
        }
      ],
      "source": [
        "term = 'banking'\n",
        "\n",
        "try:\n",
        "  print(model.wv.most_similar(term)[:3])\n",
        "except Exception as e:\n",
        "  print(e)\n",
        "print(model2.wv.most_similar(term)[:3])"
      ]
    },
    {
      "cell_type": "markdown",
      "metadata": {
        "id": "Y4Su5jmKYHlK"
      },
      "source": [
        "###Visualising the embedding vectors using t-SNE"
      ]
    }
  ],
  "metadata": {
    "colab": {
      "provenance": []
    },
    "kernelspec": {
      "display_name": "Python 3 (ipykernel)",
      "language": "python",
      "name": "python3"
    },
    "language_info": {
      "codemirror_mode": {
        "name": "ipython",
        "version": 3
      },
      "file_extension": ".py",
      "mimetype": "text/x-python",
      "name": "python",
      "nbconvert_exporter": "python",
      "pygments_lexer": "ipython3",
      "version": "3.7.13"
    }
  },
  "nbformat": 4,
  "nbformat_minor": 0
}